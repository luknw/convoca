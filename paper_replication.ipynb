{
 "cells": [
  {
   "cell_type": "markdown",
   "metadata": {},
   "source": [
    "# Paper replication"
   ]
  },
  {
   "cell_type": "code",
   "execution_count": 1,
   "metadata": {},
   "outputs": [],
   "source": [
    "%load_ext autoreload\n",
    "%autoreload 2\n",
    "\n",
    "import numpy as np\n",
    "import torch\n",
    "import matplotlib.pyplot as plt\n",
    "from tqdm import tqdm\n",
    "\n",
    "%matplotlib inline\n",
    "plt.rcParams['figure.figsize'] = (10.0, 8.0) # set default size of plots\n",
    "plt.rcParams['image.interpolation'] = 'nearest'\n",
    "plt.rcParams['image.cmap'] = 'gray'"
   ]
  },
  {
   "cell_type": "code",
   "metadata": {
    "pycharm": {
     "name": "#%%\n"
    }
   },
   "source": [
    "from utils import all_combinations\n",
    "\n",
    "M = 2\n",
    "D = 3 * 3\n",
    "ALL_INPUTS = all_combinations(M, D)"
   ],
   "execution_count": 2,
   "outputs": []
  },
  {
   "cell_type": "markdown",
   "metadata": {
    "pycharm": {
     "name": "#%% md\n"
    }
   },
   "source": [
    "## Define CAs and training data"
   ]
  },
  {
   "cell_type": "code",
   "execution_count": 3,
   "metadata": {},
   "outputs": [],
   "source": [
    "from ca_funcs import make_table_walk, make_ca\n",
    "\n",
    "def sample_CAs(seed=None):\n",
    "    if seed:\n",
    "        np.random.seed(seed)\n",
    "\n",
    "    inputs = ALL_INPUTS\n",
    "    outputs = make_table_walk(len(ALL_INPUTS))\n",
    "    for o in outputs:\n",
    "        yield make_ca(inputs, o)\n",
    "\n",
    "def generate_CA_train_data(ca, height=10, width=10, n_samples=500):\n",
    "    X_train = torch.from_numpy(np.random.choice([0, 1], (n_samples, height, width), p=[.5, .5])).float()\n",
    "    Y_train = ca(X_train).float()\n",
    "    return X_train, Y_train"
   ]
  },
  {
   "cell_type": "code",
   "metadata": {
    "pycharm": {
     "name": "#%%\n"
    }
   },
   "source": [
    "from ca_funcs import make_glider\n",
    "from IPython.display import clear_output\n",
    "\n",
    "np.random.seed(0)\n",
    "\n",
    "for i, ca in enumerate(sample_CAs()):\n",
    "    X_test = torch.from_numpy(make_glider(10).reshape(1, 10, 10)).float()\n",
    "    Y_test = ca(X_test).float()\n",
    "\n",
    "    plt.figure(figsize=(12,4))\n",
    "    plt.suptitle(i)\n",
    "\n",
    "    plt.subplot(1,2,1)\n",
    "    plt.imshow(X_test[0])\n",
    "    plt.axis('off')\n",
    "    plt.title(\"Input\")\n",
    "\n",
    "    plt.subplot(1,2,2)\n",
    "    plt.imshow(Y_test[0])\n",
    "    plt.axis('off')\n",
    "    plt.title(\"Output\")\n",
    "\n",
    "    plt.show()\n",
    "    plt.close()\n",
    "    clear_output(wait=True)"
   ],
   "execution_count": 4,
   "outputs": [
    {
     "data": {
      "text/plain": "<Figure size 864x288 with 2 Axes>",
      "image/png": "[encoded data removed]"
     },
     "metadata": {
      "needs_background": "light"
     },
     "output_type": "display_data"
    }
   ]
  },
  {
   "cell_type": "markdown",
   "metadata": {
    "pycharm": {
     "name": "#%% md\n"
    }
   },
   "source": [
    "## Find entropy of the training CA"
   ]
  },
  {
   "cell_type": "code",
   "execution_count": 5,
   "metadata": {},
   "outputs": [],
   "source": [
    "from collections import Counter\n",
    "from utils import shannon_entropy\n",
    "\n",
    "def ca_entropy(ca):\n",
    "    inputs = torch.from_numpy(ALL_INPUTS)\n",
    "    outputs = ca(inputs)\n",
    "    output_counts = np.array(list(Counter(tuple(torch.reshape(o, [-1]).numpy()) for o in outputs).values()))\n",
    "    output_ps = output_counts / len(inputs)\n",
    "    return shannon_entropy(output_ps)"
   ]
  },
  {
   "cell_type": "code",
   "metadata": {
    "pycharm": {
     "name": "#%%\n"
    }
   },
   "source": [
    "entropies = [ca_entropy(a) for a in tqdm(sample_CAs(seed=0))]\n",
    "plt.plot(entropies)"
   ],
   "execution_count": 6,
   "outputs": [
    {
     "name": "stderr",
     "output_type": "stream",
     "text": [
      "512it [00:07, 64.22it/s]\n"
     ]
    },
    {
     "data": {
      "text/plain": "[<matplotlib.lines.Line2D at 0x7f91966973d0>]"
     },
     "execution_count": 6,
     "metadata": {},
     "output_type": "execute_result"
    },
    {
     "data": {
      "text/plain": "<Figure size 720x576 with 1 Axes>",
      "image/png": "[encoded data removed]"
     },
     "metadata": {
      "needs_background": "light"
     },
     "output_type": "display_data"
    }
   ]
  },
  {
   "cell_type": "markdown",
   "metadata": {
    "pycharm": {
     "name": "#%% md\n"
    }
   },
   "source": [
    "## Define the model"
   ]
  },
  {
   "cell_type": "code",
   "metadata": {
    "pycharm": {
     "name": "#%%\n"
    }
   },
   "source": [
    "from train_ca import initialize_model\n",
    "\n",
    "seed = 0\n",
    "print('seed =', seed)\n",
    "\n",
    "np.random.seed(seed)\n",
    "torch.random.manual_seed(seed)\n",
    "\n",
    "num_classes = 2\n",
    "samples = 500\n",
    "input_dims = [10, 10]\n",
    "layer_dims = [100] + [100] * 11  # neighborhood conv + mlpconv layers\n",
    "batch_size = 10\n",
    "num_batches = samples / batch_size\n",
    "learning_rate = 1e-4\n",
    "training_epochs = 3000  # 1500\n",
    "display_step = int(training_epochs / 10)\n",
    "loss = torch.nn.MSELoss()\n",
    "\n",
    "model = initialize_model(input_dims, layer_dims)\n",
    "optimizer = torch.optim.Adam(model.parameters(), lr=learning_rate)\n",
    "print(model)\n",
    "\n",
    "if torch.cuda.is_available():\n",
    "    model.cuda()"
   ],
   "execution_count": 7,
   "outputs": [
    {
     "name": "stdout",
     "output_type": "stream",
     "text": [
      "seed = 0\n",
      "Sequential(\n",
      "  (Wraparound2D): Wraparound2D()\n",
      "  (Conv2d_0): Conv2d(1, 100, kernel_size=(3, 3), stride=(1, 1))\n",
      "  (ReLU_0): ReLU()\n",
      "  (Conv2d_1): Conv2d(100, 100, kernel_size=(1, 1), stride=(1, 1))\n",
      "  (ReLU_1): ReLU()\n",
      "  (Conv2d_2): Conv2d(100, 100, kernel_size=(1, 1), stride=(1, 1))\n",
      "  (ReLU_2): ReLU()\n",
      "  (Conv2d_3): Conv2d(100, 100, kernel_size=(1, 1), stride=(1, 1))\n",
      "  (ReLU_3): ReLU()\n",
      "  (Conv2d_4): Conv2d(100, 100, kernel_size=(1, 1), stride=(1, 1))\n",
      "  (ReLU_4): ReLU()\n",
      "  (Conv2d_5): Conv2d(100, 100, kernel_size=(1, 1), stride=(1, 1))\n",
      "  (ReLU_5): ReLU()\n",
      "  (Conv2d_6): Conv2d(100, 100, kernel_size=(1, 1), stride=(1, 1))\n",
      "  (ReLU_6): ReLU()\n",
      "  (Conv2d_7): Conv2d(100, 100, kernel_size=(1, 1), stride=(1, 1))\n",
      "  (ReLU_7): ReLU()\n",
      "  (Conv2d_8): Conv2d(100, 100, kernel_size=(1, 1), stride=(1, 1))\n",
      "  (ReLU_8): ReLU()\n",
      "  (Conv2d_9): Conv2d(100, 100, kernel_size=(1, 1), stride=(1, 1))\n",
      "  (ReLU_9): ReLU()\n",
      "  (Conv2d_10): Conv2d(100, 100, kernel_size=(1, 1), stride=(1, 1))\n",
      "  (ReLU_10): ReLU()\n",
      "  (Conv2d_11): Conv2d(100, 100, kernel_size=(1, 1), stride=(1, 1))\n",
      "  (ReLU_11): ReLU()\n",
      "  (Conv2d_12): Conv2d(100, 1, kernel_size=(1, 1), stride=(1, 1))\n",
      "  (Lambda_0): Lambda()\n",
      ")\n"
     ]
    }
   ]
  },
  {
   "cell_type": "markdown",
   "metadata": {
    "pycharm": {
     "name": "#%% md\n"
    }
   },
   "source": [
    "## Define the learning loop"
   ]
  },
  {
   "cell_type": "code",
   "metadata": {
    "pycharm": {
     "name": "#%%\n"
    }
   },
   "source": [
    "losses = []\n",
    "\n",
    "def learn_CA(ca, model):\n",
    "    for _ in tqdm(range(training_epochs)):\n",
    "        X_train, Y_train = generate_CA_train_data(ca, *input_dims, n_samples=samples)\n",
    "\n",
    "        if torch.cuda.is_available():\n",
    "            X_train = X_train.cuda()\n",
    "            Y_train = Y_train.cuda()\n",
    "\n",
    "        optimizer.zero_grad()\n",
    "        Y_pred = model(X_train)\n",
    "        l = loss(Y_train, Y_pred)\n",
    "        l.backward()\n",
    "        optimizer.step()\n",
    "        losses.append(l.item())"
   ],
   "execution_count": 8,
   "outputs": []
  },
  {
   "cell_type": "markdown",
   "metadata": {
    "pycharm": {
     "name": "#%% md\n"
    }
   },
   "source": [
    "## Train the model"
   ]
  },
  {
   "cell_type": "code",
   "execution_count": 9,
   "metadata": {},
   "outputs": [
    {
     "name": "stderr",
     "output_type": "stream",
     "text": [
      "100%|██████████| 3000/3000 [06:53<00:00,  7.25it/s]\n"
     ]
    }
   ],
   "source": [
    "ca = list(sample_CAs(seed=0))[250]\n",
    "learn_CA(ca, model)"
   ]
  },
  {
   "cell_type": "code",
   "execution_count": 10,
   "metadata": {},
   "outputs": [
    {
     "data": {
      "text/plain": "[]"
     },
     "execution_count": 10,
     "metadata": {},
     "output_type": "execute_result"
    },
    {
     "data": {
      "text/plain": "<Figure size 720x360 with 1 Axes>",
      "image/png": "[encoded data removed]"
     },
     "metadata": {
      "needs_background": "light"
     },
     "output_type": "display_data"
    }
   ],
   "source": [
    "plt.figure(figsize=(10, 5))\n",
    "plt.plot(losses)\n",
    "plt.loglog()"
   ]
  },
  {
   "cell_type": "code",
   "execution_count": 11,
   "metadata": {},
   "outputs": [
    {
     "data": {
      "text/plain": "Text(0.5, 1.0, 'Diff')"
     },
     "execution_count": 11,
     "metadata": {},
     "output_type": "execute_result"
    },
    {
     "data": {
      "text/plain": "<Figure size 864x288 with 4 Axes>",
      "image/png": "[encoded data removed]"
     },
     "metadata": {
      "needs_background": "light"
     },
     "output_type": "display_data"
    }
   ],
   "source": [
    "from ca_funcs import make_glider\n",
    "\n",
    "# x = np.random.choice([0, 1], size=100)\n",
    "x = make_glider(10)\n",
    "X_test = torch.from_numpy(x.reshape(1, 10, 10)).float()\n",
    "Y_test = ca(X_test).float()\n",
    "\n",
    "if torch.cuda.is_available():\n",
    "    X_test = X_test.cuda()\n",
    "Y_pred = model(X_test)\n",
    "\n",
    "\n",
    "if torch.cuda.is_available():\n",
    "    X_test = X_test.cpu()\n",
    "    Y_pred = Y_pred.cpu()\n",
    "\n",
    "X_test = X_test.detach().numpy()\n",
    "Y_test = Y_test.detach().numpy()\n",
    "Y_pred = Y_pred.detach().numpy()\n",
    "\n",
    "plt.figure(figsize=(12, 4))\n",
    "\n",
    "plt.subplot(141)\n",
    "plt.imshow(X_test[0])\n",
    "plt.axis('off')\n",
    "plt.title(\"Input\")\n",
    "\n",
    "plt.subplot(142)\n",
    "plt.imshow(Y_test[0])\n",
    "plt.axis('off')\n",
    "plt.title(\"Expected Output\")\n",
    "\n",
    "plt.subplot(143)\n",
    "plt.imshow(Y_pred[0])\n",
    "plt.axis('off')\n",
    "plt.title(\"Observed Output\")\n",
    "\n",
    "plt.subplot(144)\n",
    "plt.imshow((Y_pred[0] - Y_test[0]) ** 2)\n",
    "plt.axis('off')\n",
    "plt.title(\"Diff\")"
   ]
  },
  {
   "cell_type": "code",
   "metadata": {
    "pycharm": {
     "name": "#%%\n"
    }
   },
   "source": [
    "np.max(np.abs(Y_pred[0] - Y_test[0]))"
   ],
   "execution_count": 12,
   "outputs": [
    {
     "data": {
      "text/plain": "0.0029131174"
     },
     "execution_count": 12,
     "metadata": {},
     "output_type": "execute_result"
    }
   ]
  },
  {
   "cell_type": "markdown",
   "metadata": {
    "pycharm": {
     "name": "#%% md\n"
    }
   },
   "source": [
    "## Find model entropies"
   ]
  },
  {
   "cell_type": "code",
   "execution_count": 13,
   "metadata": {},
   "outputs": [],
   "source": [
    "from ca_funcs import get_network_entropies\n",
    "\n",
    "\n",
    "def get_activations(x_input):\n",
    "    activations = [x_input]\n",
    "    for m in model.modules():\n",
    "        x_input = m(x_input)\n",
    "        activations.append(x_input)\n",
    "    return activations[3:len(activations) - 2]\n",
    "\n",
    "\n",
    "X_test = torch.from_numpy(np.random.choice([0, 1], (500, 10, 10))).float()\n",
    "if torch.cuda.is_available():\n",
    "    X_test = X_test.cuda()\n",
    "\n",
    "layer_activations = np.array([activation.cpu().detach().numpy() for activation in get_activations(X_test)])\n",
    "binary_activations = np.digitize(layer_activations, [0], right=True)\n",
    "entropies = get_network_entropies(binary_activations)"
   ]
  },
  {
   "cell_type": "code",
   "execution_count": 14,
   "metadata": {},
   "outputs": [
    {
     "data": {
      "text/plain": "8.220523247971135"
     },
     "execution_count": 14,
     "metadata": {},
     "output_type": "execute_result"
    }
   ],
   "source": [
    "ca_entropy(ca)"
   ]
  },
  {
   "cell_type": "code",
   "execution_count": 15,
   "metadata": {},
   "outputs": [
    {
     "data": {
      "text/plain": "(13.093963802129226,\n [5.509744154165703,\n  5.509744154165703,\n  3.7738586603525843,\n  3.7738586603525843,\n  2.892678617573784,\n  2.892678617573784,\n  2.00604082022032,\n  2.00604082022032,\n  2.567022006266895,\n  2.567022006266895,\n  3.5588131641959495,\n  3.5588131641959495,\n  3.818517099370483,\n  3.818517099370483,\n  4.565308815775013,\n  4.565308815775013,\n  4.899461310009559,\n  4.899461310009559,\n  4.695019628335649,\n  4.695019628335649,\n  3.834032595095209,\n  3.834032595095209,\n  2.978313286577678,\n  2.978313286577678],\n [array([0.68980569, 0.68962175, 0.6895095 , 0.68964124, 0.68981616,\n         0.68982531, 0.68958228, 0.68970803, 0.68956602, 0.68977384]),\n  array([0.68980569, 0.68962175, 0.6895095 , 0.68964124, 0.68981616,\n         0.68982531, 0.68958228, 0.68970803, 0.68956602, 0.68977384]),\n  array([0.5528989 , 0.55136562, 0.55179583, 0.55291721, 0.55472008,\n         0.55105687, 0.55248212, 0.55132187, 0.55386707, 0.55237437]),\n  array([0.5528989 , 0.55136562, 0.55179583, 0.55291721, 0.55472008,\n         0.55105687, 0.55248212, 0.55132187, 0.55386707, 0.55237437]),\n  array([0.62576253, 0.62586743, 0.62600565, 0.62587959, 0.62596162,\n         0.62508539, 0.62618011, 0.62543509, 0.62603601, 0.62562404]),\n  array([0.62576253, 0.62586743, 0.62600565, 0.62587959, 0.62596162,\n         0.62508539, 0.62618011, 0.62543509, 0.62603601, 0.62562404]),\n  array([0.65571177, 0.65557217, 0.65578536, 0.6553987 , 0.65589896,\n         0.65541326, 0.65562134, 0.65575638, 0.65556994, 0.65533705]),\n  array([0.65571177, 0.65557217, 0.65578536, 0.6553987 , 0.65589896,\n         0.65541326, 0.65562134, 0.65575638, 0.65556994, 0.65533705]),\n  array([0.67926227, 0.67900736, 0.67914252, 0.6787542 , 0.67928776,\n         0.67868713, 0.67912094, 0.67909191, 0.67907502, 0.67895989]),\n  array([0.67926227, 0.67900736, 0.67914252, 0.6787542 , 0.67928776,\n         0.67868713, 0.67912094, 0.67909191, 0.67907502, 0.67895989]),\n  array([0.6905797 , 0.69035244, 0.69045597, 0.69026552, 0.6906433 ,\n         0.69013265, 0.6905926 , 0.69038856, 0.69050424, 0.69041616]),\n  array([0.6905797 , 0.69035244, 0.69045597, 0.69026552, 0.6906433 ,\n         0.69013265, 0.6905926 , 0.69038856, 0.69050424, 0.69041616]),\n  array([0.6926161 , 0.69255538, 0.69260482, 0.6926342 , 0.69264996,\n         0.69254515, 0.69267118, 0.69260851, 0.6926929 , 0.69260298]),\n  array([0.6926161 , 0.69255538, 0.69260482, 0.6926342 , 0.69264996,\n         0.69254515, 0.69267118, 0.69260851, 0.6926929 , 0.69260298]),\n  array([0.69023534, 0.68981943, 0.69004177, 0.68934812, 0.69049025,\n         0.68939513, 0.69045362, 0.68953815, 0.68984129, 0.68998276]),\n  array([0.69023534, 0.68981943, 0.69004177, 0.68934812, 0.69049025,\n         0.68939513, 0.69045362, 0.68953815, 0.68984129, 0.68998276]),\n  array([0.68971268, 0.68933588, 0.68951496, 0.68844189, 0.69000472,\n         0.68884064, 0.68980831, 0.68884399, 0.689029  , 0.68936033]),\n  array([0.68971268, 0.68933588, 0.68951496, 0.68844189, 0.69000472,\n         0.68884064, 0.68980831, 0.68884399, 0.689029  , 0.68936033]),\n  array([0.67022995, 0.66955612, 0.66976404, 0.66696136, 0.67088099,\n         0.66834471, 0.67026806, 0.66818385, 0.66839881, 0.66932427]),\n  array([0.67022995, 0.66955612, 0.66976404, 0.66696136, 0.67088099,\n         0.66834471, 0.67026806, 0.66818385, 0.66839881, 0.66932427]),\n  array([0.68398124, 0.68391256, 0.68380246, 0.68293472, 0.68394966,\n         0.68358417, 0.68367123, 0.68344245, 0.68317575, 0.6836136 ]),\n  array([0.68398124, 0.68391256, 0.68380246, 0.68293472, 0.68394966,\n         0.68358417, 0.68367123, 0.68344245, 0.68317575, 0.6836136 ]),\n  array([0.6875958 , 0.68752967, 0.68753222, 0.68733238, 0.68756703,\n         0.6874764 , 0.68752414, 0.68741343, 0.68744003, 0.68756787]),\n  array([0.6875958 , 0.68752967, 0.68753222, 0.68733238, 0.68756703,\n         0.6874764 , 0.68752414, 0.68741343, 0.68744003, 0.68756787])])"
     },
     "execution_count": 15,
     "metadata": {},
     "output_type": "execute_result"
    }
   ],
   "source": [
    "entropies"
   ]
  }
 ],
 "metadata": {
  "kernelspec": {
   "display_name": "Python 3",
   "language": "python",
   "name": "python3"
  },
  "language_info": {
   "codemirror_mode": {
    "name": "ipython",
    "version": 3
   },
   "file_extension": ".py",
   "mimetype": "text/x-python",
   "name": "python",
   "nbconvert_exporter": "python",
   "pygments_lexer": "ipython3",
   "version": "3.8.2"
  }
 },
 "nbformat": 4,
 "nbformat_minor": 4
}