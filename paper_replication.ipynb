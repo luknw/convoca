{
 "cells": [
  {
   "cell_type": "markdown",
   "metadata": {},
   "source": [
    "# Paper replication"
   ]
  },
  {
   "cell_type": "code",
   "execution_count": 2,
   "metadata": {},
   "outputs": [],
   "source": [
    "import numpy as np\n",
    "import torch\n",
    "import matplotlib.pyplot as plt\n",
    "from tqdm import tqdm\n",
    "\n",
    "%matplotlib inline\n",
    "plt.rcParams['figure.figsize'] = (10.0, 8.0) # set default size of plots\n",
    "plt.rcParams['image.interpolation'] = 'nearest'\n",
    "plt.rcParams['image.cmap'] = 'gray'"
   ]
  },
  {
   "cell_type": "code",
   "metadata": {
    "pycharm": {
     "name": "#%%\n"
    }
   },
   "source": [
    "from utils import all_combinations\n",
    "\n",
    "M = 2\n",
    "D = 3 * 3\n",
    "ALL_INPUTS = all_combinations(M, D)"
   ],
   "execution_count": 3,
   "outputs": []
  },
  {
   "cell_type": "code",
   "execution_count": 3,
   "metadata": {},
   "outputs": [],
   "source": [
    "## Define CAs and training data"
   ]
  },
  {
   "cell_type": "code",
   "execution_count": 4,
   "metadata": {},
   "outputs": [],
   "source": [
    "from ca_funcs import make_table_walk, make_ca\n",
    "\n",
    "def sample_CAs(seed=None):\n",
    "    if seed:\n",
    "        np.random.seed(seed)\n",
    "        \n",
    "    inputs = ALL_INPUTS\n",
    "    outputs = make_table_walk(len(ALL_INPUTS))\n",
    "    for o in outputs:\n",
    "        yield make_ca(inputs, o)\n",
    "        \n",
    "def generate_CA_train_data(ca, height=10, width=10, n_samples=500):\n",
    "    X_train = np.random.choice([0,1], (n_samples, height, width), p=[.5,.5])\n",
    "    Y_train = ca(torch.from_numpy(X_train))\n",
    "    return (X_train, Y_train)"
   ]
  },
  {
   "cell_type": "code",
   "metadata": {
    "pycharm": {
     "name": "#%%\n"
    }
   },
   "source": [
    "from ca_funcs import make_glider\n",
    "from IPython.display import clear_output\n",
    "\n",
    "np.random.seed(0)\n",
    "\n",
    "for i, ca in enumerate(sample_CAs()):\n",
    "    X_test = torch.from_numpy(make_glider(10).reshape(1, 10, 10))\n",
    "    Y_test = ca(X_test)\n",
    "    \n",
    "    plt.figure(figsize=(12,4))\n",
    "    plt.suptitle(i)\n",
    "\n",
    "    plt.subplot(1,2,1)\n",
    "    plt.imshow(X_test[0])\n",
    "    plt.axis('off')\n",
    "    plt.title(\"Input\")\n",
    "\n",
    "    plt.subplot(1,2,2)\n",
    "    plt.imshow(Y_test[0])\n",
    "    plt.axis('off')\n",
    "    plt.title(\"Output\")\n",
    "    \n",
    "    plt.show()\n",
    "    plt.close()\n",
    "    clear_output(wait=True)"
   ],
   "execution_count": 10,
   "outputs": [
    {
     "ename": "RuntimeError",
     "evalue": "Given groups=1, weight of size [3, 3, 1, 512], expected input[1, 1, 12, 12] to have 3 channels, but got 1 channels instead",
     "output_type": "error",
     "traceback": [
      "\u001B[0;31m---------------------------------------------------------------------------\u001B[0m",
      "\u001B[0;31mRuntimeError\u001B[0m                              Traceback (most recent call last)",
      "\u001B[0;32m<ipython-input-10-02a0c43a7a2f>\u001B[0m in \u001B[0;36m<module>\u001B[0;34m\u001B[0m\n\u001B[1;32m      7\u001B[0m \u001B[0;32mfor\u001B[0m \u001B[0mi\u001B[0m\u001B[0;34m,\u001B[0m \u001B[0mca\u001B[0m \u001B[0;32min\u001B[0m \u001B[0menumerate\u001B[0m\u001B[0;34m(\u001B[0m\u001B[0msample_CAs\u001B[0m\u001B[0;34m(\u001B[0m\u001B[0;34m)\u001B[0m\u001B[0;34m)\u001B[0m\u001B[0;34m:\u001B[0m\u001B[0;34m\u001B[0m\u001B[0;34m\u001B[0m\u001B[0m\n\u001B[1;32m      8\u001B[0m     \u001B[0mX_test\u001B[0m \u001B[0;34m=\u001B[0m \u001B[0mtorch\u001B[0m\u001B[0;34m.\u001B[0m\u001B[0mfrom_numpy\u001B[0m\u001B[0;34m(\u001B[0m\u001B[0mmake_glider\u001B[0m\u001B[0;34m(\u001B[0m\u001B[0;36m10\u001B[0m\u001B[0;34m)\u001B[0m\u001B[0;34m.\u001B[0m\u001B[0mreshape\u001B[0m\u001B[0;34m(\u001B[0m\u001B[0;36m1\u001B[0m\u001B[0;34m,\u001B[0m \u001B[0;36m10\u001B[0m\u001B[0;34m,\u001B[0m \u001B[0;36m10\u001B[0m\u001B[0;34m)\u001B[0m\u001B[0;34m)\u001B[0m\u001B[0;34m\u001B[0m\u001B[0;34m\u001B[0m\u001B[0m\n\u001B[0;32m----> 9\u001B[0;31m     \u001B[0mY_test\u001B[0m \u001B[0;34m=\u001B[0m \u001B[0mca\u001B[0m\u001B[0;34m(\u001B[0m\u001B[0mX_test\u001B[0m\u001B[0;34m)\u001B[0m\u001B[0;34m\u001B[0m\u001B[0;34m\u001B[0m\u001B[0m\n\u001B[0m\u001B[1;32m     10\u001B[0m \u001B[0;34m\u001B[0m\u001B[0m\n\u001B[1;32m     11\u001B[0m     \u001B[0mplt\u001B[0m\u001B[0;34m.\u001B[0m\u001B[0mfigure\u001B[0m\u001B[0;34m(\u001B[0m\u001B[0mfigsize\u001B[0m\u001B[0;34m=\u001B[0m\u001B[0;34m(\u001B[0m\u001B[0;36m12\u001B[0m\u001B[0;34m,\u001B[0m\u001B[0;36m4\u001B[0m\u001B[0;34m)\u001B[0m\u001B[0;34m)\u001B[0m\u001B[0;34m\u001B[0m\u001B[0;34m\u001B[0m\u001B[0m\n",
      "\u001B[0;32m~/PycharmProjects/convoca/ca_funcs.py\u001B[0m in \u001B[0;36mmy_ca\u001B[0;34m(image_stack)\u001B[0m\n\u001B[1;32m    276\u001B[0m         \"\"\"\n\u001B[1;32m    277\u001B[0m         \u001B[0minput_padded\u001B[0m \u001B[0;34m=\u001B[0m \u001B[0mtorch\u001B[0m\u001B[0;34m.\u001B[0m\u001B[0munsqueeze\u001B[0m\u001B[0;34m(\u001B[0m\u001B[0mperiodic_padding\u001B[0m\u001B[0;34m(\u001B[0m\u001B[0mimage_stack\u001B[0m\u001B[0;34m,\u001B[0m \u001B[0mpad_size\u001B[0m\u001B[0;34m)\u001B[0m\u001B[0;34m,\u001B[0m \u001B[0mdim\u001B[0m\u001B[0;34m=\u001B[0m\u001B[0;36m1\u001B[0m\u001B[0;34m)\u001B[0m\u001B[0;34m\u001B[0m\u001B[0;34m\u001B[0m\u001B[0m\n\u001B[0;32m--> 278\u001B[0;31m \u001B[0;34m\u001B[0m\u001B[0m\n\u001B[0m\u001B[1;32m    279\u001B[0m         \u001B[0mconv_image\u001B[0m \u001B[0;34m=\u001B[0m \u001B[0mtorch\u001B[0m\u001B[0;34m.\u001B[0m\u001B[0mnn\u001B[0m\u001B[0;34m.\u001B[0m\u001B[0mfunctional\u001B[0m\u001B[0;34m.\u001B[0m\u001B[0mconv2d\u001B[0m\u001B[0;34m(\u001B[0m\u001B[0minput_padded\u001B[0m\u001B[0;34m,\u001B[0m \u001B[0mkernel\u001B[0m\u001B[0;34m)\u001B[0m\u001B[0;34m\u001B[0m\u001B[0;34m\u001B[0m\u001B[0m\n\u001B[1;32m    280\u001B[0m \u001B[0;34m\u001B[0m\u001B[0m\n",
      "\u001B[0;31mRuntimeError\u001B[0m: Given groups=1, weight of size [3, 3, 1, 512], expected input[1, 1, 12, 12] to have 3 channels, but got 1 channels instead"
     ]
    }
   ]
  },
  {
   "cell_type": "code",
   "execution_count": null,
   "metadata": {},
   "outputs": [],
   "source": [
    "## Find entropy of the training CA"
   ]
  },
  {
   "cell_type": "code",
   "execution_count": null,
   "metadata": {},
   "outputs": [],
   "source": [
    "from collections import Counter\n",
    "from utils import shannon_entropy\n",
    "\n",
    "def ca_entropy(ca):\n",
    "    inputs = torch.from_numpy(ALL_INPUTS)\n",
    "    outputs = ca(inputs)\n",
    "    output_counts = np.array(list(Counter(tuple(torch.reshape(o, [-1]).numpy()) for o in outputs).values()))\n",
    "    output_ps = output_counts / len(inputs)\n",
    "    return shannon_entropy(output_ps)"
   ]
  },
  {
   "cell_type": "code",
   "metadata": {
    "pycharm": {
     "name": "#%%\n"
    }
   },
   "source": [
    "entropies = [ca_entropy(a) for a in tqdm(sample_CAs(seed=0))]\n",
    "plt.plot(entropies)"
   ],
   "execution_count": null,
   "outputs": []
  },
  {
   "cell_type": "code",
   "execution_count": null,
   "metadata": {},
   "outputs": [],
   "source": [
    "## Define the model"
   ]
  },
  {
   "cell_type": "code",
   "metadata": {
    "pycharm": {
     "name": "#%%\n"
    }
   },
   "source": [
    "from train_ca import initialize_model\n",
    "\n",
    "seed = 0\n",
    "print('seed =', seed)\n",
    "\n",
    "np.random.seed(seed)\n",
    "torch.random.manual_seed(seed)\n",
    "\n",
    "num_classes = 2\n",
    "samples = 500\n",
    "input_dims = [10, 10]\n",
    "layer_dims = [100] + [100] * 11 # neighborhood conv + mlpconv layers\n",
    "batch_size = 10\n",
    "num_batches = samples / batch_size\n",
    "learning_rate = 1e-4\n",
    "training_epochs = 100 # 1500\n",
    "display_step = int(training_epochs/10)\n",
    "loss = torch.nn.MSELoss()\n",
    "optimizer = torch.optim.Adam(lr=learning_rate)\n",
    "\n",
    "model = initialize_model(input_dims, layer_dims)\n",
    "model.compile(optimizer=optimizer, loss=loss)\n",
    "model.summary()"
   ],
   "execution_count": null,
   "outputs": []
  },
  {
   "cell_type": "code",
   "execution_count": null,
   "metadata": {},
   "outputs": [],
   "source": [
    "## Define the learning loop"
   ]
  },
  {
   "cell_type": "code",
   "metadata": {
    "pycharm": {
     "name": "#%%\n"
    }
   },
   "source": [
    "def learn_CA(ca, model):\n",
    "    X_train, Y_train = generate_CA_train_data(ca, *input_dims, n_samples=samples)\n",
    "    model.fit(x=X_train, y=Y_train, epochs=training_epochs, batch_size=batch_size)"
   ],
   "execution_count": null,
   "outputs": []
  },
  {
   "cell_type": "code",
   "execution_count": null,
   "metadata": {},
   "outputs": [],
   "source": [
    "## Train the model"
   ]
  },
  {
   "cell_type": "code",
   "execution_count": null,
   "metadata": {},
   "outputs": [],
   "source": [
    "ca = list(sample_CAs(seed=0))[250]\n",
    "learn_CA(ca, model)"
   ]
  },
  {
   "cell_type": "code",
   "execution_count": null,
   "metadata": {},
   "outputs": [],
   "source": [
    "plt.figure(figsize=(10, 5))\n",
    "plt.subplot(121)\n",
    "plt.plot(model.history.history['loss'])\n",
    "plt.subplot(122)\n",
    "plt.plot(model.history.history['loss'])\n",
    "plt.loglog()"
   ]
  },
  {
   "cell_type": "code",
   "execution_count": null,
   "metadata": {},
   "outputs": [],
   "source": [
    "from ca_funcs import make_glider\n",
    "\n",
    "# x = np.random.choice([0, 1], size=100)\n",
    "x = make_glider(10)\n",
    "X_test = torch.from_numpy(x.reshape(1, 10, 10))\n",
    "Y_test = ca(X_test)\n",
    "Y_pred = model(X_test)\n",
    "\n",
    "plt.figure(figsize=(12,4))\n",
    "\n",
    "plt.subplot(141)\n",
    "plt.imshow(X_test[0])\n",
    "plt.axis('off')\n",
    "plt.title(\"Input\")\n",
    "\n",
    "plt.subplot(142)\n",
    "plt.imshow(Y_test[0])\n",
    "plt.axis('off')\n",
    "plt.title(\"Expected Output\")\n",
    "\n",
    "plt.subplot(143)\n",
    "plt.imshow(Y_pred[0])\n",
    "plt.axis('off')\n",
    "plt.title(\"Observed Output\")\n",
    "\n",
    "plt.subplot(144)\n",
    "plt.imshow((Y_pred[0] - Y_test[0])**2)\n",
    "plt.axis('off')\n",
    "plt.title(\"Diff\")"
   ]
  },
  {
   "cell_type": "code",
   "metadata": {
    "pycharm": {
     "name": "#%%\n"
    }
   },
   "source": [
    "torch.max(torch.abs(Y_pred[0] - Y_test[0]))"
   ],
   "execution_count": null,
   "outputs": []
  },
  {
   "cell_type": "code",
   "execution_count": null,
   "metadata": {},
   "outputs": [],
   "source": [
    "## Find model entropies"
   ]
  },
  {
   "cell_type": "code",
   "execution_count": null,
   "metadata": {},
   "outputs": [],
   "source": [
    "from ca_funcs import get_network_entropies\n",
    "\n",
    "get_activations = model.input, [model.layers[i].output for i in np.r_[1, 3:len(model.layers)-2]]\n",
    "\n",
    "X_test = torch.from_numpy(np.random.choice([0, 1], (500, 10, 10)))\n",
    "\n",
    "layer_activations = np.array([layer.reshape(500, 100, 100) for layer in get_activations(X_test)])\n",
    "binary_activations = np.digitize(layer_activations, [0], right=True)\n",
    "entropies = get_network_entropies(binary_activations)"
   ]
  },
  {
   "cell_type": "code",
   "execution_count": null,
   "metadata": {},
   "outputs": [],
   "source": [
    "ca_entropy(ca)"
   ]
  },
  {
   "cell_type": "code",
   "execution_count": null,
   "metadata": {},
   "outputs": [],
   "source": [
    "entropies"
   ]
  }
 ],
 "metadata": {
  "kernelspec": {
   "display_name": "Python 3",
   "language": "python",
   "name": "python3"
  },
  "language_info": {
   "codemirror_mode": {
    "name": "ipython",
    "version": 3
   },
   "file_extension": ".py",
   "mimetype": "text/x-python",
   "name": "python",
   "nbconvert_exporter": "python",
   "pygments_lexer": "ipython3",
   "version": "3.8.2"
  }
 },
 "nbformat": 4,
 "nbformat_minor": 4
}