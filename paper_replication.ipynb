{
 "cells": [
  {
   "cell_type": "markdown",
   "metadata": {},
   "source": [
    "# Paper replication"
   ]
  },
  {
   "cell_type": "code",
   "execution_count": 1,
   "metadata": {},
   "outputs": [],
   "source": [
    "%load_ext autoreload\n",
    "%autoreload 2\n",
    "\n",
    "import matplotlib.pyplot as plt\n",
    "import numpy as np\n",
    "import torch\n",
    "\n",
    "from collections import Counter\n",
    "from copy import deepcopy\n",
    "from IPython.display import clear_output\n",
    "from scipy.stats import entropy\n",
    "from tqdm import tqdm\n",
    "\n",
    "from ca_funcs import get_network_entropies, make_table_walk, make_ca, make_glider\n",
    "from train_ca import initialize_model\n",
    "from utils import all_combinations\n",
    "\n",
    "from nni.compression.torch import *\n",
    "\n",
    "%matplotlib inline\n",
    "plt.rcParams['figure.figsize'] = (10.0, 8.0) # set default size of plots\n",
    "plt.rcParams['image.interpolation'] = 'nearest'\n",
    "plt.rcParams['image.cmap'] = 'gray'"
   ]
  },
  {
   "cell_type": "code",
   "execution_count": 2,
   "metadata": {},
   "outputs": [],
   "source": [
    "M = 2\n",
    "D = (3, 3)\n",
    "ALL_INPUTS = all_combinations(M, D)\n",
    "RANDOM_INPUTS = np.random.choice([0, 1], (500, 10, 10))"
   ]
  },
  {
   "cell_type": "markdown",
   "metadata": {},
   "source": [
    "## Define CAs and training data"
   ]
  },
  {
   "cell_type": "code",
   "execution_count": 195,
   "metadata": {},
   "outputs": [],
   "source": [
    "def sample_CAs(rng=None):   \n",
    "    rng = rng or np.random.default_rng(0)\n",
    "    inputs = ALL_INPUTS\n",
    "    outputs = make_table_walk(len(ALL_INPUTS), rng=rng)\n",
    "    for o in outputs:\n",
    "        yield make_ca(inputs, o)\n",
    "\n",
    "def generate_CA_train_data(ca, height=10, width=10, n_samples=500, rng=None, noise=0.0):\n",
    "    rng = rng or np.random.default_rng(0)\n",
    "    X_train = torch.from_numpy(rng.choice([0, 1], (n_samples, height, width), p=[.5, .5])).float()\n",
    "    Y_train = ca(X_train).float()\n",
    "    foo = Y_train.detach().clone()\n",
    "    flat_Y_train = Y_train.view(-1)\n",
    "    flat_Y_indices = rng.choice(range(Y_train.numel()), size=int(Y_train.numel() * noise), replace=False)\n",
    "    flat_Y_train[flat_Y_indices] = 1 - flat_Y_train[flat_Y_indices]\n",
    "    return X_train, Y_train"
   ]
  },
  {
   "cell_type": "code",
   "execution_count": 4,
   "metadata": {},
   "outputs": [
    {
     "data": {
      "image/png": "[encoded data removed]",
      "text/plain": [
       "<Figure size 864x288 with 2 Axes>"
      ]
     },
     "metadata": {
      "needs_background": "light"
     },
     "output_type": "display_data"
    }
   ],
   "source": [
    "np.random.seed(0)\n",
    "\n",
    "for i, ca in enumerate(sample_CAs()):\n",
    "    X_test = torch.from_numpy(make_glider(10).reshape(1, 10, 10)).float()\n",
    "    Y_test = ca(X_test).float()\n",
    "\n",
    "    plt.figure(figsize=(12,4))\n",
    "    plt.suptitle(i)\n",
    "\n",
    "    plt.subplot(1,2,1)\n",
    "    plt.imshow(X_test[0])\n",
    "    plt.axis('off')\n",
    "    plt.title(\"Input\")\n",
    "\n",
    "    plt.subplot(1,2,2)\n",
    "    plt.imshow(Y_test[0])\n",
    "    plt.axis('off')\n",
    "    plt.title(\"Output\")\n",
    "\n",
    "    plt.show()\n",
    "    plt.close()\n",
    "    clear_output(wait=True)"
   ]
  },
  {
   "cell_type": "markdown",
   "metadata": {},
   "source": [
    "## Find entropy of the training CA"
   ]
  },
  {
   "cell_type": "code",
   "execution_count": 5,
   "metadata": {},
   "outputs": [],
   "source": [
    "def ca_entropy(ca):        \n",
    "    inputs = torch.from_numpy(ALL_INPUTS)\n",
    "    outputs = ca(inputs)\n",
    "    output_counts = np.array(list(Counter(tuple(torch.reshape(o, [-1]).numpy()) for o in outputs).values()))\n",
    "    output_ps = output_counts / len(inputs)\n",
    "    return entropy(output_ps, base=2)"
   ]
  },
  {
   "cell_type": "code",
   "execution_count": 8,
   "metadata": {},
   "outputs": [
    {
     "name": "stderr",
     "output_type": "stream",
     "text": [
      "512it [00:12, 40.31it/s]\n"
     ]
    },
    {
     "data": {
      "text/plain": [
       "[<matplotlib.lines.Line2D at 0x7f693d81ba90>]"
      ]
     },
     "execution_count": 8,
     "metadata": {},
     "output_type": "execute_result"
    },
    {
     "data": {
      "image/png": "[encoded data removed]",
      "text/plain": [
       "<Figure size 720x576 with 1 Axes>"
      ]
     },
     "metadata": {
      "needs_background": "light"
     },
     "output_type": "display_data"
    }
   ],
   "source": [
    "entropies = [ca_entropy(a) for a in tqdm(sample_CAs(rng=np.random.default_rng(0)))]\n",
    "plt.plot(entropies)"
   ]
  },
  {
   "cell_type": "markdown",
   "metadata": {},
   "source": [
    "## Define the model"
   ]
  },
  {
   "cell_type": "code",
   "execution_count": 235,
   "metadata": {},
   "outputs": [
    {
     "name": "stdout",
     "output_type": "stream",
     "text": [
      "seed = 0\n",
      "Sequential(\n",
      "  (Wraparound2D): Wraparound2D()\n",
      "  (Conv2d_0): Conv2d(1, 100, kernel_size=(3, 3), stride=(1, 1))\n",
      "  (ReLU_0): ReLU()\n",
      "  (Conv2d_1): Conv2d(100, 100, kernel_size=(1, 1), stride=(1, 1))\n",
      "  (ReLU_1): ReLU()\n",
      "  (Conv2d_2): Conv2d(100, 100, kernel_size=(1, 1), stride=(1, 1))\n",
      "  (ReLU_2): ReLU()\n",
      "  (Conv2d_3): Conv2d(100, 100, kernel_size=(1, 1), stride=(1, 1))\n",
      "  (ReLU_3): ReLU()\n",
      "  (Conv2d_4): Conv2d(100, 100, kernel_size=(1, 1), stride=(1, 1))\n",
      "  (ReLU_4): ReLU()\n",
      "  (Conv2d_5): Conv2d(100, 100, kernel_size=(1, 1), stride=(1, 1))\n",
      "  (ReLU_5): ReLU()\n",
      "  (Conv2d_6): Conv2d(100, 100, kernel_size=(1, 1), stride=(1, 1))\n",
      "  (ReLU_6): ReLU()\n",
      "  (Conv2d_7): Conv2d(100, 100, kernel_size=(1, 1), stride=(1, 1))\n",
      "  (ReLU_7): ReLU()\n",
      "  (Conv2d_8): Conv2d(100, 100, kernel_size=(1, 1), stride=(1, 1))\n",
      "  (ReLU_8): ReLU()\n",
      "  (Conv2d_9): Conv2d(100, 100, kernel_size=(1, 1), stride=(1, 1))\n",
      "  (ReLU_9): ReLU()\n",
      "  (Conv2d_10): Conv2d(100, 100, kernel_size=(1, 1), stride=(1, 1))\n",
      "  (ReLU_10): ReLU()\n",
      "  (Conv2d_11): Conv2d(100, 100, kernel_size=(1, 1), stride=(1, 1))\n",
      "  (ReLU_11): ReLU()\n",
      "  (Conv2d_12): Conv2d(100, 1, kernel_size=(1, 1), stride=(1, 1), bias=False)\n",
      "  (Lambda_0): Lambda()\n",
      ")\n"
     ]
    }
   ],
   "source": [
    "seed = 0\n",
    "print('seed =', seed)\n",
    "\n",
    "np.random.seed(seed)\n",
    "torch.random.manual_seed(seed)\n",
    "\n",
    "num_classes = 2\n",
    "samples = 500\n",
    "input_dims = [10, 10]\n",
    "layer_dims = [100] + [100] * 11  # neighborhood conv + mlpconv layers\n",
    "batch_size = 10\n",
    "num_batches = samples // batch_size\n",
    "learning_rate = 1e-4\n",
    "training_epochs = 100  # 1500\n",
    "display_step = int(training_epochs / 10)\n",
    "loss = torch.nn.MSELoss()\n",
    "\n",
    "train_noise=0.2\n",
    "\n",
    "model = initialize_model(input_dims, layer_dims)\n",
    "optimizer = torch.optim.Adam(model.parameters(), lr=learning_rate)\n",
    "print(model)\n",
    "\n",
    "if torch.cuda.is_available():\n",
    "    model.cuda()"
   ]
  },
  {
   "cell_type": "markdown",
   "metadata": {},
   "source": [
    "## Define the learning loop"
   ]
  },
  {
   "cell_type": "code",
   "execution_count": 236,
   "metadata": {},
   "outputs": [],
   "source": [
    "losses = []\n",
    "\n",
    "def learn_CA(ca, model, optimizer, training_epochs, rng=None, train_noise=0.0):\n",
    "    rng = rng or np.random.default_rng(0)\n",
    "    losses = []\n",
    "    X_train, Y_train = generate_CA_train_data(ca, *input_dims, n_samples=samples, rng=rng, noise=train_noise)\n",
    "    if torch.cuda.is_available():\n",
    "        X_train = X_train.cuda()\n",
    "        Y_train = Y_train.cuda()\n",
    "\n",
    "    for _ in tqdm(range(training_epochs)):\n",
    "        batch_losses = []\n",
    "        for i in range(num_batches):\n",
    "            X_batch = X_train[i * batch_size : (i + 1) * batch_size]\n",
    "            Y_batch = Y_train[i * batch_size : (i + 1) * batch_size]\n",
    "\n",
    "            optimizer.zero_grad()\n",
    "            Y_pred = model(X_batch)\n",
    "            l = loss(Y_batch, Y_pred)\n",
    "            l.backward()\n",
    "            optimizer.step()\n",
    "            batch_losses.append(l.item())\n",
    "        losses.append(np.mean(batch_losses))\n",
    "    return losses"
   ]
  },
  {
   "cell_type": "markdown",
   "metadata": {},
   "source": [
    "## Train the model"
   ]
  },
  {
   "cell_type": "code",
   "execution_count": null,
   "metadata": {},
   "outputs": [
    {
     "name": "stderr",
     "output_type": "stream",
     "text": [
      " 60%|██████    | 60/100 [01:42<01:09,  1.73s/it]"
     ]
    }
   ],
   "source": [
    "ca = list(sample_CAs(rng=np.random.default_rng(0)))[24]\n",
    "losses = learn_CA(ca, model, optimizer, training_epochs, rng=np.random.default_rng(0), train_noise=train_noise)"
   ]
  },
  {
   "cell_type": "code",
   "execution_count": 215,
   "metadata": {},
   "outputs": [
    {
     "data": {
      "image/png": "[encoded data removed]",
      "text/plain": [
       "<Figure size 720x360 with 1 Axes>"
      ]
     },
     "metadata": {
      "needs_background": "light"
     },
     "output_type": "display_data"
    }
   ],
   "source": [
    "plt.figure(figsize=(10, 5))\n",
    "plt.plot(losses)\n",
    "plt.loglog();"
   ]
  },
  {
   "cell_type": "code",
   "execution_count": 219,
   "metadata": {},
   "outputs": [
    {
     "name": "stdout",
     "output_type": "stream",
     "text": [
      "max loss: 0.097876616\n"
     ]
    },
    {
     "data": {
      "image/png": "[encoded data removed]",
      "text/plain": [
       "<Figure size 864x288 with 4 Axes>"
      ]
     },
     "metadata": {
      "needs_background": "light"
     },
     "output_type": "display_data"
    }
   ],
   "source": [
    "x = np.random.default_rng(0).choice([0, 1], size=100)\n",
    "# x = make_glider(10)\n",
    "X_test = torch.from_numpy(x.reshape(1, 10, 10)).float()\n",
    "Y_test = ca(X_test).float()\n",
    "\n",
    "if torch.cuda.is_available():\n",
    "    X_test = X_test.cuda()\n",
    "Y_pred = model(X_test)\n",
    "\n",
    "\n",
    "if torch.cuda.is_available():\n",
    "    X_test = X_test.cpu()\n",
    "    Y_pred = Y_pred.cpu()\n",
    "\n",
    "X_test = X_test.detach().numpy()\n",
    "Y_test = Y_test.detach().numpy()\n",
    "Y_pred = Y_pred.detach().numpy()\n",
    "\n",
    "plt.figure(figsize=(12, 4))\n",
    "\n",
    "plt.subplot(141)\n",
    "plt.imshow(X_test[0])\n",
    "plt.axis('off')\n",
    "plt.title(\"Input\")\n",
    "\n",
    "plt.subplot(142)\n",
    "plt.imshow(Y_test[0])\n",
    "plt.axis('off')\n",
    "plt.title(\"Expected Output\")\n",
    "\n",
    "plt.subplot(143)\n",
    "plt.imshow(Y_pred[0], vmin=0, vmax=1)\n",
    "plt.axis('off')\n",
    "plt.title(\"Observed Output\")\n",
    "\n",
    "plt.subplot(144)\n",
    "plt.imshow((Y_pred[0] - Y_test[0]) ** 2)\n",
    "plt.axis('off')\n",
    "plt.title(\"Normalised Diff\")\n",
    "\n",
    "print('max loss:', ((Y_pred[0] - Y_test[0]) ** 2).max())"
   ]
  },
  {
   "cell_type": "markdown",
   "metadata": {},
   "source": [
    "## Find model entropies"
   ]
  },
  {
   "cell_type": "code",
   "execution_count": 220,
   "metadata": {},
   "outputs": [],
   "source": [
    "def calculate_entropies(model):\n",
    "    def get_activations(x_input):\n",
    "        activations = []\n",
    "        for m in model.children():\n",
    "            x_input = m(x_input)\n",
    "            activations.append(x_input)\n",
    "        return activations[1:-3:2]\n",
    "\n",
    "    X_test = np.pad(all_combinations(2, (3, 3)), [(0, 0), (3, 4), (3, 4)], 'wrap')\n",
    "    X_test = torch.from_numpy(X_test).float()\n",
    "        \n",
    "    if torch.cuda.is_available():\n",
    "        X_test = X_test.cuda()\n",
    "\n",
    "    res = [activation.cpu().detach().numpy() for activation in get_activations(X_test)]\n",
    "    layer_activations = np.array(res)\n",
    "    # Layer activations are floats, but to calculate entropy,\n",
    "    # we want to map activations to binary values,\n",
    "    # 1 if a given activation is >0, and 0 otherwise.\n",
    "    binary_activations = np.digitize(layer_activations, [0], right=True)\n",
    "    binary_activations = binary_activations.transpose(0, 1, -2, -1, 2) \\\n",
    "        .reshape(len(layer_dims), np.product(X_test.shape), layer_dims[0])\n",
    "    return get_network_entropies(binary_activations)"
   ]
  },
  {
   "cell_type": "code",
   "execution_count": 221,
   "metadata": {},
   "outputs": [
    {
     "data": {
      "text/plain": [
       "0.06116285224115448"
      ]
     },
     "execution_count": 221,
     "metadata": {},
     "output_type": "execute_result"
    }
   ],
   "source": [
    "ca_entropy(ca)"
   ]
  },
  {
   "cell_type": "code",
   "execution_count": 222,
   "metadata": {},
   "outputs": [
    {
     "data": {
      "text/plain": [
       "(8.79856952502345,\n",
       " [8.79856952502345,\n",
       "  8.79856952502345,\n",
       "  8.79856952502345,\n",
       "  8.79856952502345,\n",
       "  8.79856952502345,\n",
       "  8.79606952502345,\n",
       "  8.795125915645746,\n",
       "  8.79856952502345,\n",
       "  8.791682306268042,\n",
       "  8.79856952502345,\n",
       "  8.755446596892805,\n",
       "  8.738228550004283],\n",
       " [array([0.66055628, 0.93573145, 0.85115776, 0.90025676, 0.98451557,\n",
       "         0.97203684, 0.98606803, 0.61295961, 0.79711281, 0.8341981 ,\n",
       "         0.50927053, 0.86628685, 0.68821229, 0.38882599, 0.98958752,\n",
       "         1.        , 0.69753259, 0.956707  , 0.57266539, 0.7354668 ,\n",
       "         0.99398529, 0.34698129, 0.69621226, 1.        , 0.62526241,\n",
       "         0.52394711, 0.86217453, 0.98958752, 0.92361752, 0.26476503,\n",
       "         0.32992096, 0.99729213, 0.93350864, 0.93350864, 0.70796314,\n",
       "         0.76919283, 0.16866093, 0.93791473, 0.29692332, 0.81813898,\n",
       "         0.27297086, 0.22186012, 0.25922919, 0.26476503, 0.98936893,\n",
       "         0.96560148, 0.71053443, 0.84146464, 0.79917303, 0.48464774,\n",
       "         0.94111578, 0.52394711, 0.29692332, 0.86217453, 0.64905405,\n",
       "         0.17195284, 0.81813898, 0.92240626, 0.8719288 , 0.99398529,\n",
       "         0.67041203, 0.74267571, 0.28639696, 0.875877  , 0.41525664,\n",
       "         0.89603823, 0.41092741, 0.821994  , 0.49041745, 0.58423881,\n",
       "         0.8441423 , 0.86710106, 0.92894388, 0.94268319, 0.94774916,\n",
       "         0.97935988, 0.96639395, 0.81521654, 0.75093198, 0.8341981 ,\n",
       "         0.99620509, 0.15184252, 0.97380037, 0.76695602, 0.56594664,\n",
       "         0.98259956, 0.76583275, 0.99869667, 0.1653459 , 0.49802789,\n",
       "         0.5776539 , 0.52213174, 0.70796314, 0.39997313, 0.92179686,\n",
       "         0.99523273, 0.75209803, 0.57599584, 0.51848467, 0.99917818]),\n",
       "  array([0.69884922, 0.93350864, 0.99222138, 0.        , 0.99447011,\n",
       "         0.        , 0.61451267, 0.91683059, 0.82580177, 0.4043776 ,\n",
       "         0.90707942, 0.78018398, 0.23653134, 0.88953319, 0.82674637,\n",
       "         0.08079314, 0.81325332, 0.96316725, 0.51481565, 0.99761373,\n",
       "         0.91364415, 0.78556029, 0.2675132 , 0.97095059, 0.3323871 ,\n",
       "         0.94524664, 0.39997313, 0.43018015, 0.66621171, 0.47687068,\n",
       "         0.52394711, 0.59878269, 0.82007241, 0.65770478, 0.97905146,\n",
       "         0.04541469, 0.71689983, 0.37057119, 0.85967398, 0.02521187,\n",
       "         0.99683164, 0.99447011, 0.58750311, 0.95350798, 0.9571544 ,\n",
       "         0.83876124, 0.73181608, 0.29430905, 0.        , 0.8092909 ,\n",
       "         0.09694461, 0.32246277, 0.82580177, 0.91746025, 0.87113101,\n",
       "         0.52394711, 0.99917818, 0.        , 0.85630102, 0.80729162,\n",
       "         0.53472659, 0.26200376, 0.58587329, 0.37747879, 0.54706336,\n",
       "         0.99462718, 0.54180727, 0.93791473, 0.        , 0.9161984 ,\n",
       "         0.86134378, 0.26200376, 0.26200376, 0.98800928, 0.68280396,\n",
       "         0.92836207, 0.75442015, 0.25363946, 0.81423643, 0.88357082,\n",
       "         0.91746025, 0.63281226, 0.71436439, 0.74267571, 0.        ,\n",
       "         0.99022959, 0.16200717, 0.50179827, 0.07662072, 0.72317634,\n",
       "         0.70147146, 0.        , 0.6475981 , 0.23941921, 0.64025694,\n",
       "         0.99706641, 0.9037005 , 0.48657693, 0.55914976, 0.94873317]),\n",
       "  array([0.98869941, 0.57266539, 0.61914566, 0.        , 0.97021469,\n",
       "         0.58423881, 0.95892008, 0.99633493, 0.        , 0.56085638,\n",
       "         0.84502915, 0.69621226, 0.9811617 , 0.        , 0.        ,\n",
       "         0.35177092, 0.90973612, 0.97310198, 0.44681553, 0.954434  ,\n",
       "         0.80729162, 0.9301    , 0.75093198, 0.92600985, 0.98057036,\n",
       "         0.99819588, 0.76583275, 0.80426999, 0.26476503, 0.98343455,\n",
       "         0.48850016, 0.31237534, 0.02521187, 0.54356444, 0.99998197,\n",
       "         0.94473883, 0.02521187, 0.93791473, 0.        , 0.97583944,\n",
       "         0.98086719, 0.92541553, 0.85545081, 0.97310198, 0.92952319,\n",
       "         0.98729852, 0.88205355, 0.97274928, 0.99348001, 0.95978857,\n",
       "         0.14840256, 0.52756165, 0.        , 0.96021924, 0.51665292,\n",
       "         0.86628685, 0.61451267, 0.39107119, 0.79711281, 0.        ,\n",
       "         0.33972708, 0.20982925, 0.15184252, 0.78126556, 0.62980503,\n",
       "         0.955805  , 0.76919283, 0.9999087 , 0.60196442, 0.71181467,\n",
       "         0.08897041, 0.94675545, 0.        , 0.82768804, 0.        ,\n",
       "         0.64467396, 0.90438146, 0.52213174, 0.99771641, 0.30726836,\n",
       "         0.99729213, 0.72566228, 0.99959308, 0.99998197, 0.289046  ,\n",
       "         0.76695602, 0.47882405, 0.80224037, 0.99064621, 0.25363946,\n",
       "         0.95067209, 0.54706336, 0.82768804, 0.05475066, 0.93124616,\n",
       "         0.5642548 , 0.50927053, 0.96064753, 0.32495889, 0.99986362]),\n",
       "  array([0.99869667, 0.01385706, 0.        , 0.57433301, 0.        ,\n",
       "         0.90640881, 0.11983279, 0.97310198, 0.91492637, 0.28106313,\n",
       "         0.302118  , 0.97874073, 0.90025676, 0.99898537, 0.80628744,\n",
       "         0.94675545, 0.01385706, 0.94005859, 0.17846946, 0.97811228,\n",
       "         0.78341923, 0.96439503, 0.63580266, 0.9716771 , 0.78662611,\n",
       "         0.57599584, 0.9416407 , 0.90907581, 0.        , 0.11983279,\n",
       "         0.97310198, 0.90301695, 0.29430905, 0.52031093, 0.70147146,\n",
       "         0.78874835, 0.71689983, 0.94824238, 0.47882405, 0.76244341,\n",
       "         0.74858985, 0.84056637, 0.19751658, 0.49613403, 0.51665292,\n",
       "         0.91039387, 0.71181467, 0.55400006, 0.41525664, 0.35177092,\n",
       "         0.31491285, 0.        , 0.96275324, 0.56255805, 0.99580197,\n",
       "         0.94320076, 0.        , 0.06808941, 0.86051027, 0.29692332,\n",
       "         0.58750311, 0.92660166, 0.70796314, 0.08897041, 0.99935069,\n",
       "         0.71309132, 0.289046  , 0.24229219, 0.62980503, 0.35415203,\n",
       "         0.02521187, 0.92301315, 0.11236071, 0.14840256, 0.99493449,\n",
       "         0.27568069, 0.99940368, 0.29168332, 0.31995646, 0.97483042,\n",
       "         0.99381914, 0.99945441, 0.10856819, 0.4343802 , 0.99493449,\n",
       "         0.95935552, 0.33729007, 0.48657693, 0.6475981 , 0.        ,\n",
       "         0.97617112, 0.99884554, 0.97550543, 0.98800928, 0.24229219,\n",
       "         0.99999549, 0.72067633, 0.40217919, 0.99330704, 0.48850016]),\n",
       "  array([0.        , 0.99995942, 0.        , 0.        , 0.29692332,\n",
       "         0.1653459 , 0.81521654, 0.08897041, 0.98914804, 0.77362772,\n",
       "         0.96479955, 0.98936893, 0.88052556, 0.34698129, 0.7601675 ,\n",
       "         0.82674637, 0.99963479, 0.02521187, 0.95804202, 0.        ,\n",
       "         0.99145204, 0.48464774, 0.08079314, 0.06372124, 0.42595205,\n",
       "         0.        , 0.        , 0.        , 0.22482611, 0.        ,\n",
       "         0.99971144, 0.35888724, 0.        , 0.71053443, 0.32246277,\n",
       "         0.91492637, 0.13436344, 0.99125401, 0.78556029, 0.37057119,\n",
       "         0.        , 0.4447599 , 0.        , 0.86628685, 0.38204217,\n",
       "         0.9716771 , 0.6475981 , 0.98847166, 0.74858985, 0.95257234,\n",
       "         0.97747454, 0.76130709, 0.06372124, 0.94774916, 0.        ,\n",
       "         0.25922919, 0.18808391, 0.88731726, 0.75557623, 0.06372124,\n",
       "         0.47097367, 0.        , 0.99348001, 0.15525614, 0.99633493,\n",
       "         0.51112449, 0.94575201, 0.3865728 , 0.7269    , 0.54706336,\n",
       "         0.54531647, 0.99988729, 0.60354853, 0.82390377, 0.14144054,\n",
       "         0.73181608, 0.98027122, 0.05927727, 0.82007241, 0.62373967,\n",
       "         0.38882599, 0.        , 0.02521187, 0.33972708, 0.28373605,\n",
       "         0.41741022, 0.55054184, 0.59558285, 0.        , 0.72067633,\n",
       "         0.28106313, 0.66339189, 0.17846946, 0.96021924, 0.        ,\n",
       "         0.        , 0.84591316, 0.        , 0.56085638, 0.39330844]),\n",
       "  array([0.        , 0.62980503, 0.5642548 , 0.        , 0.07238758,\n",
       "         0.13791682, 0.08897041, 0.15525614, 0.0356208 , 0.41741022,\n",
       "         0.20677831, 0.71053443, 0.35177092, 0.02521187, 0.        ,\n",
       "         0.42806963, 0.        , 0.22186012, 0.        , 0.72936499,\n",
       "         0.38204217, 0.12351525, 0.01385706, 0.92600985, 0.91039387,\n",
       "         0.59878269, 0.        , 0.97131502, 0.53827737, 0.78980478,\n",
       "         0.99398529, 0.87975754, 0.        , 0.04541469, 0.        ,\n",
       "         0.88582668, 0.06808941, 0.07238758, 0.67319277, 0.        ,\n",
       "         0.8995602 , 0.34215456, 0.71309132, 0.99853878, 0.01385706,\n",
       "         0.80426999, 0.63877634, 0.        , 0.05475066, 0.94268319,\n",
       "         0.96107343, 0.        , 0.        , 0.11236071, 0.43855255,\n",
       "         0.71053443, 0.756729  , 0.24799433, 0.67319277, 0.99781682,\n",
       "         0.04058266, 0.99295426, 0.02521187, 0.25922919, 0.        ,\n",
       "         0.        , 0.        , 0.11236071, 0.        , 0.19124776,\n",
       "         0.        , 0.05475066, 0.93238236, 0.31995646, 0.30726836,\n",
       "         0.24515049, 0.8092909 , 0.7269    , 0.35415203, 0.32495889,\n",
       "         0.52031093, 0.        , 0.33729007, 0.17522218, 0.78449133,\n",
       "         0.52575707, 0.01385706, 0.96795054, 0.        , 0.        ,\n",
       "         0.1653459 , 0.        , 0.92541553, 0.        , 0.89674786,\n",
       "         0.27568069, 0.54004491, 0.98555975, 0.        , 0.        ]),\n",
       "  array([0.2675132 , 0.98174378, 0.06372124, 0.4065684 , 0.34215456,\n",
       "         0.55400006, 0.        , 0.        , 0.        , 0.41309573,\n",
       "         0.65339755, 0.        , 0.        , 0.05013316, 0.48657693,\n",
       "         0.        , 0.        , 0.11983279, 0.1816952 , 0.82103468,\n",
       "         0.01385706, 0.21286259, 0.56085638, 0.        , 0.96946939,\n",
       "         0.        , 0.42595205, 0.        , 0.4343802 , 0.20062232,\n",
       "         0.25082392, 0.24799433, 0.        , 0.98478007, 0.40217919,\n",
       "         0.23362833, 0.7769202 , 0.51665292, 0.76470623, 0.        ,\n",
       "         0.23070996, 0.        , 0.97935988, 0.99986362, 0.        ,\n",
       "         0.96275324, 0.        , 0.01385706, 0.46502062, 0.99935069,\n",
       "         0.        , 0.01385706, 0.05475066, 0.65770478, 0.66339189,\n",
       "         0.        , 0.95892008, 0.23941921, 0.01385706, 0.        ,\n",
       "         0.59074883, 0.47882405, 0.39330844, 0.08079314, 0.        ,\n",
       "         0.26200376, 0.1449355 , 0.50179827, 0.90095071, 0.66761573,\n",
       "         0.29692332, 0.58750311, 0.49423436, 0.39330844, 0.98936893,\n",
       "         0.81325332, 0.23653134, 0.27568069, 0.        , 0.02521187,\n",
       "         0.20677831, 0.8850774 , 0.        , 0.29692332, 0.90707942,\n",
       "         0.27837806, 0.91104905, 0.11236071, 0.02521187, 0.50179827,\n",
       "         0.        , 0.68416171, 0.        , 0.22482611, 0.78234397,\n",
       "         0.01385706, 0.28106313, 0.        , 0.80019854, 0.15525614]),\n",
       "  array([0.        , 0.        , 0.99791498, 0.3445726 , 0.76470623,\n",
       "         0.        , 0.97966598, 0.        , 0.45901057, 0.        ,\n",
       "         0.90025676, 0.53472659, 0.74505148, 0.        , 0.23362833,\n",
       "         0.        , 0.40217919, 0.        , 0.18489986, 0.08897041,\n",
       "         0.23653134, 0.91933398, 0.36825171, 0.98370826, 0.16866093,\n",
       "         0.83511649, 0.97058382, 0.        , 0.25644116, 0.36825171,\n",
       "         0.91299921, 0.56594664, 0.6935605 , 0.27024841, 0.        ,\n",
       "         0.        , 0.        , 0.35888724, 0.14144054, 0.60670332,\n",
       "         0.8032567 , 0.77472841, 0.05475066, 0.75326076, 0.        ,\n",
       "         0.69222905, 0.        , 0.        , 0.99022959, 0.        ,\n",
       "         0.57930721, 0.91039387, 0.01385706, 0.48077133, 0.08897041,\n",
       "         0.63131075, 0.78126556, 0.        , 0.11236071, 0.46502062,\n",
       "         0.        , 0.90707942, 0.        , 0.75557623, 0.14840256,\n",
       "         0.44062845, 0.        , 0.        , 0.90841292, 0.        ,\n",
       "         0.09694461, 0.69753259, 0.89317346, 0.99995942, 0.02521187,\n",
       "         0.96560148, 0.0356208 , 0.90841292, 0.18489986, 0.99508474,\n",
       "         0.        , 0.23941921, 0.        , 0.        , 0.08079314,\n",
       "         0.88357082, 0.34698129, 0.        , 0.9248187 , 0.1816952 ,\n",
       "         0.07238758, 0.36358693, 0.18489986, 0.44681553, 0.15864413,\n",
       "         0.        , 0.99431078, 0.4447599 , 0.        , 0.92301315]),\n",
       "  array([0.        , 0.        , 0.10473589, 0.47882405, 0.50179827,\n",
       "         0.        , 0.44062845, 0.99695016, 0.07238758, 0.17522218,\n",
       "         0.76919283, 0.19439186, 0.99999887, 0.99994477, 0.        ,\n",
       "         0.32246277, 0.99381914, 0.89245069, 0.98451557, 0.        ,\n",
       "         0.23653134, 0.34215456, 0.02521187, 0.22482611, 0.3445726 ,\n",
       "         0.09694461, 0.89172527, 0.94873317, 0.91933398, 0.10473589,\n",
       "         0.        , 0.        , 0.93845438, 0.        , 0.11236071,\n",
       "         0.38882599, 0.32744492, 0.18489986, 0.        , 0.        ,\n",
       "         0.30726836, 0.86628685, 0.99683164, 0.        , 0.        ,\n",
       "         0.11611508, 0.        , 0.        , 0.        , 0.02521187,\n",
       "         0.99683164, 0.        , 0.57099296, 0.        , 0.5776539 ,\n",
       "         0.19124776, 0.        , 0.6475981 , 0.        , 0.4065684 ,\n",
       "         0.9828802 , 0.12716372, 0.50927053, 0.97550543, 0.14144054,\n",
       "         0.        , 0.        , 0.57099296, 0.        , 0.11983279,\n",
       "         0.        , 0.        , 0.        , 0.        , 0.84325259,\n",
       "         0.19439186, 0.        , 0.        , 0.        , 0.01385706,\n",
       "         0.        , 0.97935988, 0.91746025, 0.        , 0.0356208 ,\n",
       "         0.18489986, 0.39330844, 0.33729007, 0.        , 0.8332768 ,\n",
       "         0.62829507, 0.        , 0.        , 0.32744492, 0.        ,\n",
       "         0.        , 0.70925059, 0.7462343 , 0.        , 0.29168332]),\n",
       "  array([0.        , 0.07238758, 0.        , 0.70407905, 0.87033048,\n",
       "         0.        , 0.22777597, 0.73667683, 0.93294674, 0.84236004,\n",
       "         0.31491285, 0.33729007, 0.06808941, 0.        , 0.83235261,\n",
       "         0.22482611, 0.68821229, 0.98086719, 0.22482611, 0.02521187,\n",
       "         0.08079314, 0.        , 0.56763361, 0.99971144, 0.        ,\n",
       "         0.84591316, 0.        , 0.99566306, 0.09694461, 0.        ,\n",
       "         0.        , 0.        , 0.60037581, 0.        , 0.13436344,\n",
       "         0.0356208 , 0.13436344, 0.25644116, 0.36124149, 0.        ,\n",
       "         0.4043776 , 0.20062232, 0.        , 0.88357082, 0.        ,\n",
       "         0.        , 0.        , 0.66621171, 0.        , 0.1816952 ,\n",
       "         0.38204217, 0.86300251, 0.        , 0.04058266, 0.05475066,\n",
       "         0.        , 0.        , 0.0356208 , 0.11236071, 0.        ,\n",
       "         0.        , 0.69753259, 0.        , 0.74505148, 0.88953319,\n",
       "         0.        , 0.06372124, 0.87509279, 0.26476503, 0.        ,\n",
       "         0.99043904, 0.97996976, 0.08897041, 0.99447011, 0.27837806,\n",
       "         0.01385706, 0.        , 0.59236476, 0.96479955, 0.85029072,\n",
       "         0.98259956, 0.        , 0.        , 0.53294331, 0.99295426,\n",
       "         0.93682802, 0.        , 0.        , 0.31491285, 0.        ,\n",
       "         0.73667683, 0.04541469, 0.73303643, 0.        , 0.54004491,\n",
       "         0.        , 0.86051027, 0.73425334, 0.98980383, 0.        ]),\n",
       "  array([0.28639696, 0.        , 0.3865728 , 0.11236071, 0.97747454,\n",
       "         0.44681553, 0.        , 0.        , 0.54531647, 0.        ,\n",
       "         0.02521187, 0.12716372, 0.94873317, 0.        , 0.41525664,\n",
       "         0.        , 0.43228366, 0.51112449, 0.        , 0.09694461,\n",
       "         0.45901057, 0.99085109, 0.59074883, 0.        , 0.77252382,\n",
       "         0.48850016, 0.81325332, 0.11983279, 0.99771641, 0.10473589,\n",
       "         0.        , 0.        , 0.        , 0.17846946, 0.        ,\n",
       "         0.        , 0.25644116, 0.27297086, 0.13077942, 0.14144054,\n",
       "         0.29692332, 0.02521187, 0.55572163, 0.        , 0.        ,\n",
       "         0.01385706, 0.        , 0.        , 0.90025676, 0.36358693,\n",
       "         0.        , 0.        , 0.91556366, 0.40875166, 0.        ,\n",
       "         0.        , 0.        , 0.40875166, 0.02521187, 0.56085638,\n",
       "         0.93952631, 0.79504028, 0.        , 0.20677831, 0.99381914,\n",
       "         0.0356208 , 0.        , 0.05475066, 0.        , 0.        ,\n",
       "         0.        , 0.12716372, 0.91170166, 0.        , 0.        ,\n",
       "         0.8332768 , 0.        , 0.27024841, 0.        , 0.38882599,\n",
       "         0.        , 0.        , 0.54180727, 0.0356208 , 0.02521187,\n",
       "         0.        , 0.49041745, 0.        , 0.31995646, 0.04541469,\n",
       "         0.        , 0.        , 0.25363946, 0.39107119, 0.73667683,\n",
       "         0.        , 0.28373605, 0.15184252, 0.        , 0.10473589]),\n",
       "  array([0.69753259, 0.        , 0.83966524, 0.17195284, 0.        ,\n",
       "         0.        , 0.8332768 , 0.9990519 , 0.0356208 , 0.        ,\n",
       "         0.7269    , 0.        , 0.05475066, 0.99105369, 0.08897041,\n",
       "         0.        , 0.54356444, 0.        , 0.55054184, 0.        ,\n",
       "         0.0356208 , 0.        , 0.33484344, 0.67595802, 0.        ,\n",
       "         0.        , 0.        , 0.99398529, 0.        , 0.        ,\n",
       "         0.        , 0.        , 0.44269755, 0.        , 0.06372124,\n",
       "         0.95257234, 0.93791473, 0.        , 0.21587865, 0.76583275,\n",
       "         0.21587865, 0.        , 0.        , 0.        , 0.        ,\n",
       "         0.32246277, 0.0356208 , 0.        , 0.4065684 , 0.9652017 ,\n",
       "         0.        , 0.50741096, 0.08897041, 0.02521187, 0.0356208 ,\n",
       "         0.        , 0.59718505, 0.20982925, 0.84236004, 0.        ,\n",
       "         0.39330844, 0.        , 0.49423436, 0.        , 0.22482611,\n",
       "         0.9037005 , 0.33972708, 0.        , 0.42169553, 0.35415203,\n",
       "         0.        , 0.        , 0.08490859, 0.68551568, 0.36592365,\n",
       "         0.        , 0.        , 0.24229219, 0.        , 0.70016218,\n",
       "         0.        , 0.        , 0.83785438, 0.        , 0.        ,\n",
       "         0.        , 0.79504028, 0.99974639, 0.07238758, 0.        ,\n",
       "         0.59878269, 0.        , 0.05013316, 0.99043904, 0.97966598,\n",
       "         0.        , 0.10856819, 0.        , 0.04541469, 0.        ])])"
      ]
     },
     "execution_count": 222,
     "metadata": {},
     "output_type": "execute_result"
    }
   ],
   "source": [
    "calculate_entropies(model)"
   ]
  },
  {
   "cell_type": "markdown",
   "metadata": {
    "pycharm": {
     "name": "#%% md\n"
    }
   },
   "source": [
    "## Compression"
   ]
  },
  {
   "cell_type": "code",
   "execution_count": 223,
   "metadata": {
    "collapsed": false,
    "jupyter": {
     "outputs_hidden": false
    },
    "pycharm": {
     "name": "#%%\n"
    }
   },
   "outputs": [],
   "source": [
    "def prune_model_and_test(model, Pruner, config):\n",
    "    model_copy = deepcopy(model)\n",
    "    pruner = Pruner(model_copy, config, optimizer=optimizer)\n",
    "    pruner.compress()\n",
    "    return model_copy\n",
    "\n",
    "def display_test(model):\n",
    "    x = make_glider(10)\n",
    "    X_test = torch.from_numpy(x.reshape(1, 10, 10)).float()\n",
    "    Y_test = ca(X_test).float()\n",
    "\n",
    "    if torch.cuda.is_available():\n",
    "        X_test = X_test.cuda()\n",
    "    Y_pred = model(X_test)\n",
    "\n",
    "    if torch.cuda.is_available():\n",
    "        X_test = X_test.cpu()\n",
    "        Y_pred = Y_pred.cpu()\n",
    "\n",
    "    X_test = X_test.detach().numpy()\n",
    "    Y_test = Y_test.detach().numpy()\n",
    "    Y_pred = Y_pred.detach().numpy()\n",
    "\n",
    "    plt.figure(figsize=(12, 4))\n",
    "\n",
    "    plt.subplot(141)\n",
    "    plt.imshow(X_test[0])\n",
    "    plt.axis('off')\n",
    "    plt.title(\"Input\")\n",
    "\n",
    "    plt.subplot(142)\n",
    "    plt.imshow(Y_test[0])\n",
    "    plt.axis('off')\n",
    "    plt.title(\"Expected Output\")\n",
    "\n",
    "    plt.subplot(143)\n",
    "    plt.imshow(Y_pred[0])\n",
    "    plt.axis('off')\n",
    "    plt.title(\"Observed Output\")\n",
    "\n",
    "    plt.subplot(144)\n",
    "    plt.imshow((Y_pred[0] - Y_test[0]) ** 2)\n",
    "    plt.axis('off')\n",
    "    plt.title(\"Normalised Diff\")\n",
    "\n",
    "    print('max loss:', ((Y_pred[0] - Y_test[0]) ** 2).max())"
   ]
  },
  {
   "cell_type": "markdown",
   "metadata": {},
   "source": [
    "### Level Pruner"
   ]
  },
  {
   "cell_type": "code",
   "execution_count": 224,
   "metadata": {
    "collapsed": false,
    "jupyter": {
     "outputs_hidden": false
    },
    "pycharm": {
     "name": "#%%\n"
    }
   },
   "outputs": [
    {
     "name": "stdout",
     "output_type": "stream",
     "text": [
      "max loss: 0.05466455\n"
     ]
    },
    {
     "data": {
      "image/png": "[encoded data removed]",
      "text/plain": [
       "<Figure size 864x288 with 4 Axes>"
      ]
     },
     "metadata": {
      "needs_background": "light"
     },
     "output_type": "display_data"
    }
   ],
   "source": [
    "config_list = [{ 'sparsity': 0.1, 'op_types': ['default'] }]\n",
    "m = prune_model_and_test(model, LevelPruner, config_list)\n",
    "display_test(m)"
   ]
  },
  {
   "cell_type": "markdown",
   "metadata": {},
   "source": [
    "### FPGM Pruner"
   ]
  },
  {
   "cell_type": "code",
   "execution_count": 225,
   "metadata": {
    "collapsed": false,
    "jupyter": {
     "outputs_hidden": false
    },
    "pycharm": {
     "name": "#%%\n"
    }
   },
   "outputs": [
    {
     "name": "stdout",
     "output_type": "stream",
     "text": [
      "max loss: 0.26723096\n"
     ]
    },
    {
     "data": {
      "image/png": "[encoded data removed]",
      "text/plain": [
       "<Figure size 864x288 with 4 Axes>"
      ]
     },
     "metadata": {
      "needs_background": "light"
     },
     "output_type": "display_data"
    }
   ],
   "source": [
    "config_list = [{ 'sparsity': 0.1, 'op_types': ['Conv2d'] }]\n",
    "m = prune_model_and_test(model, FPGMPruner, config_list)\n",
    "display_test(m)"
   ]
  },
  {
   "cell_type": "markdown",
   "metadata": {},
   "source": [
    "### L1 Pruner"
   ]
  },
  {
   "cell_type": "code",
   "execution_count": 226,
   "metadata": {
    "collapsed": false,
    "jupyter": {
     "outputs_hidden": false
    },
    "pycharm": {
     "name": "#%%\n"
    }
   },
   "outputs": [
    {
     "name": "stdout",
     "output_type": "stream",
     "text": [
      "max loss: 0.03633286\n"
     ]
    },
    {
     "data": {
      "image/png": "[encoded data removed]",
      "text/plain": [
       "<Figure size 864x288 with 4 Axes>"
      ]
     },
     "metadata": {
      "needs_background": "light"
     },
     "output_type": "display_data"
    }
   ],
   "source": [
    "config_list = [{ 'sparsity': 0.1, 'op_types': ['Conv2d'] }]\n",
    "m = prune_model_and_test(model, L1FilterPruner, config_list)\n",
    "display_test(m)"
   ]
  },
  {
   "cell_type": "markdown",
   "metadata": {},
   "source": [
    "### L2 Pruner"
   ]
  },
  {
   "cell_type": "code",
   "execution_count": 227,
   "metadata": {
    "collapsed": false,
    "jupyter": {
     "outputs_hidden": false
    },
    "pycharm": {
     "name": "#%%\n"
    }
   },
   "outputs": [
    {
     "name": "stdout",
     "output_type": "stream",
     "text": [
      "max loss: 0.14555667\n"
     ]
    },
    {
     "data": {
      "image/png": "[encoded data removed]",
      "text/plain": [
       "<Figure size 864x288 with 4 Axes>"
      ]
     },
     "metadata": {
      "needs_background": "light"
     },
     "output_type": "display_data"
    }
   ],
   "source": [
    "config_list = [{ 'sparsity': 0.1, 'op_types': ['Conv2d'] }]\n",
    "m = prune_model_and_test(model, L2FilterPruner, config_list)\n",
    "display_test(m)"
   ]
  },
  {
   "cell_type": "markdown",
   "metadata": {},
   "source": [
    "### LotteryTicket Pruner"
   ]
  },
  {
   "cell_type": "code",
   "execution_count": 228,
   "metadata": {
    "collapsed": false,
    "jupyter": {
     "outputs_hidden": false
    },
    "pycharm": {
     "name": "#%%\n"
    }
   },
   "outputs": [
    {
     "name": "stdout",
     "output_type": "stream",
     "text": [
      "max loss: 0.05946715\n"
     ]
    },
    {
     "data": {
      "image/png": "[encoded data removed]",
      "text/plain": [
       "<Figure size 864x288 with 4 Axes>"
      ]
     },
     "metadata": {
      "needs_background": "light"
     },
     "output_type": "display_data"
    }
   ],
   "source": [
    "config_list = [{\n",
    "    'prune_iterations': 50,\n",
    "    'sparsity': 0.1,\n",
    "    'op_types': ['default']\n",
    "}]\n",
    "m = prune_model_and_test(model, LotteryTicketPruner, config_list)\n",
    "display_test(m)"
   ]
  },
  {
   "cell_type": "markdown",
   "metadata": {},
   "source": [
    "## LMC Complexity"
   ]
  },
  {
   "cell_type": "code",
   "execution_count": 229,
   "metadata": {},
   "outputs": [],
   "source": [
    "def lmc_complexity(P, N):\n",
    "    P = np.array(P)\n",
    "    P = P / P.sum()\n",
    "    H = entropy(P, base=2)\n",
    "    \n",
    "    if N <= np.finfo(P.dtype).max:\n",
    "        uniform_ps = np.full(len(P), 1.0 / N)\n",
    "        D = np.sum((P - uniform_ps) ** 2) + (N - len(P)) * (1.0 / N)**2\n",
    "    else:\n",
    "        # assuming N >> len(P) >= 1 >= P, so that len(P)/N, 1/N and P/N are negligible\n",
    "        D = np.sum(P ** 2)\n",
    "        \n",
    "    return H * D\n",
    "\n",
    "def ca_lmc(ca, m=M, d=D):  \n",
    "    inputs = torch.from_numpy(ALL_INPUTS)\n",
    "    outputs = ca(inputs)\n",
    "    output_counts = np.array(list(Counter(tuple(torch.reshape(o, [-1]).numpy()) for o in outputs).values()))\n",
    "    output_ps = output_counts / len(inputs)\n",
    "    return lmc_complexity(output_ps, m ** np.product(d))"
   ]
  },
  {
   "cell_type": "code",
   "execution_count": 26,
   "metadata": {},
   "outputs": [
    {
     "name": "stderr",
     "output_type": "stream",
     "text": [
      "512it [00:11, 42.70it/s]\n"
     ]
    },
    {
     "data": {
      "text/plain": [
       "[<matplotlib.lines.Line2D at 0x7f693dae7130>]"
      ]
     },
     "execution_count": 26,
     "metadata": {},
     "output_type": "execute_result"
    },
    {
     "data": {
      "image/png": "[encoded data removed]",
      "text/plain": [
       "<Figure size 720x576 with 1 Axes>"
      ]
     },
     "metadata": {
      "needs_background": "light"
     },
     "output_type": "display_data"
    }
   ],
   "source": [
    "lmcs = [ca_lmc(a) for a in tqdm(sample_CAs(np.random.default_rng(0)))]\n",
    "plt.plot(lmcs)"
   ]
  },
  {
   "cell_type": "code",
   "execution_count": 27,
   "metadata": {},
   "outputs": [],
   "source": [
    "def get_network_lmcs(layers_samples_neurons):\n",
    "    neuron_lmcs_by_layer = []\n",
    "    layer_lmcs = []\n",
    "    \n",
    "    layer_count = layers_samples_neurons.shape[0]\n",
    "    neuron_count = layers_samples_neurons.shape[2]\n",
    "    \n",
    "    for l in layers_samples_neurons:\n",
    "        neuron_ps = l.mean(axis=0)\n",
    "        neuron_lmcs_by_layer.append(np.array([lmc_complexity([p, 1-p], 2) for p in neuron_ps]))\n",
    "        \n",
    "        layer_patterns = (tuple(sample) for sample in l)\n",
    "        layer_pattern_counts = list(Counter(layer_patterns).values())\n",
    "        layer_lmcs.append(lmc_complexity(layer_pattern_counts, 2 ** neuron_count))\n",
    "        \n",
    "    network_patterns = (tuple(sample.ravel()) for sample in layers_samples_neurons.swapaxes(0, 1))\n",
    "    network_pattern_counts = list(Counter(network_patterns).values())\n",
    "    network_lmc = lmc_complexity(network_pattern_counts, 2 ** (layer_count * neuron_count))\n",
    "    \n",
    "    return network_lmc, layer_lmcs, neuron_lmcs_by_layer\n",
    "\n",
    "def model_lmc(model):\n",
    "    def get_activations(x_input):\n",
    "        activations = []\n",
    "        for m in model.children():\n",
    "            x_input = m(x_input)\n",
    "            activations.append(x_input)\n",
    "        return activations[1:-3:2]\n",
    "\n",
    "    X_test = np.pad(all_combinations(2, (3, 3)), [(0, 0), (3, 4), (3, 4)], 'wrap')\n",
    "    X_test = torch.from_numpy(X_test).float()\n",
    "        \n",
    "    if torch.cuda.is_available():\n",
    "        X_test = X_test.cuda()\n",
    "\n",
    "    res = [activation.cpu().detach().numpy() for activation in get_activations(X_test)]\n",
    "    layer_activations = np.array(res)\n",
    "    # Layer activations are floats, but to calculate lmc complexity,\n",
    "    # we want to map activations to binary values,\n",
    "    # 1 if a given activation is >0, and 0 otherwise.\n",
    "    binary_activations = np.digitize(layer_activations, [0], right=True)\n",
    "    binary_activations = binary_activations.transpose(0, 1, -2, -1, 2) \\\n",
    "        .reshape(len(layer_dims), np.product(X_test.shape), layer_dims[0])\n",
    "    return get_network_lmcs(binary_activations)"
   ]
  },
  {
   "cell_type": "code",
   "execution_count": 230,
   "metadata": {},
   "outputs": [
    {
     "data": {
      "text/plain": [
       "0.060329441183852375"
      ]
     },
     "execution_count": 230,
     "metadata": {},
     "output_type": "execute_result"
    }
   ],
   "source": [
    "ca_lmc(ca)"
   ]
  },
  {
   "cell_type": "code",
   "execution_count": 231,
   "metadata": {},
   "outputs": [
    {
     "data": {
      "text/plain": [
       "(0.023233722652015048,\n",
       " [0.023233722652015048,\n",
       "  0.023233722652015048,\n",
       "  0.023233722652015048,\n",
       "  0.023233722652015048,\n",
       "  0.023233722652015048,\n",
       "  0.023254608806780742,\n",
       "  0.02327959890797483,\n",
       "  0.023233722652015048,\n",
       "  0.0233254321188174,\n",
       "  0.023233722652015048,\n",
       "  0.024036436985532282,\n",
       "  0.024917604849621584],\n",
       " [array([0.1427813 , 0.0410618 , 0.08474938, 0.06079265, 0.01052893,\n",
       "         0.01871854, 0.00949168, 0.14910434, 0.1067359 , 0.09213718,\n",
       "         0.15244735, 0.07777699, 0.13766181, 0.13963835, 0.00712503,\n",
       "         0.        , 0.13569243, 0.02842092, 0.15206458, 0.12638595,\n",
       "         0.00413824, 0.13131507, 0.13597896, 0.        , 0.14776709,\n",
       "         0.15281286, 0.07970804, 0.00712503, 0.048031  , 0.10962596,\n",
       "         0.12738274, 0.0018707 , 0.04235868, 0.04235868, 0.13334098,\n",
       "         0.11634042, 0.07610825, 0.03978004, 0.1189215 , 0.09871933,\n",
       "         0.11209399, 0.09568567, 0.1079244 , 0.10962596, 0.00727263,\n",
       "         0.02283949, 0.13273727, 0.08902696, 0.10598033, 0.15123433,\n",
       "         0.03788653, 0.15281286, 0.1189215 , 0.07970804, 0.14459504,\n",
       "         0.07738966, 0.09871933, 0.04871458, 0.07508397, 0.00413824,\n",
       "         0.14108036, 0.12438019, 0.11599077, 0.07316926, 0.14389811,\n",
       "         0.06300269, 0.14325443, 0.09717574, 0.15158535, 0.1514347 ,\n",
       "         0.08786004, 0.07739148, 0.04499644, 0.03695318, 0.03390869,\n",
       "         0.0139444 , 0.02233578, 0.09987422, 0.1219889 , 0.09213718,\n",
       "         0.00261815, 0.06942347, 0.0175771 , 0.11705906, 0.15234974,\n",
       "         0.01180348, 0.11741712, 0.00090195, 0.07480881, 0.15198605,\n",
       "         0.15181467, 0.15278227, 0.13334098, 0.1415308 , 0.0490576 ,\n",
       "         0.00328505, 0.12164304, 0.15190135, 0.15270832, 0.00056906]),\n",
       "  array([0.13540422, 0.04235868, 0.00534017, 0.        , 0.00380696,\n",
       "         0.        , 0.14894683, 0.0518303 , 0.09562849, 0.14224014,\n",
       "         0.05715734, 0.11270001, 0.10064482, 0.06635431, 0.09524118,\n",
       "         0.03879686, 0.10064264, 0.02438017, 0.1526171 , 0.00164918,\n",
       "         0.05358808, 0.11085299, 0.11045975, 0.01941901, 0.12797007,\n",
       "         0.03541795, 0.1415308 , 0.1459524 , 0.1418219 , 0.1506971 ,\n",
       "         0.15281286, 0.15039223, 0.09794804, 0.1432481 , 0.01414729,\n",
       "         0.02225547, 0.13120163, 0.13624165, 0.08086913, 0.01248019,\n",
       "         0.00218758, 0.00380696, 0.15122514, 0.03039605, 0.02814333,\n",
       "         0.0901937 , 0.12737259, 0.11820394, 0.        , 0.10217551,\n",
       "         0.04607898, 0.12556801, 0.09562849, 0.05148099, 0.07546785,\n",
       "         0.15281286, 0.00056906, 0.        , 0.08241964, 0.10293977,\n",
       "         0.15290883, 0.10878089, 0.15133153, 0.13757008, 0.15283754,\n",
       "         0.00369955, 0.15289166, 0.03978004, 0.        , 0.05218036,\n",
       "         0.08009488, 0.10878089, 0.10878089, 0.0081889 , 0.1387479 ,\n",
       "         0.04533018, 0.12094829, 0.10617665, 0.10025859, 0.06936652,\n",
       "         0.05148099, 0.14684458, 0.13182032, 0.12438019, 0.        ,\n",
       "         0.00669101, 0.07349101, 0.15215817, 0.03688719, 0.12962992,\n",
       "         0.13482281, 0.        , 0.14481154, 0.10159773, 0.14585853,\n",
       "         0.00202607, 0.05896716, 0.15135622, 0.15257843, 0.03331239]),\n",
       "  array([7.72421413e-03, 1.52064583e-01, 1.48457585e-01, 0.00000000e+00,\n",
       "         1.98924331e-02, 1.51434700e-01, 2.70445428e-02, 2.52897827e-03,\n",
       "         0.00000000e+00, 1.52526644e-01, 8.74710798e-02, 1.35978957e-01,\n",
       "         1.27558686e-02, 0.00000000e+00, 0.00000000e+00, 1.32363702e-01,\n",
       "         5.57213375e-02, 1.80297551e-02, 1.47938178e-01, 2.98260626e-02,\n",
       "         1.02939773e-01, 4.43316179e-02, 1.21988900e-01, 4.66737902e-02,\n",
       "         1.31465375e-02, 1.24774485e-03, 1.17417118e-01, 1.04083218e-01,\n",
       "         1.09625962e-01, 1.12488009e-02, 1.51473214e-01, 1.23022195e-01,\n",
       "         1.24801888e-02, 1.52877500e-01, 1.24997746e-05, 3.57229370e-02,\n",
       "         1.24801888e-02, 3.97800411e-02, 0.00000000e+00, 1.62507762e-02,\n",
       "         1.29505121e-02, 4.70118320e-02, 8.28076385e-02, 1.80297551e-02,\n",
       "         4.46635891e-02, 8.66662986e-03, 7.01239466e-02, 1.82580479e-02,\n",
       "         4.48307855e-03, 2.65021620e-02, 6.80281985e-02, 1.52861400e-01,\n",
       "         0.00000000e+00, 2.62327396e-02, 1.52664882e-01, 7.77769933e-02,\n",
       "         1.48946829e-01, 1.40030676e-01, 1.06735897e-01, 0.00000000e+00,\n",
       "         1.29680461e-01, 9.14739129e-02, 6.94234684e-02, 1.12331949e-01,\n",
       "         1.47221354e-01, 2.89795596e-02, 1.16340415e-01, 6.32754726e-05,\n",
       "         1.50126635e-01, 1.32433119e-01, 4.25058891e-02, 3.45092361e-02,\n",
       "         0.00000000e+00, 9.48536963e-02, 0.00000000e+00, 1.45237488e-01,\n",
       "         5.86039185e-02, 1.52782274e-01, 1.57841853e-03, 1.21693634e-01,\n",
       "         1.87070187e-03, 1.28991573e-01, 2.81916485e-04, 1.24997746e-05,\n",
       "         1.16738680e-01, 1.17059059e-01, 1.50838928e-01, 1.04843415e-01,\n",
       "         6.40901659e-03, 1.06176649e-01, 3.21327167e-02, 1.52837536e-01,\n",
       "         9.48536963e-02, 2.66952232e-02, 4.36703521e-02, 1.52412274e-01,\n",
       "         1.52447350e-01, 2.59645015e-02, 1.26181791e-01, 9.45183574e-05]),\n",
       "  array([9.01947933e-04, 6.89393138e-03, 0.00000000e+00, 1.51984667e-01,\n",
       "         0.00000000e+00, 5.75180121e-02, 5.60851165e-02, 1.80297551e-02,\n",
       "         5.28827443e-02, 1.14463838e-01, 1.20326992e-01, 1.43515505e-02,\n",
       "         6.07926508e-02, 7.02411586e-04, 1.03321326e-01, 3.45092361e-02,\n",
       "         6.89393138e-03, 3.85137598e-02, 7.98998028e-02, 1.47641464e-02,\n",
       "         1.11593785e-01, 2.36043218e-02, 1.46457639e-01, 1.89507400e-02,\n",
       "         1.10481637e-01, 1.51901353e-01, 3.75744066e-02, 5.60793241e-02,\n",
       "         0.00000000e+00, 5.60851165e-02, 1.80297551e-02, 5.93310353e-02,\n",
       "         1.18203943e-01, 1.52747437e-01, 1.34822815e-01, 1.09737079e-01,\n",
       "         1.31201630e-01, 3.36100066e-02, 1.50838928e-01, 1.18486088e-01,\n",
       "         1.22677501e-01, 8.94159043e-02, 8.70308988e-02, 1.51892984e-01,\n",
       "         1.52664882e-01, 5.53640384e-02, 1.32433119e-01, 1.52711848e-01,\n",
       "         1.43898106e-01, 1.32363702e-01, 1.23672427e-01, 0.00000000e+00,\n",
       "         2.46412178e-02, 1.52471250e-01, 2.89482744e-03, 3.66440865e-02,\n",
       "         0.00000000e+00, 3.29472402e-02, 8.04819118e-02, 1.18921503e-01,\n",
       "         1.51225137e-01, 4.63365982e-02, 1.33340985e-01, 4.25058891e-02,\n",
       "         4.49707810e-04, 1.32127466e-01, 1.16738680e-01, 1.02538054e-01,\n",
       "         1.47221354e-01, 1.32875905e-01, 1.24801888e-02, 4.83723789e-02,\n",
       "         5.28600961e-02, 6.80281985e-02, 3.48926636e-03, 1.12894687e-01,\n",
       "         4.13034802e-04, 1.17476370e-01, 1.24945247e-01, 1.69079766e-02,\n",
       "         4.25168250e-03, 3.77918700e-04, 5.12076295e-02, 1.46484203e-01,\n",
       "         3.48926636e-03, 2.67727645e-02, 1.29118854e-01, 1.51356217e-01,\n",
       "         1.44811536e-01, 0.00000000e+00, 1.60343733e-02, 7.99076429e-04,\n",
       "         1.64685132e-02, 8.18889880e-03, 1.02538054e-01, 3.12498591e-06,\n",
       "         1.30262810e-01, 1.41888818e-01, 4.60102923e-03, 1.51473214e-01]),\n",
       "  array([0.00000000e+00, 2.81238588e-05, 0.00000000e+00, 0.00000000e+00,\n",
       "         1.18921503e-01, 7.48088148e-02, 9.98742162e-02, 4.25058891e-02,\n",
       "         7.42170140e-03, 1.14893387e-01, 2.33481491e-02, 7.27263455e-03,\n",
       "         7.08829956e-02, 1.31315068e-01, 1.19194264e-01, 9.52411821e-02,\n",
       "         2.53032555e-04, 1.24801888e-02, 2.75916102e-02, 0.00000000e+00,\n",
       "         5.86273478e-03, 1.51234327e-01, 3.87968639e-02, 3.09119690e-02,\n",
       "         1.45396402e-01, 0.00000000e+00, 0.00000000e+00, 0.00000000e+00,\n",
       "         9.67040329e-02, 0.00000000e+00, 1.99942288e-04, 1.33876435e-01,\n",
       "         0.00000000e+00, 1.32737268e-01, 1.25568011e-01, 5.28827443e-02,\n",
       "         6.22375644e-02, 5.99708674e-03, 1.10852990e-01, 1.36241655e-01,\n",
       "         0.00000000e+00, 1.47710321e-01, 0.00000000e+00, 7.77769933e-02,\n",
       "         1.38418950e-01, 1.89507400e-02, 1.44811536e-01, 7.87765576e-03,\n",
       "         1.22677501e-01, 3.09705081e-02, 1.51821650e-02, 1.18840632e-01,\n",
       "         3.09119690e-02, 3.39086881e-02, 0.00000000e+00, 1.07924404e-01,\n",
       "         8.35380543e-02, 6.74804773e-02, 1.20599411e-01, 3.09119690e-02,\n",
       "         1.50240969e-01, 0.00000000e+00, 4.48307855e-03, 7.07987396e-02,\n",
       "         2.52897827e-03, 1.52508367e-01, 3.51139988e-02, 1.39238992e-01,\n",
       "         1.28670387e-01, 1.52837536e-01, 1.52859448e-01, 7.81161943e-05,\n",
       "         1.49989354e-01, 9.64025342e-02, 6.51758020e-02, 1.27372589e-01,\n",
       "         1.33439420e-02, 2.88291780e-02, 9.79480394e-02, 1.47943739e-01,\n",
       "         1.39638350e-01, 0.00000000e+00, 1.24801888e-02, 1.29680461e-01,\n",
       "         1.15232524e-01, 1.44210338e-01, 1.52782243e-01, 1.50645702e-01,\n",
       "         0.00000000e+00, 1.30262810e-01, 1.14463838e-01, 1.42305853e-01,\n",
       "         7.98998028e-02, 2.62327396e-02, 0.00000000e+00, 0.00000000e+00,\n",
       "         8.70821338e-02, 0.00000000e+00, 1.52526644e-01, 1.40416029e-01]),\n",
       "  array([0.        , 0.14722135, 0.15241227, 0.        , 0.03493809,\n",
       "         0.06371768, 0.04250589, 0.07079874, 0.01754425, 0.14421034,\n",
       "         0.09038538, 0.13273727, 0.1323637 , 0.01248019, 0.        ,\n",
       "         0.14567745, 0.        , 0.09568567, 0.        , 0.12802407,\n",
       "         0.13841895, 0.05765933, 0.00689393, 0.04667379, 0.05536404,\n",
       "         0.15039223, 0.        , 0.01918423, 0.1529082 , 0.1093639 ,\n",
       "         0.00413824, 0.07126311, 0.        , 0.02225547, 0.        ,\n",
       "         0.06823357, 0.03294724, 0.03493809, 0.1405758 , 0.        ,\n",
       "         0.06115955, 0.13023365, 0.13212747, 0.00101102, 0.00689393,\n",
       "         0.10408322, 0.1460607 , 0.        , 0.02669522, 0.03695318,\n",
       "         0.02569745, 0.        , 0.        , 0.0528601 , 0.14699219,\n",
       "         0.13273727, 0.12024956, 0.10438159, 0.1405758 , 0.0015092 ,\n",
       "         0.01993778, 0.00484143, 0.01248019, 0.1079244 , 0.        ,\n",
       "         0.        , 0.        , 0.0528601 , 0.        , 0.08471813,\n",
       "         0.        , 0.02669522, 0.04301269, 0.12494525, 0.12169363,\n",
       "         0.10346596, 0.10217551, 0.12867039, 0.13287591, 0.12618179,\n",
       "         0.15274744, 0.        , 0.12911885, 0.0786534 , 0.11122371,\n",
       "         0.15283922, 0.00689393, 0.02134331, 0.        , 0.        ,\n",
       "         0.07480881, 0.        , 0.04701183, 0.        , 0.06263293,\n",
       "         0.11289469, 0.1529019 , 0.00983173, 0.        , 0.        ]),\n",
       "  array([1.10459751e-01, 1.23707386e-02, 3.09119690e-02, 1.42584809e-01,\n",
       "         1.30233650e-01, 1.52711848e-01, 0.00000000e+00, 0.00000000e+00,\n",
       "         0.00000000e+00, 1.43579488e-01, 1.43931739e-01, 0.00000000e+00,\n",
       "         0.00000000e+00, 2.45057524e-02, 1.51356217e-01, 0.00000000e+00,\n",
       "         0.00000000e+00, 5.60851165e-02, 8.11291779e-02, 9.75620119e-02,\n",
       "         6.89393138e-03, 9.25479969e-02, 1.52526644e-01, 0.00000000e+00,\n",
       "         2.03709756e-02, 0.00000000e+00, 1.45396402e-01, 0.00000000e+00,\n",
       "         1.46484203e-01, 8.81641074e-02, 1.05285103e-01, 1.04381588e-01,\n",
       "         0.00000000e+00, 1.03525005e-02, 1.41888818e-01, 9.96791698e-02,\n",
       "         1.13799993e-01, 1.52664882e-01, 1.17774318e-01, 0.00000000e+00,\n",
       "         9.87006029e-02, 0.00000000e+00, 1.39444015e-02, 9.45183574e-05,\n",
       "         0.00000000e+00, 2.46412178e-02, 0.00000000e+00, 6.89393138e-03,\n",
       "         1.49738092e-01, 4.49707810e-04, 0.00000000e+00, 6.89393138e-03,\n",
       "         2.66952232e-02, 1.43248101e-01, 1.42305853e-01, 0.00000000e+00,\n",
       "         2.70445428e-02, 1.01597730e-01, 6.89393138e-03, 0.00000000e+00,\n",
       "         1.51002784e-01, 1.50838928e-01, 1.40416029e-01, 3.87968639e-02,\n",
       "         0.00000000e+00, 1.08780890e-01, 6.66124710e-02, 1.52158173e-01,\n",
       "         6.04263416e-02, 1.41576783e-01, 1.18921503e-01, 1.51225137e-01,\n",
       "         1.51795202e-01, 1.40416029e-01, 7.27263455e-03, 1.00642640e-01,\n",
       "         1.00644823e-01, 1.12894687e-01, 0.00000000e+00, 1.24801888e-02,\n",
       "         9.03853840e-02, 6.86107849e-02, 0.00000000e+00, 1.18921503e-01,\n",
       "         5.71573422e-02, 1.13684597e-01, 5.50074333e-02, 5.28600961e-02,\n",
       "         1.24801888e-02, 1.52158173e-01, 0.00000000e+00, 1.38479141e-01,\n",
       "         0.00000000e+00, 9.67040329e-02, 1.11963202e-01, 6.89393138e-03,\n",
       "         1.14463838e-01, 0.00000000e+00, 1.05601826e-01, 7.07987396e-02]),\n",
       "  array([0.00000000e+00, 0.00000000e+00, 1.44151937e-03, 1.30778494e-01,\n",
       "         1.17774318e-01, 0.00000000e+00, 1.37428768e-02, 0.00000000e+00,\n",
       "         1.49187400e-01, 0.00000000e+00, 6.07926508e-02, 1.52908827e-01,\n",
       "         1.23702411e-01, 0.00000000e+00, 9.96791698e-02, 0.00000000e+00,\n",
       "         1.41888818e-01, 0.00000000e+00, 8.23418311e-02, 4.25058891e-02,\n",
       "         1.00644823e-01, 5.04376787e-02, 1.35783900e-01, 1.10667180e-02,\n",
       "         7.61082453e-02, 9.17486383e-02, 1.96550806e-02, 0.00000000e+00,\n",
       "         1.07056369e-01, 1.35783900e-01, 5.39418481e-02, 1.52349742e-01,\n",
       "         1.36546891e-01, 1.11282386e-01, 0.00000000e+00, 0.00000000e+00,\n",
       "         0.00000000e+00, 1.33876435e-01, 6.51758020e-02, 1.49705940e-01,\n",
       "         1.04463534e-01, 1.14529675e-01, 2.66952232e-02, 1.21296167e-01,\n",
       "         0.00000000e+00, 1.36828266e-01, 0.00000000e+00, 0.00000000e+00,\n",
       "         6.69101227e-03, 0.00000000e+00, 1.51724632e-01, 5.53640384e-02,\n",
       "         6.89393138e-03, 1.50975720e-01, 4.25058891e-02, 1.47034247e-01,\n",
       "         1.12331949e-01, 0.00000000e+00, 5.28600961e-02, 1.49738092e-01,\n",
       "         0.00000000e+00, 5.71573422e-02, 0.00000000e+00, 1.20599411e-01,\n",
       "         6.80281985e-02, 1.47237373e-01, 0.00000000e+00, 0.00000000e+00,\n",
       "         5.64379915e-02, 0.00000000e+00, 4.60789831e-02, 1.35692431e-01,\n",
       "         6.44871237e-02, 2.81238588e-05, 1.24801888e-02, 2.28394925e-02,\n",
       "         1.75442464e-02, 5.64379915e-02, 8.23418311e-02, 3.38639777e-03,\n",
       "         0.00000000e+00, 1.01597730e-01, 0.00000000e+00, 0.00000000e+00,\n",
       "         3.87968639e-02, 6.93665222e-02, 1.31315068e-01, 0.00000000e+00,\n",
       "         4.73507177e-02, 8.11291779e-02, 3.49380906e-02, 1.34845588e-01,\n",
       "         8.23418311e-02, 1.47938178e-01, 7.21544479e-02, 0.00000000e+00,\n",
       "         3.91587550e-03, 1.47710321e-01, 0.00000000e+00, 4.83723789e-02]),\n",
       "  array([0.00000000e+00, 0.00000000e+00, 4.95273092e-02, 1.50838928e-01,\n",
       "         1.52158173e-01, 0.00000000e+00, 1.47237373e-01, 2.10605721e-03,\n",
       "         3.49380906e-02, 7.86534021e-02, 1.16340415e-01, 8.58823228e-02,\n",
       "         7.81249119e-07, 3.82791358e-05, 0.00000000e+00, 1.25568011e-01,\n",
       "         4.25168250e-03, 6.48595508e-02, 1.05289326e-02, 0.00000000e+00,\n",
       "         1.00644823e-01, 1.30233650e-01, 1.24801888e-02, 9.67040329e-02,\n",
       "         1.30778494e-01, 4.60789831e-02, 6.52324905e-02, 3.33123933e-02,\n",
       "         5.04376787e-02, 4.95273092e-02, 0.00000000e+00, 0.00000000e+00,\n",
       "         3.94620068e-02, 0.00000000e+00, 5.28600961e-02, 1.39638350e-01,\n",
       "         1.26786673e-01, 8.23418311e-02, 0.00000000e+00, 0.00000000e+00,\n",
       "         1.21693634e-01, 7.77769933e-02, 2.18757819e-03, 0.00000000e+00,\n",
       "         0.00000000e+00, 5.44856384e-02, 0.00000000e+00, 0.00000000e+00,\n",
       "         0.00000000e+00, 1.24801888e-02, 2.18757819e-03, 0.00000000e+00,\n",
       "         1.52141074e-01, 0.00000000e+00, 1.51814666e-01, 8.47181281e-02,\n",
       "         0.00000000e+00, 1.44811536e-01, 0.00000000e+00, 1.42584809e-01,\n",
       "         1.16171832e-02, 5.92090188e-02, 1.52447350e-01, 1.64685132e-02,\n",
       "         6.51758020e-02, 0.00000000e+00, 0.00000000e+00, 1.52141074e-01,\n",
       "         0.00000000e+00, 5.60851165e-02, 0.00000000e+00, 0.00000000e+00,\n",
       "         0.00000000e+00, 0.00000000e+00, 8.82490192e-02, 8.58823228e-02,\n",
       "         0.00000000e+00, 0.00000000e+00, 0.00000000e+00, 6.89393138e-03,\n",
       "         0.00000000e+00, 1.39444015e-02, 5.14809880e-02, 0.00000000e+00,\n",
       "         1.75442464e-02, 8.23418311e-02, 1.40416029e-01, 1.29118854e-01,\n",
       "         0.00000000e+00, 9.25256241e-02, 1.47405878e-01, 0.00000000e+00,\n",
       "         0.00000000e+00, 1.26786673e-01, 0.00000000e+00, 0.00000000e+00,\n",
       "         1.33039895e-01, 1.23361858e-01, 0.00000000e+00, 1.17476370e-01]),\n",
       "  array([0.        , 0.03493809, 0.        , 0.13423487, 0.07585202,\n",
       "         0.        , 0.09770895, 0.12605461, 0.04268523, 0.08863799,\n",
       "         0.12367243, 0.12911885, 0.03294724, 0.        , 0.09291396,\n",
       "         0.09670403, 0.13766181, 0.01295051, 0.09670403, 0.01248019,\n",
       "         0.03879686, 0.        , 0.15228368, 0.00019994, 0.        ,\n",
       "         0.08708213, 0.        , 0.0029901 , 0.04607898, 0.        ,\n",
       "         0.        , 0.        , 0.15026093, 0.        , 0.06223756,\n",
       "         0.01754425, 0.06223756, 0.10705637, 0.1343649 , 0.        ,\n",
       "         0.14224014, 0.08816411, 0.        , 0.06936652, 0.        ,\n",
       "         0.        , 0.        , 0.1418219 , 0.        , 0.08112918,\n",
       "         0.13841895, 0.07932139, 0.        , 0.01993778, 0.02669522,\n",
       "         0.        , 0.        , 0.01754425, 0.0528601 , 0.        ,\n",
       "         0.        , 0.13569243, 0.        , 0.12370241, 0.06635431,\n",
       "         0.        , 0.03091197, 0.07355155, 0.10962596, 0.        ,\n",
       "         0.00654928, 0.01354272, 0.04250589, 0.00380696, 0.1136846 ,\n",
       "         0.00689393, 0.        , 0.15088687, 0.02334815, 0.08513802,\n",
       "         0.01180348, 0.        , 0.        , 0.1529031 , 0.00484143,\n",
       "         0.04041901, 0.        , 0.        , 0.12367243, 0.        ,\n",
       "         0.12605461, 0.02225547, 0.12704495, 0.        , 0.1529019 ,\n",
       "         0.        , 0.08048191, 0.12671606, 0.00697889, 0.        ]),\n",
       "  array([0.11599077, 0.        , 0.13923899, 0.0528601 , 0.01518217,\n",
       "         0.14793818, 0.        , 0.        , 0.15285945, 0.        ,\n",
       "         0.01248019, 0.05920902, 0.03331239, 0.        , 0.14389811,\n",
       "         0.        , 0.1462213 , 0.15250837, 0.        , 0.04607898,\n",
       "         0.1491874 , 0.00627023, 0.15100278, 0.        , 0.11525633,\n",
       "         0.15147321, 0.10064264, 0.05608512, 0.00157842, 0.04952731,\n",
       "         0.        , 0.        , 0.        , 0.0798998 , 0.        ,\n",
       "         0.        , 0.10705637, 0.11209399, 0.06073488, 0.0651758 ,\n",
       "         0.1189215 , 0.01248019, 0.15267106, 0.        , 0.        ,\n",
       "         0.00689393, 0.        , 0.        , 0.06079265, 0.13484559,\n",
       "         0.        , 0.        , 0.05253118, 0.14292289, 0.        ,\n",
       "         0.        , 0.        , 0.14292289, 0.01248019, 0.15252664,\n",
       "         0.03882886, 0.10748945, 0.        , 0.09038538, 0.00425168,\n",
       "         0.01754425, 0.        , 0.02669522, 0.        , 0.        ,\n",
       "         0.        , 0.05920902, 0.05465153, 0.        , 0.        ,\n",
       "         0.09252562, 0.        , 0.11128239, 0.        , 0.13963835,\n",
       "         0.        , 0.        , 0.15289166, 0.01754425, 0.01248019,\n",
       "         0.        , 0.15158535, 0.        , 0.12494525, 0.02225547,\n",
       "         0.        , 0.        , 0.10617665, 0.14003068, 0.12605461,\n",
       "         0.        , 0.11523252, 0.06942347, 0.        , 0.04952731]),\n",
       "  array([0.13569243, 0.        , 0.08980482, 0.07738966, 0.        ,\n",
       "         0.        , 0.09252562, 0.00065641, 0.01754425, 0.        ,\n",
       "         0.12867039, 0.        , 0.02669522, 0.00613292, 0.04250589,\n",
       "         0.        , 0.1528775 , 0.        , 0.15278224, 0.        ,\n",
       "         0.01754425, 0.        , 0.12854875, 0.14006325, 0.        ,\n",
       "         0.        , 0.        , 0.00413824, 0.        , 0.        ,\n",
       "         0.        , 0.        , 0.14747673, 0.        , 0.03091197,\n",
       "         0.03097051, 0.03978004, 0.        , 0.09360785, 0.11741712,\n",
       "         0.09360785, 0.        , 0.        , 0.        , 0.        ,\n",
       "         0.12556801, 0.01754425, 0.        , 0.14258481, 0.0230932 ,\n",
       "         0.        , 0.15238186, 0.04250589, 0.01248019, 0.01754425,\n",
       "         0.        , 0.15052049, 0.09147391, 0.08863799, 0.        ,\n",
       "         0.14041603, 0.        , 0.1517952 , 0.        , 0.09670403,\n",
       "         0.05896716, 0.12968046, 0.        , 0.14481585, 0.13287591,\n",
       "         0.        , 0.        , 0.04066916, 0.13820853, 0.13531857,\n",
       "         0.        , 0.        , 0.10253805, 0.        , 0.13511434,\n",
       "         0.        , 0.        , 0.09058253, 0.        , 0.        ,\n",
       "         0.        , 0.10748945, 0.00017574, 0.03493809, 0.        ,\n",
       "         0.15039223, 0.        , 0.02450575, 0.00654928, 0.01374288,\n",
       "         0.        , 0.05120763, 0.        , 0.02225547, 0.        ])])"
      ]
     },
     "execution_count": 231,
     "metadata": {},
     "output_type": "execute_result"
    }
   ],
   "source": [
    "model_lmc(model)"
   ]
  },
  {
   "cell_type": "code",
   "execution_count": 232,
   "metadata": {},
   "outputs": [],
   "source": [
    "cas = np.array([ca for ca in sample_CAs(rng=np.random.default_rng(0))])\n",
    "ca_entropies = np.array([ca_entropy(ca) for ca in cas])\n",
    "ca_lmcs = np.array([ca_lmc(ca) for ca in cas])"
   ]
  },
  {
   "cell_type": "code",
   "execution_count": 233,
   "metadata": {},
   "outputs": [],
   "source": [
    "i_test = np.r_[0:8:2, 8:128:16, 128:256:32]\n",
    "i_test = np.sort(np.r_[i_test, 511 - i_test, 255])"
   ]
  },
  {
   "cell_type": "code",
   "execution_count": 33,
   "metadata": {},
   "outputs": [
    {
     "data": {
      "image/png": "[encoded data removed]",
      "text/plain": [
       "<Figure size 720x576 with 2 Axes>"
      ]
     },
     "metadata": {
      "needs_background": "light"
     },
     "output_type": "display_data"
    }
   ],
   "source": [
    "plt.subplot(211)\n",
    "plt.plot(ca_entropies)\n",
    "plt.plot(i_test, ca_entropies[i_test], 'r.')\n",
    "plt.subplot(212)\n",
    "plt.plot(ca_lmcs)\n",
    "plt.plot(i_test, ca_lmcs[i_test], 'r.')\n",
    "plt.show()"
   ]
  },
  {
   "cell_type": "code",
   "execution_count": null,
   "metadata": {},
   "outputs": [],
   "source": []
  }
 ],
 "metadata": {
  "kernelspec": {
   "display_name": "Python 3",
   "language": "python",
   "name": "python3"
  },
  "language_info": {
   "codemirror_mode": {
    "name": "ipython",
    "version": 3
   },
   "file_extension": ".py",
   "mimetype": "text/x-python",
   "name": "python",
   "nbconvert_exporter": "python",
   "pygments_lexer": "ipython3",
   "version": "3.8.2"
  }
 },
 "nbformat": 4,
 "nbformat_minor": 4
}
