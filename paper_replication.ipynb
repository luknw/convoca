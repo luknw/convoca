{
 "cells": [
  {
   "cell_type": "markdown",
   "metadata": {},
   "source": [
    "# Paper replication"
   ]
  },
  {
   "cell_type": "code",
   "execution_count": 1,
   "metadata": {},
   "outputs": [],
   "source": [
    "%load_ext autoreload\n",
    "%autoreload 2\n",
    "\n",
    "import numpy as np\n",
    "import torch\n",
    "import matplotlib.pyplot as plt\n",
    "from tqdm import tqdm\n",
    "\n",
    "%matplotlib inline\n",
    "plt.rcParams['figure.figsize'] = (10.0, 8.0) # set default size of plots\n",
    "plt.rcParams['image.interpolation'] = 'nearest'\n",
    "plt.rcParams['image.cmap'] = 'gray'"
   ]
  },
  {
   "cell_type": "code",
   "metadata": {
    "pycharm": {
     "name": "#%%\n"
    }
   },
   "source": [
    "from utils import all_combinations\n",
    "\n",
    "M = 2\n",
    "D = 3 * 3\n",
    "ALL_INPUTS = all_combinations(M, D)"
   ],
   "execution_count": 2,
   "outputs": []
  },
  {
   "cell_type": "markdown",
   "metadata": {
    "pycharm": {
     "name": "#%% md\n"
    }
   },
   "source": [
    "## Define CAs and training data"
   ]
  },
  {
   "cell_type": "code",
   "execution_count": 3,
   "metadata": {},
   "outputs": [],
   "source": [
    "from ca_funcs import make_table_walk, make_ca\n",
    "\n",
    "def sample_CAs(seed=None):\n",
    "    if seed:\n",
    "        np.random.seed(seed)\n",
    "\n",
    "    inputs = ALL_INPUTS\n",
    "    outputs = make_table_walk(len(ALL_INPUTS))\n",
    "    for o in outputs:\n",
    "        yield make_ca(inputs, o)\n",
    "\n",
    "def generate_CA_train_data(ca, height=10, width=10, n_samples=500):\n",
    "    X_train = torch.from_numpy(np.random.choice([0, 1], (n_samples, height, width), p=[.5, .5])).float()\n",
    "    Y_train = ca(X_train).float()\n",
    "    return X_train, Y_train"
   ]
  },
  {
   "cell_type": "code",
   "metadata": {
    "pycharm": {
     "name": "#%%\n"
    }
   },
   "source": [
    "from ca_funcs import make_glider\n",
    "from IPython.display import clear_output\n",
    "\n",
    "np.random.seed(0)\n",
    "\n",
    "for i, ca in enumerate(sample_CAs()):\n",
    "    X_test = torch.from_numpy(make_glider(10).reshape(1, 10, 10)).float()\n",
    "    Y_test = ca(X_test).float()\n",
    "\n",
    "    plt.figure(figsize=(12,4))\n",
    "    plt.suptitle(i)\n",
    "\n",
    "    plt.subplot(1,2,1)\n",
    "    plt.imshow(X_test[0])\n",
    "    plt.axis('off')\n",
    "    plt.title(\"Input\")\n",
    "\n",
    "    plt.subplot(1,2,2)\n",
    "    plt.imshow(Y_test[0])\n",
    "    plt.axis('off')\n",
    "    plt.title(\"Output\")\n",
    "\n",
    "    plt.show()\n",
    "    plt.close()\n",
    "    clear_output(wait=True)"
   ],
   "execution_count": 4,
   "outputs": [
    {
     "data": {
      "text/plain": "<Figure size 864x288 with 2 Axes>",
      "image/png": "[encoded data removed]"
     },
     "metadata": {
      "needs_background": "light"
     },
     "output_type": "display_data"
    }
   ]
  },
  {
   "cell_type": "markdown",
   "metadata": {
    "pycharm": {
     "name": "#%% md\n"
    }
   },
   "source": [
    "## Find entropy of the training CA"
   ]
  },
  {
   "cell_type": "code",
   "execution_count": 5,
   "metadata": {},
   "outputs": [],
   "source": [
    "from collections import Counter\n",
    "from utils import shannon_entropy\n",
    "\n",
    "def ca_entropy(ca):\n",
    "    inputs = torch.from_numpy(ALL_INPUTS)\n",
    "    outputs = ca(inputs)\n",
    "    output_counts = np.array(list(Counter(tuple(torch.reshape(o, [-1]).numpy()) for o in outputs).values()))\n",
    "    output_ps = output_counts / len(inputs)\n",
    "    return shannon_entropy(output_ps)"
   ]
  },
  {
   "cell_type": "code",
   "metadata": {
    "pycharm": {
     "name": "#%%\n"
    }
   },
   "source": [
    "entropies = [ca_entropy(a) for a in tqdm(sample_CAs(seed=0))]\n",
    "plt.plot(entropies)"
   ],
   "execution_count": 6,
   "outputs": [
    {
     "name": "stderr",
     "output_type": "stream",
     "text": [
      "512it [00:06, 75.48it/s]\n"
     ]
    },
    {
     "data": {
      "text/plain": "[<matplotlib.lines.Line2D at 0x7fb5afa29f40>]"
     },
     "execution_count": 6,
     "metadata": {},
     "output_type": "execute_result"
    },
    {
     "data": {
      "text/plain": "<Figure size 720x576 with 1 Axes>",
      "image/png": "[encoded data removed]"
     },
     "metadata": {
      "needs_background": "light"
     },
     "output_type": "display_data"
    }
   ]
  },
  {
   "cell_type": "markdown",
   "metadata": {
    "pycharm": {
     "name": "#%% md\n"
    }
   },
   "source": [
    "## Define the model"
   ]
  },
  {
   "cell_type": "code",
   "metadata": {
    "pycharm": {
     "name": "#%%\n"
    }
   },
   "source": [
    "from train_ca import initialize_model\n",
    "\n",
    "seed = 0\n",
    "print('seed =', seed)\n",
    "\n",
    "np.random.seed(seed)\n",
    "torch.random.manual_seed(seed)\n",
    "\n",
    "num_classes = 2\n",
    "samples = 500\n",
    "input_dims = [10, 10]\n",
    "layer_dims = [100] + [100] * 11  # neighborhood conv + mlpconv layers\n",
    "batch_size = 10\n",
    "num_batches = samples / batch_size\n",
    "learning_rate = 1e-4\n",
    "training_epochs = 1500  # 1500\n",
    "display_step = int(training_epochs / 10)\n",
    "loss = torch.nn.MSELoss()\n",
    "\n",
    "model = initialize_model(input_dims, layer_dims)\n",
    "optimizer = torch.optim.Adam(model.parameters(), lr=learning_rate)\n",
    "print(model)\n",
    "\n",
    "if torch.cuda.is_available():\n",
    "    model.cuda()"
   ],
   "execution_count": 7,
   "outputs": [
    {
     "name": "stdout",
     "output_type": "stream",
     "text": [
      "seed = 0\n",
      "Sequential(\n",
      "  (Wraparound2D): Wraparound2D()\n",
      "  (Conv2d_0): Conv2d(1, 100, kernel_size=(3, 3), stride=(1, 1))\n",
      "  (ReLU_0): ReLU()\n",
      "  (Conv2d_1): Conv2d(100, 100, kernel_size=(1, 1), stride=(1, 1))\n",
      "  (ReLU_1): ReLU()\n",
      "  (Conv2d_2): Conv2d(100, 100, kernel_size=(1, 1), stride=(1, 1))\n",
      "  (ReLU_2): ReLU()\n",
      "  (Conv2d_3): Conv2d(100, 100, kernel_size=(1, 1), stride=(1, 1))\n",
      "  (ReLU_3): ReLU()\n",
      "  (Conv2d_4): Conv2d(100, 100, kernel_size=(1, 1), stride=(1, 1))\n",
      "  (ReLU_4): ReLU()\n",
      "  (Conv2d_5): Conv2d(100, 100, kernel_size=(1, 1), stride=(1, 1))\n",
      "  (ReLU_5): ReLU()\n",
      "  (Conv2d_6): Conv2d(100, 100, kernel_size=(1, 1), stride=(1, 1))\n",
      "  (ReLU_6): ReLU()\n",
      "  (Conv2d_7): Conv2d(100, 100, kernel_size=(1, 1), stride=(1, 1))\n",
      "  (ReLU_7): ReLU()\n",
      "  (Conv2d_8): Conv2d(100, 100, kernel_size=(1, 1), stride=(1, 1))\n",
      "  (ReLU_8): ReLU()\n",
      "  (Conv2d_9): Conv2d(100, 100, kernel_size=(1, 1), stride=(1, 1))\n",
      "  (ReLU_9): ReLU()\n",
      "  (Conv2d_10): Conv2d(100, 100, kernel_size=(1, 1), stride=(1, 1))\n",
      "  (ReLU_10): ReLU()\n",
      "  (Conv2d_11): Conv2d(100, 100, kernel_size=(1, 1), stride=(1, 1))\n",
      "  (ReLU_11): ReLU()\n",
      "  (Conv2d_12): Conv2d(100, 1, kernel_size=(1, 1), stride=(1, 1), bias=False)\n",
      "  (Lambda_0): Lambda()\n",
      ")\n"
     ]
    }
   ]
  },
  {
   "cell_type": "markdown",
   "metadata": {
    "pycharm": {
     "name": "#%% md\n"
    }
   },
   "source": [
    "## Define the learning loop"
   ]
  },
  {
   "cell_type": "code",
   "metadata": {
    "pycharm": {
     "name": "#%%\n"
    }
   },
   "source": [
    "losses = []\n",
    "\n",
    "def learn_CA(ca, model):\n",
    "    for _ in tqdm(range(training_epochs)):\n",
    "        X_train, Y_train = generate_CA_train_data(ca, *input_dims, n_samples=samples)\n",
    "\n",
    "        if torch.cuda.is_available():\n",
    "            X_train = X_train.cuda()\n",
    "            Y_train = Y_train.cuda()\n",
    "\n",
    "        optimizer.zero_grad()\n",
    "        Y_pred = model(X_train)\n",
    "        l = loss(Y_train, Y_pred)\n",
    "        l.backward()\n",
    "        optimizer.step()\n",
    "        losses.append(l.item())"
   ],
   "execution_count": 8,
   "outputs": []
  },
  {
   "cell_type": "markdown",
   "metadata": {
    "pycharm": {
     "name": "#%% md\n"
    }
   },
   "source": [
    "## Train the model"
   ]
  },
  {
   "cell_type": "code",
   "execution_count": 9,
   "metadata": {},
   "outputs": [
    {
     "name": "stderr",
     "output_type": "stream",
     "text": [
      "100%|██████████| 1500/1500 [02:48<00:00,  8.90it/s]\n"
     ]
    }
   ],
   "source": [
    "ca = list(sample_CAs(seed=0))[250]\n",
    "learn_CA(ca, model)"
   ]
  },
  {
   "cell_type": "code",
   "execution_count": 10,
   "metadata": {},
   "outputs": [
    {
     "data": {
      "text/plain": "[]"
     },
     "execution_count": 10,
     "metadata": {},
     "output_type": "execute_result"
    },
    {
     "data": {
      "text/plain": "<Figure size 720x360 with 1 Axes>",
      "image/png": "[encoded data removed]"
     },
     "metadata": {
      "needs_background": "light"
     },
     "output_type": "display_data"
    }
   ],
   "source": [
    "plt.figure(figsize=(10, 5))\n",
    "plt.plot(losses)\n",
    "plt.loglog()"
   ]
  },
  {
   "cell_type": "code",
   "execution_count": 11,
   "metadata": {},
   "outputs": [
    {
     "data": {
      "text/plain": "Text(0.5, 1.0, 'Diff')"
     },
     "execution_count": 11,
     "metadata": {},
     "output_type": "execute_result"
    },
    {
     "data": {
      "text/plain": "<Figure size 864x288 with 4 Axes>",
      "image/png": "[encoded data removed]"
     },
     "metadata": {
      "needs_background": "light"
     },
     "output_type": "display_data"
    }
   ],
   "source": [
    "from ca_funcs import make_glider\n",
    "\n",
    "# x = np.random.choice([0, 1], size=100)\n",
    "x = make_glider(10)\n",
    "X_test = torch.from_numpy(x.reshape(1, 10, 10)).float()\n",
    "Y_test = ca(X_test).float()\n",
    "\n",
    "if torch.cuda.is_available():\n",
    "    X_test = X_test.cuda()\n",
    "Y_pred = model(X_test)\n",
    "\n",
    "\n",
    "if torch.cuda.is_available():\n",
    "    X_test = X_test.cpu()\n",
    "    Y_pred = Y_pred.cpu()\n",
    "\n",
    "X_test = X_test.detach().numpy()\n",
    "Y_test = Y_test.detach().numpy()\n",
    "Y_pred = Y_pred.detach().numpy()\n",
    "\n",
    "plt.figure(figsize=(12, 4))\n",
    "\n",
    "plt.subplot(141)\n",
    "plt.imshow(X_test[0])\n",
    "plt.axis('off')\n",
    "plt.title(\"Input\")\n",
    "\n",
    "plt.subplot(142)\n",
    "plt.imshow(Y_test[0])\n",
    "plt.axis('off')\n",
    "plt.title(\"Expected Output\")\n",
    "\n",
    "plt.subplot(143)\n",
    "plt.imshow(Y_pred[0])\n",
    "plt.axis('off')\n",
    "plt.title(\"Observed Output\")\n",
    "\n",
    "plt.subplot(144)\n",
    "plt.imshow((Y_pred[0] - Y_test[0]) ** 2)\n",
    "plt.axis('off')\n",
    "plt.title(\"Diff\")"
   ]
  },
  {
   "cell_type": "code",
   "metadata": {
    "pycharm": {
     "name": "#%%\n"
    }
   },
   "source": [
    "np.max(np.abs(Y_pred[0] - Y_test[0]))"
   ],
   "execution_count": 12,
   "outputs": [
    {
     "data": {
      "text/plain": "5.4690267e-06"
     },
     "execution_count": 12,
     "metadata": {},
     "output_type": "execute_result"
    }
   ]
  },
  {
   "cell_type": "markdown",
   "metadata": {
    "pycharm": {
     "name": "#%% md\n"
    }
   },
   "source": [
    "## Find model entropies"
   ]
  },
  {
   "cell_type": "code",
   "execution_count": 13,
   "metadata": {},
   "outputs": [],
   "source": [
    "from ca_funcs import get_network_entropies\n",
    "\n",
    "def calculate_entropies(model):\n",
    "    def get_activations(x_input):\n",
    "        activations = [x_input]\n",
    "        for m in model.modules():\n",
    "            x_input = m(x_input)\n",
    "            activations.append(x_input)\n",
    "        return activations[3:len(activations) - 2]\n",
    "\n",
    "\n",
    "    X_test = torch.from_numpy(np.random.choice([0, 1], (500, 10, 10))).float()\n",
    "    if torch.cuda.is_available():\n",
    "        X_test = X_test.cuda()\n",
    "\n",
    "    layer_activations = np.array([activation.cpu().detach().numpy() for activation in get_activations(X_test)])\n",
    "    binary_activations = np.digitize(layer_activations, [0], right=True)\n",
    "    entropies = get_network_entropies(binary_activations)\n",
    "    return entropies"
   ]
  },
  {
   "cell_type": "code",
   "execution_count": 14,
   "metadata": {},
   "outputs": [
    {
     "data": {
      "text/plain": "8.220523247971135"
     },
     "execution_count": 14,
     "metadata": {},
     "output_type": "execute_result"
    }
   ],
   "source": [
    "ca_entropy(ca)"
   ]
  },
  {
   "cell_type": "code",
   "execution_count": 15,
   "metadata": {},
   "outputs": [
    {
     "data": {
      "text/plain": "(13.122274654565212,\n [5.805396079852216,\n  5.805396079852216,\n  5.376445284080141,\n  5.376445284080141,\n  5.57543238541931,\n  5.57543238541931,\n  5.069083009859602,\n  5.069083009859602,\n  4.4250330256018735,\n  4.4250330256018735,\n  3.295288118639024,\n  3.295288118639024,\n  3.681721604530767,\n  3.681721604530767,\n  3.5282314435887,\n  3.5282314435887,\n  3.435395859316545,\n  3.435395859316545,\n  3.0079233341304166,\n  3.0079233341304166,\n  3.4826984345347087,\n  3.4826984345347087,\n  3.526591414853363,\n  3.526591414853363],\n [array([0.69108391, 0.69114645, 0.69109393, 0.69097262, 0.69100891,\n         0.69109368, 0.6911029 , 0.6910852 , 0.69109522, 0.6911029 ]),\n  array([0.69108391, 0.69114645, 0.69109393, 0.69097262, 0.69100891,\n         0.69109368, 0.6911029 , 0.6910852 , 0.69109522, 0.6911029 ]),\n  array([0.69062683, 0.69069938, 0.69063309, 0.6906786 , 0.69077197,\n         0.69061716, 0.69074679, 0.69068029, 0.69063905, 0.69079043]),\n  array([0.69062683, 0.69069938, 0.69063309, 0.6906786 , 0.69077197,\n         0.69061716, 0.69074679, 0.69068029, 0.69063905, 0.69079043]),\n  array([0.69287933, 0.69289349, 0.6928683 , 0.69288687, 0.69283724,\n         0.69286726, 0.69287309, 0.69289051, 0.69285181, 0.69285877]),\n  array([0.69287933, 0.69289349, 0.6928683 , 0.69288687, 0.69283724,\n         0.69286726, 0.69287309, 0.69289051, 0.69285181, 0.69285877]),\n  array([0.69128112, 0.6912755 , 0.69134682, 0.69130648, 0.69129528,\n         0.69130939, 0.69132876, 0.69133599, 0.69134994, 0.69130696]),\n  array([0.69128112, 0.6912755 , 0.69134682, 0.69130648, 0.69129528,\n         0.69130939, 0.69132876, 0.69133599, 0.69134994, 0.69130696]),\n  array([0.69225295, 0.69229393, 0.69228564, 0.69229194, 0.69230825,\n         0.69224208, 0.69226139, 0.69229888, 0.69229145, 0.6922878 ]),\n  array([0.69225295, 0.69229393, 0.69228564, 0.69229194, 0.69230825,\n         0.69224208, 0.69226139, 0.69229888, 0.69229145, 0.6922878 ]),\n  array([0.68809497, 0.6879831 , 0.68811149, 0.68800793, 0.68809618,\n         0.68808731, 0.68806429, 0.68814523, 0.68791686, 0.68819404]),\n  array([0.68809497, 0.6879831 , 0.68811149, 0.68800793, 0.68809618,\n         0.68808731, 0.68806429, 0.68814523, 0.68791686, 0.68819404]),\n  array([0.69293564, 0.69293035, 0.69291827, 0.69294645, 0.69294709,\n         0.69291827, 0.69292134, 0.69292666, 0.69294468, 0.69293441]),\n  array([0.69293564, 0.69293035, 0.69291827, 0.69294645, 0.69294709,\n         0.69291827, 0.69292134, 0.69292666, 0.69294468, 0.69293441]),\n  array([0.68873358, 0.68856054, 0.68875991, 0.688746  , 0.68877341,\n         0.68865755, 0.68857627, 0.68861757, 0.68877829, 0.68878765]),\n  array([0.68873358, 0.68856054, 0.68875991, 0.688746  , 0.68877341,\n         0.68865755, 0.68857627, 0.68861757, 0.68877829, 0.68878765]),\n  array([0.6931356 , 0.69313387, 0.69313826, 0.69313073, 0.69313662,\n         0.69313915, 0.69314019, 0.69313595, 0.69313982, 0.69313953]),\n  array([0.6931356 , 0.69313387, 0.69313826, 0.69313073, 0.69313662,\n         0.69313915, 0.69314019, 0.69313595, 0.69313982, 0.69313953]),\n  array([0.69121898, 0.69108211, 0.69110418, 0.69115151, 0.69105734,\n         0.69099211, 0.69121101, 0.6911325 , 0.69105267, 0.69104437]),\n  array([0.69121898, 0.69108211, 0.69110418, 0.69115151, 0.69105734,\n         0.69099211, 0.69121101, 0.6911325 , 0.69105267, 0.69104437]),\n  array([0.69297597, 0.69296909, 0.69298177, 0.69297045, 0.692973  ,\n         0.69296917, 0.6929712 , 0.692964  , 0.69296697, 0.69296062]),\n  array([0.69297597, 0.69296909, 0.69298177, 0.69297045, 0.692973  ,\n         0.69296917, 0.6929712 , 0.692964  , 0.69296697, 0.69296062]),\n  array([0.69280956, 0.6927908 , 0.69281226, 0.69281752, 0.69279176,\n         0.69278973, 0.69279929, 0.69273963, 0.69274894, 0.69274736]),\n  array([0.69280956, 0.6927908 , 0.69281226, 0.69281752, 0.69279176,\n         0.69278973, 0.69279929, 0.69273963, 0.69274894, 0.69274736])])"
     },
     "execution_count": 15,
     "metadata": {},
     "output_type": "execute_result"
    }
   ],
   "source": [
    "calculate_entropies(model)"
   ]
  },
  {
   "cell_type": "markdown",
   "source": [
    "## Compression"
   ],
   "metadata": {
    "collapsed": false
   }
  },
  {
   "cell_type": "code",
   "execution_count": 16,
   "outputs": [],
   "source": [
    "import copy\n",
    "from nni.compression.torch import *\n",
    "\n",
    "def prune_model_and_test(model, Pruner, config):\n",
    "    model_copy = copy.deepcopy(model)\n",
    "    pruner = Pruner(model_copy, config, optimizer=optimizer)\n",
    "    pruner.compress()\n",
    "    return model_copy\n",
    "\n",
    "def display_test(model):\n",
    "    from ca_funcs import make_glider\n",
    "    x = make_glider(10)\n",
    "    X_test = torch.from_numpy(x.reshape(1, 10, 10)).float()\n",
    "    Y_test = ca(X_test).float()\n",
    "\n",
    "    if torch.cuda.is_available():\n",
    "        X_test = X_test.cuda()\n",
    "    Y_pred = model(X_test)\n",
    "\n",
    "    if torch.cuda.is_available():\n",
    "        X_test = X_test.cpu()\n",
    "        Y_pred = Y_pred.cpu()\n",
    "\n",
    "    X_test = X_test.detach().numpy()\n",
    "    Y_test = Y_test.detach().numpy()\n",
    "    Y_pred = Y_pred.detach().numpy()\n",
    "\n",
    "    plt.figure(figsize=(12, 4))\n",
    "\n",
    "    plt.subplot(141)\n",
    "    plt.imshow(X_test[0])\n",
    "    plt.axis('off')\n",
    "    plt.title(\"Input\")\n",
    "\n",
    "    plt.subplot(142)\n",
    "    plt.imshow(Y_test[0])\n",
    "    plt.axis('off')\n",
    "    plt.title(\"Expected Output\")\n",
    "\n",
    "    plt.subplot(143)\n",
    "    plt.imshow(Y_pred[0])\n",
    "    plt.axis('off')\n",
    "    plt.title(\"Observed Output\")\n",
    "\n",
    "    plt.subplot(144)\n",
    "    plt.imshow((Y_pred[0] - Y_test[0]) ** 2)\n",
    "    plt.axis('off')\n",
    "    plt.title(\"Diff\")\n",
    "\n",
    "    print(np.max(np.abs(Y_pred[0] - Y_test[0])))"
   ],
   "metadata": {
    "collapsed": false,
    "pycharm": {
     "name": "#%%\n"
    }
   }
  },
  {
   "cell_type": "markdown",
   "source": [
    "### Level Pruner"
   ],
   "metadata": {
    "collapsed": false
   }
  },
  {
   "cell_type": "code",
   "execution_count": 17,
   "outputs": [
    {
     "name": "stdout",
     "output_type": "stream",
     "text": [
      "0.24905145\n"
     ]
    },
    {
     "data": {
      "text/plain": "<Figure size 864x288 with 4 Axes>",
      "image/png": "[encoded data removed]"
     },
     "metadata": {
      "needs_background": "light"
     },
     "output_type": "display_data"
    }
   ],
   "source": [
    "config_list = [{ 'sparsity': 0.1, 'op_types': ['default'] }]\n",
    "m = prune_model_and_test(model, LevelPruner, config_list)\n",
    "display_test(m)"
   ],
   "metadata": {
    "collapsed": false,
    "pycharm": {
     "name": "#%%\n"
    }
   }
  },
  {
   "cell_type": "markdown",
   "source": [
    "### FPGM Pruner"
   ],
   "metadata": {
    "collapsed": false
   }
  },
  {
   "cell_type": "code",
   "execution_count": 18,
   "outputs": [
    {
     "name": "stdout",
     "output_type": "stream",
     "text": [
      "0.9059172\n"
     ]
    },
    {
     "data": {
      "text/plain": "<Figure size 864x288 with 4 Axes>",
      "image/png": "[encoded data removed]"
     },
     "metadata": {
      "needs_background": "light"
     },
     "output_type": "display_data"
    }
   ],
   "source": [
    "config_list = [{ 'sparsity': 0.1, 'op_types': ['Conv2d'] }]\n",
    "m = prune_model_and_test(model, FPGMPruner, config_list)\n",
    "display_test(m)"
   ],
   "metadata": {
    "collapsed": false,
    "pycharm": {
     "name": "#%%\n"
    }
   }
  },
  {
   "cell_type": "markdown",
   "source": [
    "### L1 Pruner"
   ],
   "metadata": {
    "collapsed": false
   }
  },
  {
   "cell_type": "code",
   "execution_count": 19,
   "outputs": [
    {
     "name": "stdout",
     "output_type": "stream",
     "text": [
      "1.5533233\n"
     ]
    },
    {
     "data": {
      "text/plain": "<Figure size 864x288 with 4 Axes>",
      "image/png": "[encoded data removed]"
     },
     "metadata": {
      "needs_background": "light"
     },
     "output_type": "display_data"
    }
   ],
   "source": [
    "config_list = [{ 'sparsity': 0.1, 'op_types': ['Conv2d'] }]\n",
    "m = prune_model_and_test(model, L1FilterPruner, config_list)\n",
    "display_test(m)"
   ],
   "metadata": {
    "collapsed": false,
    "pycharm": {
     "name": "#%%\n"
    }
   }
  },
  {
   "cell_type": "markdown",
   "source": [
    "### L2 Pruner"
   ],
   "metadata": {
    "collapsed": false
   }
  },
  {
   "cell_type": "code",
   "execution_count": 20,
   "outputs": [
    {
     "name": "stdout",
     "output_type": "stream",
     "text": [
      "1.2059213\n"
     ]
    },
    {
     "data": {
      "text/plain": "<Figure size 864x288 with 4 Axes>",
      "image/png": "[encoded data removed]"
     },
     "metadata": {
      "needs_background": "light"
     },
     "output_type": "display_data"
    }
   ],
   "source": [
    "config_list = [{ 'sparsity': 0.1, 'op_types': ['Conv2d'] }]\n",
    "m = prune_model_and_test(model, L2FilterPruner, config_list)\n",
    "display_test(m)"
   ],
   "metadata": {
    "collapsed": false,
    "pycharm": {
     "name": "#%%\n"
    }
   }
  },
  {
   "cell_type": "markdown",
   "source": [
    "### LotteryTicket Pruner"
   ],
   "metadata": {
    "collapsed": false
   }
  },
  {
   "cell_type": "code",
   "execution_count": 21,
   "outputs": [
    {
     "name": "stdout",
     "output_type": "stream",
     "text": [
      "5.4690267e-06\n"
     ]
    },
    {
     "data": {
      "text/plain": "<Figure size 864x288 with 4 Axes>",
      "image/png": "[encoded data removed]"
     },
     "metadata": {
      "needs_background": "light"
     },
     "output_type": "display_data"
    }
   ],
   "source": [
    "config_list = [{\n",
    "    'prune_iterations': 50,\n",
    "    'sparsity': 0.1,\n",
    "    'op_types': ['default']\n",
    "}]\n",
    "m = prune_model_and_test(model, LotteryTicketPruner, config_list)\n",
    "display_test(m)"
   ],
   "metadata": {
    "collapsed": false,
    "pycharm": {
     "name": "#%%\n"
    }
   }
  }
 ],
 "metadata": {
  "kernelspec": {
   "display_name": "Python 3",
   "language": "python",
   "name": "python3"
  },
  "language_info": {
   "codemirror_mode": {
    "name": "ipython",
    "version": 3
   },
   "file_extension": ".py",
   "mimetype": "text/x-python",
   "name": "python",
   "nbconvert_exporter": "python",
   "pygments_lexer": "ipython3",
   "version": "3.8.2"
  }
 },
 "nbformat": 4,
 "nbformat_minor": 4
}