{
 "cells": [
  {
   "cell_type": "markdown",
   "metadata": {},
   "source": [
    "# Paper replication"
   ]
  },
  {
   "cell_type": "code",
   "execution_count": 20,
   "metadata": {},
   "outputs": [
    {
     "name": "stdout",
     "output_type": "stream",
     "text": [
      "The autoreload extension is already loaded. To reload it, use:\n",
      "  %reload_ext autoreload\n"
     ]
    }
   ],
   "source": [
    "%load_ext autoreload\n",
    "%autoreload 2\n",
    "\n",
    "import matplotlib.pyplot as plt\n",
    "import numpy as np\n",
    "import torch\n",
    "\n",
    "from IPython.display import clear_output\n",
    "from tqdm import tqdm\n",
    "\n",
    "from ca_funcs import make_glider\n",
    "\n",
    "from nni.compression.torch import *\n",
    "\n",
    "%matplotlib inline\n",
    "plt.rcParams['figure.figsize'] = (10.0, 8.0) # set default size of plots\n",
    "plt.rcParams['image.interpolation'] = 'nearest'\n",
    "plt.rcParams['image.cmap'] = 'gray'"
   ]
  },
  {
   "cell_type": "code",
   "execution_count": 21,
   "metadata": {},
   "outputs": [],
   "source": [
    "import paper_replication as pr"
   ]
  },
  {
   "cell_type": "markdown",
   "metadata": {},
   "source": [
    "## Define CAs and training data"
   ]
  },
  {
   "cell_type": "code",
   "execution_count": 3,
   "metadata": {
    "collapsed": true,
    "jupyter": {
     "outputs_hidden": true
    }
   },
   "outputs": [
    {
     "ename": "KeyboardInterrupt",
     "evalue": "",
     "output_type": "error",
     "traceback": [
      "\u001b[0;31m---------------------------------------------------------------------------\u001b[0m",
      "\u001b[0;31mKeyboardInterrupt\u001b[0m                         Traceback (most recent call last)",
      "\u001b[0;32m<ipython-input-3-1aa9513bdac1>\u001b[0m in \u001b[0;36m<module>\u001b[0;34m\u001b[0m\n\u001b[1;32m      6\u001b[0m     \u001b[0mplt\u001b[0m\u001b[0;34m.\u001b[0m\u001b[0msuptitle\u001b[0m\u001b[0;34m(\u001b[0m\u001b[0mi\u001b[0m\u001b[0;34m)\u001b[0m\u001b[0;34m\u001b[0m\u001b[0;34m\u001b[0m\u001b[0m\n\u001b[1;32m      7\u001b[0m \u001b[0;34m\u001b[0m\u001b[0m\n\u001b[0;32m----> 8\u001b[0;31m     \u001b[0mplt\u001b[0m\u001b[0;34m.\u001b[0m\u001b[0msubplot\u001b[0m\u001b[0;34m(\u001b[0m\u001b[0;36m1\u001b[0m\u001b[0;34m,\u001b[0m\u001b[0;36m2\u001b[0m\u001b[0;34m,\u001b[0m\u001b[0;36m1\u001b[0m\u001b[0;34m)\u001b[0m\u001b[0;34m\u001b[0m\u001b[0;34m\u001b[0m\u001b[0m\n\u001b[0m\u001b[1;32m      9\u001b[0m     \u001b[0mplt\u001b[0m\u001b[0;34m.\u001b[0m\u001b[0mimshow\u001b[0m\u001b[0;34m(\u001b[0m\u001b[0mX_test\u001b[0m\u001b[0;34m[\u001b[0m\u001b[0;36m0\u001b[0m\u001b[0;34m]\u001b[0m\u001b[0;34m)\u001b[0m\u001b[0;34m\u001b[0m\u001b[0;34m\u001b[0m\u001b[0m\n\u001b[1;32m     10\u001b[0m     \u001b[0mplt\u001b[0m\u001b[0;34m.\u001b[0m\u001b[0maxis\u001b[0m\u001b[0;34m(\u001b[0m\u001b[0;34m'off'\u001b[0m\u001b[0;34m)\u001b[0m\u001b[0;34m\u001b[0m\u001b[0;34m\u001b[0m\u001b[0m\n",
      "\u001b[0;32m~/.conda/envs/sniug/lib/python3.8/site-packages/matplotlib/pyplot.py\u001b[0m in \u001b[0;36msubplot\u001b[0;34m(*args, **kwargs)\u001b[0m\n\u001b[1;32m   1140\u001b[0m \u001b[0;34m\u001b[0m\u001b[0m\n\u001b[1;32m   1141\u001b[0m     \u001b[0mfig\u001b[0m \u001b[0;34m=\u001b[0m \u001b[0mgcf\u001b[0m\u001b[0;34m(\u001b[0m\u001b[0;34m)\u001b[0m\u001b[0;34m\u001b[0m\u001b[0;34m\u001b[0m\u001b[0m\n\u001b[0;32m-> 1142\u001b[0;31m     \u001b[0max\u001b[0m \u001b[0;34m=\u001b[0m \u001b[0mfig\u001b[0m\u001b[0;34m.\u001b[0m\u001b[0madd_subplot\u001b[0m\u001b[0;34m(\u001b[0m\u001b[0;34m*\u001b[0m\u001b[0margs\u001b[0m\u001b[0;34m,\u001b[0m \u001b[0;34m**\u001b[0m\u001b[0mkwargs\u001b[0m\u001b[0;34m)\u001b[0m\u001b[0;34m\u001b[0m\u001b[0;34m\u001b[0m\u001b[0m\n\u001b[0m\u001b[1;32m   1143\u001b[0m     \u001b[0mbbox\u001b[0m \u001b[0;34m=\u001b[0m \u001b[0max\u001b[0m\u001b[0;34m.\u001b[0m\u001b[0mbbox\u001b[0m\u001b[0;34m\u001b[0m\u001b[0;34m\u001b[0m\u001b[0m\n\u001b[1;32m   1144\u001b[0m     \u001b[0maxes_to_delete\u001b[0m \u001b[0;34m=\u001b[0m \u001b[0;34m[\u001b[0m\u001b[0;34m]\u001b[0m\u001b[0;34m\u001b[0m\u001b[0;34m\u001b[0m\u001b[0m\n",
      "\u001b[0;32m~/.conda/envs/sniug/lib/python3.8/site-packages/matplotlib/figure.py\u001b[0m in \u001b[0;36madd_subplot\u001b[0;34m(self, *args, **kwargs)\u001b[0m\n\u001b[1;32m   1400\u001b[0m                     \u001b[0;31m# more similar to add_axes.\u001b[0m\u001b[0;34m\u001b[0m\u001b[0;34m\u001b[0m\u001b[0;34m\u001b[0m\u001b[0m\n\u001b[1;32m   1401\u001b[0m                     \u001b[0mself\u001b[0m\u001b[0;34m.\u001b[0m\u001b[0m_axstack\u001b[0m\u001b[0;34m.\u001b[0m\u001b[0mremove\u001b[0m\u001b[0;34m(\u001b[0m\u001b[0max\u001b[0m\u001b[0;34m)\u001b[0m\u001b[0;34m\u001b[0m\u001b[0;34m\u001b[0m\u001b[0m\n\u001b[0;32m-> 1402\u001b[0;31m             \u001b[0max\u001b[0m \u001b[0;34m=\u001b[0m \u001b[0msubplot_class_factory\u001b[0m\u001b[0;34m(\u001b[0m\u001b[0mprojection_class\u001b[0m\u001b[0;34m)\u001b[0m\u001b[0;34m(\u001b[0m\u001b[0mself\u001b[0m\u001b[0;34m,\u001b[0m \u001b[0;34m*\u001b[0m\u001b[0margs\u001b[0m\u001b[0;34m,\u001b[0m \u001b[0;34m**\u001b[0m\u001b[0mkwargs\u001b[0m\u001b[0;34m)\u001b[0m\u001b[0;34m\u001b[0m\u001b[0;34m\u001b[0m\u001b[0m\n\u001b[0m\u001b[1;32m   1403\u001b[0m \u001b[0;34m\u001b[0m\u001b[0m\n\u001b[1;32m   1404\u001b[0m         \u001b[0;32mreturn\u001b[0m \u001b[0mself\u001b[0m\u001b[0;34m.\u001b[0m\u001b[0m_add_axes_internal\u001b[0m\u001b[0;34m(\u001b[0m\u001b[0mkey\u001b[0m\u001b[0;34m,\u001b[0m \u001b[0max\u001b[0m\u001b[0;34m)\u001b[0m\u001b[0;34m\u001b[0m\u001b[0;34m\u001b[0m\u001b[0m\n",
      "\u001b[0;32m~/.conda/envs/sniug/lib/python3.8/site-packages/matplotlib/axes/_subplots.py\u001b[0m in \u001b[0;36m__init__\u001b[0;34m(self, fig, *args, **kwargs)\u001b[0m\n\u001b[1;32m     40\u001b[0m         \u001b[0mself\u001b[0m\u001b[0;34m.\u001b[0m\u001b[0mupdate_params\u001b[0m\u001b[0;34m(\u001b[0m\u001b[0;34m)\u001b[0m\u001b[0;34m\u001b[0m\u001b[0;34m\u001b[0m\u001b[0m\n\u001b[1;32m     41\u001b[0m         \u001b[0;31m# _axes_class is set in the subplot_class_factory\u001b[0m\u001b[0;34m\u001b[0m\u001b[0;34m\u001b[0m\u001b[0;34m\u001b[0m\u001b[0m\n\u001b[0;32m---> 42\u001b[0;31m         \u001b[0mself\u001b[0m\u001b[0;34m.\u001b[0m\u001b[0m_axes_class\u001b[0m\u001b[0;34m.\u001b[0m\u001b[0m__init__\u001b[0m\u001b[0;34m(\u001b[0m\u001b[0mself\u001b[0m\u001b[0;34m,\u001b[0m \u001b[0mfig\u001b[0m\u001b[0;34m,\u001b[0m \u001b[0mself\u001b[0m\u001b[0;34m.\u001b[0m\u001b[0mfigbox\u001b[0m\u001b[0;34m,\u001b[0m \u001b[0;34m**\u001b[0m\u001b[0mkwargs\u001b[0m\u001b[0;34m)\u001b[0m\u001b[0;34m\u001b[0m\u001b[0;34m\u001b[0m\u001b[0m\n\u001b[0m\u001b[1;32m     43\u001b[0m         \u001b[0;31m# add a layout box to this, for both the full axis, and the poss\u001b[0m\u001b[0;34m\u001b[0m\u001b[0;34m\u001b[0m\u001b[0;34m\u001b[0m\u001b[0m\n\u001b[1;32m     44\u001b[0m         \u001b[0;31m# of the axis.  We need both because the axes may become smaller\u001b[0m\u001b[0;34m\u001b[0m\u001b[0;34m\u001b[0m\u001b[0;34m\u001b[0m\u001b[0m\n",
      "\u001b[0;32m~/.conda/envs/sniug/lib/python3.8/site-packages/matplotlib/axes/_base.py\u001b[0m in \u001b[0;36m__init__\u001b[0;34m(self, fig, rect, facecolor, frameon, sharex, sharey, label, xscale, yscale, box_aspect, **kwargs)\u001b[0m\n\u001b[1;32m    509\u001b[0m \u001b[0;34m\u001b[0m\u001b[0m\n\u001b[1;32m    510\u001b[0m         \u001b[0mself\u001b[0m\u001b[0;34m.\u001b[0m\u001b[0m_rasterization_zorder\u001b[0m \u001b[0;34m=\u001b[0m \u001b[0;32mNone\u001b[0m\u001b[0;34m\u001b[0m\u001b[0;34m\u001b[0m\u001b[0m\n\u001b[0;32m--> 511\u001b[0;31m         \u001b[0mself\u001b[0m\u001b[0;34m.\u001b[0m\u001b[0mcla\u001b[0m\u001b[0;34m(\u001b[0m\u001b[0;34m)\u001b[0m\u001b[0;34m\u001b[0m\u001b[0;34m\u001b[0m\u001b[0m\n\u001b[0m\u001b[1;32m    512\u001b[0m \u001b[0;34m\u001b[0m\u001b[0m\n\u001b[1;32m    513\u001b[0m         \u001b[0;31m# funcs used to format x and y - fall back on major formatters\u001b[0m\u001b[0;34m\u001b[0m\u001b[0;34m\u001b[0m\u001b[0;34m\u001b[0m\u001b[0m\n",
      "\u001b[0;32m~/.conda/envs/sniug/lib/python3.8/site-packages/matplotlib/axes/_base.py\u001b[0m in \u001b[0;36mcla\u001b[0;34m(self)\u001b[0m\n\u001b[1;32m   1160\u001b[0m \u001b[0;34m\u001b[0m\u001b[0m\n\u001b[1;32m   1161\u001b[0m         \u001b[0mself\u001b[0m\u001b[0;34m.\u001b[0m\u001b[0mxaxis\u001b[0m\u001b[0;34m.\u001b[0m\u001b[0mset_clip_path\u001b[0m\u001b[0;34m(\u001b[0m\u001b[0mself\u001b[0m\u001b[0;34m.\u001b[0m\u001b[0mpatch\u001b[0m\u001b[0;34m)\u001b[0m\u001b[0;34m\u001b[0m\u001b[0;34m\u001b[0m\u001b[0m\n\u001b[0;32m-> 1162\u001b[0;31m         \u001b[0mself\u001b[0m\u001b[0;34m.\u001b[0m\u001b[0myaxis\u001b[0m\u001b[0;34m.\u001b[0m\u001b[0mset_clip_path\u001b[0m\u001b[0;34m(\u001b[0m\u001b[0mself\u001b[0m\u001b[0;34m.\u001b[0m\u001b[0mpatch\u001b[0m\u001b[0;34m)\u001b[0m\u001b[0;34m\u001b[0m\u001b[0;34m\u001b[0m\u001b[0m\n\u001b[0m\u001b[1;32m   1163\u001b[0m \u001b[0;34m\u001b[0m\u001b[0m\n\u001b[1;32m   1164\u001b[0m         \u001b[0mself\u001b[0m\u001b[0;34m.\u001b[0m\u001b[0m_shared_x_axes\u001b[0m\u001b[0;34m.\u001b[0m\u001b[0mclean\u001b[0m\u001b[0;34m(\u001b[0m\u001b[0;34m)\u001b[0m\u001b[0;34m\u001b[0m\u001b[0;34m\u001b[0m\u001b[0m\n",
      "\u001b[0;32m~/.conda/envs/sniug/lib/python3.8/site-packages/matplotlib/axis.py\u001b[0m in \u001b[0;36mset_clip_path\u001b[0;34m(self, clippath, transform)\u001b[0m\n\u001b[1;32m    899\u001b[0m     \u001b[0;32mdef\u001b[0m \u001b[0mset_clip_path\u001b[0m\u001b[0;34m(\u001b[0m\u001b[0mself\u001b[0m\u001b[0;34m,\u001b[0m \u001b[0mclippath\u001b[0m\u001b[0;34m,\u001b[0m \u001b[0mtransform\u001b[0m\u001b[0;34m=\u001b[0m\u001b[0;32mNone\u001b[0m\u001b[0;34m)\u001b[0m\u001b[0;34m:\u001b[0m\u001b[0;34m\u001b[0m\u001b[0;34m\u001b[0m\u001b[0m\n\u001b[1;32m    900\u001b[0m         \u001b[0mmartist\u001b[0m\u001b[0;34m.\u001b[0m\u001b[0mArtist\u001b[0m\u001b[0;34m.\u001b[0m\u001b[0mset_clip_path\u001b[0m\u001b[0;34m(\u001b[0m\u001b[0mself\u001b[0m\u001b[0;34m,\u001b[0m \u001b[0mclippath\u001b[0m\u001b[0;34m,\u001b[0m \u001b[0mtransform\u001b[0m\u001b[0;34m)\u001b[0m\u001b[0;34m\u001b[0m\u001b[0;34m\u001b[0m\u001b[0m\n\u001b[0;32m--> 901\u001b[0;31m         \u001b[0;32mfor\u001b[0m \u001b[0mchild\u001b[0m \u001b[0;32min\u001b[0m \u001b[0mself\u001b[0m\u001b[0;34m.\u001b[0m\u001b[0mmajorTicks\u001b[0m \u001b[0;34m+\u001b[0m \u001b[0mself\u001b[0m\u001b[0;34m.\u001b[0m\u001b[0mminorTicks\u001b[0m\u001b[0;34m:\u001b[0m\u001b[0;34m\u001b[0m\u001b[0;34m\u001b[0m\u001b[0m\n\u001b[0m\u001b[1;32m    902\u001b[0m             \u001b[0mchild\u001b[0m\u001b[0;34m.\u001b[0m\u001b[0mset_clip_path\u001b[0m\u001b[0;34m(\u001b[0m\u001b[0mclippath\u001b[0m\u001b[0;34m,\u001b[0m \u001b[0mtransform\u001b[0m\u001b[0;34m)\u001b[0m\u001b[0;34m\u001b[0m\u001b[0;34m\u001b[0m\u001b[0m\n\u001b[1;32m    903\u001b[0m         \u001b[0mself\u001b[0m\u001b[0;34m.\u001b[0m\u001b[0mstale\u001b[0m \u001b[0;34m=\u001b[0m \u001b[0;32mTrue\u001b[0m\u001b[0;34m\u001b[0m\u001b[0;34m\u001b[0m\u001b[0m\n",
      "\u001b[0;32m~/.conda/envs/sniug/lib/python3.8/site-packages/matplotlib/axis.py\u001b[0m in \u001b[0;36m__get__\u001b[0;34m(self, instance, cls)\u001b[0m\n\u001b[1;32m    621\u001b[0m             \u001b[0;32melse\u001b[0m\u001b[0;34m:\u001b[0m\u001b[0;34m\u001b[0m\u001b[0;34m\u001b[0m\u001b[0m\n\u001b[1;32m    622\u001b[0m                 \u001b[0minstance\u001b[0m\u001b[0;34m.\u001b[0m\u001b[0mminorTicks\u001b[0m \u001b[0;34m=\u001b[0m \u001b[0;34m[\u001b[0m\u001b[0;34m]\u001b[0m\u001b[0;34m\u001b[0m\u001b[0;34m\u001b[0m\u001b[0m\n\u001b[0;32m--> 623\u001b[0;31m                 \u001b[0mtick\u001b[0m \u001b[0;34m=\u001b[0m \u001b[0minstance\u001b[0m\u001b[0;34m.\u001b[0m\u001b[0m_get_tick\u001b[0m\u001b[0;34m(\u001b[0m\u001b[0mmajor\u001b[0m\u001b[0;34m=\u001b[0m\u001b[0;32mFalse\u001b[0m\u001b[0;34m)\u001b[0m\u001b[0;34m\u001b[0m\u001b[0;34m\u001b[0m\u001b[0m\n\u001b[0m\u001b[1;32m    624\u001b[0m                 \u001b[0minstance\u001b[0m\u001b[0;34m.\u001b[0m\u001b[0mminorTicks\u001b[0m\u001b[0;34m.\u001b[0m\u001b[0mappend\u001b[0m\u001b[0;34m(\u001b[0m\u001b[0mtick\u001b[0m\u001b[0;34m)\u001b[0m\u001b[0;34m\u001b[0m\u001b[0;34m\u001b[0m\u001b[0m\n\u001b[1;32m    625\u001b[0m                 \u001b[0;32mreturn\u001b[0m \u001b[0minstance\u001b[0m\u001b[0;34m.\u001b[0m\u001b[0mminorTicks\u001b[0m\u001b[0;34m\u001b[0m\u001b[0;34m\u001b[0m\u001b[0m\n",
      "\u001b[0;32m~/.conda/envs/sniug/lib/python3.8/site-packages/matplotlib/axis.py\u001b[0m in \u001b[0;36m_get_tick\u001b[0;34m(self, major)\u001b[0m\n\u001b[1;32m   2301\u001b[0m         \u001b[0;32melse\u001b[0m\u001b[0;34m:\u001b[0m\u001b[0;34m\u001b[0m\u001b[0;34m\u001b[0m\u001b[0m\n\u001b[1;32m   2302\u001b[0m             \u001b[0mtick_kw\u001b[0m \u001b[0;34m=\u001b[0m \u001b[0mself\u001b[0m\u001b[0;34m.\u001b[0m\u001b[0m_minor_tick_kw\u001b[0m\u001b[0;34m\u001b[0m\u001b[0;34m\u001b[0m\u001b[0m\n\u001b[0;32m-> 2303\u001b[0;31m         \u001b[0;32mreturn\u001b[0m \u001b[0mYTick\u001b[0m\u001b[0;34m(\u001b[0m\u001b[0mself\u001b[0m\u001b[0;34m.\u001b[0m\u001b[0maxes\u001b[0m\u001b[0;34m,\u001b[0m \u001b[0;36m0\u001b[0m\u001b[0;34m,\u001b[0m \u001b[0mmajor\u001b[0m\u001b[0;34m=\u001b[0m\u001b[0mmajor\u001b[0m\u001b[0;34m,\u001b[0m \u001b[0;34m**\u001b[0m\u001b[0mtick_kw\u001b[0m\u001b[0;34m)\u001b[0m\u001b[0;34m\u001b[0m\u001b[0;34m\u001b[0m\u001b[0m\n\u001b[0m\u001b[1;32m   2304\u001b[0m \u001b[0;34m\u001b[0m\u001b[0m\n\u001b[1;32m   2305\u001b[0m     \u001b[0;32mdef\u001b[0m \u001b[0mset_label_position\u001b[0m\u001b[0;34m(\u001b[0m\u001b[0mself\u001b[0m\u001b[0;34m,\u001b[0m \u001b[0mposition\u001b[0m\u001b[0;34m)\u001b[0m\u001b[0;34m:\u001b[0m\u001b[0;34m\u001b[0m\u001b[0;34m\u001b[0m\u001b[0m\n",
      "\u001b[0;32m~/.conda/envs/sniug/lib/python3.8/site-packages/matplotlib/axis.py\u001b[0m in \u001b[0;36m__init__\u001b[0;34m(self, *args, **kwargs)\u001b[0m\n\u001b[1;32m    495\u001b[0m             \u001b[0mmarker\u001b[0m\u001b[0;34m=\u001b[0m\u001b[0mself\u001b[0m\u001b[0;34m.\u001b[0m\u001b[0m_tickmarkers\u001b[0m\u001b[0;34m[\u001b[0m\u001b[0;36m0\u001b[0m\u001b[0;34m]\u001b[0m\u001b[0;34m,\u001b[0m\u001b[0;34m\u001b[0m\u001b[0;34m\u001b[0m\u001b[0m\n\u001b[1;32m    496\u001b[0m         )\n\u001b[0;32m--> 497\u001b[0;31m         self.tick2line.set(\n\u001b[0m\u001b[1;32m    498\u001b[0m             \u001b[0mxdata\u001b[0m\u001b[0;34m=\u001b[0m\u001b[0;34m[\u001b[0m\u001b[0;36m1\u001b[0m\u001b[0;34m]\u001b[0m\u001b[0;34m,\u001b[0m \u001b[0mydata\u001b[0m\u001b[0;34m=\u001b[0m\u001b[0;34m[\u001b[0m\u001b[0;36m0\u001b[0m\u001b[0;34m]\u001b[0m\u001b[0;34m,\u001b[0m\u001b[0;34m\u001b[0m\u001b[0;34m\u001b[0m\u001b[0m\n\u001b[1;32m    499\u001b[0m             \u001b[0mtransform\u001b[0m\u001b[0;34m=\u001b[0m\u001b[0mself\u001b[0m\u001b[0;34m.\u001b[0m\u001b[0maxes\u001b[0m\u001b[0;34m.\u001b[0m\u001b[0mget_yaxis_transform\u001b[0m\u001b[0;34m(\u001b[0m\u001b[0mwhich\u001b[0m\u001b[0;34m=\u001b[0m\u001b[0;34m\"tick2\"\u001b[0m\u001b[0;34m)\u001b[0m\u001b[0;34m,\u001b[0m\u001b[0;34m\u001b[0m\u001b[0;34m\u001b[0m\u001b[0m\n",
      "\u001b[0;32m~/.conda/envs/sniug/lib/python3.8/site-packages/matplotlib/artist.py\u001b[0m in \u001b[0;36mset\u001b[0;34m(self, **kwargs)\u001b[0m\n\u001b[1;32m   1111\u001b[0m         \u001b[0;32mif\u001b[0m \u001b[0mmove_color_to_start\u001b[0m\u001b[0;34m:\u001b[0m\u001b[0;34m\u001b[0m\u001b[0;34m\u001b[0m\u001b[0m\n\u001b[1;32m   1112\u001b[0m             \u001b[0mkwargs\u001b[0m \u001b[0;34m=\u001b[0m \u001b[0;34m{\u001b[0m\u001b[0;34m\"color\"\u001b[0m\u001b[0;34m:\u001b[0m \u001b[0mkwargs\u001b[0m\u001b[0;34m.\u001b[0m\u001b[0mpop\u001b[0m\u001b[0;34m(\u001b[0m\u001b[0;34m\"color\"\u001b[0m\u001b[0;34m)\u001b[0m\u001b[0;34m,\u001b[0m \u001b[0;34m**\u001b[0m\u001b[0mkwargs\u001b[0m\u001b[0;34m}\u001b[0m\u001b[0;34m\u001b[0m\u001b[0;34m\u001b[0m\u001b[0m\n\u001b[0;32m-> 1113\u001b[0;31m         \u001b[0;32mreturn\u001b[0m \u001b[0mself\u001b[0m\u001b[0;34m.\u001b[0m\u001b[0mupdate\u001b[0m\u001b[0;34m(\u001b[0m\u001b[0mkwargs\u001b[0m\u001b[0;34m)\u001b[0m\u001b[0;34m\u001b[0m\u001b[0;34m\u001b[0m\u001b[0m\n\u001b[0m\u001b[1;32m   1114\u001b[0m \u001b[0;34m\u001b[0m\u001b[0m\n\u001b[1;32m   1115\u001b[0m     \u001b[0;32mdef\u001b[0m \u001b[0mfindobj\u001b[0m\u001b[0;34m(\u001b[0m\u001b[0mself\u001b[0m\u001b[0;34m,\u001b[0m \u001b[0mmatch\u001b[0m\u001b[0;34m=\u001b[0m\u001b[0;32mNone\u001b[0m\u001b[0;34m,\u001b[0m \u001b[0minclude_self\u001b[0m\u001b[0;34m=\u001b[0m\u001b[0;32mTrue\u001b[0m\u001b[0;34m)\u001b[0m\u001b[0;34m:\u001b[0m\u001b[0;34m\u001b[0m\u001b[0;34m\u001b[0m\u001b[0m\n",
      "\u001b[0;32m~/.conda/envs/sniug/lib/python3.8/site-packages/matplotlib/artist.py\u001b[0m in \u001b[0;36mupdate\u001b[0;34m(self, props)\u001b[0m\n\u001b[1;32m    996\u001b[0m                         raise AttributeError(f\"{type(self).__name__!r} object \"\n\u001b[1;32m    997\u001b[0m                                              f\"has no property {k!r}\")\n\u001b[0;32m--> 998\u001b[0;31m                     \u001b[0mret\u001b[0m\u001b[0;34m.\u001b[0m\u001b[0mappend\u001b[0m\u001b[0;34m(\u001b[0m\u001b[0mfunc\u001b[0m\u001b[0;34m(\u001b[0m\u001b[0mv\u001b[0m\u001b[0;34m)\u001b[0m\u001b[0;34m)\u001b[0m\u001b[0;34m\u001b[0m\u001b[0;34m\u001b[0m\u001b[0m\n\u001b[0m\u001b[1;32m    999\u001b[0m         \u001b[0;32mif\u001b[0m \u001b[0mret\u001b[0m\u001b[0;34m:\u001b[0m\u001b[0;34m\u001b[0m\u001b[0;34m\u001b[0m\u001b[0m\n\u001b[1;32m   1000\u001b[0m             \u001b[0mself\u001b[0m\u001b[0;34m.\u001b[0m\u001b[0mpchanged\u001b[0m\u001b[0;34m(\u001b[0m\u001b[0;34m)\u001b[0m\u001b[0;34m\u001b[0m\u001b[0;34m\u001b[0m\u001b[0m\n",
      "\u001b[0;31mKeyboardInterrupt\u001b[0m: "
     ]
    },
    {
     "data": {
      "text/plain": [
       "<Figure size 864x288 with 0 Axes>"
      ]
     },
     "metadata": {},
     "output_type": "display_data"
    }
   ],
   "source": [
    "for i, ca in enumerate(pr.sample_CAs(rng=np.random.default_rng(0))):\n",
    "    X_test = torch.from_numpy(make_glider(10).reshape(1, 10, 10)).float()\n",
    "    Y_test = ca(X_test).float()\n",
    "\n",
    "    plt.figure(figsize=(12,4))\n",
    "    plt.suptitle(i)\n",
    "\n",
    "    plt.subplot(1,2,1)\n",
    "    plt.imshow(X_test[0])\n",
    "    plt.axis('off')\n",
    "    plt.title(\"Input\")\n",
    "\n",
    "    plt.subplot(1,2,2)\n",
    "    plt.imshow(Y_test[0])\n",
    "    plt.axis('off')\n",
    "    plt.title(\"Output\")\n",
    "\n",
    "    plt.show()\n",
    "    plt.close()\n",
    "    clear_output(wait=True)"
   ]
  },
  {
   "cell_type": "markdown",
   "metadata": {},
   "source": [
    "## Find entropy of the training CA"
   ]
  },
  {
   "cell_type": "code",
   "execution_count": 8,
   "metadata": {
    "collapsed": true,
    "jupyter": {
     "outputs_hidden": true
    }
   },
   "outputs": [
    {
     "name": "stderr",
     "output_type": "stream",
     "text": [
      "\n",
      "\n",
      "\n",
      "0it [00:00, ?it/s]\u001b[A\u001b[A\u001b[A\n",
      "\n",
      "\n",
      "3it [00:00, 25.26it/s]\u001b[A\u001b[A\u001b[A\n",
      "\n",
      "\n",
      "7it [00:00, 26.54it/s]\u001b[A\u001b[A\u001b[A\n",
      "\n",
      "\n",
      "10it [00:00, 26.64it/s]\u001b[A\u001b[A\u001b[A\n",
      "\n",
      "\n",
      "14it [00:00, 27.97it/s]\u001b[A\u001b[A\u001b[A\n",
      "\n",
      "\n",
      "17it [00:00, 28.52it/s]\u001b[A\u001b[A\u001b[A\n",
      "\n",
      "\n",
      "21it [00:00, 29.65it/s]\u001b[A\u001b[A\u001b[A\n",
      "\n",
      "\n",
      "25it [00:00, 30.73it/s]\u001b[A\u001b[A\u001b[A\n",
      "\n",
      "\n",
      "28it [00:00, 29.58it/s]\u001b[A\u001b[A\u001b[A\n",
      "\n",
      "\n",
      "32it [00:01, 29.93it/s]\u001b[A\u001b[A\u001b[A\n",
      "\n",
      "\n",
      "36it [00:01, 30.42it/s]\u001b[A\u001b[A\u001b[A\n",
      "\n",
      "\n",
      "39it [00:01, 30.07it/s]\u001b[A\u001b[A\u001b[A\n",
      "\n",
      "\n",
      "42it [00:01, 28.92it/s]\u001b[A\u001b[A\u001b[A\n",
      "\n",
      "\n",
      "46it [00:01, 29.42it/s]\u001b[A\u001b[A\u001b[A\n",
      "\n",
      "\n",
      "50it [00:01, 29.89it/s]\u001b[A\u001b[A\u001b[A\n",
      "\n",
      "\n",
      "54it [00:01, 30.52it/s]\u001b[A\u001b[A\u001b[A\n",
      "\n",
      "\n",
      "58it [00:01, 31.67it/s]\u001b[A\u001b[A\u001b[A\n",
      "\n",
      "\n",
      "62it [00:02, 28.03it/s]\u001b[A\u001b[A\u001b[A\n",
      "\n",
      "\n",
      "65it [00:02, 26.39it/s]\u001b[A\u001b[A\u001b[A\n",
      "\n",
      "\n",
      "69it [00:02, 29.12it/s]\u001b[A\u001b[A\u001b[A\n",
      "\n",
      "\n",
      "73it [00:02, 27.57it/s]\u001b[A\u001b[A\u001b[A\n",
      "\n",
      "\n",
      "76it [00:02, 26.40it/s]\u001b[A\u001b[A\u001b[A\n",
      "\n",
      "\n",
      "79it [00:02, 25.17it/s]\u001b[A\u001b[A\u001b[A\n",
      "\n",
      "\n",
      "82it [00:02, 26.00it/s]\u001b[A\u001b[A\u001b[A\n",
      "\n",
      "\n",
      "85it [00:02, 25.28it/s]\u001b[A\u001b[A\u001b[A\n",
      "\n",
      "\n",
      "89it [00:03, 27.04it/s]\u001b[A\u001b[A\u001b[A\n",
      "\n",
      "\n",
      "93it [00:03, 28.58it/s]\u001b[A\u001b[A\u001b[A\n",
      "\n",
      "\n",
      "96it [00:03, 28.96it/s]\u001b[A\u001b[A\u001b[A\n",
      "\n",
      "\n",
      "100it [00:03, 29.96it/s]\u001b[A\u001b[A\u001b[A\n",
      "\n",
      "\n",
      "104it [00:03, 29.49it/s]\u001b[A\u001b[A\u001b[A\n",
      "\n",
      "\n",
      "108it [00:03, 30.29it/s]\u001b[A\u001b[A\u001b[A\n",
      "\n",
      "\n",
      "112it [00:03, 27.16it/s]\u001b[A\u001b[A\u001b[A\n",
      "\n",
      "\n",
      "115it [00:04, 25.30it/s]\u001b[A\u001b[A\u001b[A\n",
      "\n",
      "\n",
      "118it [00:04, 24.06it/s]\u001b[A\u001b[A\u001b[A\n",
      "\n",
      "\n",
      "121it [00:04, 24.41it/s]\u001b[A\u001b[A\u001b[A\n",
      "\n",
      "\n",
      "124it [00:04, 24.55it/s]\u001b[A\u001b[A\u001b[A\n",
      "\n",
      "\n",
      "128it [00:04, 26.80it/s]\u001b[A\u001b[A\u001b[A\n",
      "\n",
      "\n",
      "131it [00:04, 27.19it/s]\u001b[A\u001b[A\u001b[A\n",
      "\n",
      "\n",
      "134it [00:04, 27.65it/s]\u001b[A\u001b[A\u001b[A\n",
      "\n",
      "\n",
      "138it [00:04, 29.05it/s]\u001b[A\u001b[A\u001b[A\n",
      "\n",
      "\n",
      "143it [00:04, 31.94it/s]\u001b[A\u001b[A\u001b[A\n",
      "\n",
      "\n",
      "147it [00:05, 33.39it/s]\u001b[A\u001b[A\u001b[A\n",
      "\n",
      "\n",
      "151it [00:05, 33.02it/s]\u001b[A\u001b[A\u001b[A\n",
      "\n",
      "\n",
      "156it [00:05, 34.76it/s]\u001b[A\u001b[A\u001b[A\n",
      "\n",
      "\n",
      "161it [00:05, 36.20it/s]\u001b[A\u001b[A\u001b[A\n",
      "\n",
      "\n",
      "165it [00:05, 35.76it/s]\u001b[A\u001b[A\u001b[A\n",
      "\n",
      "\n",
      "169it [00:05, 35.65it/s]\u001b[A\u001b[A\u001b[A\n",
      "\n",
      "\n",
      "173it [00:05, 33.95it/s]\u001b[A\u001b[A\u001b[A\n",
      "\n",
      "\n",
      "177it [00:05, 34.47it/s]\u001b[A\u001b[A\u001b[A\n",
      "\n",
      "\n",
      "181it [00:06, 33.10it/s]\u001b[A\u001b[A\u001b[A\n",
      "\n",
      "\n",
      "185it [00:06, 33.90it/s]\u001b[A\u001b[A\u001b[A\n",
      "\n",
      "\n",
      "190it [00:06, 36.28it/s]\u001b[A\u001b[A\u001b[A\n",
      "\n",
      "\n",
      "194it [00:06, 34.66it/s]\u001b[A\u001b[A\u001b[A\n",
      "\n",
      "\n",
      "198it [00:06, 32.87it/s]\u001b[A\u001b[A\u001b[A\n",
      "\n",
      "\n",
      "202it [00:06, 33.64it/s]\u001b[A\u001b[A\u001b[A\n",
      "\n",
      "\n",
      "206it [00:06, 34.90it/s]\u001b[A\u001b[A\u001b[A\n",
      "\n",
      "\n",
      "210it [00:06, 36.09it/s]\u001b[A\u001b[A\u001b[A\n",
      "\n",
      "\n",
      "214it [00:06, 36.46it/s]\u001b[A\u001b[A\u001b[A\n",
      "\n",
      "\n",
      "218it [00:07, 36.12it/s]\u001b[A\u001b[A\u001b[A\n",
      "\n",
      "\n",
      "222it [00:07, 33.56it/s]\u001b[A\u001b[A\u001b[A\n",
      "\n",
      "\n",
      "226it [00:07, 33.00it/s]\u001b[A\u001b[A\u001b[A\n",
      "\n",
      "\n",
      "230it [00:07, 32.80it/s]\u001b[A\u001b[A\u001b[A\n",
      "\n",
      "\n",
      "234it [00:07, 32.81it/s]\u001b[A\u001b[A\u001b[A\n",
      "\n",
      "\n",
      "238it [00:07, 28.34it/s]\u001b[A\u001b[A\u001b[A\n",
      "\n",
      "\n",
      "241it [00:07, 26.06it/s]\u001b[A\u001b[A\u001b[A\n",
      "\n",
      "\n",
      "244it [00:08, 25.02it/s]\u001b[A\u001b[A\u001b[A\n",
      "\n",
      "\n",
      "248it [00:08, 26.82it/s]\u001b[A\u001b[A\u001b[A\n",
      "\n",
      "\n",
      "252it [00:08, 29.12it/s]\u001b[A\u001b[A\u001b[A\n",
      "\n",
      "\n",
      "256it [00:08, 26.39it/s]\u001b[A\u001b[A\u001b[A\n",
      "\n",
      "\n",
      "259it [00:08, 25.00it/s]\u001b[A\u001b[A\u001b[A\n",
      "\n",
      "\n",
      "262it [00:08, 25.93it/s]\u001b[A\u001b[A\u001b[A\n",
      "\n",
      "\n",
      "266it [00:08, 27.52it/s]\u001b[A\u001b[A\u001b[A\n",
      "\n",
      "\n",
      "270it [00:08, 29.20it/s]\u001b[A\u001b[A\u001b[A\n",
      "\n",
      "\n",
      "274it [00:09, 28.80it/s]\u001b[A\u001b[A\u001b[A\n",
      "\n",
      "\n",
      "277it [00:09, 26.04it/s]\u001b[A\u001b[A\u001b[A\n",
      "\n",
      "\n",
      "280it [00:09, 24.75it/s]\u001b[A\u001b[A\u001b[A\n",
      "\n",
      "\n",
      "283it [00:09, 25.43it/s]\u001b[A\u001b[A\u001b[A\n",
      "\n",
      "\n",
      "286it [00:09, 25.41it/s]\u001b[A\u001b[A\u001b[A\n",
      "\n",
      "\n",
      "290it [00:09, 26.34it/s]\u001b[A\u001b[A\u001b[A\n",
      "\n",
      "\n",
      "293it [00:09, 24.40it/s]\u001b[A\u001b[A\u001b[A\n",
      "\n",
      "\n",
      "297it [00:10, 25.95it/s]\u001b[A\u001b[A\u001b[A\n",
      "\n",
      "\n",
      "300it [00:10, 26.87it/s]\u001b[A\u001b[A\u001b[A\n",
      "\n",
      "\n",
      "303it [00:10, 25.29it/s]\u001b[A\u001b[A\u001b[A\n",
      "\n",
      "\n",
      "306it [00:10, 24.20it/s]\u001b[A\u001b[A\u001b[A\n",
      "\n",
      "\n",
      "309it [00:10, 23.17it/s]\u001b[A\u001b[A\u001b[A\n",
      "\n",
      "\n",
      "313it [00:10, 25.85it/s]\u001b[A\u001b[A\u001b[A\n",
      "\n",
      "\n",
      "316it [00:10, 26.55it/s]\u001b[A\u001b[A\u001b[A\n",
      "\n",
      "\n",
      "319it [00:10, 26.28it/s]\u001b[A\u001b[A\u001b[A\n",
      "\n",
      "\n",
      "322it [00:11, 24.41it/s]\u001b[A\u001b[A\u001b[A\n",
      "\n",
      "\n",
      "325it [00:11, 24.24it/s]\u001b[A\u001b[A\u001b[A\n",
      "\n",
      "\n",
      "328it [00:11, 24.72it/s]\u001b[A\u001b[A\u001b[A\n",
      "\n",
      "\n",
      "331it [00:11, 20.91it/s]\u001b[A\u001b[A\u001b[A\n",
      "\n",
      "\n",
      "334it [00:11, 19.11it/s]\u001b[A\u001b[A\u001b[A\n",
      "\n",
      "\n",
      "337it [00:11, 20.36it/s]\u001b[A\u001b[A\u001b[A\n",
      "\n",
      "\n",
      "341it [00:11, 23.39it/s]\u001b[A\u001b[A\u001b[A\n",
      "\n",
      "\n",
      "345it [00:11, 26.28it/s]\u001b[A\u001b[A\u001b[A\n",
      "\n",
      "\n",
      "349it [00:12, 28.82it/s]\u001b[A\u001b[A\u001b[A\n",
      "\n",
      "\n",
      "353it [00:12, 30.72it/s]\u001b[A\u001b[A\u001b[A\n",
      "\n",
      "\n",
      "357it [00:12, 27.22it/s]\u001b[A\u001b[A\u001b[A\n",
      "\n",
      "\n",
      "360it [00:12, 27.35it/s]\u001b[A\u001b[A\u001b[A\n",
      "\n",
      "\n",
      "364it [00:12, 28.87it/s]\u001b[A\u001b[A\u001b[A\n",
      "\n",
      "\n",
      "368it [00:12, 30.13it/s]\u001b[A\u001b[A\u001b[A\n",
      "\n",
      "\n",
      "372it [00:12, 29.62it/s]\u001b[A\u001b[A\u001b[A\n",
      "\n",
      "\n",
      "376it [00:13, 30.44it/s]\u001b[A\u001b[A\u001b[A\n",
      "\n",
      "\n",
      "380it [00:13, 31.67it/s]\u001b[A\u001b[A\u001b[A\n",
      "\n",
      "\n",
      "384it [00:13, 28.27it/s]\u001b[A\u001b[A\u001b[A\n",
      "\n",
      "\n",
      "387it [00:13, 24.23it/s]\u001b[A\u001b[A\u001b[A\n",
      "\n",
      "\n",
      "390it [00:13, 25.52it/s]\u001b[A\u001b[A\u001b[A\n",
      "\n",
      "\n",
      "393it [00:13, 25.74it/s]\u001b[A\u001b[A\u001b[A\n",
      "\n",
      "\n",
      "396it [00:13, 25.09it/s]\u001b[A\u001b[A\u001b[A\n",
      "\n",
      "\n",
      "399it [00:13, 24.37it/s]\u001b[A\u001b[A\u001b[A\n",
      "\n",
      "\n",
      "402it [00:14, 23.60it/s]\u001b[A\u001b[A\u001b[A\n",
      "\n",
      "\n",
      "405it [00:14, 22.08it/s]\u001b[A\u001b[A\u001b[A\n",
      "\n",
      "\n",
      "408it [00:14, 22.03it/s]\u001b[A\u001b[A\u001b[A\n",
      "\n",
      "\n",
      "412it [00:14, 24.52it/s]\u001b[A\u001b[A\u001b[A\n",
      "\n",
      "\n",
      "415it [00:14, 24.91it/s]\u001b[A\u001b[A\u001b[A\n",
      "\n",
      "\n",
      "419it [00:14, 27.44it/s]\u001b[A\u001b[A\u001b[A\n",
      "\n",
      "\n",
      "422it [00:14, 27.13it/s]\u001b[A\u001b[A\u001b[A\n",
      "\n",
      "\n",
      "425it [00:14, 27.41it/s]\u001b[A\u001b[A\u001b[A\n",
      "\n",
      "\n",
      "429it [00:15, 28.04it/s]\u001b[A\u001b[A\u001b[A\n",
      "\n",
      "\n",
      "433it [00:15, 29.26it/s]\u001b[A\u001b[A\u001b[A\n",
      "\n",
      "\n",
      "436it [00:15, 23.21it/s]\u001b[A\u001b[A\u001b[A\n",
      "\n",
      "\n",
      "439it [00:15, 21.00it/s]\u001b[A\u001b[A\u001b[A\n",
      "\n",
      "\n",
      "442it [00:15, 22.75it/s]\u001b[A\u001b[A\u001b[A\n",
      "\n",
      "\n",
      "446it [00:15, 25.27it/s]\u001b[A\u001b[A\u001b[A\n",
      "\n",
      "\n",
      "450it [00:15, 27.81it/s]\u001b[A\u001b[A\u001b[A\n",
      "\n",
      "\n",
      "454it [00:16, 25.47it/s]\u001b[A\u001b[A\u001b[A\n",
      "\n",
      "\n",
      "457it [00:16, 24.21it/s]\u001b[A\u001b[A\u001b[A\n",
      "\n",
      "\n",
      "461it [00:16, 26.70it/s]\u001b[A\u001b[A\u001b[A\n",
      "\n",
      "\n",
      "464it [00:16, 26.88it/s]\u001b[A\u001b[A\u001b[A\n",
      "\n",
      "\n",
      "467it [00:16, 26.27it/s]\u001b[A\u001b[A\u001b[A\n",
      "\n",
      "\n",
      "470it [00:16, 24.42it/s]\u001b[A\u001b[A\u001b[A\n",
      "\n",
      "\n",
      "473it [00:16, 24.20it/s]\u001b[A\u001b[A\u001b[A\n",
      "\n",
      "\n",
      "476it [00:16, 22.84it/s]\u001b[A\u001b[A\u001b[A\n",
      "\n",
      "\n",
      "479it [00:17, 23.87it/s]\u001b[A\u001b[A\u001b[A\n",
      "\n",
      "\n",
      "482it [00:17, 22.36it/s]\u001b[A\u001b[A\u001b[A\n",
      "\n",
      "\n",
      "485it [00:17, 21.56it/s]\u001b[A\u001b[A\u001b[A\n",
      "\n",
      "\n",
      "489it [00:17, 24.90it/s]\u001b[A\u001b[A\u001b[A\n",
      "\n",
      "\n",
      "492it [00:17, 24.86it/s]\u001b[A\u001b[A\u001b[A\n",
      "\n",
      "\n",
      "496it [00:17, 27.27it/s]\u001b[A\u001b[A\u001b[A\n",
      "\n",
      "\n",
      "499it [00:17, 27.94it/s]\u001b[A\u001b[A\u001b[A\n",
      "\n",
      "\n",
      "502it [00:17, 27.09it/s]\u001b[A\u001b[A\u001b[A\n",
      "\n",
      "\n",
      "506it [00:18, 29.15it/s]\u001b[A\u001b[A\u001b[A\n",
      "\n",
      "\n",
      "512it [00:18, 27.94it/s]\u001b[A\u001b[A\u001b[A\n"
     ]
    },
    {
     "data": {
      "text/plain": [
       "[<matplotlib.lines.Line2D at 0x7f0be81dc340>]"
      ]
     },
     "execution_count": 8,
     "metadata": {},
     "output_type": "execute_result"
    },
    {
     "data": {
      "image/png": "[encoded data removed]",
      "text/plain": [
       "<Figure size 720x576 with 1 Axes>"
      ]
     },
     "metadata": {
      "needs_background": "light"
     },
     "output_type": "display_data"
    },
    {
     "name": "stderr",
     "output_type": "stream",
     "text": [
      "0it [01:22, ?it/s]\n",
      "0it [01:42, ?it/s]\n"
     ]
    }
   ],
   "source": [
    "entropies = [pr.ca_entropy(a) for a in tqdm(pr.sample_CAs(rng=np.random.default_rng(0)))]\n",
    "plt.plot(entropies)"
   ]
  },
  {
   "cell_type": "markdown",
   "metadata": {},
   "source": [
    "## Training"
   ]
  },
  {
   "cell_type": "code",
   "execution_count": 44,
   "metadata": {},
   "outputs": [],
   "source": [
    "ca = list(pr.sample_CAs(rng=rng))[24]\n",
    "\n",
    "layer_dims = [100] + [100] * 11  # neighborhood conv + mlpconv layers\n",
    "rng = np.random.default_rng(0)\n",
    "\n",
    "model, optimizer, losses = pr.train(\n",
    "    ca,\n",
    "    layer_dims,\n",
    "    rng,\n",
    "    train_noise=0.05\n",
    ")"
   ]
  },
  {
   "cell_type": "code",
   "execution_count": 38,
   "metadata": {},
   "outputs": [
    {
     "data": {
      "image/png": "[encoded data removed]",
      "text/plain": [
       "<Figure size 720x360 with 1 Axes>"
      ]
     },
     "metadata": {
      "needs_background": "light"
     },
     "output_type": "display_data"
    }
   ],
   "source": [
    "plt.figure(figsize=(10, 5))\n",
    "plt.plot(losses)\n",
    "plt.loglog();"
   ]
  },
  {
   "cell_type": "code",
   "execution_count": 39,
   "metadata": {},
   "outputs": [
    {
     "name": "stdout",
     "output_type": "stream",
     "text": [
      "max loss: 0.9855516\n"
     ]
    },
    {
     "data": {
      "image/png": "[encoded data removed]",
      "text/plain": [
       "<Figure size 864x288 with 4 Axes>"
      ]
     },
     "metadata": {
      "needs_background": "light"
     },
     "output_type": "display_data"
    }
   ],
   "source": [
    "x = np.random.default_rng().choice([0, 1], size=100)\n",
    "# x = make_glider(10)\n",
    "X_test = torch.from_numpy(x.reshape(1, 10, 10)).float()\n",
    "Y_test = ca(X_test).float()\n",
    "\n",
    "if torch.cuda.is_available():\n",
    "    X_test = X_test.cuda()\n",
    "Y_pred = model(X_test)\n",
    "\n",
    "\n",
    "if torch.cuda.is_available():\n",
    "    X_test = X_test.cpu()\n",
    "    Y_pred = Y_pred.cpu()\n",
    "\n",
    "X_test = X_test.detach().numpy()\n",
    "Y_test = Y_test.detach().numpy()\n",
    "Y_pred = Y_pred.detach().numpy()\n",
    "\n",
    "plt.figure(figsize=(12, 4))\n",
    "\n",
    "plt.subplot(141)\n",
    "plt.imshow(X_test[0])\n",
    "plt.axis('off')\n",
    "plt.title(\"Input\")\n",
    "\n",
    "plt.subplot(142)\n",
    "plt.imshow(Y_test[0])\n",
    "plt.axis('off')\n",
    "plt.title(\"Expected Output\")\n",
    "\n",
    "plt.subplot(143)\n",
    "plt.imshow(Y_pred[0], vmin=0, vmax=1)\n",
    "plt.axis('off')\n",
    "plt.title(\"Observed Output\")\n",
    "\n",
    "plt.subplot(144)\n",
    "plt.imshow((Y_pred[0] - Y_test[0]) ** 2)\n",
    "plt.axis('off')\n",
    "plt.title(\"Normalised Diff\")\n",
    "\n",
    "print('max loss:', ((Y_pred[0] - Y_test[0]) ** 2).max())"
   ]
  },
  {
   "cell_type": "markdown",
   "metadata": {},
   "source": [
    "## Find model entropies"
   ]
  },
  {
   "cell_type": "code",
   "execution_count": 40,
   "metadata": {},
   "outputs": [
    {
     "data": {
      "text/plain": [
       "1.0915216832582784"
      ]
     },
     "execution_count": 40,
     "metadata": {},
     "output_type": "execute_result"
    }
   ],
   "source": [
    "pr.ca_entropy(ca)"
   ]
  },
  {
   "cell_type": "code",
   "execution_count": 41,
   "metadata": {},
   "outputs": [
    {
     "data": {
      "text/plain": [
       "(8.79856952502345,\n",
       " [8.79856952502345,\n",
       "  8.79856952502345,\n",
       "  8.79856952502345,\n",
       "  8.79856952502345,\n",
       "  8.79856952502345,\n",
       "  8.78706811042932,\n",
       "  8.775827265296634,\n",
       "  8.790125915645746,\n",
       "  8.735721146055823,\n",
       "  8.783238696890336,\n",
       "  8.756462542237626,\n",
       "  8.726592849017488],\n",
       " [array([0.73788343, 0.94320076, 0.84942086, 0.90707942, 0.97058382,\n",
       "         0.95804202, 0.96795054, 0.61606136, 0.83511649, 0.86628685,\n",
       "         0.51297285, 0.821994  , 0.68280396, 0.37518466, 0.99447011,\n",
       "         1.        , 0.65195376, 0.9744894 , 0.55054184, 0.70796314,\n",
       "         0.99330704, 0.35652411, 0.67180434, 0.99999549, 0.58423881,\n",
       "         0.50179827, 0.84854818, 0.99929544, 0.93238236, 0.24515049,\n",
       "         0.41525664, 0.99508474, 0.91235172, 0.97550543, 0.74028638,\n",
       "         0.68416171, 0.16866093, 0.93899158, 0.26200376, 0.78556029,\n",
       "         0.27297086, 0.20982925, 0.25922919, 0.21286259, 0.99295426,\n",
       "         0.97550543, 0.62980503, 0.85967398, 0.79504028, 0.48464774,\n",
       "         0.94268319, 0.52756165, 0.28106313, 0.853742  , 0.66055628,\n",
       "         0.1653459 , 0.79814446, 0.92600985, 0.82862679, 0.98555975,\n",
       "         0.63430955, 0.75902463, 0.20982925, 0.853742  , 0.3445726 ,\n",
       "         0.89317346, 0.35177092, 0.83511649, 0.44269755, 0.56594664,\n",
       "         0.85967398, 0.84502915, 0.91556366, 0.94873317, 0.96946939,\n",
       "         0.96316725, 0.96191809, 0.86134378, 0.76244341, 0.86134378,\n",
       "         0.99222138, 0.10473589, 0.96946939, 0.76244341, 0.57266539,\n",
       "         0.99001785, 0.9248187 , 0.99853878, 0.15184252, 0.47882405,\n",
       "         0.51848467, 0.48657693, 0.74386529, 0.40875166, 0.9037005 ,\n",
       "         0.9971804 , 0.70667207, 0.57266539, 0.51848467, 0.99145204]),\n",
       "  array([0.84236004, 0.77362772, 0.99998986, 0.        , 0.97779457,\n",
       "         0.02521187, 0.92894388, 0.90640881, 0.91299921, 0.19751658,\n",
       "         0.98424878, 0.85029072, 0.3493807 , 0.88731726, 0.85799307,\n",
       "         0.06372124, 0.89815926, 0.99945441, 0.82390377, 0.9999087 ,\n",
       "         0.98555975, 0.98555975, 0.20370945, 0.99001785, 0.25363946,\n",
       "         0.836032  , 0.32246277, 0.50927053, 0.89317346, 0.36825171,\n",
       "         0.47491118, 0.4343802 , 0.75326076, 0.48077133, 0.93952631,\n",
       "         0.02521187, 0.64025694, 0.38204217, 0.70407905, 0.05475066,\n",
       "         0.89099722, 0.99740159, 0.47687068, 0.87272387, 0.8850774 ,\n",
       "         0.87351623, 0.5365046 , 0.74741375, 0.        , 0.83235261,\n",
       "         0.14144054, 0.15864413, 0.88205355, 0.96275324, 0.756729  ,\n",
       "         0.53827737, 0.99683164, 0.        , 0.89815926, 0.84679433,\n",
       "         0.44681553, 0.32744492, 0.53294331, 0.37747879, 0.62678087,\n",
       "         0.99706641, 0.41525664, 0.99929544, 0.24799433, 0.95067209,\n",
       "         0.875877  , 0.07238758, 0.35415203, 0.96398814, 0.79085809,\n",
       "         0.91492637, 0.78126556, 0.20677831, 0.8865733 , 0.87898682,\n",
       "         0.90973612, 0.17846946, 0.67180434, 0.58912828, 0.01385706,\n",
       "         0.98086719, 0.13077942, 0.37288215, 0.04058266, 0.71309132,\n",
       "         0.58095579, 0.        , 0.7769202 , 0.22777597, 0.62678087,\n",
       "         0.96678664, 0.94625495, 0.71689983, 0.63131075, 0.98027122]),\n",
       "  array([0.99781682, 0.68144241, 0.4065684 , 0.        , 0.87033048,\n",
       "         0.96233685, 0.97239423, 0.97874073, 0.        , 0.46701125,\n",
       "         0.92836207, 0.67180434, 0.98869941, 0.02521187, 0.06372124,\n",
       "         0.02521187, 0.55400006, 0.92952319, 0.46701125, 0.91808736,\n",
       "         0.85630102, 0.97583944, 0.94873317, 0.9301    , 0.63877634,\n",
       "         0.99998986, 0.83785438, 0.79814446, 0.        , 0.88731726,\n",
       "         0.85967398, 0.48657693, 0.24229219, 0.69753259, 0.98753774,\n",
       "         0.93517946, 0.21587865, 0.8341981 , 0.        , 0.99980951,\n",
       "         0.80628744, 0.89745487, 0.48850016, 0.94111578, 0.90973612,\n",
       "         0.99810451, 0.99671086, 0.93350864, 0.99447011, 0.99997182,\n",
       "         0.06372124, 0.90025676, 0.        , 0.85883491, 0.11236071,\n",
       "         0.91683059, 0.57599584, 0.37057119, 0.82768804, 0.        ,\n",
       "         0.32992096, 0.22777597, 0.13077942, 0.71053443, 0.53472659,\n",
       "         0.99203247, 0.8850774 , 0.97414606, 0.47097367, 0.49613403,\n",
       "         0.0356208 , 0.9814539 , 0.        , 0.70147146, 0.        ,\n",
       "         0.68551568, 0.69621226, 0.6475981 , 0.99971144, 0.39107119,\n",
       "         0.96479955, 0.69488824, 0.93952631, 0.875877  , 0.35177092,\n",
       "         0.44269755, 0.05013316, 0.58259965, 0.95304136, 0.16866093,\n",
       "         0.98847166, 0.59074883, 0.58259965, 0.04541469, 0.9916478 ,\n",
       "         0.55914976, 0.45294255, 0.99998986, 0.20062232, 0.89317346]),\n",
       "  array([0.99478197, 0.        , 0.        , 0.50179827, 0.        ,\n",
       "         0.9744894 , 0.48077133, 0.98504226, 0.87351623, 0.19751658,\n",
       "         0.14144054, 0.90774746, 0.93406806, 0.93952631, 0.89172527,\n",
       "         0.99001785, 0.        , 0.78556029, 0.59397609, 0.87665851,\n",
       "         0.39330844, 0.99295426, 0.99348001, 0.52213174, 0.33972708,\n",
       "         0.74976259, 0.96795054, 0.74028638, 0.        , 0.04541469,\n",
       "         0.98980383, 0.68144241, 0.18808391, 0.94575201, 0.92719097,\n",
       "         0.756729  , 0.49802789, 0.76695602, 0.28373605, 0.64025694,\n",
       "         0.75787846, 0.90025676, 0.55914976, 0.81716781, 0.37747879,\n",
       "         0.86051027, 0.54180727, 0.72442106, 0.45699439, 0.1653459 ,\n",
       "         0.38431154, 0.        , 0.97095059, 0.94524664, 0.63131075,\n",
       "         0.44681553, 0.01385706, 0.        , 0.70277708, 0.14840256,\n",
       "         0.70147146, 0.74267571, 0.75209803, 0.07238758, 0.96191809,\n",
       "         0.94268319, 0.53827737, 0.        , 0.49423436, 0.08079314,\n",
       "         0.40875166, 0.98656712, 0.16866093, 0.41092741, 0.9999087 ,\n",
       "         0.17522218, 0.99431078, 0.40217919, 0.20677831, 0.82956261,\n",
       "         0.86710106, 0.55572163, 0.        , 0.27837806, 0.53115474,\n",
       "         0.77141671, 0.        , 0.52756165, 0.821994  , 0.        ,\n",
       "         0.955805  , 0.99566306, 0.96871467, 0.81910718, 0.44681553,\n",
       "         0.99365071, 0.54706336, 0.48271255, 0.99810451, 0.23362833]),\n",
       "  array([0.        , 0.62221264, 0.        , 0.        , 0.49423436,\n",
       "         0.        , 0.87272387, 0.01385706, 0.99988729, 0.9811617 ,\n",
       "         0.91871194, 0.62068131, 0.99988729, 0.        , 0.9659989 ,\n",
       "         0.32744492, 0.84502915, 0.        , 0.94422858, 0.        ,\n",
       "         0.97996976, 0.49613403, 0.14840256, 0.13791682, 0.10473589,\n",
       "         0.        , 0.        , 0.05475066, 0.23070996, 0.        ,\n",
       "         0.96984322, 0.02521187, 0.09694461, 0.62221264, 0.56255805,\n",
       "         0.65913252, 0.0356208 , 0.7269    , 0.14144054, 0.28373605,\n",
       "         0.        , 0.07662072, 0.        , 0.94824238, 0.0356208 ,\n",
       "         0.48271255, 0.19751658, 0.99992786, 0.99552188, 0.35415203,\n",
       "         0.95162704, 0.98451557, 0.        , 0.91808736, 0.01385706,\n",
       "         0.19439186, 0.19751658, 0.97021469, 0.97779457, 0.49802789,\n",
       "         0.24229219, 0.        , 1.        , 0.05475066, 0.94268319,\n",
       "         0.74028638, 0.49423436, 0.28373605, 0.0356208 , 0.68416171,\n",
       "         0.76470623, 0.65339755, 0.37747879, 0.71309132, 0.28639696,\n",
       "         0.81325332, 0.836032  , 0.        , 0.86134378, 0.60670332,\n",
       "         0.3493807 , 0.29430905, 0.01385706, 0.49232884, 0.08490859,\n",
       "         0.1816952 , 0.98753774, 0.90973612, 0.        , 0.97131502,\n",
       "         0.0356208 , 0.68007705, 0.30726836, 0.99478197, 0.        ,\n",
       "         0.        , 0.71053443, 0.        , 0.72936499, 0.27297086]),\n",
       "  array([0.        , 0.53115474, 0.99508474, 0.        , 0.08897041,\n",
       "         0.17195284, 0.08897041, 0.21887773, 0.        , 0.87821342,\n",
       "         0.08897041, 0.99940368, 0.        , 0.04541469, 0.        ,\n",
       "         0.88205355, 0.        , 0.        , 0.        , 0.56085638,\n",
       "         0.80122098, 0.02521187, 0.        , 0.49423436, 0.75787846,\n",
       "         0.97905146, 0.        , 0.38882599, 0.4343802 , 0.54531647,\n",
       "         0.22777597, 0.49991596, 0.        , 0.        , 0.        ,\n",
       "         0.3323871 , 0.23362833, 0.14840256, 0.52213174, 0.0356208 ,\n",
       "         0.4447599 , 0.20982925, 0.96233685, 0.99929544, 0.        ,\n",
       "         0.98231661, 0.27297086, 0.13436344, 0.38431154, 0.80729162,\n",
       "         0.98936893, 0.02521187, 0.        , 0.05475066, 0.21887773,\n",
       "         0.85714844, 0.12351525, 0.1816952 , 0.        , 0.90640881,\n",
       "         0.45090682, 0.86382773, 0.        , 0.56085638, 0.        ,\n",
       "         0.        , 0.        , 0.28106313, 0.        , 0.05475066,\n",
       "         0.31995646, 0.01385706, 0.18489986, 0.02521187, 0.09298153,\n",
       "         0.07238758, 0.37288215, 0.39775935, 0.11236071, 0.22482611,\n",
       "         0.78768879, 0.        , 0.01385706, 0.        , 0.90505983,\n",
       "         0.02521187, 0.        , 0.98424878, 0.17846946, 0.        ,\n",
       "         0.        , 0.        , 0.52213174, 0.        , 0.63430955,\n",
       "         0.22186012, 0.60670332, 0.99761373, 0.        , 0.        ]),\n",
       "  array([0.73303643, 0.9037005 , 0.65339755, 0.24515049, 0.79399938,\n",
       "         0.11983279, 0.        , 0.        , 0.        , 0.19439186,\n",
       "         0.12716372, 0.        , 0.        , 0.        , 0.9744894 ,\n",
       "         0.        , 0.        , 0.01385706, 0.15184252, 0.99980951,\n",
       "         0.        , 0.0356208 , 0.99566306, 0.        , 0.71053443,\n",
       "         0.        , 0.52213174, 0.        , 0.302118  , 0.71816221,\n",
       "         0.80019854, 0.289046  , 0.        , 0.99447011, 0.        ,\n",
       "         0.91808736, 0.01385706, 0.24229219, 0.20677831, 0.        ,\n",
       "         0.        , 0.61760568, 0.89532598, 0.77030638, 0.        ,\n",
       "         0.61140216, 0.        , 0.07238758, 0.57599584, 0.98656712,\n",
       "         0.        , 0.        , 0.        , 0.5776539 , 0.51665292,\n",
       "         0.        , 0.9916478 , 0.17195284, 0.0356208 , 0.        ,\n",
       "         0.25082392, 0.02521187, 0.07662072, 0.41092741, 0.        ,\n",
       "         0.12716372, 0.        , 0.30726836, 0.01385706, 0.83694463,\n",
       "         0.        , 0.40217919, 0.84325259, 0.80729162, 0.90095071,\n",
       "         0.51665292, 0.10473589, 0.44886449, 0.14144054, 0.        ,\n",
       "         0.17195284, 0.58912828, 0.        , 0.48077133, 0.97203684,\n",
       "         0.81813898, 0.74148274, 0.11983279, 0.56085638, 0.29430905,\n",
       "         0.        , 0.05475066, 0.        , 0.96439503, 0.        ,\n",
       "         0.        , 0.92179686, 0.02521187, 0.99431078, 0.64613808]),\n",
       "  array([0.        , 0.        , 0.60827403, 0.61295961, 0.73181608,\n",
       "         0.        , 0.81226722, 0.01385706, 0.64320574, 0.        ,\n",
       "         0.93628097, 0.99967424, 0.9964625 , 0.09694461, 0.26476503,\n",
       "         0.        , 0.13436344, 0.        , 0.94268319, 0.63430955,\n",
       "         0.54004491, 0.33484344, 0.66480377, 0.0356208 , 0.35415203,\n",
       "         0.14144054, 0.96946939, 0.        , 0.94111578, 0.3797646 ,\n",
       "         0.98478007, 0.05475066, 0.52213174, 0.87975754, 0.        ,\n",
       "         0.        , 0.        , 0.        , 0.78234397, 0.94422858,\n",
       "         0.55743819, 0.96107343, 0.        , 0.93406806, 0.        ,\n",
       "         0.53115474, 0.        , 0.        , 0.20677831, 0.        ,\n",
       "         0.60670332, 0.04541469, 0.        , 0.        , 0.        ,\n",
       "         0.        , 0.86217453, 0.        , 0.15525614, 0.27568069,\n",
       "         0.        , 0.836032  , 0.        , 0.        , 0.5642548 ,\n",
       "         0.06372124, 0.        , 0.        , 0.93517946, 0.        ,\n",
       "         0.0356208 , 0.11983279, 0.31237534, 0.49991596, 0.        ,\n",
       "         0.72936499, 0.        , 0.80122098, 0.45294255, 0.59397609,\n",
       "         0.        , 0.13436344, 0.78980478, 0.        , 0.10473589,\n",
       "         0.97617112, 0.0356208 , 0.        , 0.70796314, 0.10086201,\n",
       "         0.07238758, 0.34698129, 0.44062845, 0.        , 0.08079314,\n",
       "         0.        , 0.26200376, 0.44062845, 0.        , 0.17846946]),\n",
       "  array([0.        , 0.        , 0.01385706, 0.69884922, 0.85029072,\n",
       "         0.        , 0.45090682, 0.28639696, 0.        , 0.        ,\n",
       "         0.84854818, 0.        , 0.91808736, 0.97874073, 0.23362833,\n",
       "         0.16200717, 0.98847166, 0.89815926, 0.54356444, 0.        ,\n",
       "         0.52213174, 0.        , 0.45901057, 0.15525614, 0.79814446,\n",
       "         0.        , 0.23362833, 0.71181467, 0.        , 0.63281226,\n",
       "         0.        , 0.        , 0.65050593, 0.        , 0.        ,\n",
       "         0.15525614, 0.        , 0.99683164, 0.        , 0.        ,\n",
       "         0.08079314, 0.77909923, 0.88805855, 0.02521187, 0.        ,\n",
       "         0.        , 0.        , 0.        , 0.        , 0.07238758,\n",
       "         0.93682802, 0.        , 0.55400006, 0.        , 0.62678087,\n",
       "         0.95067209, 0.12716372, 0.63430955, 0.        , 0.        ,\n",
       "         0.54356444, 0.52936087, 0.71436439, 0.96833378, 0.        ,\n",
       "         0.        , 0.        , 0.11236071, 0.13791682, 0.73908661,\n",
       "         0.        , 0.        , 0.        , 0.        , 0.69089387,\n",
       "         0.        , 0.        , 0.        , 0.        , 0.        ,\n",
       "         0.        , 0.82580177, 0.44062845, 0.        , 0.1449355 ,\n",
       "         0.        , 0.86872125, 0.25363946, 0.        , 0.95067209,\n",
       "         0.96064753, 0.        , 0.        , 0.88805855, 0.        ,\n",
       "         0.        , 0.        , 0.        , 0.        , 0.24799433]),\n",
       "  array([0.        , 0.07238758, 0.        , 0.56931571, 0.18808391,\n",
       "         0.77472841, 0.        , 0.69621226, 0.72317634, 0.86872125,\n",
       "         0.96871467, 0.        , 0.        , 0.        , 0.98958752,\n",
       "         0.        , 0.50741096, 0.81028602, 0.16866093, 0.02521187,\n",
       "         0.        , 0.        , 0.42595205, 0.71309132, 0.        ,\n",
       "         0.47882405, 0.        , 0.9652017 , 0.38204217, 0.        ,\n",
       "         0.        , 0.11611508, 0.27837806, 0.        , 0.69884922,\n",
       "         0.01385706, 0.23070996, 0.65770478, 0.07238758, 0.        ,\n",
       "         0.15864413, 0.7354668 , 0.        , 0.29692332, 0.        ,\n",
       "         0.        , 0.        , 0.9553504 , 0.        , 0.43018015,\n",
       "         0.        , 0.        , 0.02521187, 0.        , 0.        ,\n",
       "         0.        , 0.        , 0.0356208 , 0.24799433, 0.        ,\n",
       "         0.        , 0.64173341, 0.0356208 , 0.22777597, 0.4447599 ,\n",
       "         0.82580177, 0.4065684 , 0.289046  , 0.67733486, 0.        ,\n",
       "         0.02521187, 0.98606803, 0.13436344, 0.66055628, 0.94970747,\n",
       "         0.04541469, 0.        , 0.11236071, 0.32992096, 0.94524664,\n",
       "         0.04541469, 0.        , 0.        , 0.14840256, 0.62526241,\n",
       "         0.9916478 , 0.        , 0.        , 0.25082392, 0.821994  ,\n",
       "         0.10473589, 0.91170166, 0.11236071, 0.        , 0.99125401,\n",
       "         0.91039387, 0.51112449, 0.99365071, 0.71181467, 0.        ]),\n",
       "  array([0.96984322, 0.3493807 , 0.89026653, 0.46502062, 0.94824238,\n",
       "         0.0356208 , 0.        , 0.        , 0.42382736, 0.        ,\n",
       "         0.        , 0.99935069, 0.84502915, 0.        , 0.66901584,\n",
       "         0.        , 0.99566306, 0.8850774 , 0.        , 0.        ,\n",
       "         0.99620509, 0.98958752, 0.49613403, 0.        , 0.97583944,\n",
       "         0.74267571, 0.33972708, 0.13436344, 0.99022959, 0.        ,\n",
       "         0.        , 0.        , 0.        , 0.10473589, 0.        ,\n",
       "         0.        , 0.90505983, 0.07238758, 0.02521187, 0.26476503,\n",
       "         0.84502915, 0.        , 0.99145204, 0.        , 0.        ,\n",
       "         0.        , 0.        , 0.        , 0.99695016, 0.9652017 ,\n",
       "         0.        , 0.10473589, 0.28373605, 0.66197606, 0.        ,\n",
       "         0.        , 0.        , 0.21587865, 0.20062232, 0.        ,\n",
       "         0.81028602, 0.13791682, 0.        , 0.        , 0.43646982,\n",
       "         0.9521009 , 0.10086201, 0.05475066, 0.        , 0.        ,\n",
       "         0.        , 0.78874835, 0.08897041, 0.07238758, 0.        ,\n",
       "         0.        , 0.11236071, 0.        , 0.07238758, 0.98606803,\n",
       "         0.02521187, 0.        , 0.        , 0.99607298, 0.        ,\n",
       "         0.        , 0.41525664, 0.        , 0.77030638, 0.        ,\n",
       "         0.        , 0.        , 0.        , 0.91871194, 0.25922919,\n",
       "         0.        , 0.31995646, 0.93628097, 0.        , 0.42169553]),\n",
       "  array([0.84056637, 0.35177092, 0.31995646, 0.49802789, 0.        ,\n",
       "         0.        , 0.3323871 , 0.16200717, 0.01385706, 0.93238236,\n",
       "         0.        , 0.        , 0.97380037, 0.98259956, 0.65050593,\n",
       "         0.        , 0.04541469, 0.        , 0.        , 0.        ,\n",
       "         0.6098403 , 0.        , 0.        , 0.        , 0.        ,\n",
       "         0.06372124, 0.        , 0.85459781, 0.        , 0.        ,\n",
       "         0.        , 0.        , 0.78449133, 0.01385706, 0.59558285,\n",
       "         0.11236071, 0.99431078, 0.        , 0.27024841, 0.82485424,\n",
       "         0.21587865, 0.        , 0.        , 0.        , 0.        ,\n",
       "         0.32992096, 0.63877634, 0.        , 0.57433301, 0.        ,\n",
       "         0.        , 0.62373967, 0.25363946, 0.78662611, 0.17522218,\n",
       "         0.39330844, 0.05475066, 0.11236071, 0.        , 0.        ,\n",
       "         0.93737261, 0.        , 0.20062232, 0.        , 0.12351525,\n",
       "         0.99508474, 0.97842766, 0.28106313, 0.52936087, 0.39107119,\n",
       "         0.        , 0.23362833, 0.        , 0.89674786, 0.39107119,\n",
       "         0.01385706, 0.        , 0.74028638, 0.        , 0.20062232,\n",
       "         0.48464774, 0.        , 0.76470623, 0.        , 0.        ,\n",
       "         0.        , 0.9811617 , 0.24229219, 0.79917303, 0.16866093,\n",
       "         0.46302365, 0.        , 0.59074883, 0.98914804, 0.89317346,\n",
       "         0.        , 0.0356208 , 0.98424878, 0.13791682, 0.        ])])"
      ]
     },
     "execution_count": 41,
     "metadata": {},
     "output_type": "execute_result"
    }
   ],
   "source": [
    "pr.calculate_entropies(model, layer_dims)"
   ]
  },
  {
   "cell_type": "markdown",
   "metadata": {
    "pycharm": {
     "name": "#%% md\n"
    }
   },
   "source": [
    "## Compression"
   ]
  },
  {
   "cell_type": "markdown",
   "metadata": {},
   "source": [
    "### Level Pruner"
   ]
  },
  {
   "cell_type": "code",
   "execution_count": 46,
   "metadata": {
    "collapsed": false,
    "jupyter": {
     "outputs_hidden": false
    },
    "pycharm": {
     "name": "#%%\n"
    }
   },
   "outputs": [
    {
     "name": "stdout",
     "output_type": "stream",
     "text": [
      "max loss: 0.009498488\n"
     ]
    },
    {
     "data": {
      "image/png": "[encoded data removed]",
      "text/plain": [
       "<Figure size 864x288 with 4 Axes>"
      ]
     },
     "metadata": {
      "needs_background": "light"
     },
     "output_type": "display_data"
    }
   ],
   "source": [
    "config_list = [{ 'sparsity': 0.1, 'op_types': ['default'] }]\n",
    "m = pr.prune_model_and_test(model, optimizer, LevelPruner, config_list)\n",
    "pr.display_test(m, ca)"
   ]
  },
  {
   "cell_type": "markdown",
   "metadata": {},
   "source": [
    "### FPGM Pruner"
   ]
  },
  {
   "cell_type": "code",
   "execution_count": 49,
   "metadata": {
    "collapsed": false,
    "jupyter": {
     "outputs_hidden": false
    },
    "pycharm": {
     "name": "#%%\n"
    }
   },
   "outputs": [
    {
     "name": "stdout",
     "output_type": "stream",
     "text": [
      "max loss: 0.8260313\n"
     ]
    },
    {
     "data": {
      "image/png": "[encoded data removed]",
      "text/plain": [
       "<Figure size 864x288 with 4 Axes>"
      ]
     },
     "metadata": {
      "needs_background": "light"
     },
     "output_type": "display_data"
    }
   ],
   "source": [
    "config_list = [{ 'sparsity': 0.1, 'op_types': ['Conv2d'] }]\n",
    "m = pr.prune_model_and_test(model, optimizer, FPGMPruner, config_list)\n",
    "pr.display_test(m, ca)"
   ]
  },
  {
   "cell_type": "markdown",
   "metadata": {},
   "source": [
    "### L1 Pruner"
   ]
  },
  {
   "cell_type": "code",
   "execution_count": 50,
   "metadata": {
    "collapsed": false,
    "jupyter": {
     "outputs_hidden": false
    },
    "pycharm": {
     "name": "#%%\n"
    }
   },
   "outputs": [
    {
     "name": "stdout",
     "output_type": "stream",
     "text": [
      "max loss: 0.057577126\n"
     ]
    },
    {
     "data": {
      "image/png": "[encoded data removed]",
      "text/plain": [
       "<Figure size 864x288 with 4 Axes>"
      ]
     },
     "metadata": {
      "needs_background": "light"
     },
     "output_type": "display_data"
    }
   ],
   "source": [
    "config_list = [{ 'sparsity': 0.1, 'op_types': ['Conv2d'] }]\n",
    "m = pr.prune_model_and_test(model, optimizer, L1FilterPruner, config_list)\n",
    "pr.display_test(m, ca)"
   ]
  },
  {
   "cell_type": "markdown",
   "metadata": {},
   "source": [
    "### L2 Pruner"
   ]
  },
  {
   "cell_type": "code",
   "execution_count": 51,
   "metadata": {
    "collapsed": false,
    "jupyter": {
     "outputs_hidden": false
    },
    "pycharm": {
     "name": "#%%\n"
    }
   },
   "outputs": [
    {
     "name": "stdout",
     "output_type": "stream",
     "text": [
      "max loss: 0.315722\n"
     ]
    },
    {
     "data": {
      "image/png": "[encoded data removed]",
      "text/plain": [
       "<Figure size 864x288 with 4 Axes>"
      ]
     },
     "metadata": {
      "needs_background": "light"
     },
     "output_type": "display_data"
    }
   ],
   "source": [
    "config_list = [{ 'sparsity': 0.1, 'op_types': ['Conv2d'] }]\n",
    "m = pr.prune_model_and_test(model, optimizer, L2FilterPruner, config_list)\n",
    "pr.display_test(m, ca)"
   ]
  },
  {
   "cell_type": "markdown",
   "metadata": {},
   "source": [
    "### LotteryTicket Pruner"
   ]
  },
  {
   "cell_type": "code",
   "execution_count": 52,
   "metadata": {
    "collapsed": false,
    "jupyter": {
     "outputs_hidden": false
    },
    "pycharm": {
     "name": "#%%\n"
    }
   },
   "outputs": [
    {
     "name": "stdout",
     "output_type": "stream",
     "text": [
      "max loss: 0.011034868\n"
     ]
    },
    {
     "data": {
      "image/png": "[encoded data removed]",
      "text/plain": [
       "<Figure size 864x288 with 4 Axes>"
      ]
     },
     "metadata": {
      "needs_background": "light"
     },
     "output_type": "display_data"
    }
   ],
   "source": [
    "config_list = [{\n",
    "    'prune_iterations': 50,\n",
    "    'sparsity': 0.1,\n",
    "    'op_types': ['default']\n",
    "}]\n",
    "m = pr.prune_model_and_test(model, optimizer, LotteryTicketPruner, config_list)\n",
    "pr.display_test(m, ca)"
   ]
  },
  {
   "cell_type": "markdown",
   "metadata": {},
   "source": [
    "## LMC Complexity"
   ]
  },
  {
   "cell_type": "code",
   "execution_count": 54,
   "metadata": {},
   "outputs": [
    {
     "name": "stderr",
     "output_type": "stream",
     "text": [
      "512it [00:11, 43.90it/s]\n"
     ]
    },
    {
     "data": {
      "text/plain": [
       "[<matplotlib.lines.Line2D at 0x7f0bd7825d60>]"
      ]
     },
     "execution_count": 54,
     "metadata": {},
     "output_type": "execute_result"
    },
    {
     "data": {
      "image/png": "[encoded data removed]",
      "text/plain": [
       "<Figure size 720x576 with 1 Axes>"
      ]
     },
     "metadata": {
      "needs_background": "light"
     },
     "output_type": "display_data"
    }
   ],
   "source": [
    "lmcs = [pr.ca_lmc(a) for a in tqdm(pr.sample_CAs(np.random.default_rng(0)))]\n",
    "plt.plot(lmcs)"
   ]
  },
  {
   "cell_type": "code",
   "execution_count": 55,
   "metadata": {},
   "outputs": [
    {
     "data": {
      "text/plain": [
       "0.84617428570985"
      ]
     },
     "execution_count": 55,
     "metadata": {},
     "output_type": "execute_result"
    }
   ],
   "source": [
    "pr.ca_lmc(ca)"
   ]
  },
  {
   "cell_type": "code",
   "execution_count": 58,
   "metadata": {},
   "outputs": [
    {
     "data": {
      "text/plain": [
       "(0.023233722652015048,\n",
       " [0.023233722652015048,\n",
       "  0.023233722652015048,\n",
       "  0.023233722652015048,\n",
       "  0.023233722652015048,\n",
       "  0.023233722652015048,\n",
       "  0.02345048801970825,\n",
       "  0.023598748005586735,\n",
       "  0.02332130281994762,\n",
       "  0.02454191659470058,\n",
       "  0.023412820651398308,\n",
       "  0.023970816209375505,\n",
       "  0.024938966126332795],\n",
       " [array([1.25722077e-01, 3.66440865e-02, 8.55267264e-02, 5.71573422e-02,\n",
       "         1.96550806e-02, 2.75916102e-02, 2.13433093e-02, 1.48786518e-01,\n",
       "         9.17486383e-02, 7.77769933e-02, 1.52564939e-01, 9.71757449e-02,\n",
       "         1.38747898e-01, 1.37134682e-01, 3.80695591e-03, 0.00000000e+00,\n",
       "         1.44155126e-01, 1.71296965e-02, 1.52782243e-01, 1.33340985e-01,\n",
       "         4.60102923e-03, 1.33380126e-01, 1.40829085e-01, 3.12498591e-06,\n",
       "         1.51434700e-01, 1.52158173e-01, 8.59155031e-02, 4.87937229e-04,\n",
       "         4.30126924e-02, 1.03465955e-01, 1.43898106e-01, 3.38639777e-03,\n",
       "         5.42963316e-02, 1.64685132e-02, 1.25053454e-01, 1.38479141e-01,\n",
       "         7.61082453e-02, 3.91449450e-02, 1.08780890e-01, 1.10852990e-01,\n",
       "         1.12093990e-01, 9.14739129e-02, 1.07924404e-01, 9.25479969e-02,\n",
       "         4.84142775e-03, 1.64685132e-02, 1.47221354e-01, 8.08691282e-02,\n",
       "         1.07489446e-01, 1.51234327e-01, 3.69531810e-02, 1.52861400e-01,\n",
       "         1.14463838e-01, 8.35840099e-02, 1.42781304e-01, 7.48088148e-02,\n",
       "         1.06358361e-01, 4.66737902e-02, 9.44660432e-02, 9.83172844e-03,\n",
       "         1.46652369e-01, 1.19546972e-01, 9.14739129e-02, 8.35840099e-02,\n",
       "         1.30778494e-01, 6.44871237e-02, 1.32363702e-01, 9.17486383e-02,\n",
       "         1.47476734e-01, 1.52349742e-01, 8.08691282e-02, 8.74710798e-02,\n",
       "         5.25311802e-02, 3.33123933e-02, 2.03709756e-02, 2.43801709e-02,\n",
       "         2.51669336e-02, 8.00948780e-02, 1.18486088e-01, 8.00948780e-02,\n",
       "         5.34016647e-03, 4.95273092e-02, 2.03709756e-02, 1.18486088e-01,\n",
       "         1.52064583e-01, 6.83421698e-03, 4.73507177e-02, 1.01102051e-03,\n",
       "         6.94234684e-02, 1.50838928e-01, 1.52708317e-01, 1.51356217e-01,\n",
       "         1.24041861e-01, 1.42922890e-01, 5.89671635e-02, 1.94761797e-03,\n",
       "         1.33640522e-01, 1.52064583e-01, 1.52708317e-01, 5.86273478e-03]),\n",
       "  array([8.86379936e-02, 1.14893387e-01, 7.03117868e-06, 0.00000000e+00,\n",
       "         1.49724794e-02, 1.24801888e-02, 4.49964448e-02, 5.75180121e-02,\n",
       "         5.39418481e-02, 8.70308988e-02, 1.07067812e-02, 8.51380152e-02,\n",
       "         1.31843447e-01, 6.74804773e-02, 8.16440731e-02, 3.09119690e-02,\n",
       "         6.18951017e-02, 3.77918700e-04, 9.64025342e-02, 6.32754726e-05,\n",
       "         9.83172844e-03, 9.83172844e-03, 8.92821910e-02, 6.83421698e-03,\n",
       "         1.06176649e-01, 9.13600099e-02, 1.25568011e-01, 1.52447350e-01,\n",
       "         6.44871237e-02, 1.35783900e-01, 1.50550183e-01, 1.46484203e-01,\n",
       "         1.21296167e-01, 1.50975720e-01, 3.88288609e-02, 1.24801888e-02,\n",
       "         1.45858535e-01, 1.38418950e-01, 1.34234871e-01, 2.66952232e-02,\n",
       "         6.56059354e-02, 1.79532286e-03, 1.50697095e-01, 7.47003910e-02,\n",
       "         6.86107849e-02, 7.43171228e-02, 1.52910517e-01, 1.23020217e-01,\n",
       "         0.00000000e+00, 9.29139616e-02, 6.51758020e-02, 7.21544479e-02,\n",
       "         7.01239466e-02, 2.46412178e-02, 1.20249559e-01, 1.52908199e-01,\n",
       "         2.18757819e-03, 0.00000000e+00, 6.18951017e-02, 8.66932161e-02,\n",
       "         1.47938178e-01, 1.26786673e-01, 1.52903101e-01, 1.37570079e-01,\n",
       "         1.47587798e-01, 2.02607010e-03, 1.43898106e-01, 4.87937229e-04,\n",
       "         1.04381588e-01, 3.21327167e-02, 7.31692592e-02, 3.49380906e-02,\n",
       "         1.32875905e-01, 2.38617189e-02, 1.08990131e-01, 5.28827443e-02,\n",
       "         1.12331949e-01, 9.03853840e-02, 6.78567965e-02, 7.16436064e-02,\n",
       "         5.57213375e-02, 7.98998028e-02, 1.40829085e-01, 1.51115547e-01,\n",
       "         6.89393138e-03, 1.29505121e-02, 6.07348807e-02, 1.36691894e-01,\n",
       "         1.99377836e-02, 1.32127466e-01, 1.51631277e-01, 0.00000000e+00,\n",
       "         1.13799993e-01, 9.77089497e-02, 1.47587798e-01, 2.20857876e-02,\n",
       "         3.48110931e-02, 1.31201630e-01, 1.47034247e-01, 1.33439420e-02]),\n",
       "  array([1.50919794e-03, 1.39014783e-01, 1.42584809e-01, 0.00000000e+00,\n",
       "         7.58520215e-02, 2.49034734e-02, 1.84876453e-02, 1.43515505e-02,\n",
       "         0.00000000e+00, 1.49910977e-01, 4.53301793e-02, 1.40829085e-01,\n",
       "         7.72421413e-03, 1.24801888e-02, 3.09119690e-02, 1.24801888e-02,\n",
       "         1.52711848e-01, 4.46635891e-02, 1.49910977e-01, 5.11324452e-02,\n",
       "         8.24196421e-02, 1.62507762e-02, 3.33123933e-02, 4.43316179e-02,\n",
       "         1.46060702e-01, 7.03117868e-06, 9.05825311e-02, 1.06358361e-01,\n",
       "         0.00000000e+00, 6.74804773e-02, 8.08691282e-02, 1.51356217e-01,\n",
       "         1.02538054e-01, 1.35692431e-01, 8.50594027e-03, 4.13846135e-02,\n",
       "         9.36078483e-02, 9.21371797e-02, 0.00000000e+00, 1.32006099e-04,\n",
       "         1.03321326e-01, 6.22637361e-02, 1.51473214e-01, 3.78865275e-02,\n",
       "         5.57213375e-02, 1.31079193e-03, 2.27063193e-03, 4.23586838e-02,\n",
       "         3.80695591e-03, 1.95306997e-05, 3.09119690e-02, 6.07926508e-02,\n",
       "         0.00000000e+00, 8.12565182e-02, 5.28600961e-02, 5.18302957e-02,\n",
       "         1.51901353e-01, 1.36241655e-01, 9.48536963e-02, 0.00000000e+00,\n",
       "         1.27382739e-01, 9.77089497e-02, 6.07348807e-02, 1.32737268e-01,\n",
       "         1.52908827e-01, 5.46857897e-03, 6.86107849e-02, 1.73527377e-02,\n",
       "         1.50240969e-01, 1.51892984e-01, 1.75442464e-02, 1.25626099e-02,\n",
       "         0.00000000e+00, 1.34822815e-01, 0.00000000e+00, 1.38208530e-01,\n",
       "         1.35978957e-01, 1.44811536e-01, 1.99942288e-04, 1.40030676e-01,\n",
       "         2.33481491e-02, 1.36263783e-01, 3.88288609e-02, 7.31692592e-02,\n",
       "         1.32363702e-01, 1.47476734e-01, 2.45057524e-02, 1.51534624e-01,\n",
       "         3.06827200e-02, 7.61082453e-02, 7.87765576e-03, 1.51002784e-01,\n",
       "         1.51534624e-01, 2.22554700e-02, 5.72986493e-03, 1.52578428e-01,\n",
       "         1.48587803e-01, 7.03117868e-06, 8.81641074e-02, 6.44871237e-02]),\n",
       "  array([3.59364987e-03, 0.00000000e+00, 0.00000000e+00, 1.52158173e-01,\n",
       "         0.00000000e+00, 1.71296965e-02, 1.50975720e-01, 1.01774875e-02,\n",
       "         7.43171228e-02, 8.70308988e-02, 6.51758020e-02, 5.67973331e-02,\n",
       "         4.20330625e-02, 3.88288609e-02, 6.52324905e-02, 6.83421698e-03,\n",
       "         0.00000000e+00, 1.10852990e-01, 1.50767838e-01, 7.27873121e-02,\n",
       "         1.40416029e-01, 4.84142775e-03, 4.48307855e-03, 1.52782274e-01,\n",
       "         1.29680461e-01, 1.22333724e-01, 2.13433093e-02, 1.25053454e-01,\n",
       "         0.00000000e+00, 2.22554700e-02, 6.97889028e-03, 1.39014783e-01,\n",
       "         8.35380543e-02, 3.51139988e-02, 4.60002618e-02, 1.20249559e-01,\n",
       "         1.51986049e-01, 1.17059059e-01, 1.15232524e-01, 1.45858535e-01,\n",
       "         1.19898741e-01, 6.07926508e-02, 1.52578428e-01, 9.91045800e-02,\n",
       "         1.37570079e-01, 8.04819118e-02, 1.52891661e-01, 1.29311423e-01,\n",
       "         1.48993023e-01, 7.48088148e-02, 1.38832545e-01, 0.00000000e+00,\n",
       "         1.94190119e-02, 3.54179484e-02, 1.47034247e-01, 1.47938178e-01,\n",
       "         6.89393138e-03, 0.00000000e+00, 1.34529652e-01, 6.80281985e-02,\n",
       "         1.34822815e-01, 1.24380194e-01, 1.21643043e-01, 3.49380906e-02,\n",
       "         2.51669336e-02, 3.69531810e-02, 1.52908199e-01, 0.00000000e+00,\n",
       "         1.51795202e-01, 3.87968639e-02, 1.42922890e-01, 9.15734681e-03,\n",
       "         7.61082453e-02, 1.43254433e-01, 6.32754726e-05, 7.86534021e-02,\n",
       "         3.91587550e-03, 1.41888818e-01, 9.03853840e-02, 9.40782331e-02,\n",
       "         7.73914793e-02, 1.52671058e-01, 0.00000000e+00, 1.13684597e-01,\n",
       "         1.52893308e-01, 1.15618491e-01, 0.00000000e+00, 1.52861400e-01,\n",
       "         9.71757449e-02, 0.00000000e+00, 2.89795596e-02, 2.99010062e-03,\n",
       "         2.08546106e-02, 9.83338169e-02, 1.47938178e-01, 4.36662910e-03,\n",
       "         1.52837536e-01, 1.51107507e-01, 1.31079193e-03, 9.96791698e-02]),\n",
       "  array([0.00000000e+00, 1.48117718e-01, 0.00000000e+00, 0.00000000e+00,\n",
       "         1.51795202e-01, 0.00000000e+00, 7.47003910e-02, 6.89393138e-03,\n",
       "         7.81161943e-05, 1.27558686e-02, 5.07846733e-02, 1.48289008e-01,\n",
       "         7.81161943e-05, 0.00000000e+00, 2.25870164e-02, 1.26786673e-01,\n",
       "         8.74710798e-02, 0.00000000e+00, 3.60289595e-02, 0.00000000e+00,\n",
       "         1.35427227e-02, 1.51892984e-01, 6.80281985e-02, 6.37176802e-02,\n",
       "         4.95273092e-02, 0.00000000e+00, 0.00000000e+00, 2.66952232e-02,\n",
       "         9.87006029e-02, 0.00000000e+00, 2.01310660e-02, 1.24801888e-02,\n",
       "         4.60789831e-02, 1.48117718e-01, 1.52471250e-01, 1.43015793e-01,\n",
       "         1.75442464e-02, 1.28670387e-01, 6.51758020e-02, 1.15232524e-01,\n",
       "         0.00000000e+00, 3.68871898e-02, 0.00000000e+00, 3.36100066e-02,\n",
       "         1.75442464e-02, 1.51107507e-01, 8.70308988e-02, 4.99963932e-05,\n",
       "         3.08689559e-03, 1.32875905e-01, 3.15494103e-02, 1.05289326e-02,\n",
       "         0.00000000e+00, 5.11324452e-02, 6.89393138e-03, 8.58823228e-02,\n",
       "         8.70308988e-02, 1.98924331e-02, 1.49724794e-02, 1.51986049e-01,\n",
       "         1.02538054e-01, 0.00000000e+00, 0.00000000e+00, 2.66952232e-02,\n",
       "         3.69531810e-02, 1.25053454e-01, 1.51795202e-01, 1.15232524e-01,\n",
       "         1.75442464e-02, 1.38479141e-01, 1.17774318e-01, 1.43931739e-01,\n",
       "         1.37570079e-01, 1.32127466e-01, 1.15990768e-01, 1.00642640e-01,\n",
       "         9.13600099e-02, 0.00000000e+00, 8.00948780e-02, 1.49705940e-01,\n",
       "         1.31843447e-01, 1.18203943e-01, 6.89393138e-03, 1.51692671e-01,\n",
       "         4.06691586e-02, 8.11291779e-02, 8.50594027e-03, 5.57213375e-02,\n",
       "         0.00000000e+00, 1.91842305e-02, 1.75442464e-02, 1.39279779e-01,\n",
       "         1.21693634e-01, 3.59364987e-03, 0.00000000e+00, 0.00000000e+00,\n",
       "         1.32737268e-01, 0.00000000e+00, 1.28024069e-01, 1.12093990e-01]),\n",
       "  array([0.        , 0.15289331, 0.0033864 , 0.        , 0.04250589,\n",
       "         0.07738966, 0.04250589, 0.09465367, 0.        , 0.07202448,\n",
       "         0.04250589, 0.00041303, 0.        , 0.02225547, 0.        ,\n",
       "         0.07012395, 0.        , 0.        , 0.        , 0.15252664,\n",
       "         0.10522285, 0.01248019, 0.        , 0.1517952 , 0.11989874,\n",
       "         0.01414729, 0.        , 0.13963835, 0.1464842 , 0.15285945,\n",
       "         0.09770895, 0.15207443, 0.        , 0.        , 0.        ,\n",
       "         0.12797007, 0.09967917, 0.0680282 , 0.15278227, 0.01754425,\n",
       "         0.14771032, 0.09147391, 0.02490347, 0.00048794, 0.        ,\n",
       "         0.01199117, 0.11209399, 0.06223756, 0.13883255, 0.10293977,\n",
       "         0.00727263, 0.01248019, 0.        , 0.02669522, 0.09465367,\n",
       "         0.08203178, 0.05765933, 0.08112918, 0.        , 0.05751801,\n",
       "         0.14837688, 0.07893496, 0.        , 0.15252664, 0.        ,\n",
       "         0.        , 0.        , 0.11446384, 0.        , 0.02669522,\n",
       "         0.12494525, 0.00689393, 0.08234183, 0.01248019, 0.04430868,\n",
       "         0.03493809, 0.13669189, 0.14116604, 0.0528601 , 0.09670403,\n",
       "         0.11010966, 0.        , 0.00689393, 0.        , 0.05824131,\n",
       "         0.01248019, 0.        , 0.01070678, 0.0798998 , 0.        ,\n",
       "         0.        , 0.        , 0.15278227, 0.        , 0.14665237,\n",
       "         0.09568567, 0.14970594, 0.00164918, 0.        , 0.        ]),\n",
       "  array([1.27044950e-01, 5.89671635e-02, 1.43931739e-01, 1.03465955e-01,\n",
       "         1.07865436e-01, 5.60851165e-02, 0.00000000e+00, 0.00000000e+00,\n",
       "         0.00000000e+00, 8.58823228e-02, 5.92090188e-02, 0.00000000e+00,\n",
       "         0.00000000e+00, 0.00000000e+00, 1.71296965e-02, 0.00000000e+00,\n",
       "         0.00000000e+00, 6.89393138e-03, 6.94234684e-02, 1.32006099e-04,\n",
       "         0.00000000e+00, 1.75442464e-02, 2.99010062e-03, 0.00000000e+00,\n",
       "         1.32737268e-01, 0.00000000e+00, 1.52782274e-01, 0.00000000e+00,\n",
       "         1.20326992e-01, 1.30890112e-01, 1.05601826e-01, 1.16738680e-01,\n",
       "         0.00000000e+00, 3.80695591e-03, 0.00000000e+00, 5.11324452e-02,\n",
       "         6.89393138e-03, 1.02538054e-01, 9.03853840e-02, 0.00000000e+00,\n",
       "         0.00000000e+00, 1.48623430e-01, 6.33729916e-02, 1.15979857e-01,\n",
       "         0.00000000e+00, 1.49259030e-01, 0.00000000e+00, 3.49380906e-02,\n",
       "         1.51901353e-01, 9.15734681e-03, 0.00000000e+00, 0.00000000e+00,\n",
       "         0.00000000e+00, 1.51814666e-01, 1.52664882e-01, 0.00000000e+00,\n",
       "         5.72986493e-03, 7.73896596e-02, 1.75442464e-02, 0.00000000e+00,\n",
       "         1.05285103e-01, 1.24801888e-02, 3.68871898e-02, 1.43254433e-01,\n",
       "         0.00000000e+00, 5.92090188e-02, 0.00000000e+00, 1.21693634e-01,\n",
       "         6.89393138e-03, 9.09713043e-02, 0.00000000e+00, 1.41888818e-01,\n",
       "         8.82490192e-02, 1.02939773e-01, 6.04263416e-02, 1.52664882e-01,\n",
       "         4.95273092e-02, 1.48160349e-01, 6.51758020e-02, 0.00000000e+00,\n",
       "         7.73896596e-02, 1.51115547e-01, 0.00000000e+00, 1.50975720e-01,\n",
       "         1.87185438e-02, 9.87193340e-02, 1.24717397e-01, 5.60851165e-02,\n",
       "         1.52526644e-01, 1.18203943e-01, 0.00000000e+00, 2.66952232e-02,\n",
       "         0.00000000e+00, 2.36043218e-02, 0.00000000e+00, 0.00000000e+00,\n",
       "         4.90575966e-02, 1.24801888e-02, 3.91587550e-03, 1.45025691e-01]),\n",
       "  array([0.        , 0.        , 0.14955985, 0.14910434, 0.12737259,\n",
       "         0.        , 0.10102637, 0.00689393, 0.14544691, 0.        ,\n",
       "         0.04073993, 0.00022571, 0.00244133, 0.04607898, 0.10962596,\n",
       "         0.        , 0.06223756, 0.        , 0.03695318, 0.14665237,\n",
       "         0.1529019 , 0.12854875, 0.14206493, 0.01754425, 0.13287591,\n",
       "         0.0651758 , 0.02037098, 0.        , 0.03788653, 0.13799815,\n",
       "         0.0103525 , 0.02669522, 0.15278227, 0.07126311, 0.        ,\n",
       "         0.        , 0.        , 0.        , 0.1119632 , 0.03602896,\n",
       "         0.15262658, 0.02569745, 0.        , 0.04203306, 0.        ,\n",
       "         0.15289331, 0.        , 0.        , 0.09038538, 0.        ,\n",
       "         0.14970594, 0.02225547, 0.        , 0.        , 0.        ,\n",
       "         0.        , 0.07970804, 0.        , 0.07079874, 0.11289469,\n",
       "         0.        , 0.09136001, 0.        , 0.        , 0.15241227,\n",
       "         0.03091197, 0.        , 0.        , 0.04138461, 0.        ,\n",
       "         0.01754425, 0.05608512, 0.12302219, 0.15207443, 0.        ,\n",
       "         0.12802407, 0.        , 0.10522285, 0.1485878 , 0.15076784,\n",
       "         0.        , 0.06223756, 0.1093639 , 0.        , 0.04952731,\n",
       "         0.01603437, 0.01754425, 0.        , 0.13334098, 0.04781813,\n",
       "         0.03493809, 0.13131507, 0.14723737, 0.        , 0.03879686,\n",
       "         0.        , 0.10878089, 0.14723737, 0.        , 0.0798998 ]),\n",
       "  array([0.        , 0.        , 0.00689393, 0.13540422, 0.08513802,\n",
       "         0.        , 0.14837688, 0.11599077, 0.        , 0.        ,\n",
       "         0.0859155 , 0.        , 0.05113245, 0.01435155, 0.09967917,\n",
       "         0.07349101, 0.00787766, 0.0618951 , 0.1528775 , 0.        ,\n",
       "         0.15278227, 0.        , 0.1491874 , 0.07079874, 0.10635836,\n",
       "         0.        , 0.09967917, 0.13243312, 0.        , 0.14684458,\n",
       "         0.        , 0.        , 0.14437623, 0.        , 0.        ,\n",
       "         0.07079874, 0.        , 0.00218758, 0.        , 0.        ,\n",
       "         0.03879686, 0.11306738, 0.06710462, 0.01248019, 0.        ,\n",
       "         0.        , 0.        , 0.        , 0.        , 0.03493809,\n",
       "         0.04041901, 0.        , 0.15271185, 0.        , 0.1475878 ,\n",
       "         0.03213272, 0.05920902, 0.14665237, 0.        , 0.        ,\n",
       "         0.1528775 , 0.15287942, 0.13182032, 0.02109833, 0.        ,\n",
       "         0.        , 0.        , 0.0528601 , 0.06371768, 0.12538835,\n",
       "         0.        , 0.        , 0.        , 0.        , 0.13710789,\n",
       "         0.        , 0.        , 0.        , 0.        , 0.        ,\n",
       "         0.        , 0.09562849, 0.14723737, 0.        , 0.06661247,\n",
       "         0.        , 0.07662121, 0.10617665, 0.        , 0.03213272,\n",
       "         0.0259645 , 0.        , 0.        , 0.06710462, 0.        ,\n",
       "         0.        , 0.        , 0.        , 0.        , 0.10438159]),\n",
       "  array([0.        , 0.03493809, 0.        , 0.15221412, 0.08353805,\n",
       "         0.11452967, 0.        , 0.13597896, 0.12962992, 0.07662121,\n",
       "         0.02085461, 0.        , 0.        , 0.        , 0.00712503,\n",
       "         0.        , 0.15238186, 0.10179281, 0.07610825, 0.01248019,\n",
       "         0.        , 0.        , 0.1453964 , 0.13212747, 0.        ,\n",
       "         0.15083893, 0.        , 0.0230932 , 0.13841895, 0.        ,\n",
       "         0.        , 0.05448564, 0.1136846 , 0.        , 0.13540422,\n",
       "         0.00689393, 0.0987006 , 0.1432481 , 0.03493809, 0.        ,\n",
       "         0.07215445, 0.12638595, 0.        , 0.1189215 , 0.        ,\n",
       "         0.        , 0.        , 0.02926059, 0.        , 0.1459524 ,\n",
       "         0.        , 0.        , 0.01248019, 0.        , 0.        ,\n",
       "         0.        , 0.        , 0.01754425, 0.10438159, 0.        ,\n",
       "         0.        , 0.14565393, 0.01754425, 0.09770895, 0.14771032,\n",
       "         0.09562849, 0.14258481, 0.11673868, 0.13980403, 0.        ,\n",
       "         0.01248019, 0.00949168, 0.06223756, 0.1427813 , 0.03272039,\n",
       "         0.02225547, 0.        , 0.0528601 , 0.12738274, 0.03541795,\n",
       "         0.02225547, 0.        , 0.        , 0.0680282 , 0.14776709,\n",
       "         0.00572986, 0.        , 0.        , 0.1052851 , 0.09717574,\n",
       "         0.04952731, 0.05465153, 0.0528601 , 0.        , 0.00599709,\n",
       "         0.05536404, 0.15250837, 0.00436663, 0.13243312, 0.        ]),\n",
       "  array([0.02013107, 0.13184345, 0.06597988, 0.14973809, 0.03361001,\n",
       "         0.01754425, 0.        , 0.        , 0.14510922, 0.        ,\n",
       "         0.        , 0.00044971, 0.08747108, 0.        , 0.1413296 ,\n",
       "         0.        , 0.0029901 , 0.06861078, 0.        , 0.        ,\n",
       "         0.00261815, 0.00712503, 0.15189298, 0.        , 0.01625078,\n",
       "         0.12438019, 0.12968046, 0.06223756, 0.00669101, 0.        ,\n",
       "         0.        , 0.        , 0.        , 0.04952731, 0.        ,\n",
       "         0.        , 0.05824131, 0.03493809, 0.01248019, 0.10962596,\n",
       "         0.08747108, 0.        , 0.00586273, 0.        , 0.        ,\n",
       "         0.        , 0.        , 0.        , 0.00210606, 0.0230932 ,\n",
       "         0.        , 0.04952731, 0.11523252, 0.14254465, 0.        ,\n",
       "         0.        , 0.        , 0.09360785, 0.08816411, 0.        ,\n",
       "         0.10179281, 0.06371768, 0.        , 0.        , 0.14674115,\n",
       "         0.03125941, 0.04781813, 0.02669522, 0.        , 0.        ,\n",
       "         0.        , 0.10973708, 0.04250589, 0.03493809, 0.        ,\n",
       "         0.        , 0.0528601 , 0.        , 0.03493809, 0.00949168,\n",
       "         0.01248019, 0.        , 0.        , 0.00270885, 0.        ,\n",
       "         0.        , 0.14389811, 0.        , 0.11597986, 0.        ,\n",
       "         0.        , 0.        , 0.        , 0.05078467, 0.1079244 ,\n",
       "         0.        , 0.12494525, 0.04073993, 0.        , 0.14481585]),\n",
       "  array([0.0894159 , 0.1323637 , 0.12494525, 0.15198605, 0.        ,\n",
       "         0.        , 0.12797007, 0.07349101, 0.00689393, 0.04301269,\n",
       "         0.        , 0.        , 0.0175771 , 0.01180348, 0.14437623,\n",
       "         0.        , 0.02225547, 0.        , 0.        , 0.        ,\n",
       "         0.14941087, 0.        , 0.        , 0.        , 0.        ,\n",
       "         0.03091197, 0.        , 0.08319576, 0.        , 0.        ,\n",
       "         0.        , 0.        , 0.11122371, 0.00689393, 0.1506457 ,\n",
       "         0.0528601 , 0.00391588, 0.        , 0.11128239, 0.09601561,\n",
       "         0.09360785, 0.        , 0.        , 0.        , 0.        ,\n",
       "         0.12738274, 0.1460607 , 0.        , 0.15198467, 0.        ,\n",
       "         0.        , 0.14794374, 0.10617665, 0.11048164, 0.0786534 ,\n",
       "         0.14041603, 0.02669522, 0.0528601 , 0.        , 0.        ,\n",
       "         0.04009904, 0.        , 0.08816411, 0.        , 0.05765933,\n",
       "         0.0033864 , 0.01455717, 0.11446384, 0.15287942, 0.14003068,\n",
       "         0.        , 0.09967917, 0.        , 0.06263293, 0.14003068,\n",
       "         0.00689393, 0.        , 0.12505345, 0.        , 0.08816411,\n",
       "         0.15123433, 0.        , 0.11777432, 0.        , 0.        ,\n",
       "         0.        , 0.01275587, 0.10253805, 0.10598033, 0.07610825,\n",
       "         0.14955989, 0.        , 0.15100278, 0.0074217 , 0.06448712,\n",
       "         0.        , 0.01754425, 0.01070678, 0.06371768, 0.        ])])"
      ]
     },
     "execution_count": 58,
     "metadata": {},
     "output_type": "execute_result"
    }
   ],
   "source": [
    "pr.model_lmc(model, layer_dims)"
   ]
  },
  {
   "cell_type": "code",
   "execution_count": 61,
   "metadata": {},
   "outputs": [],
   "source": [
    "cas = np.array([ca for ca in pr.sample_CAs(rng=np.random.default_rng(0))])\n",
    "ca_entropies = np.array([pr.ca_entropy(ca) for ca in cas])\n",
    "ca_lmcs = np.array([pr.ca_lmc(ca) for ca in cas])"
   ]
  },
  {
   "cell_type": "code",
   "execution_count": 62,
   "metadata": {},
   "outputs": [],
   "source": [
    "i_test = np.r_[0:8:2, 8:128:16, 128:256:32]\n",
    "i_test = np.sort(np.r_[i_test, 511 - i_test, 255])"
   ]
  },
  {
   "cell_type": "code",
   "execution_count": 63,
   "metadata": {},
   "outputs": [
    {
     "data": {
      "image/png": "[encoded data removed]",
      "text/plain": [
       "<Figure size 720x576 with 2 Axes>"
      ]
     },
     "metadata": {
      "needs_background": "light"
     },
     "output_type": "display_data"
    }
   ],
   "source": [
    "plt.subplot(211)\n",
    "plt.plot(ca_entropies)\n",
    "plt.plot(i_test, ca_entropies[i_test], 'r.')\n",
    "plt.subplot(212)\n",
    "plt.plot(ca_lmcs)\n",
    "plt.plot(i_test, ca_lmcs[i_test], 'r.')\n",
    "plt.show()"
   ]
  }
 ],
 "metadata": {
  "kernelspec": {
   "display_name": "Python 3",
   "language": "python",
   "name": "python3"
  },
  "language_info": {
   "codemirror_mode": {
    "name": "ipython",
    "version": 3
   },
   "file_extension": ".py",
   "mimetype": "text/x-python",
   "name": "python",
   "nbconvert_exporter": "python",
   "pygments_lexer": "ipython3",
   "version": "3.8.2"
  }
 },
 "nbformat": 4,
 "nbformat_minor": 4
}
