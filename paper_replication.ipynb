{
 "cells": [
  {
   "cell_type": "markdown",
   "metadata": {},
   "source": [
    "# Paper replication"
   ]
  },
  {
   "cell_type": "code",
   "execution_count": 1,
   "metadata": {},
   "outputs": [],
   "source": [
    "%load_ext autoreload\n",
    "%autoreload 2\n",
    "\n",
    "import matplotlib.pyplot as plt\n",
    "import numpy as np\n",
    "import torch\n",
    "\n",
    "from collections import Counter\n",
    "from copy import deepcopy\n",
    "from IPython.display import clear_output\n",
    "from scipy.stats import entropy\n",
    "from tqdm import tqdm\n",
    "\n",
    "from ca_funcs import get_network_entropies, make_table_walk, make_ca, make_glider\n",
    "from train_ca import initialize_model\n",
    "from utils import all_combinations\n",
    "\n",
    "from nni.compression.torch import *\n",
    "\n",
    "%matplotlib inline\n",
    "plt.rcParams['figure.figsize'] = (10.0, 8.0) # set default size of plots\n",
    "plt.rcParams['image.interpolation'] = 'nearest'\n",
    "plt.rcParams['image.cmap'] = 'gray'"
   ]
  },
  {
   "cell_type": "code",
   "execution_count": 2,
   "metadata": {},
   "outputs": [],
   "source": [
    "M = 2\n",
    "D = (3, 3)\n",
    "ALL_INPUTS = all_combinations(M, D)\n",
    "RANDOM_INPUTS = np.random.choice([0, 1], (500, 10, 10))"
   ]
  },
  {
   "cell_type": "markdown",
   "metadata": {},
   "source": [
    "## Define CAs and training data"
   ]
  },
  {
   "cell_type": "code",
   "execution_count": 3,
   "metadata": {},
   "outputs": [],
   "source": [
    "def sample_CAs(seed=None):\n",
    "    if seed:\n",
    "        np.random.seed(seed)\n",
    "\n",
    "    inputs = ALL_INPUTS\n",
    "    outputs = make_table_walk(len(ALL_INPUTS))\n",
    "    for o in outputs:\n",
    "        yield make_ca(inputs, o)\n",
    "\n",
    "def generate_CA_train_data(ca, height=10, width=10, n_samples=500):\n",
    "    X_train = torch.from_numpy(np.random.choice([0, 1], (n_samples, height, width), p=[.5, .5])).float()\n",
    "    Y_train = ca(X_train).float()\n",
    "    return X_train, Y_train"
   ]
  },
  {
   "cell_type": "code",
   "execution_count": 4,
   "metadata": {},
   "outputs": [
    {
     "data": {
      "image/png": "[encoded data removed]",
      "text/plain": [
       "<Figure size 864x288 with 2 Axes>"
      ]
     },
     "metadata": {
      "needs_background": "light"
     },
     "output_type": "display_data"
    }
   ],
   "source": [
    "np.random.seed(0)\n",
    "\n",
    "for i, ca in enumerate(sample_CAs()):\n",
    "    X_test = torch.from_numpy(make_glider(10).reshape(1, 10, 10)).float()\n",
    "    Y_test = ca(X_test).float()\n",
    "\n",
    "    plt.figure(figsize=(12,4))\n",
    "    plt.suptitle(i)\n",
    "\n",
    "    plt.subplot(1,2,1)\n",
    "    plt.imshow(X_test[0])\n",
    "    plt.axis('off')\n",
    "    plt.title(\"Input\")\n",
    "\n",
    "    plt.subplot(1,2,2)\n",
    "    plt.imshow(Y_test[0])\n",
    "    plt.axis('off')\n",
    "    plt.title(\"Output\")\n",
    "\n",
    "    plt.show()\n",
    "    plt.close()\n",
    "    clear_output(wait=True)"
   ]
  },
  {
   "cell_type": "markdown",
   "metadata": {},
   "source": [
    "## Find entropy of the training CA"
   ]
  },
  {
   "cell_type": "code",
   "execution_count": 5,
   "metadata": {},
   "outputs": [],
   "source": [
    "def ca_entropy(ca):        \n",
    "    inputs = torch.from_numpy(ALL_INPUTS)\n",
    "    outputs = ca(inputs)\n",
    "    output_counts = np.array(list(Counter(tuple(torch.reshape(o, [-1]).numpy()) for o in outputs).values()))\n",
    "    output_ps = output_counts / len(inputs)\n",
    "    return entropy(output_ps, base=2)"
   ]
  },
  {
   "cell_type": "code",
   "execution_count": 6,
   "metadata": {},
   "outputs": [
    {
     "name": "stderr",
     "output_type": "stream",
     "text": [
      "512it [00:13, 38.68it/s]\n"
     ]
    },
    {
     "data": {
      "text/plain": [
       "[<matplotlib.lines.Line2D at 0x7fea60b06970>]"
      ]
     },
     "execution_count": 6,
     "metadata": {},
     "output_type": "execute_result"
    },
    {
     "data": {
      "image/png": "[encoded data removed]",
      "text/plain": [
       "<Figure size 720x576 with 1 Axes>"
      ]
     },
     "metadata": {
      "needs_background": "light"
     },
     "output_type": "display_data"
    }
   ],
   "source": [
    "entropies = [ca_entropy(a) for a in tqdm(sample_CAs(seed=0))]\n",
    "plt.plot(entropies)"
   ]
  },
  {
   "cell_type": "markdown",
   "metadata": {},
   "source": [
    "## Define the model"
   ]
  },
  {
   "cell_type": "code",
   "execution_count": 7,
   "metadata": {},
   "outputs": [
    {
     "name": "stdout",
     "output_type": "stream",
     "text": [
      "seed = 0\n",
      "Sequential(\n",
      "  (Wraparound2D): Wraparound2D()\n",
      "  (Conv2d_0): Conv2d(1, 100, kernel_size=(3, 3), stride=(1, 1))\n",
      "  (ReLU_0): ReLU()\n",
      "  (Conv2d_1): Conv2d(100, 100, kernel_size=(1, 1), stride=(1, 1))\n",
      "  (ReLU_1): ReLU()\n",
      "  (Conv2d_2): Conv2d(100, 100, kernel_size=(1, 1), stride=(1, 1))\n",
      "  (ReLU_2): ReLU()\n",
      "  (Conv2d_3): Conv2d(100, 100, kernel_size=(1, 1), stride=(1, 1))\n",
      "  (ReLU_3): ReLU()\n",
      "  (Conv2d_4): Conv2d(100, 100, kernel_size=(1, 1), stride=(1, 1))\n",
      "  (ReLU_4): ReLU()\n",
      "  (Conv2d_5): Conv2d(100, 100, kernel_size=(1, 1), stride=(1, 1))\n",
      "  (ReLU_5): ReLU()\n",
      "  (Conv2d_6): Conv2d(100, 100, kernel_size=(1, 1), stride=(1, 1))\n",
      "  (ReLU_6): ReLU()\n",
      "  (Conv2d_7): Conv2d(100, 100, kernel_size=(1, 1), stride=(1, 1))\n",
      "  (ReLU_7): ReLU()\n",
      "  (Conv2d_8): Conv2d(100, 100, kernel_size=(1, 1), stride=(1, 1))\n",
      "  (ReLU_8): ReLU()\n",
      "  (Conv2d_9): Conv2d(100, 100, kernel_size=(1, 1), stride=(1, 1))\n",
      "  (ReLU_9): ReLU()\n",
      "  (Conv2d_10): Conv2d(100, 100, kernel_size=(1, 1), stride=(1, 1))\n",
      "  (ReLU_10): ReLU()\n",
      "  (Conv2d_11): Conv2d(100, 100, kernel_size=(1, 1), stride=(1, 1))\n",
      "  (ReLU_11): ReLU()\n",
      "  (Conv2d_12): Conv2d(100, 1, kernel_size=(1, 1), stride=(1, 1), bias=False)\n",
      "  (Lambda_0): Lambda()\n",
      ")\n"
     ]
    }
   ],
   "source": [
    "seed = 0\n",
    "print('seed =', seed)\n",
    "\n",
    "np.random.seed(seed)\n",
    "torch.random.manual_seed(seed)\n",
    "\n",
    "num_classes = 2\n",
    "samples = 500\n",
    "input_dims = [10, 10]\n",
    "layer_dims = [100] + [100] * 11  # neighborhood conv + mlpconv layers\n",
    "batch_size = 10\n",
    "num_batches = samples // batch_size\n",
    "learning_rate = 1e-4\n",
    "training_epochs = 60  # 1500\n",
    "display_step = int(training_epochs / 10)\n",
    "loss = torch.nn.MSELoss()\n",
    "\n",
    "model = initialize_model(input_dims, layer_dims)\n",
    "optimizer = torch.optim.Adam(model.parameters(), lr=learning_rate)\n",
    "print(model)\n",
    "\n",
    "if torch.cuda.is_available():\n",
    "    model.cuda()"
   ]
  },
  {
   "cell_type": "markdown",
   "metadata": {},
   "source": [
    "## Define the learning loop"
   ]
  },
  {
   "cell_type": "code",
   "execution_count": 8,
   "metadata": {},
   "outputs": [],
   "source": [
    "losses = []\n",
    "\n",
    "def learn_CA(ca, model, optimizer, training_epochs):\n",
    "    losses = []\n",
    "    X_train, Y_train = generate_CA_train_data(ca, *input_dims, n_samples=samples)\n",
    "    if torch.cuda.is_available():\n",
    "        X_train = X_train.cuda()\n",
    "        Y_train = Y_train.cuda()\n",
    "\n",
    "    for _ in tqdm(range(training_epochs)):\n",
    "        batch_losses = []\n",
    "        for i in range(num_batches):\n",
    "            X_batch = X_train[i * batch_size : (i + 1) * batch_size]\n",
    "            Y_batch = Y_train[i * batch_size : (i + 1) * batch_size]\n",
    "\n",
    "            optimizer.zero_grad()\n",
    "            Y_pred = model(X_batch)\n",
    "            l = loss(Y_batch, Y_pred)\n",
    "            l.backward()\n",
    "            optimizer.step()\n",
    "            batch_losses.append(l.item())\n",
    "        losses.append(np.mean(batch_losses))\n",
    "    return losses"
   ]
  },
  {
   "cell_type": "markdown",
   "metadata": {},
   "source": [
    "## Train the model"
   ]
  },
  {
   "cell_type": "code",
   "execution_count": 9,
   "metadata": {},
   "outputs": [
    {
     "name": "stderr",
     "output_type": "stream",
     "text": [
      "100%|██████████| 60/60 [01:31<00:00,  1.52s/it]\n"
     ]
    }
   ],
   "source": [
    "ca = list(sample_CAs(seed=0))[250]\n",
    "losses = learn_CA(ca, model, optimizer, training_epochs)"
   ]
  },
  {
   "cell_type": "code",
   "execution_count": 10,
   "metadata": {},
   "outputs": [
    {
     "data": {
      "image/png": "[encoded data removed]",
      "text/plain": [
       "<Figure size 720x360 with 1 Axes>"
      ]
     },
     "metadata": {
      "needs_background": "light"
     },
     "output_type": "display_data"
    }
   ],
   "source": [
    "plt.figure(figsize=(10, 5))\n",
    "plt.plot(losses)\n",
    "plt.loglog();"
   ]
  },
  {
   "cell_type": "code",
   "execution_count": 11,
   "metadata": {},
   "outputs": [
    {
     "name": "stdout",
     "output_type": "stream",
     "text": [
      "max loss: 2.7578222e-12\n"
     ]
    },
    {
     "data": {
      "image/png": "[encoded data removed]",
      "text/plain": [
       "<Figure size 864x288 with 4 Axes>"
      ]
     },
     "metadata": {
      "needs_background": "light"
     },
     "output_type": "display_data"
    }
   ],
   "source": [
    "# x = np.random.choice([0, 1], size=100)\n",
    "x = make_glider(10)\n",
    "X_test = torch.from_numpy(x.reshape(1, 10, 10)).float()\n",
    "Y_test = ca(X_test).float()\n",
    "\n",
    "if torch.cuda.is_available():\n",
    "    X_test = X_test.cuda()\n",
    "Y_pred = model(X_test)\n",
    "\n",
    "\n",
    "if torch.cuda.is_available():\n",
    "    X_test = X_test.cpu()\n",
    "    Y_pred = Y_pred.cpu()\n",
    "\n",
    "X_test = X_test.detach().numpy()\n",
    "Y_test = Y_test.detach().numpy()\n",
    "Y_pred = Y_pred.detach().numpy()\n",
    "\n",
    "plt.figure(figsize=(12, 4))\n",
    "\n",
    "plt.subplot(141)\n",
    "plt.imshow(X_test[0])\n",
    "plt.axis('off')\n",
    "plt.title(\"Input\")\n",
    "\n",
    "plt.subplot(142)\n",
    "plt.imshow(Y_test[0])\n",
    "plt.axis('off')\n",
    "plt.title(\"Expected Output\")\n",
    "\n",
    "plt.subplot(143)\n",
    "plt.imshow(Y_pred[0])\n",
    "plt.axis('off')\n",
    "plt.title(\"Observed Output\")\n",
    "\n",
    "plt.subplot(144)\n",
    "plt.imshow((Y_pred[0] - Y_test[0]) ** 2)\n",
    "plt.axis('off')\n",
    "plt.title(\"Normalised Diff\")\n",
    "\n",
    "print('max loss:', ((Y_pred[0] - Y_test[0]) ** 2).max())"
   ]
  },
  {
   "cell_type": "markdown",
   "metadata": {},
   "source": [
    "## Find model entropies"
   ]
  },
  {
   "cell_type": "code",
   "execution_count": 12,
   "metadata": {},
   "outputs": [],
   "source": [
    "def calculate_entropies(model):\n",
    "    def get_activations(x_input):\n",
    "        activations = []\n",
    "        for m in model.children():\n",
    "            x_input = m(x_input)\n",
    "            activations.append(x_input)\n",
    "        return activations[1:-3:2]\n",
    "\n",
    "    X_test = np.pad(all_combinations(2, (3, 3)), [(0, 0), (3, 4), (3, 4)], 'wrap')\n",
    "    X_test = torch.from_numpy(X_test).float()\n",
    "        \n",
    "    if torch.cuda.is_available():\n",
    "        X_test = X_test.cuda()\n",
    "\n",
    "    res = [activation.cpu().detach().numpy() for activation in get_activations(X_test)]\n",
    "    layer_activations = np.array(res)\n",
    "    # Layer activations are floats, but to calculate entropy,\n",
    "    # we want to map activations to binary values,\n",
    "    # 1 if a given activation is >0, and 0 otherwise.\n",
    "    binary_activations = np.digitize(layer_activations, [0], right=True)\n",
    "    binary_activations = binary_activations.transpose(0, 1, -2, -1, 2) \\\n",
    "        .reshape(len(layer_dims), np.product(X_test.shape), layer_dims[0])\n",
    "    return get_network_entropies(binary_activations)"
   ]
  },
  {
   "cell_type": "code",
   "execution_count": 13,
   "metadata": {},
   "outputs": [
    {
     "data": {
      "text/plain": [
       "8.220523247971135"
      ]
     },
     "execution_count": 13,
     "metadata": {},
     "output_type": "execute_result"
    }
   ],
   "source": [
    "ca_entropy(ca)"
   ]
  },
  {
   "cell_type": "code",
   "execution_count": 14,
   "metadata": {},
   "outputs": [
    {
     "data": {
      "text/plain": [
       "(8.79856952502345,\n",
       " [8.79856952502345,\n",
       "  8.79856952502345,\n",
       "  8.79856952502345,\n",
       "  8.79856952502345,\n",
       "  8.79856952502345,\n",
       "  8.784795087512633,\n",
       "  8.787625915645744,\n",
       "  8.79856952502345,\n",
       "  8.787472224325226,\n",
       "  8.777295087512632,\n",
       "  8.795125915645746,\n",
       "  8.79856952502345],\n",
       " [array([0.67733486, 0.95978857, 0.91364415, 0.8654699 , 0.94473883,\n",
       "         0.96233685, 0.96946939, 0.61295961, 0.82768804, 0.86300251,\n",
       "         0.53115474, 0.821994  , 0.68551568, 0.37518466, 0.99620509,\n",
       "         1.        , 0.64320574, 0.98259956, 0.57930721, 0.74858985,\n",
       "         0.98478007, 0.34698129, 0.64320574, 0.99988729, 0.5776539 ,\n",
       "         0.49041745, 0.81521654, 0.99986362, 0.92836207, 0.302118  ,\n",
       "         0.44062845, 0.99447011, 0.89245069, 0.91746025, 0.73303643,\n",
       "         0.72936499, 0.14840256, 0.91235172, 0.26200376, 0.79607809,\n",
       "         0.27297086, 0.21587865, 0.21887773, 0.20062232, 0.99184127,\n",
       "         0.97274928, 0.65339755, 0.87033048, 0.76130709, 0.44062845,\n",
       "         0.95304136, 0.53472659, 0.26476503, 0.8332768 , 0.66621171,\n",
       "         0.10856819, 0.78556029, 0.94005859, 0.80122098, 0.99145204,\n",
       "         0.70537738, 0.75209803, 0.28106313, 0.82768804, 0.35415203,\n",
       "         0.8946111 , 0.37288215, 0.81813898, 0.42382736, 0.56255805,\n",
       "         0.84942086, 0.84325259, 0.91808736, 0.94774916, 0.97414606,\n",
       "         0.96479955, 0.96275324, 0.8092909 , 0.75557623, 0.79711281,\n",
       "         0.98847166, 0.10473589, 0.97131502, 0.7601675 , 0.56594664,\n",
       "         0.98424878, 0.94970747, 0.99819588, 0.15184252, 0.49423436,\n",
       "         0.49991596, 0.47882405, 0.64025694, 0.39997313, 0.8946111 ,\n",
       "         0.99781682, 0.70147146, 0.57266539, 0.49802789, 0.99891658]),\n",
       "  array([0.97414606, 0.60670332, 0.99620509, 0.        , 0.8887972 ,\n",
       "         0.02521187, 0.8865733 , 0.89172527, 0.85799307, 0.15184252,\n",
       "         0.9916478 , 0.87665851, 0.20062232, 0.92836207, 0.94216317,\n",
       "         0.04541469, 0.90973612, 0.78126556, 0.75787846, 0.99022959,\n",
       "         0.99381914, 0.91428654, 0.25082392, 0.97650047, 0.13077942,\n",
       "         0.76919283, 0.302118  , 0.67595802, 0.87821342, 0.59074883,\n",
       "         0.64173341, 0.41741022, 0.76357645, 0.4447599 , 0.96149695,\n",
       "         0.04541469, 0.67180434, 0.37288215, 0.8032567 , 0.        ,\n",
       "         0.87898682, 0.99537844, 0.46102031, 0.99508474, 0.8528834 ,\n",
       "         0.956707  , 0.43228366, 0.76130709, 0.        , 0.88281353,\n",
       "         0.59236476, 0.19124776, 0.94774916, 0.90841292, 0.79607809,\n",
       "         0.62373967, 0.99980951, 0.        , 0.9037005 , 0.82768804,\n",
       "         0.46701125, 0.27837806, 0.50367486, 0.39330844, 0.8946111 ,\n",
       "         0.98729852, 0.42382736, 0.99431078, 0.29692332, 0.92719097,\n",
       "         0.96560148, 0.25644116, 0.3445726 , 0.98231661, 0.74148274,\n",
       "         0.93952631, 0.70016218, 0.17522218, 0.75326076, 0.76695602,\n",
       "         0.9539722 , 0.44269755, 0.46302365, 0.71181467, 0.08490859,\n",
       "         0.94725352, 0.11611508, 0.24799433, 0.04058266, 0.8654699 ,\n",
       "         0.58912828, 0.        , 0.82862679, 0.2675132 , 0.58912828,\n",
       "         0.88582668, 0.95067209, 0.9161984 , 0.66901584, 0.97058382]),\n",
       "  array([0.97274928, 0.54706336, 0.3445726 , 0.        , 0.94422858,\n",
       "         0.98958752, 0.91995349, 0.96639395, 0.        , 0.72067633,\n",
       "         0.98753774, 0.4447599 , 0.94371589, 0.        , 0.44269755,\n",
       "         0.10473589, 0.30982721, 0.96149695, 0.55572163, 0.89245069,\n",
       "         0.7780113 , 0.98800928, 0.8887972 , 0.98370826, 0.67180434,\n",
       "         0.96871467, 0.77252382, 0.88357082, 0.29430905, 0.98231661,\n",
       "         0.94524664, 0.58423881, 0.64173341, 0.73788343, 0.99995942,\n",
       "         0.60670332, 0.29952627, 0.91808736, 0.15864413, 0.95804202,\n",
       "         0.65627304, 0.90573561, 0.80426999, 0.99493449, 0.84767267,\n",
       "         0.98705702, 0.99580197, 0.97274928, 0.99043904, 0.9990519 ,\n",
       "         0.0356208 , 0.96909321, 0.        , 0.91808736, 0.25922919,\n",
       "         0.85202198, 0.71942104, 0.37518466, 0.94473883, 0.        ,\n",
       "         0.42169553, 0.52031093, 0.11236071, 0.54531647, 0.56085638,\n",
       "         0.99810451, 0.79399938, 0.97682749, 0.15864413, 0.34698129,\n",
       "         0.01385706, 0.98370826, 0.        , 0.75093198, 0.        ,\n",
       "         0.76357645, 0.65050593, 0.52575707, 0.99884554, 0.28639696,\n",
       "         0.98606803, 0.96149695, 0.92179686, 0.78874835, 0.43646982,\n",
       "         0.6548373 , 0.70667207, 0.41741022, 0.9539722 , 0.59074883,\n",
       "         0.99537844, 0.57266539, 0.46102031, 0.        , 0.99508474,\n",
       "         0.67041203, 0.52213174, 0.99828499, 0.07662072, 0.94824238]),\n",
       "  array([0.99658781, 0.        , 0.        , 0.38882599, 0.        ,\n",
       "         0.97811228, 0.44062845, 0.95935552, 0.7780113 , 0.1653459 ,\n",
       "         0.04541469, 0.78341923, 0.98397967, 0.99683164, 0.8092909 ,\n",
       "         0.95350798, 0.        , 0.80426999, 0.20062232, 0.89603823,\n",
       "         0.65770478, 0.95892008, 0.98478007, 0.55400006, 0.35177092,\n",
       "         0.54880515, 0.98824161, 0.65195376, 0.        , 0.02521187,\n",
       "         0.99810451, 0.96191809, 0.24515049, 0.83049552, 0.99478197,\n",
       "         0.70016218, 0.63281226, 0.79085809, 0.27297086, 0.49802789,\n",
       "         0.87898682, 0.96756493, 0.48271255, 0.51112449, 0.27568069,\n",
       "         0.54706336, 0.39330844, 0.76357645, 0.43228366, 0.3323871 ,\n",
       "         0.27024841, 0.        , 0.99085109, 0.82485424, 0.73908661,\n",
       "         0.53472659, 0.        , 0.02521187, 0.94824238, 0.12716372,\n",
       "         0.72566228, 0.49991596, 0.63131075, 0.59074883, 0.98656712,\n",
       "         0.86465019, 0.3493807 , 0.05475066, 0.59236476, 0.        ,\n",
       "         0.19124776, 0.9828802 , 0.28639696, 0.64613808, 0.99259237,\n",
       "         0.17522218, 0.98478007, 0.52031093, 0.12716372, 0.99184127,\n",
       "         0.99105369, 0.44062845, 0.        , 0.58750311, 0.75442015,\n",
       "         0.68416171, 0.3323871 , 0.52394711, 0.80019854, 0.        ,\n",
       "         0.99683164, 0.99950289, 0.95848224, 0.85545081, 0.31743986,\n",
       "         0.97274928, 0.72317634, 0.56255805, 0.99997182, 0.1816952 ]),\n",
       "  array([0.        , 0.44886449, 0.        , 0.        , 0.51665292,\n",
       "         0.        , 0.90774746, 0.01385706, 0.99963479, 0.97414606,\n",
       "         0.96275324, 0.56931571, 0.99683164, 0.01385706, 0.99761373,\n",
       "         0.41741022, 0.97516909, 0.        , 0.99277445, 0.        ,\n",
       "         0.95804202, 0.78768879, 0.07238758, 0.71942104, 0.13436344,\n",
       "         0.        , 0.        , 0.17195284, 0.4343802 , 0.        ,\n",
       "         0.99001785, 0.16200717, 0.07238758, 0.55054184, 0.15525614,\n",
       "         0.90774746, 0.47491118, 0.77909923, 0.10856819, 0.10086201,\n",
       "         0.        , 0.1816952 , 0.17195284, 0.8812909 , 0.        ,\n",
       "         0.41525664, 0.20982925, 0.99923794, 0.96398814, 0.54356444,\n",
       "         0.91364415, 0.99414917, 0.02521187, 0.69089387, 0.02521187,\n",
       "         0.20677831, 0.25644116, 0.99683164, 0.96275324, 0.53827737,\n",
       "         0.48657693, 0.        , 0.99828499, 0.07238758, 0.90164205,\n",
       "         0.73788343, 0.55572163, 0.36124149, 0.09694461, 0.95978857,\n",
       "         0.89245069, 0.72317634, 0.50367486, 0.70016218, 0.56594664,\n",
       "         0.98504226, 0.87033048, 0.11611508, 0.8654699 , 0.77141671,\n",
       "         0.28373605, 0.11236071, 0.01385706, 0.49613403, 0.05475066,\n",
       "         0.3445726 , 0.96833378, 0.7769202 , 0.        , 0.96909321,\n",
       "         0.        , 0.52213174, 0.21887773, 0.98555975, 0.        ,\n",
       "         0.        , 0.58912828, 0.        , 0.50741096, 0.24515049]),\n",
       "  array([0.        , 0.81127812, 0.78234397, 0.        , 0.08897041,\n",
       "         0.25922919, 0.1449355 , 0.04541469, 0.39330844, 0.44062845,\n",
       "         0.08079314, 0.97583944, 0.        , 0.32744492, 0.        ,\n",
       "         0.97131502, 0.        , 0.26476503, 0.        , 0.65627304,\n",
       "         0.37747879, 0.        , 0.01385706, 0.85630102, 0.6475981 ,\n",
       "         0.95162704, 0.        , 0.37518466, 0.43855255, 0.5642548 ,\n",
       "         0.32744492, 0.27297086, 0.        , 0.        , 0.        ,\n",
       "         0.58423881, 0.06808941, 0.05475066, 0.10856819, 0.12716372,\n",
       "         0.32744492, 0.23653134, 0.85799307, 0.99750879, 0.        ,\n",
       "         0.99999549, 0.11236071, 0.        , 0.28373605, 0.91364415,\n",
       "         0.98914804, 0.4043776 , 0.        , 0.15864413, 0.66761573,\n",
       "         0.64320574, 0.32495889, 0.        , 0.1816952 , 0.95067209,\n",
       "         0.22777597, 0.75093198, 0.        , 0.60512816, 0.        ,\n",
       "         0.        , 0.        , 0.15864413, 0.        , 0.        ,\n",
       "         0.28373605, 0.12716372, 0.06372124, 0.02521187, 0.34215456,\n",
       "         0.10086201, 0.48464774, 0.07238758, 0.21887773, 0.32744492,\n",
       "         0.98397967, 0.        , 0.        , 0.        , 0.93845438,\n",
       "         0.11983279, 0.        , 0.98656712, 0.26476503, 0.        ,\n",
       "         0.06372124, 0.        , 0.55400006, 0.        , 0.9548934 ,\n",
       "         0.11983279, 0.59074883, 0.95759941, 0.        , 0.        ]),\n",
       "  array([0.87975754, 0.96064753, 0.79399938, 0.29952627, 0.72442106,\n",
       "         0.        , 0.        , 0.        , 0.        , 0.10856819,\n",
       "         0.19124776, 0.        , 0.        , 0.32744492, 0.77141671,\n",
       "         0.        , 0.        , 0.        , 0.08490859, 0.94422858,\n",
       "         0.        , 0.09694461, 0.99801087, 0.        , 0.84591316,\n",
       "         0.        , 0.16866093, 0.        , 0.17195284, 0.43855255,\n",
       "         0.60196442, 0.20982925, 0.        , 0.99313178, 0.        ,\n",
       "         0.99607298, 0.        , 0.30726836, 0.06372124, 0.        ,\n",
       "         0.        , 0.78768879, 0.98958752, 0.95115078, 0.        ,\n",
       "         0.50179827, 0.        , 0.35415203, 0.86217453, 0.98259956,\n",
       "         0.        , 0.        , 0.        , 0.53294331, 0.47097367,\n",
       "         0.        , 0.97842766, 0.44269755, 0.3865728 , 0.        ,\n",
       "         0.34215456, 0.05475066, 0.50927053, 0.11611508, 0.        ,\n",
       "         0.01385706, 0.30469866, 0.19439186, 0.        , 0.98231661,\n",
       "         0.        , 0.08079314, 0.69089387, 0.81226722, 0.98174378,\n",
       "         0.0356208 , 0.37288215, 0.84056637, 0.34698129, 0.        ,\n",
       "         0.27297086, 0.94873317, 0.        , 0.40875166, 0.92894388,\n",
       "         0.99945441, 0.52213174, 0.        , 0.19751658, 0.90841292,\n",
       "         0.        , 0.08897041, 0.        , 0.95162704, 0.28373605,\n",
       "         0.        , 0.36124149, 0.        , 0.96560148, 0.45497173]),\n",
       "  array([0.        , 0.        , 0.79814446, 0.53294331, 0.60827403,\n",
       "         0.        , 0.30726836, 0.        , 0.89815926, 0.        ,\n",
       "         0.86791252, 0.65050593, 0.72317634, 0.04058266, 0.70147146,\n",
       "         0.        , 0.01385706, 0.        , 0.47687068, 0.69753259,\n",
       "         0.28106313, 0.17195284, 0.60196442, 0.14144054, 0.95350798,\n",
       "         0.42169553, 0.99566306, 0.        , 0.96909321, 0.13791682,\n",
       "         0.60670332, 0.96064753, 0.90573561, 0.83785438, 0.        ,\n",
       "         0.        , 0.02521187, 0.        , 0.99580197, 0.69089387,\n",
       "         0.80224037, 0.83876124, 0.        , 0.93845438, 0.        ,\n",
       "         0.27568069, 0.        , 0.        , 0.86217453, 0.        ,\n",
       "         0.27024841, 0.96064753, 0.25922919, 0.        , 0.        ,\n",
       "         0.        , 0.70016218, 0.        , 0.64320574, 0.11236071,\n",
       "         0.07238758, 0.60670332, 0.        , 0.41741022, 0.35652411,\n",
       "         0.        , 0.        , 0.        , 0.99971144, 0.        ,\n",
       "         0.28639696, 0.18808391, 0.34215456, 0.47491118, 0.        ,\n",
       "         0.97414606, 0.23070996, 0.89172527, 0.37288215, 0.40875166,\n",
       "         0.        , 0.27024841, 0.31743986, 0.        , 0.01385706,\n",
       "         0.94725352, 0.0356208 , 0.        , 0.58423881, 0.01385706,\n",
       "         0.23653134, 0.33729007, 0.19751658, 0.01385706, 0.04541469,\n",
       "         0.        , 0.38431154, 0.29692332, 0.        , 0.74267571]),\n",
       "  array([0.        , 0.        , 0.04541469, 0.7462343 , 0.93238236,\n",
       "         0.        , 0.78768879, 0.15525614, 0.        , 0.        ,\n",
       "         0.97747454, 0.25363946, 0.94824238, 0.99043904, 0.49041745,\n",
       "         0.67457732, 0.99001785, 0.99203247, 0.95162704, 0.        ,\n",
       "         0.94575201, 0.        , 0.46899559, 0.        , 0.76244341,\n",
       "         0.11983279, 0.32246277, 0.74505148, 0.        , 0.24515049,\n",
       "         0.        , 0.05475066, 0.89317346, 0.        , 0.        ,\n",
       "         0.39107119, 0.31743986, 0.87898682, 0.07238758, 0.        ,\n",
       "         0.11236071, 0.37518466, 0.8850774 , 0.61760568, 0.        ,\n",
       "         0.        , 0.        , 0.        , 0.        , 0.11983279,\n",
       "         0.97021469, 0.        , 0.72192809, 0.        , 0.52936087,\n",
       "         0.75209803, 0.48464774, 0.79190829, 0.        , 0.        ,\n",
       "         0.67457732, 0.8441423 , 0.25922919, 0.97779457, 0.        ,\n",
       "         0.        , 0.        , 0.08897041, 0.44681553, 0.61140216,\n",
       "         0.        , 0.        , 0.        , 0.        , 0.71436439,\n",
       "         0.        , 0.28373605, 0.        , 0.        , 0.        ,\n",
       "         0.        , 0.99222138, 0.46701125, 0.        , 0.15184252,\n",
       "         0.        , 0.63877634, 0.37747879, 0.        , 0.85630102,\n",
       "         0.67870787, 0.        , 0.        , 0.82103468, 0.        ,\n",
       "         0.        , 0.74267571, 0.0356208 , 0.01385706, 0.25922919]),\n",
       "  array([0.        , 0.07238758, 0.        , 0.66761573, 0.01385706,\n",
       "         0.98753774, 0.02521187, 0.39775935, 0.37288215, 0.49041745,\n",
       "         0.96795054, 0.12351525, 0.        , 0.        , 0.97996976,\n",
       "         0.1653459 , 0.4065684 , 0.1816952 , 0.07238758, 0.        ,\n",
       "         0.        , 0.        , 0.11611508, 0.2675132 , 0.        ,\n",
       "         0.46302365, 0.        , 0.76130709, 0.3797646 , 0.        ,\n",
       "         0.        , 0.289046  , 0.54004491, 0.        , 0.52936087,\n",
       "         0.14144054, 0.08079314, 0.23070996, 0.05475066, 0.        ,\n",
       "         0.56931571, 0.47882405, 0.        , 0.34215456, 0.        ,\n",
       "         0.        , 0.        , 0.9562572 , 0.        , 0.1449355 ,\n",
       "         0.        , 0.        , 0.10473589, 0.        , 0.        ,\n",
       "         0.        , 0.        , 0.        , 0.3493807 , 0.        ,\n",
       "         0.        , 0.58587329, 0.        , 0.92836207, 0.07238758,\n",
       "         0.76470623, 0.24799433, 0.        , 0.29168332, 0.        ,\n",
       "         0.        , 0.853742  , 0.26200376, 0.64467396, 0.91428654,\n",
       "         0.14144054, 0.        , 0.90973612, 0.27837806, 0.89317346,\n",
       "         0.04541469, 0.        , 0.        , 0.        , 0.836032  ,\n",
       "         0.60512816, 0.        , 0.        , 0.13791682, 0.9916478 ,\n",
       "         0.39107119, 0.99462718, 0.1449355 , 0.        , 0.96064753,\n",
       "         0.8719288 , 0.1653459 , 0.80122098, 0.52394711, 0.        ]),\n",
       "  array([0.87430586, 0.65913252, 0.98656712, 0.09694461, 0.57599584,\n",
       "         0.70667207, 0.        , 0.        , 0.91995349, 0.        ,\n",
       "         0.        , 0.62678087, 0.56763361, 0.        , 0.59236476,\n",
       "         0.        , 0.82485424, 0.97095059, 0.        , 0.        ,\n",
       "         0.83966524, 0.99988729, 0.33484344, 0.        , 0.93573145,\n",
       "         0.50741096, 0.37288215, 0.43646982, 0.98504226, 0.68416171,\n",
       "         0.        , 0.        , 0.        , 0.        , 0.        ,\n",
       "         0.21286259, 0.78018398, 0.1816952 , 0.14840256, 0.82580177,\n",
       "         0.49991596, 0.05013316, 0.99999887, 0.        , 0.        ,\n",
       "         0.02521187, 0.        , 0.        , 0.99523273, 0.94970747,\n",
       "         0.        , 0.25363946, 0.71563389, 0.93067432, 0.        ,\n",
       "         0.        , 0.        , 0.59074883, 0.68144241, 0.        ,\n",
       "         0.72442106, 0.02521187, 0.        , 0.        , 0.18808391,\n",
       "         0.96678664, 0.3865728 , 0.12351525, 0.        , 0.        ,\n",
       "         0.        , 0.37518466, 0.12351525, 0.        , 0.        ,\n",
       "         0.        , 0.01385706, 0.        , 0.32992096, 0.94422858,\n",
       "         0.05475066, 0.        , 0.        , 0.94473883, 0.22482611,\n",
       "         0.        , 0.81423643, 0.0356208 , 0.98397967, 0.        ,\n",
       "         0.        , 0.        , 0.        , 0.9023308 , 0.09694461,\n",
       "         0.        , 0.29168332, 0.8528834 , 0.        , 0.65195376]),\n",
       "  array([0.3445726 , 0.99001785, 0.        , 0.93737261, 0.        ,\n",
       "         0.        , 0.76357645, 0.0356208 , 0.        , 0.99043904,\n",
       "         0.        , 0.        , 0.81226722, 0.55400006, 0.73667683,\n",
       "         0.        , 0.1653459 , 0.04541469, 0.        , 0.        ,\n",
       "         0.95935552, 0.19124776, 0.        , 0.04058266, 0.        ,\n",
       "         0.69621226, 0.        , 0.87033048, 0.        , 0.19751658,\n",
       "         0.        , 0.        , 0.26200376, 0.02521187, 0.81619367,\n",
       "         0.04541469, 0.76807604, 0.        , 0.04541469, 0.956707  ,\n",
       "         0.        , 0.0356208 , 0.        , 0.        , 0.        ,\n",
       "         0.1449355 , 0.85630102, 0.        , 0.95978857, 0.        ,\n",
       "         0.        , 0.1653459 , 0.78768879, 0.84942086, 0.02521187,\n",
       "         0.85714844, 0.4447599 , 0.19439186, 0.        , 0.        ,\n",
       "         0.99295426, 0.        , 0.48464774, 0.02521187, 0.08490859,\n",
       "         0.96946939, 0.99998197, 0.20370945, 0.43855255, 0.99145204,\n",
       "         0.        , 0.8887972 , 0.        , 0.85459781, 0.32992096,\n",
       "         0.        , 0.        , 0.64173341, 0.        , 0.98681321,\n",
       "         0.98315853, 0.        , 0.79504028, 0.        , 0.        ,\n",
       "         0.06372124, 0.90301695, 0.94371589, 0.15525614, 0.30982721,\n",
       "         0.26200376, 0.        , 0.53827737, 0.24229219, 0.80019854,\n",
       "         0.        , 0.        , 0.99001785, 0.19751658, 0.        ])])"
      ]
     },
     "execution_count": 14,
     "metadata": {},
     "output_type": "execute_result"
    }
   ],
   "source": [
    "calculate_entropies(model)"
   ]
  },
  {
   "cell_type": "markdown",
   "metadata": {
    "pycharm": {
     "name": "#%% md\n"
    }
   },
   "source": [
    "## Compression"
   ]
  },
  {
   "cell_type": "code",
   "execution_count": 15,
   "metadata": {
    "collapsed": false,
    "jupyter": {
     "outputs_hidden": false
    },
    "pycharm": {
     "name": "#%%\n"
    }
   },
   "outputs": [],
   "source": [
    "def prune_model_and_test(model, Pruner, config):\n",
    "    model_copy = deepcopy(model)\n",
    "    pruner = Pruner(model_copy, config, optimizer=optimizer)\n",
    "    pruner.compress()\n",
    "    return model_copy\n",
    "\n",
    "def display_test(model):\n",
    "    x = make_glider(10)\n",
    "    X_test = torch.from_numpy(x.reshape(1, 10, 10)).float()\n",
    "    Y_test = ca(X_test).float()\n",
    "\n",
    "    if torch.cuda.is_available():\n",
    "        X_test = X_test.cuda()\n",
    "    Y_pred = model(X_test)\n",
    "\n",
    "    if torch.cuda.is_available():\n",
    "        X_test = X_test.cpu()\n",
    "        Y_pred = Y_pred.cpu()\n",
    "\n",
    "    X_test = X_test.detach().numpy()\n",
    "    Y_test = Y_test.detach().numpy()\n",
    "    Y_pred = Y_pred.detach().numpy()\n",
    "\n",
    "    plt.figure(figsize=(12, 4))\n",
    "\n",
    "    plt.subplot(141)\n",
    "    plt.imshow(X_test[0])\n",
    "    plt.axis('off')\n",
    "    plt.title(\"Input\")\n",
    "\n",
    "    plt.subplot(142)\n",
    "    plt.imshow(Y_test[0])\n",
    "    plt.axis('off')\n",
    "    plt.title(\"Expected Output\")\n",
    "\n",
    "    plt.subplot(143)\n",
    "    plt.imshow(Y_pred[0])\n",
    "    plt.axis('off')\n",
    "    plt.title(\"Observed Output\")\n",
    "\n",
    "    plt.subplot(144)\n",
    "    plt.imshow((Y_pred[0] - Y_test[0]) ** 2)\n",
    "    plt.axis('off')\n",
    "    plt.title(\"Normalised Diff\")\n",
    "\n",
    "    print('max loss:', ((Y_pred[0] - Y_test[0]) ** 2).max())"
   ]
  },
  {
   "cell_type": "markdown",
   "metadata": {},
   "source": [
    "### Level Pruner"
   ]
  },
  {
   "cell_type": "code",
   "execution_count": 16,
   "metadata": {
    "collapsed": false,
    "jupyter": {
     "outputs_hidden": false
    },
    "pycharm": {
     "name": "#%%\n"
    }
   },
   "outputs": [
    {
     "name": "stdout",
     "output_type": "stream",
     "text": [
      "max loss: 0.07606643\n"
     ]
    },
    {
     "data": {
      "image/png": "[encoded data removed]",
      "text/plain": [
       "<Figure size 864x288 with 4 Axes>"
      ]
     },
     "metadata": {
      "needs_background": "light"
     },
     "output_type": "display_data"
    }
   ],
   "source": [
    "config_list = [{ 'sparsity': 0.1, 'op_types': ['default'] }]\n",
    "m = prune_model_and_test(model, LevelPruner, config_list)\n",
    "display_test(m)"
   ]
  },
  {
   "cell_type": "markdown",
   "metadata": {},
   "source": [
    "### FPGM Pruner"
   ]
  },
  {
   "cell_type": "code",
   "execution_count": 17,
   "metadata": {
    "collapsed": false,
    "jupyter": {
     "outputs_hidden": false
    },
    "pycharm": {
     "name": "#%%\n"
    }
   },
   "outputs": [
    {
     "name": "stdout",
     "output_type": "stream",
     "text": [
      "max loss: 2.140391\n"
     ]
    },
    {
     "data": {
      "image/png": "[encoded data removed]",
      "text/plain": [
       "<Figure size 864x288 with 4 Axes>"
      ]
     },
     "metadata": {
      "needs_background": "light"
     },
     "output_type": "display_data"
    }
   ],
   "source": [
    "config_list = [{ 'sparsity': 0.1, 'op_types': ['Conv2d'] }]\n",
    "m = prune_model_and_test(model, FPGMPruner, config_list)\n",
    "display_test(m)"
   ]
  },
  {
   "cell_type": "markdown",
   "metadata": {},
   "source": [
    "### L1 Pruner"
   ]
  },
  {
   "cell_type": "code",
   "execution_count": 18,
   "metadata": {
    "collapsed": false,
    "jupyter": {
     "outputs_hidden": false
    },
    "pycharm": {
     "name": "#%%\n"
    }
   },
   "outputs": [
    {
     "name": "stdout",
     "output_type": "stream",
     "text": [
      "max loss: 0.8823628\n"
     ]
    },
    {
     "data": {
      "image/png": "[encoded data removed]",
      "text/plain": [
       "<Figure size 864x288 with 4 Axes>"
      ]
     },
     "metadata": {
      "needs_background": "light"
     },
     "output_type": "display_data"
    }
   ],
   "source": [
    "config_list = [{ 'sparsity': 0.1, 'op_types': ['Conv2d'] }]\n",
    "m = prune_model_and_test(model, L1FilterPruner, config_list)\n",
    "display_test(m)"
   ]
  },
  {
   "cell_type": "markdown",
   "metadata": {},
   "source": [
    "### L2 Pruner"
   ]
  },
  {
   "cell_type": "code",
   "execution_count": 19,
   "metadata": {
    "collapsed": false,
    "jupyter": {
     "outputs_hidden": false
    },
    "pycharm": {
     "name": "#%%\n"
    }
   },
   "outputs": [
    {
     "name": "stdout",
     "output_type": "stream",
     "text": [
      "max loss: 1.4516169\n"
     ]
    },
    {
     "data": {
      "image/png": "[encoded data removed]",
      "text/plain": [
       "<Figure size 864x288 with 4 Axes>"
      ]
     },
     "metadata": {
      "needs_background": "light"
     },
     "output_type": "display_data"
    }
   ],
   "source": [
    "config_list = [{ 'sparsity': 0.1, 'op_types': ['Conv2d'] }]\n",
    "m = prune_model_and_test(model, L2FilterPruner, config_list)\n",
    "display_test(m)"
   ]
  },
  {
   "cell_type": "markdown",
   "metadata": {},
   "source": [
    "### LotteryTicket Pruner"
   ]
  },
  {
   "cell_type": "code",
   "execution_count": 20,
   "metadata": {
    "collapsed": false,
    "jupyter": {
     "outputs_hidden": false
    },
    "pycharm": {
     "name": "#%%\n"
    }
   },
   "outputs": [
    {
     "name": "stdout",
     "output_type": "stream",
     "text": [
      "max loss: 2.7578222e-12\n"
     ]
    },
    {
     "data": {
      "image/png": "[encoded data removed]",
      "text/plain": [
       "<Figure size 864x288 with 4 Axes>"
      ]
     },
     "metadata": {
      "needs_background": "light"
     },
     "output_type": "display_data"
    }
   ],
   "source": [
    "config_list = [{\n",
    "    'prune_iterations': 50,\n",
    "    'sparsity': 0.1,\n",
    "    'op_types': ['default']\n",
    "}]\n",
    "m = prune_model_and_test(model, LotteryTicketPruner, config_list)\n",
    "display_test(m)"
   ]
  },
  {
   "cell_type": "markdown",
   "metadata": {},
   "source": [
    "## LMC Complexity"
   ]
  },
  {
   "cell_type": "code",
   "execution_count": 21,
   "metadata": {},
   "outputs": [],
   "source": [
    "def lmc_complexity(ca, m=M, d=D):  \n",
    "    inputs = torch.from_numpy(ALL_INPUTS)\n",
    "    outputs = ca(inputs)\n",
    "    output_counts = np.array(list(Counter(tuple(torch.reshape(o, [-1]).numpy()) for o in outputs).values()))\n",
    "    output_ps = output_counts / len(inputs)\n",
    "    \n",
    "    H = entropy(output_ps, base=2)\n",
    "\n",
    "    N = m ** np.product(d)\n",
    "    ps = np.zeros(N)\n",
    "    ps[:len(output_ps)] = output_ps\n",
    "    uniform_ps = np.full(N, 1.0 / N)\n",
    "    \n",
    "    D = np.sum((ps - uniform_ps) ** 2)\n",
    "    \n",
    "    return H * D"
   ]
  },
  {
   "cell_type": "code",
   "execution_count": 22,
   "metadata": {},
   "outputs": [
    {
     "name": "stderr",
     "output_type": "stream",
     "text": [
      "512it [00:12, 39.52it/s]\n"
     ]
    },
    {
     "data": {
      "text/plain": [
       "[<matplotlib.lines.Line2D at 0x7fea60350fd0>]"
      ]
     },
     "execution_count": 22,
     "metadata": {},
     "output_type": "execute_result"
    },
    {
     "data": {
      "image/png": "[encoded data removed]",
      "text/plain": [
       "<Figure size 720x576 with 1 Axes>"
      ]
     },
     "metadata": {
      "needs_background": "light"
     },
     "output_type": "display_data"
    }
   ],
   "source": [
    "lmcs = [lmc_complexity(a) for a in tqdm(sample_CAs(seed=0))]\n",
    "plt.plot(lmcs)"
   ]
  }
 ],
 "metadata": {
  "kernelspec": {
   "display_name": "Python 3",
   "language": "python",
   "name": "python3"
  },
  "language_info": {
   "codemirror_mode": {
    "name": "ipython",
    "version": 3
   },
   "file_extension": ".py",
   "mimetype": "text/x-python",
   "name": "python",
   "nbconvert_exporter": "python",
   "pygments_lexer": "ipython3",
   "version": "3.8.2"
  }
 },
 "nbformat": 4,
 "nbformat_minor": 4
}
