{
 "cells": [
  {
   "cell_type": "markdown",
   "metadata": {},
   "source": [
    "# Paper replication"
   ]
  },
  {
   "cell_type": "code",
   "execution_count": 1,
   "metadata": {},
   "outputs": [],
   "source": [
    "%load_ext autoreload\n",
    "%autoreload 2\n",
    "\n",
    "import matplotlib.pyplot as plt\n",
    "import numpy as np\n",
    "import torch\n",
    "\n",
    "from collections import Counter\n",
    "from copy import deepcopy\n",
    "from IPython.display import clear_output\n",
    "from scipy.stats import entropy\n",
    "from tqdm import tqdm\n",
    "\n",
    "from ca_funcs import get_network_entropies, make_table_walk, make_ca, make_glider\n",
    "from train_ca import initialize_model\n",
    "from utils import all_combinations\n",
    "\n",
    "from nni.compression.torch import *\n",
    "\n",
    "%matplotlib inline\n",
    "plt.rcParams['figure.figsize'] = (10.0, 8.0) # set default size of plots\n",
    "plt.rcParams['image.interpolation'] = 'nearest'\n",
    "plt.rcParams['image.cmap'] = 'gray'"
   ]
  },
  {
   "cell_type": "code",
   "execution_count": 2,
   "metadata": {},
   "outputs": [],
   "source": [
    "M = 2\n",
    "D = (3, 3)\n",
    "ALL_INPUTS = all_combinations(M, D)\n",
    "RANDOM_INPUTS = np.random.choice([0, 1], (500, 10, 10))"
   ]
  },
  {
   "cell_type": "markdown",
   "metadata": {},
   "source": [
    "## Define CAs and training data"
   ]
  },
  {
   "cell_type": "code",
   "execution_count": 3,
   "metadata": {},
   "outputs": [],
   "source": [
    "def sample_CAs(rng=None):   \n",
    "    rng = rng or np.random.default_rng(0)\n",
    "    inputs = ALL_INPUTS\n",
    "    outputs = make_table_walk(len(ALL_INPUTS), rng=rng)\n",
    "    for o in outputs:\n",
    "        yield make_ca(inputs, o)\n",
    "\n",
    "def generate_CA_train_data(ca, height=10, width=10, n_samples=500, rng=None):\n",
    "    rng = rng or np.random.default_rng(0)\n",
    "    X_train = torch.from_numpy(rng.choice([0, 1], (n_samples, height, width), p=[.5, .5])).float()\n",
    "    Y_train = ca(X_train).float()\n",
    "    return X_train, Y_train"
   ]
  },
  {
   "cell_type": "code",
   "execution_count": 4,
   "metadata": {},
   "outputs": [
    {
     "data": {
      "image/png": "[encoded data removed]",
      "text/plain": [
       "<Figure size 864x288 with 2 Axes>"
      ]
     },
     "metadata": {
      "needs_background": "light"
     },
     "output_type": "display_data"
    }
   ],
   "source": [
    "np.random.seed(0)\n",
    "\n",
    "for i, ca in enumerate(sample_CAs()):\n",
    "    X_test = torch.from_numpy(make_glider(10).reshape(1, 10, 10)).float()\n",
    "    Y_test = ca(X_test).float()\n",
    "\n",
    "    plt.figure(figsize=(12,4))\n",
    "    plt.suptitle(i)\n",
    "\n",
    "    plt.subplot(1,2,1)\n",
    "    plt.imshow(X_test[0])\n",
    "    plt.axis('off')\n",
    "    plt.title(\"Input\")\n",
    "\n",
    "    plt.subplot(1,2,2)\n",
    "    plt.imshow(Y_test[0])\n",
    "    plt.axis('off')\n",
    "    plt.title(\"Output\")\n",
    "\n",
    "    plt.show()\n",
    "    plt.close()\n",
    "    clear_output(wait=True)"
   ]
  },
  {
   "cell_type": "markdown",
   "metadata": {},
   "source": [
    "## Find entropy of the training CA"
   ]
  },
  {
   "cell_type": "code",
   "execution_count": 5,
   "metadata": {},
   "outputs": [],
   "source": [
    "def ca_entropy(ca):        \n",
    "    inputs = torch.from_numpy(ALL_INPUTS)\n",
    "    outputs = ca(inputs)\n",
    "    output_counts = np.array(list(Counter(tuple(torch.reshape(o, [-1]).numpy()) for o in outputs).values()))\n",
    "    output_ps = output_counts / len(inputs)\n",
    "    return entropy(output_ps, base=2)"
   ]
  },
  {
   "cell_type": "code",
   "execution_count": 8,
   "metadata": {},
   "outputs": [
    {
     "name": "stderr",
     "output_type": "stream",
     "text": [
      "512it [00:12, 40.31it/s]\n"
     ]
    },
    {
     "data": {
      "text/plain": [
       "[<matplotlib.lines.Line2D at 0x7f693d81ba90>]"
      ]
     },
     "execution_count": 8,
     "metadata": {},
     "output_type": "execute_result"
    },
    {
     "data": {
      "image/png": "[encoded data removed]",
      "text/plain": [
       "<Figure size 720x576 with 1 Axes>"
      ]
     },
     "metadata": {
      "needs_background": "light"
     },
     "output_type": "display_data"
    }
   ],
   "source": [
    "entropies = [ca_entropy(a) for a in tqdm(sample_CAs(rng=np.random.default_rng(0)))]\n",
    "plt.plot(entropies)"
   ]
  },
  {
   "cell_type": "markdown",
   "metadata": {},
   "source": [
    "## Define the model"
   ]
  },
  {
   "cell_type": "code",
   "execution_count": 9,
   "metadata": {},
   "outputs": [
    {
     "name": "stdout",
     "output_type": "stream",
     "text": [
      "seed = 0\n",
      "Sequential(\n",
      "  (Wraparound2D): Wraparound2D()\n",
      "  (Conv2d_0): Conv2d(1, 100, kernel_size=(3, 3), stride=(1, 1))\n",
      "  (ReLU_0): ReLU()\n",
      "  (Conv2d_1): Conv2d(100, 100, kernel_size=(1, 1), stride=(1, 1))\n",
      "  (ReLU_1): ReLU()\n",
      "  (Conv2d_2): Conv2d(100, 100, kernel_size=(1, 1), stride=(1, 1))\n",
      "  (ReLU_2): ReLU()\n",
      "  (Conv2d_3): Conv2d(100, 100, kernel_size=(1, 1), stride=(1, 1))\n",
      "  (ReLU_3): ReLU()\n",
      "  (Conv2d_4): Conv2d(100, 100, kernel_size=(1, 1), stride=(1, 1))\n",
      "  (ReLU_4): ReLU()\n",
      "  (Conv2d_5): Conv2d(100, 100, kernel_size=(1, 1), stride=(1, 1))\n",
      "  (ReLU_5): ReLU()\n",
      "  (Conv2d_6): Conv2d(100, 100, kernel_size=(1, 1), stride=(1, 1))\n",
      "  (ReLU_6): ReLU()\n",
      "  (Conv2d_7): Conv2d(100, 100, kernel_size=(1, 1), stride=(1, 1))\n",
      "  (ReLU_7): ReLU()\n",
      "  (Conv2d_8): Conv2d(100, 100, kernel_size=(1, 1), stride=(1, 1))\n",
      "  (ReLU_8): ReLU()\n",
      "  (Conv2d_9): Conv2d(100, 100, kernel_size=(1, 1), stride=(1, 1))\n",
      "  (ReLU_9): ReLU()\n",
      "  (Conv2d_10): Conv2d(100, 100, kernel_size=(1, 1), stride=(1, 1))\n",
      "  (ReLU_10): ReLU()\n",
      "  (Conv2d_11): Conv2d(100, 100, kernel_size=(1, 1), stride=(1, 1))\n",
      "  (ReLU_11): ReLU()\n",
      "  (Conv2d_12): Conv2d(100, 1, kernel_size=(1, 1), stride=(1, 1), bias=False)\n",
      "  (Lambda_0): Lambda()\n",
      ")\n"
     ]
    }
   ],
   "source": [
    "seed = 0\n",
    "print('seed =', seed)\n",
    "\n",
    "np.random.seed(seed)\n",
    "torch.random.manual_seed(seed)\n",
    "\n",
    "num_classes = 2\n",
    "samples = 500\n",
    "input_dims = [10, 10]\n",
    "layer_dims = [100] + [100] * 11  # neighborhood conv + mlpconv layers\n",
    "batch_size = 10\n",
    "num_batches = samples // batch_size\n",
    "learning_rate = 1e-4\n",
    "training_epochs = 60  # 1500\n",
    "display_step = int(training_epochs / 10)\n",
    "loss = torch.nn.MSELoss()\n",
    "\n",
    "model = initialize_model(input_dims, layer_dims)\n",
    "optimizer = torch.optim.Adam(model.parameters(), lr=learning_rate)\n",
    "print(model)\n",
    "\n",
    "if torch.cuda.is_available():\n",
    "    model.cuda()"
   ]
  },
  {
   "cell_type": "markdown",
   "metadata": {},
   "source": [
    "## Define the learning loop"
   ]
  },
  {
   "cell_type": "code",
   "execution_count": 10,
   "metadata": {},
   "outputs": [],
   "source": [
    "losses = []\n",
    "\n",
    "def learn_CA(ca, model, optimizer, training_epochs):\n",
    "    losses = []\n",
    "    X_train, Y_train = generate_CA_train_data(ca, *input_dims, n_samples=samples)\n",
    "    if torch.cuda.is_available():\n",
    "        X_train = X_train.cuda()\n",
    "        Y_train = Y_train.cuda()\n",
    "\n",
    "    for _ in tqdm(range(training_epochs)):\n",
    "        batch_losses = []\n",
    "        for i in range(num_batches):\n",
    "            X_batch = X_train[i * batch_size : (i + 1) * batch_size]\n",
    "            Y_batch = Y_train[i * batch_size : (i + 1) * batch_size]\n",
    "\n",
    "            optimizer.zero_grad()\n",
    "            Y_pred = model(X_batch)\n",
    "            l = loss(Y_batch, Y_pred)\n",
    "            l.backward()\n",
    "            optimizer.step()\n",
    "            batch_losses.append(l.item())\n",
    "        losses.append(np.mean(batch_losses))\n",
    "    return losses"
   ]
  },
  {
   "cell_type": "markdown",
   "metadata": {},
   "source": [
    "## Train the model"
   ]
  },
  {
   "cell_type": "code",
   "execution_count": 11,
   "metadata": {},
   "outputs": [
    {
     "name": "stderr",
     "output_type": "stream",
     "text": [
      "100%|██████████| 60/60 [01:25<00:00,  1.43s/it]\n"
     ]
    }
   ],
   "source": [
    "ca = list(sample_CAs(rng=np.random.default_rng(0)))[250]\n",
    "losses = learn_CA(ca, model, optimizer, training_epochs)"
   ]
  },
  {
   "cell_type": "code",
   "execution_count": 12,
   "metadata": {},
   "outputs": [
    {
     "data": {
      "image/png": "[encoded data removed]",
      "text/plain": [
       "<Figure size 720x360 with 1 Axes>"
      ]
     },
     "metadata": {
      "needs_background": "light"
     },
     "output_type": "display_data"
    }
   ],
   "source": [
    "plt.figure(figsize=(10, 5))\n",
    "plt.plot(losses)\n",
    "plt.loglog();"
   ]
  },
  {
   "cell_type": "code",
   "execution_count": 13,
   "metadata": {},
   "outputs": [
    {
     "name": "stdout",
     "output_type": "stream",
     "text": [
      "max loss: 4.222589e-12\n"
     ]
    },
    {
     "data": {
      "image/png": "[encoded data removed]",
      "text/plain": [
       "<Figure size 864x288 with 4 Axes>"
      ]
     },
     "metadata": {
      "needs_background": "light"
     },
     "output_type": "display_data"
    }
   ],
   "source": [
    "# x = np.random.default_rng(0).choice([0, 1], size=100)\n",
    "x = make_glider(10)\n",
    "X_test = torch.from_numpy(x.reshape(1, 10, 10)).float()\n",
    "Y_test = ca(X_test).float()\n",
    "\n",
    "if torch.cuda.is_available():\n",
    "    X_test = X_test.cuda()\n",
    "Y_pred = model(X_test)\n",
    "\n",
    "\n",
    "if torch.cuda.is_available():\n",
    "    X_test = X_test.cpu()\n",
    "    Y_pred = Y_pred.cpu()\n",
    "\n",
    "X_test = X_test.detach().numpy()\n",
    "Y_test = Y_test.detach().numpy()\n",
    "Y_pred = Y_pred.detach().numpy()\n",
    "\n",
    "plt.figure(figsize=(12, 4))\n",
    "\n",
    "plt.subplot(141)\n",
    "plt.imshow(X_test[0])\n",
    "plt.axis('off')\n",
    "plt.title(\"Input\")\n",
    "\n",
    "plt.subplot(142)\n",
    "plt.imshow(Y_test[0])\n",
    "plt.axis('off')\n",
    "plt.title(\"Expected Output\")\n",
    "\n",
    "plt.subplot(143)\n",
    "plt.imshow(Y_pred[0])\n",
    "plt.axis('off')\n",
    "plt.title(\"Observed Output\")\n",
    "\n",
    "plt.subplot(144)\n",
    "plt.imshow((Y_pred[0] - Y_test[0]) ** 2)\n",
    "plt.axis('off')\n",
    "plt.title(\"Normalised Diff\")\n",
    "\n",
    "print('max loss:', ((Y_pred[0] - Y_test[0]) ** 2).max())"
   ]
  },
  {
   "cell_type": "markdown",
   "metadata": {},
   "source": [
    "## Find model entropies"
   ]
  },
  {
   "cell_type": "code",
   "execution_count": 14,
   "metadata": {},
   "outputs": [],
   "source": [
    "def calculate_entropies(model):\n",
    "    def get_activations(x_input):\n",
    "        activations = []\n",
    "        for m in model.children():\n",
    "            x_input = m(x_input)\n",
    "            activations.append(x_input)\n",
    "        return activations[1:-3:2]\n",
    "\n",
    "    X_test = np.pad(all_combinations(2, (3, 3)), [(0, 0), (3, 4), (3, 4)], 'wrap')\n",
    "    X_test = torch.from_numpy(X_test).float()\n",
    "        \n",
    "    if torch.cuda.is_available():\n",
    "        X_test = X_test.cuda()\n",
    "\n",
    "    res = [activation.cpu().detach().numpy() for activation in get_activations(X_test)]\n",
    "    layer_activations = np.array(res)\n",
    "    # Layer activations are floats, but to calculate entropy,\n",
    "    # we want to map activations to binary values,\n",
    "    # 1 if a given activation is >0, and 0 otherwise.\n",
    "    binary_activations = np.digitize(layer_activations, [0], right=True)\n",
    "    binary_activations = binary_activations.transpose(0, 1, -2, -1, 2) \\\n",
    "        .reshape(len(layer_dims), np.product(X_test.shape), layer_dims[0])\n",
    "    return get_network_entropies(binary_activations)"
   ]
  },
  {
   "cell_type": "code",
   "execution_count": 15,
   "metadata": {},
   "outputs": [
    {
     "data": {
      "text/plain": [
       "8.168256567294078"
      ]
     },
     "execution_count": 15,
     "metadata": {},
     "output_type": "execute_result"
    }
   ],
   "source": [
    "ca_entropy(ca)"
   ]
  },
  {
   "cell_type": "code",
   "execution_count": 16,
   "metadata": {},
   "outputs": [
    {
     "data": {
      "text/plain": [
       "(8.79856952502345,\n",
       " [8.79856952502345,\n",
       "  8.79856952502345,\n",
       "  8.79856952502345,\n",
       "  8.79856952502345,\n",
       "  8.79856952502345,\n",
       "  8.79856952502345,\n",
       "  8.79856952502345,\n",
       "  8.79606952502345,\n",
       "  8.77518089167391,\n",
       "  8.785073610670787,\n",
       "  8.79856952502345,\n",
       "  8.778327265296634],\n",
       " [array([0.68007705, 0.94524664, 0.84591316, 0.90301695, 0.96316725,\n",
       "         0.96233685, 0.97483042, 0.61295961, 0.81716781, 0.853742  ,\n",
       "         0.51297285, 0.81521654, 0.68280396, 0.37518466, 0.99566306,\n",
       "         1.        , 0.66621171, 0.96149695, 0.55914976, 0.73788343,\n",
       "         0.99022959, 0.34698129, 0.6548373 , 0.99988729, 0.61295961,\n",
       "         0.49041745, 0.87033048, 0.99791498, 0.92777777, 0.27024841,\n",
       "         0.33729007, 0.99447011, 0.94824238, 0.9318155 , 0.72566228,\n",
       "         0.72442106, 0.14840256, 0.93124616, 0.29168332, 0.78556029,\n",
       "         0.27297086, 0.24229219, 0.25922919, 0.24229219, 0.99593861,\n",
       "         0.97550543, 0.65913252, 0.84679433, 0.8092909 , 0.46502062,\n",
       "         0.94473883, 0.52756165, 0.25922919, 0.8332768 , 0.68007705,\n",
       "         0.17195284, 0.78556029, 0.93238236, 0.86382773, 0.98980383,\n",
       "         0.67595802, 0.756729  , 0.27568069, 0.86217453, 0.37747879,\n",
       "         0.89317346, 0.38204217, 0.79190829, 0.45497173, 0.56594664,\n",
       "         0.85967398, 0.84502915, 0.91808736, 0.94473883, 0.96064753,\n",
       "         0.97874073, 0.95759941, 0.85459781, 0.75557623, 0.86465019,\n",
       "         0.98800928, 0.1449355 , 0.96107343, 0.75787846, 0.56594664,\n",
       "         0.98259956, 0.85630102, 0.99971144, 0.1653459 , 0.49423436,\n",
       "         0.5776539 , 0.48271255, 0.64320574, 0.40875166, 0.9037005 ,\n",
       "         0.99671086, 0.72317634, 0.57266539, 0.49802789, 0.99683164]),\n",
       "  array([0.85799307, 0.72317634, 0.99493449, 0.        , 0.90640881,\n",
       "         0.01385706, 0.66761573, 0.90973612, 0.92240626, 0.18489986,\n",
       "         0.98980383, 0.63877634, 0.17846946, 0.93845438, 0.78662611,\n",
       "         0.04541469, 0.9318155 , 0.83966524, 0.74028638, 0.99105369,\n",
       "         0.99706641, 0.95350798, 0.29952627, 0.96316725, 0.25363946,\n",
       "         0.79085809, 0.32246277, 0.66761573, 0.79295539, 0.52394711,\n",
       "         0.79399938, 0.6935605 , 0.78126556, 0.50367486, 0.9828802 ,\n",
       "         0.02521187, 0.69621226, 0.38431154, 0.8865733 , 0.22482611,\n",
       "         0.97058382, 0.99593861, 0.49613403, 0.98824161, 0.94111578,\n",
       "         0.93406806, 0.46102031, 0.51848467, 0.        , 0.77030638,\n",
       "         0.19439186, 0.19124776, 0.96149695, 0.9652017 , 0.74505148,\n",
       "         0.62829507, 0.97239423, 0.        , 0.82768804, 0.75209803,\n",
       "         0.49613403, 0.4195565 , 0.51481565, 0.38204217, 0.821994  ,\n",
       "         0.99580197, 0.41525664, 0.97483042, 0.3493807 , 0.9659989 ,\n",
       "         0.955805  , 0.28639696, 0.39107119, 0.98174378, 0.72813424,\n",
       "         0.88805855, 0.64613808, 0.19439186, 0.91683059, 0.84502915,\n",
       "         0.93124616, 0.69753259, 0.60354853, 0.65913252, 0.10856819,\n",
       "         0.99633493, 0.11611508, 0.39107119, 0.04058266, 0.59558285,\n",
       "         0.68821229, 0.        , 0.7269    , 0.23362833, 0.60354853,\n",
       "         0.90841292, 0.93952631, 0.52031093, 0.65770478, 0.98203135]),\n",
       "  array([0.99980951, 0.756729  , 0.45497173, 0.        , 0.92894388,\n",
       "         0.99022959, 0.92421937, 0.99203247, 0.        , 0.7780113 ,\n",
       "         0.99999887, 0.46701125, 0.99313178, 0.        , 0.1816952 ,\n",
       "         0.11236071, 0.62980503, 0.96909321, 0.44269755, 0.90438146,\n",
       "         0.76695602, 0.98631872, 0.82956261, 0.95019099, 0.7354668 ,\n",
       "         0.98581504, 0.89317346, 0.81813898, 0.31995646, 0.99999887,\n",
       "         0.91933398, 0.4195565 , 0.13791682, 0.81028602, 0.99967424,\n",
       "         0.89815926, 0.11611508, 0.90164205, 0.        , 0.94524664,\n",
       "         0.90505983, 0.94422858, 0.59558285, 0.97414606, 0.9814539 ,\n",
       "         0.96439503, 0.96756493, 0.91428654, 0.99706641, 0.99508474,\n",
       "         0.10086201, 0.92301315, 0.        , 0.89317346, 0.49041745,\n",
       "         0.80829277, 0.71689983, 0.34698129, 0.90095071, 0.        ,\n",
       "         0.52575707, 0.19124776, 0.13791682, 0.79607809, 0.60037581,\n",
       "         0.99853878, 0.89317346, 0.95978857, 0.55743819, 0.48850016,\n",
       "         0.01385706, 0.98581504, 0.        , 0.81423643, 0.        ,\n",
       "         0.88432545, 0.61451267, 0.54880515, 0.99750879, 0.25922919,\n",
       "         0.97058382, 0.8850774 , 0.86710106, 0.85459781, 0.30469866,\n",
       "         0.69222905, 0.36592365, 0.57433301, 0.94216317, 0.20062232,\n",
       "         0.97550543, 0.59878269, 0.52394711, 0.29692332, 0.99145204,\n",
       "         0.50179827, 0.49613403, 0.97131502, 0.18489986, 0.95978857]),\n",
       "  array([0.99671086, 0.        , 0.        , 0.6475981 , 0.        ,\n",
       "         0.97842766, 0.32495889, 0.99898537, 0.86628685, 0.25363946,\n",
       "         0.302118  , 0.83511649, 0.93517946, 0.954434  , 0.88357082,\n",
       "         0.99994477, 0.        , 0.62221264, 0.35652411, 0.94524664,\n",
       "         0.63430955, 0.8441423 , 0.98504226, 0.3865728 , 0.47294552,\n",
       "         0.75326076, 0.98753774, 0.72067633, 0.        , 0.01385706,\n",
       "         0.95115078, 0.8719288 , 0.48271255, 0.86952723, 0.95067209,\n",
       "         0.68955495, 0.46899559, 0.78768879, 0.32495889, 0.49423436,\n",
       "         0.84767267, 0.83876124, 0.18489986, 0.63580266, 0.33972708,\n",
       "         0.68007705, 0.41525664, 0.7354668 , 0.33972708, 0.19751658,\n",
       "         0.2675132 , 0.        , 0.96233685, 0.79504028, 0.7354668 ,\n",
       "         0.46701125, 0.        , 0.01385706, 0.89026653, 0.20062232,\n",
       "         0.72813424, 0.6475981 , 0.43855255, 0.31995646, 0.99537844,\n",
       "         0.83142552, 0.30469866, 0.        , 0.42806963, 0.04541469,\n",
       "         0.26200376, 0.97021469, 0.05475066, 0.24515049, 0.98869941,\n",
       "         0.21887773, 0.97874073, 0.49613403, 0.30726836, 0.9318155 ,\n",
       "         0.98936893, 0.38882599, 0.01385706, 0.60512816, 0.85202198,\n",
       "         0.90640881, 0.21587865, 0.28106313, 0.79917303, 0.        ,\n",
       "         0.98027122, 0.99997182, 0.95759941, 0.90438146, 0.31491285,\n",
       "         0.99330704, 0.54880515, 0.28639696, 0.98555975, 0.25644116]),\n",
       "  array([0.        , 0.77141671, 0.        , 0.        , 0.4195565 ,\n",
       "         0.        , 0.97203684, 0.0356208 , 0.99740159, 0.98892487,\n",
       "         0.90025676, 0.78341923, 0.98451557, 0.        , 0.98656712,\n",
       "         0.27568069, 0.92240626, 0.        , 0.92600985, 0.        ,\n",
       "         0.99986362, 0.68955495, 0.06372124, 0.1816952 , 0.12716372,\n",
       "         0.        , 0.        , 0.01385706, 0.40875166, 0.        ,\n",
       "         0.98027122, 0.08897041, 0.04541469, 0.82103468, 0.35652411,\n",
       "         0.93952631, 0.        , 0.75787846, 0.11983279, 0.21587865,\n",
       "         0.        , 0.27568069, 0.13077942, 0.98800928, 0.08897041,\n",
       "         0.20370945, 0.21587865, 0.83785438, 0.98343455, 0.80628744,\n",
       "         0.99884554, 0.96984322, 0.02521187, 0.84942086, 0.        ,\n",
       "         0.32992096, 0.43646982, 0.93791473, 0.92541553, 0.13436344,\n",
       "         0.68416171, 0.        , 0.9964625 , 0.07238758, 0.83511649,\n",
       "         0.64905405, 0.54880515, 0.32246277, 0.0356208 , 0.88357082,\n",
       "         0.96479955, 0.57599584, 0.50367486, 0.70147146, 0.13436344,\n",
       "         0.73059227, 0.85967398, 0.04541469, 0.98581504, 0.62373967,\n",
       "         0.23653134, 0.01385706, 0.22186012, 0.52756165, 0.16866093,\n",
       "         0.58587329, 0.96357888, 0.95257234, 0.        , 0.99462718,\n",
       "         0.29692332, 0.6475981 , 0.33972708, 0.96479955, 0.        ,\n",
       "         0.        , 0.74028638, 0.        , 0.39330844, 0.2675132 ]),\n",
       "  array([0.        , 0.89603823, 0.32992096, 0.        , 0.08897041,\n",
       "         0.20982925, 0.07238758, 0.18808391, 0.13436344, 0.84146464,\n",
       "         0.        , 0.97583944, 0.        , 0.        , 0.        ,\n",
       "         0.99085109, 0.        , 0.        , 0.        , 0.76807604,\n",
       "         0.48077133, 0.        , 0.        , 0.53115474, 0.72067633,\n",
       "         0.99954911, 0.        , 0.45901057, 0.57599584, 0.59718505,\n",
       "         0.39330844, 0.29952627, 0.        , 0.        , 0.        ,\n",
       "         0.46701125, 0.05927727, 0.13436344, 0.26200376, 0.16200717,\n",
       "         0.3865728 , 0.30726836, 0.85967398, 0.99898537, 0.        ,\n",
       "         0.85115776, 0.53472659, 0.1816952 , 0.41092741, 0.9037005 ,\n",
       "         0.99508474, 0.        , 0.        , 0.02521187, 0.51665292,\n",
       "         0.83511649, 0.66901584, 0.        , 0.10473589, 0.99607298,\n",
       "         0.25082392, 0.91683059, 0.        , 0.73425334, 0.        ,\n",
       "         0.        , 0.        , 0.46502062, 0.        , 0.        ,\n",
       "         0.02521187, 0.        , 0.10086201, 0.02521187, 0.41525664,\n",
       "         0.01385706, 0.51297285, 0.55054184, 0.28106313, 0.49232884,\n",
       "         0.79085809, 0.        , 0.01385706, 0.        , 0.76695602,\n",
       "         0.02521187, 0.        , 0.89245069, 0.15864413, 0.        ,\n",
       "         0.81910718, 0.        , 0.2675132 , 0.        , 0.87272387,\n",
       "         0.20982925, 0.56255805, 0.85714844, 0.        , 0.        ]),\n",
       "  array([0.88953319, 0.954434  , 0.51848467, 0.37057119, 0.73303643,\n",
       "         0.63131075, 0.        , 0.        , 0.        , 0.10473589,\n",
       "         0.18808391, 0.        , 0.        , 0.        , 0.99633493,\n",
       "         0.        , 0.        , 0.        , 0.1449355 , 0.99950289,\n",
       "         0.        , 0.05475066, 0.99125401, 0.        , 0.42595205,\n",
       "         0.        , 0.43228366, 0.        , 0.17522218, 0.51665292,\n",
       "         0.54880515, 0.22482611, 0.        , 0.72813424, 0.01385706,\n",
       "         0.70407905, 0.02521187, 0.28639696, 0.04541469, 0.        ,\n",
       "         0.        , 0.30982721, 0.92421937, 0.74148274, 0.        ,\n",
       "         0.35652411, 0.        , 0.        , 0.93682802, 0.94268319,\n",
       "         0.        , 0.        , 0.        , 0.33972708, 0.46102031,\n",
       "         0.        , 0.9659989 , 0.89172527, 0.23070996, 0.        ,\n",
       "         0.28639696, 0.01385706, 0.1653459 , 0.32992096, 0.        ,\n",
       "         0.07238758, 0.        , 0.32246277, 0.        , 0.99935069,\n",
       "         0.        , 0.44062845, 0.79607809, 0.67319277, 0.97583944,\n",
       "         0.        , 0.54531647, 0.67870787, 0.22186012, 0.        ,\n",
       "         0.22482611, 0.62829507, 0.        , 0.49232884, 0.97516909,\n",
       "         0.99431078, 0.31995646, 0.24229219, 0.15184252, 0.71436439,\n",
       "         0.        , 0.05475066, 0.        , 0.98631872, 0.37747879,\n",
       "         0.        , 0.76470623, 0.46102031, 0.98397967, 0.38431154]),\n",
       "  array([0.        , 0.        , 0.70277708, 0.49613403, 0.71816221,\n",
       "         0.        , 0.71053443, 0.        , 0.46102031, 0.        ,\n",
       "         0.9248187 , 0.68955495, 0.85029072, 0.        , 0.45294255,\n",
       "         0.        , 0.09298153, 0.        , 0.86952723, 0.82956261,\n",
       "         0.43855255, 0.14840256, 0.99580197, 0.        , 0.72442106,\n",
       "         0.20062232, 0.87898682, 0.        , 0.77362772, 0.32495889,\n",
       "         0.71689983, 0.67870787, 0.56255805, 0.9716771 , 0.01385706,\n",
       "         0.        , 0.07238758, 0.        , 0.3445726 , 0.76919283,\n",
       "         0.91683059, 0.821994  , 0.        , 0.98424878, 0.        ,\n",
       "         0.41309573, 0.        , 0.        , 0.98800928, 0.        ,\n",
       "         0.44269755, 0.01385706, 0.66621171, 0.        , 0.        ,\n",
       "         0.        , 0.91492637, 0.        , 0.27024841, 0.24799433,\n",
       "         0.11983279, 0.58095579, 0.        , 0.3445726 , 0.53115474,\n",
       "         0.02521187, 0.        , 0.        , 0.92057047, 0.        ,\n",
       "         0.05475066, 0.13436344, 0.1816952 , 0.58587329, 0.        ,\n",
       "         0.95848224, 0.        , 0.77909923, 0.54180727, 0.8946111 ,\n",
       "         0.        , 0.18489986, 0.0356208 , 0.        , 0.01385706,\n",
       "         0.99983769, 0.01385706, 0.        , 0.65627304, 0.54004491,\n",
       "         0.        , 0.30469866, 0.21587865, 0.06372124, 0.1449355 ,\n",
       "         0.        , 0.15525614, 0.30726836, 0.        , 0.31995646]),\n",
       "  array([0.        , 0.        , 0.02521187, 0.71563389, 0.98315853,\n",
       "         0.        , 0.32992096, 0.08079314, 0.        , 0.        ,\n",
       "         0.9161984 , 0.99313178, 0.9161984 , 0.96479955, 0.05927727,\n",
       "         0.28639696, 0.97310198, 0.99997182, 0.49232884, 0.        ,\n",
       "         0.2675132 , 0.        , 0.47294552, 0.        , 0.8946111 ,\n",
       "         0.08897041, 0.20677831, 0.79190829, 0.        , 0.3797646 ,\n",
       "         0.        , 0.        , 0.96946939, 0.        , 0.        ,\n",
       "         0.12716372, 0.41525664, 0.934625  , 0.        , 0.01385706,\n",
       "         0.23941921, 0.98777466, 0.91104905, 0.20677831, 0.        ,\n",
       "         0.05927727, 0.        , 0.        , 0.        , 0.0356208 ,\n",
       "         0.97516909, 0.        , 0.7269    , 0.        , 0.38882599,\n",
       "         0.54880515, 0.04541469, 0.60196442, 0.        , 0.        ,\n",
       "         0.99365071, 0.90438146, 0.86217453, 0.98892487, 0.        ,\n",
       "         0.        , 0.        , 0.11611508, 0.        , 0.65627304,\n",
       "         0.        , 0.        , 0.        , 0.        , 0.99125401,\n",
       "         0.34215456, 0.21286259, 0.        , 0.        , 0.        ,\n",
       "         0.        , 0.58423881, 0.3323871 , 0.        , 0.02521187,\n",
       "         0.04058266, 0.853742  , 0.47687068, 0.        , 0.91492637,\n",
       "         0.56594664, 0.        , 0.        , 0.88953319, 0.        ,\n",
       "         0.        , 0.78341923, 0.31743986, 0.        , 0.13436344]),\n",
       "  array([0.        , 0.07238758, 0.        , 0.68551568, 0.05475066,\n",
       "         0.51481565, 0.02521187, 0.68686587, 0.17846946, 0.75209803,\n",
       "         0.93899158, 0.02521187, 0.        , 0.        , 0.98451557,\n",
       "         0.11236071, 0.48077133, 0.24799433, 0.86710106, 0.21587865,\n",
       "         0.        , 0.        , 0.33729007, 0.1816952 , 0.        ,\n",
       "         0.61760568, 0.        , 0.91364415, 0.33729007, 0.        ,\n",
       "         0.        , 0.3865728 , 0.7601675 , 0.05013316, 0.        ,\n",
       "         0.01385706, 0.27297086, 0.6935605 , 0.15525614, 0.        ,\n",
       "         0.48464774, 0.57930721, 0.        , 0.14840256, 0.        ,\n",
       "         0.        , 0.        , 0.96560148, 0.95804202, 0.24515049,\n",
       "         0.        , 0.31237534, 0.10473589, 0.        , 0.        ,\n",
       "         0.        , 0.        , 0.0356208 , 0.54004491, 0.        ,\n",
       "         0.        , 0.97131502, 0.        , 0.94873317, 0.49802789,\n",
       "         0.99884554, 0.47687068, 0.        , 0.42169553, 0.        ,\n",
       "         0.0356208 , 0.99929544, 0.18808391, 0.47491118, 0.51848467,\n",
       "         0.20062232, 0.        , 0.59074883, 0.47294552, 0.99929544,\n",
       "         0.06808941, 0.        , 0.        , 0.        , 0.33729007,\n",
       "         0.97617112, 0.        , 0.        , 0.05475066, 0.86134378,\n",
       "         0.25082392, 0.99695016, 0.08079314, 0.        , 0.90025676,\n",
       "         0.91235172, 0.06808941, 0.96233685, 0.99898537, 0.        ]),\n",
       "  array([0.98259956, 0.78126556, 0.95892008, 0.92057047, 0.59397609,\n",
       "         0.67457732, 0.        , 0.        , 0.55400006, 0.        ,\n",
       "         0.02521187, 0.954434  , 0.8341981 , 0.        , 0.9916478 ,\n",
       "         0.        , 0.98174378, 0.99330704, 0.        , 0.        ,\n",
       "         0.99022959, 0.99658781, 0.62829507, 0.        , 0.68686587,\n",
       "         0.63729158, 0.        , 0.55743819, 0.65770478, 0.98606803,\n",
       "         0.        , 0.        , 0.        , 0.91299921, 0.        ,\n",
       "         0.08897041, 0.94625495, 0.25922919, 0.21887773, 0.22777597,\n",
       "         0.67041203, 0.01385706, 0.89603823, 0.        , 0.        ,\n",
       "         0.07662072, 0.        , 0.        , 0.94970747, 0.97380037,\n",
       "         0.        , 0.70537738, 0.87033048, 0.90438146, 0.        ,\n",
       "         0.        , 0.        , 0.36358693, 0.99988729, 0.        ,\n",
       "         0.45497173, 0.        , 0.        , 0.        , 0.23362833,\n",
       "         0.98027122, 0.11983279, 0.12351525, 0.        , 0.        ,\n",
       "         0.        , 0.55054184, 0.25082392, 0.11236071, 0.        ,\n",
       "         0.        , 0.        , 0.        , 0.23362833, 0.93067432,\n",
       "         0.02521187, 0.        , 0.        , 0.99971144, 0.10473589,\n",
       "         0.        , 0.0356208 , 0.04541469, 0.99877223, 0.        ,\n",
       "         0.        , 0.        , 0.        , 0.55054184, 0.34698129,\n",
       "         0.        , 0.48271255, 0.9571544 , 0.        , 0.90095071]),\n",
       "  array([0.35177092, 0.99891658, 0.06808941, 0.90301695, 0.        ,\n",
       "         0.        , 0.67595802, 0.21887773, 0.        , 0.25644116,\n",
       "         0.07238758, 0.        , 0.91364415, 0.90301695, 0.72192809,\n",
       "         0.04058266, 0.06808941, 0.        , 0.04541469, 0.        ,\n",
       "         0.53115474, 0.        , 0.        , 0.36825171, 0.        ,\n",
       "         0.        , 0.        , 0.60354853, 0.        , 0.11236071,\n",
       "         0.        , 0.        , 0.73059227, 0.17195284, 0.68551568,\n",
       "         0.01385706, 0.85029072, 0.        , 0.10086201, 0.52394711,\n",
       "         0.        , 0.02521187, 0.        , 0.        , 0.        ,\n",
       "         0.44681553, 0.92660166, 0.        , 0.98892487, 0.01385706,\n",
       "         0.        , 0.34215456, 0.92179686, 0.52031093, 0.16200717,\n",
       "         0.58750311, 0.15525614, 0.56085638, 0.        , 0.        ,\n",
       "         0.99998986, 0.        , 0.31237534, 0.02521187, 0.38431154,\n",
       "         0.9814539 , 0.52575707, 0.14840256, 0.17846946, 0.79399938,\n",
       "         0.        , 0.8332768 , 0.        , 0.91871194, 0.20370945,\n",
       "         0.05475066, 0.        , 0.06372124, 0.        , 0.59878269,\n",
       "         0.47491118, 0.        , 0.87033048, 0.        , 0.        ,\n",
       "         0.15184252, 0.98174378, 0.98057036, 0.02521187, 0.88805855,\n",
       "         0.12351525, 0.        , 0.8032567 , 0.954434  , 0.85630102,\n",
       "         0.        , 0.04541469, 0.99750879, 0.15864413, 0.        ])])"
      ]
     },
     "execution_count": 16,
     "metadata": {},
     "output_type": "execute_result"
    }
   ],
   "source": [
    "calculate_entropies(model)"
   ]
  },
  {
   "cell_type": "markdown",
   "metadata": {
    "pycharm": {
     "name": "#%% md\n"
    }
   },
   "source": [
    "## Compression"
   ]
  },
  {
   "cell_type": "code",
   "execution_count": 17,
   "metadata": {
    "collapsed": false,
    "jupyter": {
     "outputs_hidden": false
    },
    "pycharm": {
     "name": "#%%\n"
    }
   },
   "outputs": [],
   "source": [
    "def prune_model_and_test(model, Pruner, config):\n",
    "    model_copy = deepcopy(model)\n",
    "    pruner = Pruner(model_copy, config, optimizer=optimizer)\n",
    "    pruner.compress()\n",
    "    return model_copy\n",
    "\n",
    "def display_test(model):\n",
    "    x = make_glider(10)\n",
    "    X_test = torch.from_numpy(x.reshape(1, 10, 10)).float()\n",
    "    Y_test = ca(X_test).float()\n",
    "\n",
    "    if torch.cuda.is_available():\n",
    "        X_test = X_test.cuda()\n",
    "    Y_pred = model(X_test)\n",
    "\n",
    "    if torch.cuda.is_available():\n",
    "        X_test = X_test.cpu()\n",
    "        Y_pred = Y_pred.cpu()\n",
    "\n",
    "    X_test = X_test.detach().numpy()\n",
    "    Y_test = Y_test.detach().numpy()\n",
    "    Y_pred = Y_pred.detach().numpy()\n",
    "\n",
    "    plt.figure(figsize=(12, 4))\n",
    "\n",
    "    plt.subplot(141)\n",
    "    plt.imshow(X_test[0])\n",
    "    plt.axis('off')\n",
    "    plt.title(\"Input\")\n",
    "\n",
    "    plt.subplot(142)\n",
    "    plt.imshow(Y_test[0])\n",
    "    plt.axis('off')\n",
    "    plt.title(\"Expected Output\")\n",
    "\n",
    "    plt.subplot(143)\n",
    "    plt.imshow(Y_pred[0])\n",
    "    plt.axis('off')\n",
    "    plt.title(\"Observed Output\")\n",
    "\n",
    "    plt.subplot(144)\n",
    "    plt.imshow((Y_pred[0] - Y_test[0]) ** 2)\n",
    "    plt.axis('off')\n",
    "    plt.title(\"Normalised Diff\")\n",
    "\n",
    "    print('max loss:', ((Y_pred[0] - Y_test[0]) ** 2).max())"
   ]
  },
  {
   "cell_type": "markdown",
   "metadata": {},
   "source": [
    "### Level Pruner"
   ]
  },
  {
   "cell_type": "code",
   "execution_count": 18,
   "metadata": {
    "collapsed": false,
    "jupyter": {
     "outputs_hidden": false
    },
    "pycharm": {
     "name": "#%%\n"
    }
   },
   "outputs": [
    {
     "name": "stdout",
     "output_type": "stream",
     "text": [
      "max loss: 0.07716431\n"
     ]
    },
    {
     "data": {
      "image/png": "[encoded data removed]",
      "text/plain": [
       "<Figure size 864x288 with 4 Axes>"
      ]
     },
     "metadata": {
      "needs_background": "light"
     },
     "output_type": "display_data"
    }
   ],
   "source": [
    "config_list = [{ 'sparsity': 0.1, 'op_types': ['default'] }]\n",
    "m = prune_model_and_test(model, LevelPruner, config_list)\n",
    "display_test(m)"
   ]
  },
  {
   "cell_type": "markdown",
   "metadata": {},
   "source": [
    "### FPGM Pruner"
   ]
  },
  {
   "cell_type": "code",
   "execution_count": 19,
   "metadata": {
    "collapsed": false,
    "jupyter": {
     "outputs_hidden": false
    },
    "pycharm": {
     "name": "#%%\n"
    }
   },
   "outputs": [
    {
     "name": "stdout",
     "output_type": "stream",
     "text": [
      "max loss: 1.044239\n"
     ]
    },
    {
     "data": {
      "image/png": "[encoded data removed]",
      "text/plain": [
       "<Figure size 864x288 with 4 Axes>"
      ]
     },
     "metadata": {
      "needs_background": "light"
     },
     "output_type": "display_data"
    }
   ],
   "source": [
    "config_list = [{ 'sparsity': 0.1, 'op_types': ['Conv2d'] }]\n",
    "m = prune_model_and_test(model, FPGMPruner, config_list)\n",
    "display_test(m)"
   ]
  },
  {
   "cell_type": "markdown",
   "metadata": {},
   "source": [
    "### L1 Pruner"
   ]
  },
  {
   "cell_type": "code",
   "execution_count": 20,
   "metadata": {
    "collapsed": false,
    "jupyter": {
     "outputs_hidden": false
    },
    "pycharm": {
     "name": "#%%\n"
    }
   },
   "outputs": [
    {
     "name": "stdout",
     "output_type": "stream",
     "text": [
      "max loss: 0.6276671\n"
     ]
    },
    {
     "data": {
      "image/png": "[encoded data removed]",
      "text/plain": [
       "<Figure size 864x288 with 4 Axes>"
      ]
     },
     "metadata": {
      "needs_background": "light"
     },
     "output_type": "display_data"
    }
   ],
   "source": [
    "config_list = [{ 'sparsity': 0.1, 'op_types': ['Conv2d'] }]\n",
    "m = prune_model_and_test(model, L1FilterPruner, config_list)\n",
    "display_test(m)"
   ]
  },
  {
   "cell_type": "markdown",
   "metadata": {},
   "source": [
    "### L2 Pruner"
   ]
  },
  {
   "cell_type": "code",
   "execution_count": 21,
   "metadata": {
    "collapsed": false,
    "jupyter": {
     "outputs_hidden": false
    },
    "pycharm": {
     "name": "#%%\n"
    }
   },
   "outputs": [
    {
     "name": "stdout",
     "output_type": "stream",
     "text": [
      "max loss: 0.8873616\n"
     ]
    },
    {
     "data": {
      "image/png": "[encoded data removed]",
      "text/plain": [
       "<Figure size 864x288 with 4 Axes>"
      ]
     },
     "metadata": {
      "needs_background": "light"
     },
     "output_type": "display_data"
    }
   ],
   "source": [
    "config_list = [{ 'sparsity': 0.1, 'op_types': ['Conv2d'] }]\n",
    "m = prune_model_and_test(model, L2FilterPruner, config_list)\n",
    "display_test(m)"
   ]
  },
  {
   "cell_type": "markdown",
   "metadata": {},
   "source": [
    "### LotteryTicket Pruner"
   ]
  },
  {
   "cell_type": "code",
   "execution_count": 22,
   "metadata": {
    "collapsed": false,
    "jupyter": {
     "outputs_hidden": false
    },
    "pycharm": {
     "name": "#%%\n"
    }
   },
   "outputs": [
    {
     "name": "stdout",
     "output_type": "stream",
     "text": [
      "max loss: 4.222589e-12\n"
     ]
    },
    {
     "data": {
      "image/png": "[encoded data removed]",
      "text/plain": [
       "<Figure size 864x288 with 4 Axes>"
      ]
     },
     "metadata": {
      "needs_background": "light"
     },
     "output_type": "display_data"
    }
   ],
   "source": [
    "config_list = [{\n",
    "    'prune_iterations': 50,\n",
    "    'sparsity': 0.1,\n",
    "    'op_types': ['default']\n",
    "}]\n",
    "m = prune_model_and_test(model, LotteryTicketPruner, config_list)\n",
    "display_test(m)"
   ]
  },
  {
   "cell_type": "markdown",
   "metadata": {},
   "source": [
    "## LMC Complexity"
   ]
  },
  {
   "cell_type": "code",
   "execution_count": 23,
   "metadata": {},
   "outputs": [],
   "source": [
    "def lmc_complexity(P, N):\n",
    "    P = np.array(P)\n",
    "    P = P / P.sum()\n",
    "    H = entropy(P, base=2)\n",
    "    \n",
    "    if N <= np.finfo(P.dtype).max:\n",
    "        uniform_ps = np.full(len(P), 1.0 / N)\n",
    "        D = np.sum((P - uniform_ps) ** 2) + (N - len(P)) * (1.0 / N)**2\n",
    "    else:\n",
    "        # assuming N >> len(P) >= 1 >= P, so that len(P)/N, 1/N and P/N are negligible\n",
    "        D = np.sum(P ** 2)\n",
    "        \n",
    "    return H * D\n",
    "\n",
    "def ca_lmc(ca, m=M, d=D):  \n",
    "    inputs = torch.from_numpy(ALL_INPUTS)\n",
    "    outputs = ca(inputs)\n",
    "    output_counts = np.array(list(Counter(tuple(torch.reshape(o, [-1]).numpy()) for o in outputs).values()))\n",
    "    output_ps = output_counts / len(inputs)\n",
    "    return lmc_complexity(output_ps, m ** np.product(d))"
   ]
  },
  {
   "cell_type": "code",
   "execution_count": 26,
   "metadata": {},
   "outputs": [
    {
     "name": "stderr",
     "output_type": "stream",
     "text": [
      "512it [00:11, 42.70it/s]\n"
     ]
    },
    {
     "data": {
      "text/plain": [
       "[<matplotlib.lines.Line2D at 0x7f693dae7130>]"
      ]
     },
     "execution_count": 26,
     "metadata": {},
     "output_type": "execute_result"
    },
    {
     "data": {
      "image/png": "[encoded data removed]",
      "text/plain": [
       "<Figure size 720x576 with 1 Axes>"
      ]
     },
     "metadata": {
      "needs_background": "light"
     },
     "output_type": "display_data"
    }
   ],
   "source": [
    "lmcs = [ca_lmc(a) for a in tqdm(sample_CAs(np.random.default_rng(0)))]\n",
    "plt.plot(lmcs)"
   ]
  },
  {
   "cell_type": "code",
   "execution_count": 27,
   "metadata": {},
   "outputs": [],
   "source": [
    "def get_network_lmcs(layers_samples_neurons):\n",
    "    neuron_lmcs_by_layer = []\n",
    "    layer_lmcs = []\n",
    "    \n",
    "    layer_count = layers_samples_neurons.shape[0]\n",
    "    neuron_count = layers_samples_neurons.shape[2]\n",
    "    \n",
    "    for l in layers_samples_neurons:\n",
    "        neuron_ps = l.mean(axis=0)\n",
    "        neuron_lmcs_by_layer.append(np.array([lmc_complexity([p, 1-p], 2) for p in neuron_ps]))\n",
    "        \n",
    "        layer_patterns = (tuple(sample) for sample in l)\n",
    "        layer_pattern_counts = list(Counter(layer_patterns).values())\n",
    "        layer_lmcs.append(lmc_complexity(layer_pattern_counts, 2 ** neuron_count))\n",
    "        \n",
    "    network_patterns = (tuple(sample.ravel()) for sample in layers_samples_neurons.swapaxes(0, 1))\n",
    "    network_pattern_counts = list(Counter(network_patterns).values())\n",
    "    network_lmc = lmc_complexity(network_pattern_counts, 2 ** (layer_count * neuron_count))\n",
    "    \n",
    "    return network_lmc, layer_lmcs, neuron_lmcs_by_layer\n",
    "\n",
    "def model_lmc(model):\n",
    "    def get_activations(x_input):\n",
    "        activations = []\n",
    "        for m in model.children():\n",
    "            x_input = m(x_input)\n",
    "            activations.append(x_input)\n",
    "        return activations[1:-3:2]\n",
    "\n",
    "    X_test = np.pad(all_combinations(2, (3, 3)), [(0, 0), (3, 4), (3, 4)], 'wrap')\n",
    "    X_test = torch.from_numpy(X_test).float()\n",
    "        \n",
    "    if torch.cuda.is_available():\n",
    "        X_test = X_test.cuda()\n",
    "\n",
    "    res = [activation.cpu().detach().numpy() for activation in get_activations(X_test)]\n",
    "    layer_activations = np.array(res)\n",
    "    # Layer activations are floats, but to calculate lmc complexity,\n",
    "    # we want to map activations to binary values,\n",
    "    # 1 if a given activation is >0, and 0 otherwise.\n",
    "    binary_activations = np.digitize(layer_activations, [0], right=True)\n",
    "    binary_activations = binary_activations.transpose(0, 1, -2, -1, 2) \\\n",
    "        .reshape(len(layer_dims), np.product(X_test.shape), layer_dims[0])\n",
    "    return get_network_lmcs(binary_activations)"
   ]
  },
  {
   "cell_type": "code",
   "execution_count": 28,
   "metadata": {},
   "outputs": [
    {
     "data": {
      "text/plain": [
       "0.01682609003577729"
      ]
     },
     "execution_count": 28,
     "metadata": {},
     "output_type": "execute_result"
    }
   ],
   "source": [
    "ca_lmc(ca)"
   ]
  },
  {
   "cell_type": "code",
   "execution_count": 29,
   "metadata": {},
   "outputs": [
    {
     "data": {
      "text/plain": [
       "(0.023233722652015048,\n",
       " [0.023233722652015048,\n",
       "  0.023233722652015048,\n",
       "  0.023233722652015048,\n",
       "  0.023233722652015048,\n",
       "  0.023233722652015048,\n",
       "  0.023233722652015048,\n",
       "  0.023233722652015048,\n",
       "  0.023254608806780746,\n",
       "  0.023638143526946594,\n",
       "  0.023554978618611052,\n",
       "  0.023233722652015048,\n",
       "  0.023468309298316472],\n",
       " [array([1.39279779e-01, 3.54179484e-02, 8.70821338e-02, 5.93310353e-02,\n",
       "         2.43801709e-02, 2.49034734e-02, 1.69079766e-02, 1.49104341e-01,\n",
       "         9.91045800e-02, 8.35840099e-02, 1.52564939e-01, 9.98742162e-02,\n",
       "         1.38747898e-01, 1.37134682e-01, 2.99010062e-03, 0.00000000e+00,\n",
       "         1.41821901e-01, 2.54315943e-02, 1.52578428e-01, 1.25722077e-01,\n",
       "         6.69101227e-03, 1.31315068e-01, 1.43706093e-01, 7.81161943e-05,\n",
       "         1.49104341e-01, 1.51585353e-01, 7.58520215e-02, 1.44151937e-03,\n",
       "         4.56647869e-02, 1.11282386e-01, 1.29118854e-01, 3.80695591e-03,\n",
       "         3.36100066e-02, 4.33410686e-02, 1.28991573e-01, 1.29311423e-01,\n",
       "         6.80281985e-02, 4.36703521e-02, 1.17476370e-01, 1.10852990e-01,\n",
       "         1.12093990e-01, 1.02538054e-01, 1.07924404e-01, 1.02538054e-01,\n",
       "         2.80107733e-03, 1.64685132e-02, 1.43015793e-01, 8.66932161e-02,\n",
       "         1.02175506e-01, 1.49738092e-01, 3.57229370e-02, 1.52861400e-01,\n",
       "         1.07924404e-01, 9.25256241e-02, 1.39279779e-01, 7.73896596e-02,\n",
       "         1.10852990e-01, 4.30126924e-02, 7.89349583e-02, 6.97889028e-03,\n",
       "         1.40063254e-01, 1.20249559e-01, 1.12894687e-01, 7.97080353e-02,\n",
       "         1.37570079e-01, 6.44871237e-02, 1.38418950e-01, 1.08615790e-01,\n",
       "         1.48793171e-01, 1.52349742e-01, 8.08691282e-02, 8.74710798e-02,\n",
       "         5.11324452e-02, 3.57229370e-02, 2.59645015e-02, 1.43515505e-02,\n",
       "         2.78668909e-02, 8.31957641e-02, 1.20599411e-01, 7.85487413e-02,\n",
       "         8.18889880e-03, 6.66124710e-02, 2.56974517e-02, 1.19898741e-01,\n",
       "         1.52349742e-01, 1.18034772e-02, 8.24196421e-02, 1.99942288e-04,\n",
       "         7.48088148e-02, 1.51795202e-01, 1.51814666e-01, 1.51107507e-01,\n",
       "         1.45446908e-01, 1.42922890e-01, 5.89671635e-02, 2.27063193e-03,\n",
       "         1.29629923e-01, 1.52064583e-01, 1.51986049e-01, 2.18757819e-03]),\n",
       "  array([0.08164407, 0.12962992, 0.00348927, 0.        , 0.05751801,\n",
       "         0.00689393, 0.14157678, 0.05572134, 0.04871458, 0.08234183,\n",
       "         0.00697889, 0.1460607 , 0.0798998 , 0.03946201, 0.11048164,\n",
       "         0.02225547, 0.04334107, 0.08980482, 0.12505345, 0.00613292,\n",
       "         0.00202607, 0.03039605, 0.11962915, 0.02438017, 0.10617665,\n",
       "         0.10899013, 0.12556801, 0.14157678, 0.10824089, 0.15281286,\n",
       "         0.10786544, 0.13654689, 0.11233195, 0.1522373 , 0.01161718,\n",
       "         0.01248019, 0.13597896, 0.13883255, 0.0678568 , 0.09670403,\n",
       "         0.01965508, 0.00280108, 0.15189298, 0.00803255, 0.03788653,\n",
       "         0.04203306, 0.14937634, 0.15270832, 0.        , 0.11597986,\n",
       "         0.08588232, 0.08471813, 0.02543159, 0.0230932 , 0.12370241,\n",
       "         0.14740588, 0.01848765, 0.        , 0.0948537 , 0.12164304,\n",
       "         0.15189298, 0.14451624, 0.1526171 , 0.13841895, 0.09717574,\n",
       "         0.00289483, 0.14389811, 0.01690798, 0.13184345, 0.02258702,\n",
       "         0.02897956, 0.11599077, 0.14003068, 0.01237074, 0.12834788,\n",
       "         0.06710462, 0.14502569, 0.08588232, 0.0518303 , 0.08747108,\n",
       "         0.04367035, 0.13569243, 0.14998935, 0.14301579, 0.05120763,\n",
       "         0.00252898, 0.05448564, 0.14003068, 0.01993778, 0.1506457 ,\n",
       "         0.13766181, 0.        , 0.12867039, 0.09967917, 0.14998935,\n",
       "         0.05643799, 0.03882886, 0.15274744, 0.1432481 , 0.01218026]),\n",
       "  array([1.32006099e-04, 1.20249559e-01, 1.48793171e-01, 0.00000000e+00,\n",
       "         4.49964448e-02, 6.69101227e-03, 4.76904414e-02, 5.46857897e-03,\n",
       "         0.00000000e+00, 1.13434048e-01, 7.81249119e-07, 1.49910977e-01,\n",
       "         4.72047951e-03, 0.00000000e+00, 8.11291779e-02, 5.28600961e-02,\n",
       "         1.47221354e-01, 2.06121583e-02, 1.47476734e-01, 5.86039185e-02,\n",
       "         1.17059059e-01, 9.32379416e-03, 9.40782331e-02, 3.24260099e-02,\n",
       "         1.26385947e-01, 9.66098736e-03, 6.44871237e-02, 9.87193340e-02,\n",
       "         1.24945247e-01, 7.81249119e-07, 5.04376787e-02, 1.44516235e-01,\n",
       "         6.37176802e-02, 1.01792814e-01, 2.25707700e-04, 6.18951017e-02,\n",
       "         5.44856384e-02, 6.00606313e-02, 0.00000000e+00, 3.54179484e-02,\n",
       "         5.82413070e-02, 3.60289595e-02, 1.50645702e-01, 1.73527377e-02,\n",
       "         1.25626099e-02, 2.36043218e-02, 2.15895484e-02, 5.32350480e-02,\n",
       "         2.02607010e-03, 3.38639777e-03, 4.78181265e-02, 4.83723789e-02,\n",
       "         0.00000000e+00, 6.44871237e-02, 1.51585353e-01, 1.02557829e-01,\n",
       "         1.31201630e-01, 1.31315068e-01, 6.04263416e-02, 0.00000000e+00,\n",
       "         1.52839224e-01, 8.47181281e-02, 6.37176802e-02, 1.07112929e-01,\n",
       "         1.50260933e-01, 1.01102051e-03, 6.44871237e-02, 2.65021620e-02,\n",
       "         1.52626575e-01, 1.51473214e-01, 6.89393138e-03, 9.66098736e-03,\n",
       "         0.00000000e+00, 1.00258585e-01, 0.00000000e+00, 6.89884388e-02,\n",
       "         1.48946829e-01, 1.52811792e-01, 1.72148197e-03, 1.07924404e-01,\n",
       "         1.96550806e-02, 6.86107849e-02, 7.73914793e-02, 8.31957641e-02,\n",
       "         1.21015121e-01, 1.36828266e-01, 1.35318566e-01, 1.51984667e-01,\n",
       "         3.72632894e-02, 8.81641074e-02, 1.64685132e-02, 1.50392226e-01,\n",
       "         1.52812859e-01, 1.18921503e-01, 5.86273478e-03, 1.52158173e-01,\n",
       "         1.51892984e-01, 1.91842305e-02, 8.23418311e-02, 2.65021620e-02]),\n",
       "  array([2.27063193e-03, 0.00000000e+00, 0.00000000e+00, 1.44811536e-01,\n",
       "         0.00000000e+00, 1.45571691e-02, 1.26181791e-01, 7.02411586e-04,\n",
       "         7.77769933e-02, 1.06176649e-01, 1.20326992e-01, 9.17486383e-02,\n",
       "         4.13846135e-02, 2.98260626e-02, 6.93665222e-02, 3.82791358e-05,\n",
       "         0.00000000e+00, 1.48117718e-01, 1.33380126e-01, 3.54179484e-02,\n",
       "         1.46652369e-01, 8.78600448e-02, 1.01774875e-02, 1.39238992e-01,\n",
       "         1.50398154e-01, 1.21296167e-01, 8.50594027e-03, 1.30262810e-01,\n",
       "         0.00000000e+00, 6.89393138e-03, 3.18405153e-02, 7.50839690e-02,\n",
       "         1.51107507e-01, 7.62364794e-02, 3.21327167e-02, 1.37385744e-01,\n",
       "         1.50078590e-01, 1.10109663e-01, 1.26181791e-01, 1.51795202e-01,\n",
       "         8.63043361e-02, 9.01937003e-02, 8.23418311e-02, 1.46457639e-01,\n",
       "         1.29680461e-01, 1.39279779e-01, 1.43898106e-01, 1.26385947e-01,\n",
       "         1.29680461e-01, 8.70308988e-02, 1.10459751e-01, 0.00000000e+00,\n",
       "         2.49034734e-02, 1.07489446e-01, 1.26385947e-01, 1.49910977e-01,\n",
       "         0.00000000e+00, 6.89393138e-03, 6.59798782e-02, 8.81641074e-02,\n",
       "         1.28347881e-01, 1.44811536e-01, 1.46992194e-01, 1.24945247e-01,\n",
       "         3.18521100e-03, 9.33021823e-02, 1.21015121e-01, 0.00000000e+00,\n",
       "         1.45677446e-01, 2.22554700e-02, 1.08780890e-01, 1.98924331e-02,\n",
       "         2.66952232e-02, 1.03465955e-01, 7.72421413e-03, 9.46536728e-02,\n",
       "         1.43515505e-02, 1.51892984e-01, 1.21693634e-01, 4.33410686e-02,\n",
       "         7.27263455e-03, 1.39638350e-01, 6.89393138e-03, 1.49849115e-01,\n",
       "         8.43608264e-02, 5.75180121e-02, 9.36078483e-02, 1.14463838e-01,\n",
       "         1.05980334e-01, 0.00000000e+00, 1.33439420e-02, 1.95306997e-05,\n",
       "         2.78668909e-02, 5.86039185e-02, 1.23672427e-01, 4.60102923e-03,\n",
       "         1.52811792e-01, 1.15990768e-01, 9.83172844e-03, 1.07056369e-01]),\n",
       "  array([0.00000000e+00, 1.15618491e-01, 0.00000000e+00, 0.00000000e+00,\n",
       "         1.44516235e-01, 0.00000000e+00, 1.87185438e-02, 1.75442464e-02,\n",
       "         1.79532286e-03, 7.57222863e-03, 6.07926508e-02, 1.11593785e-01,\n",
       "         1.05289326e-02, 0.00000000e+00, 9.15734681e-03, 1.12894687e-01,\n",
       "         4.87145807e-02, 0.00000000e+00, 4.66737902e-02, 0.00000000e+00,\n",
       "         9.45183574e-05, 1.37385744e-01, 3.09119690e-02, 8.11291779e-02,\n",
       "         5.92090188e-02, 0.00000000e+00, 0.00000000e+00, 6.89393138e-03,\n",
       "         1.42922890e-01, 0.00000000e+00, 1.33439420e-02, 4.25058891e-02,\n",
       "         2.22554700e-02, 9.75620119e-02, 1.33380126e-01, 3.88288609e-02,\n",
       "         0.00000000e+00, 1.19898741e-01, 5.60851165e-02, 9.36078483e-02,\n",
       "         0.00000000e+00, 1.12894687e-01, 6.07348807e-02, 8.18889880e-03,\n",
       "         4.25058891e-02, 8.92821910e-02, 9.36078483e-02, 9.05825311e-02,\n",
       "         1.12488009e-02, 1.03321326e-01, 7.99076429e-04, 2.01310660e-02,\n",
       "         1.24801888e-02, 8.55267264e-02, 0.00000000e+00, 1.27382739e-01,\n",
       "         1.46741152e-01, 3.97800411e-02, 4.70118320e-02, 6.22375644e-02,\n",
       "         1.38479141e-01, 0.00000000e+00, 2.44133314e-03, 3.49380906e-02,\n",
       "         9.17486383e-02, 1.44595044e-01, 1.52811792e-01, 1.25568011e-01,\n",
       "         1.75442464e-02, 6.93665222e-02, 2.33481491e-02, 1.51901353e-01,\n",
       "         1.52237301e-01, 1.34822815e-01, 6.22375644e-02, 1.27698967e-01,\n",
       "         8.08691282e-02, 2.22554700e-02, 9.66098736e-03, 1.47943739e-01,\n",
       "         1.00644823e-01, 6.89393138e-03, 9.56856699e-02, 1.52861400e-01,\n",
       "         7.61082453e-02, 1.51331529e-01, 2.41203366e-02, 3.09705081e-02,\n",
       "         0.00000000e+00, 3.69954687e-03, 1.18921503e-01, 1.44811536e-01,\n",
       "         1.29680461e-01, 2.33481491e-02, 0.00000000e+00, 0.00000000e+00,\n",
       "         1.25053454e-01, 0.00000000e+00, 1.40416029e-01, 1.10459751e-01]),\n",
       "  array([0.        , 0.06300269, 0.12738274, 0.        , 0.04250589,\n",
       "         0.09147391, 0.03493809, 0.08353805, 0.06223756, 0.08902696,\n",
       "         0.        , 0.01625078, 0.        , 0.        , 0.        ,\n",
       "         0.00627023, 0.        , 0.        , 0.        , 0.11670015,\n",
       "         0.15097572, 0.        , 0.        , 0.15289331, 0.13026281,\n",
       "         0.00031236, 0.        , 0.1491874 , 0.15190135, 0.15052049,\n",
       "         0.14041603, 0.11962915, 0.        , 0.        , 0.        ,\n",
       "         0.14991098, 0.02882918, 0.06223756, 0.10878089, 0.07349101,\n",
       "         0.13923899, 0.12169363, 0.08086913, 0.00070241, 0.        ,\n",
       "         0.08474938, 0.15290883, 0.08112918, 0.14325443, 0.05896716,\n",
       "         0.0033864 , 0.        , 0.        , 0.01248019, 0.15266488,\n",
       "         0.09174864, 0.1413296 , 0.        , 0.04952731, 0.00270885,\n",
       "         0.1052851 , 0.0518303 , 0.        , 0.12671606, 0.        ,\n",
       "         0.        , 0.        , 0.14973809, 0.        , 0.        ,\n",
       "         0.01248019, 0.        , 0.04781813, 0.01248019, 0.14389811,\n",
       "         0.00689393, 0.15256494, 0.15278224, 0.11446384, 0.15169267,\n",
       "         0.10899013, 0.        , 0.00689393, 0.        , 0.11705906,\n",
       "         0.01248019, 0.        , 0.06485955, 0.07215445, 0.        ,\n",
       "         0.09833382, 0.        , 0.11045975, 0.        , 0.07470039,\n",
       "         0.09147391, 0.15247125, 0.08203178, 0.        , 0.        ]),\n",
       "  array([0.06635431, 0.02982606, 0.15270832, 0.13624165, 0.12704495,\n",
       "         0.14703425, 0.        , 0.        , 0.        , 0.04952731,\n",
       "         0.08353805, 0.        , 0.        , 0.        , 0.00252898,\n",
       "         0.        , 0.        , 0.        , 0.06661247, 0.00034436,\n",
       "         0.        , 0.02669522, 0.00599709, 0.        , 0.1453964 ,\n",
       "         0.        , 0.1462213 , 0.        , 0.0786534 , 0.15266488,\n",
       "         0.15281179, 0.09670403, 0.        , 0.12834788, 0.00689393,\n",
       "         0.13423487, 0.01248019, 0.11599077, 0.02225547, 0.        ,\n",
       "         0.        , 0.12236263, 0.04769044, 0.1247174 , 0.        ,\n",
       "         0.13338013, 0.        , 0.        , 0.04041901, 0.03695318,\n",
       "         0.        , 0.        , 0.        , 0.12968046, 0.14937634,\n",
       "         0.        , 0.02258702, 0.06523249, 0.0987006 , 0.        ,\n",
       "         0.11599077, 0.00689393, 0.07480881, 0.12738274, 0.        ,\n",
       "         0.03493809, 0.        , 0.12556801, 0.        , 0.00044971,\n",
       "         0.        , 0.14723737, 0.10711293, 0.1405758 , 0.01625078,\n",
       "         0.        , 0.15285945, 0.13954287, 0.09568567, 0.        ,\n",
       "         0.09670403, 0.14740588, 0.        , 0.15169267, 0.01668758,\n",
       "         0.00391588, 0.12494525, 0.10253805, 0.06942347, 0.13182032,\n",
       "         0.        , 0.02669522, 0.        , 0.00932379, 0.13757008,\n",
       "         0.        , 0.11777432, 0.14937634, 0.01088604, 0.13883255]),\n",
       "  array([0.00000000e+00, 0.00000000e+00, 1.34529652e-01, 1.51892984e-01,\n",
       "         1.30890112e-01, 0.00000000e+00, 1.32737268e-01, 0.00000000e+00,\n",
       "         1.49376344e-01, 0.00000000e+00, 4.73507177e-02, 1.37385744e-01,\n",
       "         8.51380152e-02, 0.00000000e+00, 1.48587803e-01, 0.00000000e+00,\n",
       "         4.43086775e-02, 0.00000000e+00, 7.62364794e-02, 9.40782331e-02,\n",
       "         1.46992194e-01, 6.80281985e-02, 2.89482744e-03, 0.00000000e+00,\n",
       "         1.29311423e-01, 8.81641074e-02, 7.16436064e-02, 0.00000000e+00,\n",
       "         1.14893387e-01, 1.26181791e-01, 1.31201630e-01, 1.39542868e-01,\n",
       "         1.52471250e-01, 1.89507400e-02, 6.89393138e-03, 0.00000000e+00,\n",
       "         3.49380906e-02, 0.00000000e+00, 1.30778494e-01, 1.16340415e-01,\n",
       "         5.18302957e-02, 9.71757449e-02, 0.00000000e+00, 1.07067812e-02,\n",
       "         0.00000000e+00, 1.43579488e-01, 0.00000000e+00, 0.00000000e+00,\n",
       "         8.18889880e-03, 0.00000000e+00, 1.47476734e-01, 6.89393138e-03,\n",
       "         1.41821901e-01, 0.00000000e+00, 0.00000000e+00, 0.00000000e+00,\n",
       "         5.28827443e-02, 0.00000000e+00, 1.11282386e-01, 1.04381588e-01,\n",
       "         5.60851165e-02, 1.51631277e-01, 0.00000000e+00, 1.30778494e-01,\n",
       "         1.52893308e-01, 1.24801888e-02, 0.00000000e+00, 0.00000000e+00,\n",
       "         4.97460461e-02, 0.00000000e+00, 2.66952232e-02, 6.22375644e-02,\n",
       "         8.11291779e-02, 1.51331529e-01, 0.00000000e+00, 2.73174928e-02,\n",
       "         0.00000000e+00, 1.13067384e-01, 1.52891661e-01, 6.37438368e-02,\n",
       "         0.00000000e+00, 8.23418311e-02, 1.75442464e-02, 0.00000000e+00,\n",
       "         6.89393138e-03, 1.12481740e-04, 6.89393138e-03, 0.00000000e+00,\n",
       "         1.43478207e-01, 1.52901904e-01, 0.00000000e+00, 1.21015121e-01,\n",
       "         9.36078483e-02, 3.09119690e-02, 6.66124710e-02, 0.00000000e+00,\n",
       "         7.07987396e-02, 1.21693634e-01, 0.00000000e+00, 1.24945247e-01]),\n",
       "  array([0.00000000e+00, 0.00000000e+00, 1.24801888e-02, 1.31511705e-01,\n",
       "         1.14322902e-02, 0.00000000e+00, 1.27382739e-01, 3.87968639e-02,\n",
       "         0.00000000e+00, 0.00000000e+00, 5.21803618e-02, 4.72047951e-03,\n",
       "         5.21803618e-02, 2.33481491e-02, 2.88291780e-02, 1.15990768e-01,\n",
       "         1.80297551e-02, 1.95306997e-05, 1.51692671e-01, 0.00000000e+00,\n",
       "         1.10459751e-01, 0.00000000e+00, 1.50398154e-01, 0.00000000e+00,\n",
       "         6.37438368e-02, 4.25058891e-02, 9.03853840e-02, 1.08615790e-01,\n",
       "         0.00000000e+00, 1.37998148e-01, 0.00000000e+00, 0.00000000e+00,\n",
       "         2.03709756e-02, 0.00000000e+00, 0.00000000e+00, 5.92090188e-02,\n",
       "         1.43898106e-01, 4.17083706e-02, 0.00000000e+00, 6.89393138e-03,\n",
       "         1.01597730e-01, 8.34669584e-03, 5.50074333e-02, 9.03853840e-02,\n",
       "         0.00000000e+00, 2.88291780e-02, 0.00000000e+00, 0.00000000e+00,\n",
       "         0.00000000e+00, 1.75442464e-02, 1.66875811e-02, 0.00000000e+00,\n",
       "         1.28670387e-01, 0.00000000e+00, 1.39638350e-01, 1.52811792e-01,\n",
       "         2.22554700e-02, 1.50126635e-01, 0.00000000e+00, 0.00000000e+00,\n",
       "         4.36662910e-03, 5.86039185e-02, 7.97080353e-02, 7.57222863e-03,\n",
       "         0.00000000e+00, 0.00000000e+00, 0.00000000e+00, 5.44856384e-02,\n",
       "         0.00000000e+00, 1.43478207e-01, 0.00000000e+00, 0.00000000e+00,\n",
       "         0.00000000e+00, 0.00000000e+00, 5.99708674e-03, 1.30233650e-01,\n",
       "         9.25479969e-02, 0.00000000e+00, 0.00000000e+00, 0.00000000e+00,\n",
       "         0.00000000e+00, 1.51434700e-01, 1.27970071e-01, 0.00000000e+00,\n",
       "         1.24801888e-02, 1.99377836e-02, 8.35840099e-02, 1.50697095e-01,\n",
       "         0.00000000e+00, 5.28827443e-02, 1.52349742e-01, 0.00000000e+00,\n",
       "         0.00000000e+00, 6.63543112e-02, 0.00000000e+00, 0.00000000e+00,\n",
       "         1.11593785e-01, 1.24313415e-01, 0.00000000e+00, 6.22375644e-02]),\n",
       "  array([0.        , 0.03493809, 0.        , 0.13820853, 0.02669522,\n",
       "         0.1526171 , 0.01248019, 0.13793608, 0.0798998 , 0.12164304,\n",
       "         0.03914494, 0.01248019, 0.        , 0.        , 0.01052893,\n",
       "         0.0528601 , 0.15097572, 0.10438159, 0.07739148, 0.09360785,\n",
       "         0.        , 0.        , 0.12911885, 0.08112918, 0.        ,\n",
       "         0.14862343, 0.        , 0.05358808, 0.12911885, 0.        ,\n",
       "         0.        , 0.13923899, 0.11919426, 0.02450575, 0.        ,\n",
       "         0.00689393, 0.11209399, 0.13654689, 0.07079874, 0.        ,\n",
       "         0.15123433, 0.15172463, 0.        , 0.0680282 , 0.        ,\n",
       "         0.        , 0.        , 0.02283949, 0.02759161, 0.10346596,\n",
       "         0.        , 0.12302219, 0.04952731, 0.        , 0.        ,\n",
       "         0.        , 0.        , 0.01754425, 0.1529019 , 0.        ,\n",
       "         0.        , 0.01918423, 0.        , 0.03331239, 0.15198605,\n",
       "         0.00079908, 0.1506971 , 0.        , 0.14481585, 0.        ,\n",
       "         0.01754425, 0.00048794, 0.08353805, 0.15055018, 0.15270832,\n",
       "         0.08816411, 0.        , 0.15100278, 0.15039815, 0.00048794,\n",
       "         0.03294724, 0.        , 0.        , 0.        , 0.12911885,\n",
       "         0.01603437, 0.        , 0.        , 0.02669522, 0.08009488,\n",
       "         0.1052851 , 0.00210606, 0.03879686, 0.        , 0.06079265,\n",
       "         0.05429633, 0.03294724, 0.02490347, 0.00070241, 0.        ]),\n",
       "  array([1.18034772e-02, 1.12331949e-01, 2.70445428e-02, 4.97460461e-02,\n",
       "         1.50767838e-01, 1.40320515e-01, 0.00000000e+00, 0.00000000e+00,\n",
       "         1.52711848e-01, 0.00000000e+00, 1.24801888e-02, 2.98260626e-02,\n",
       "         9.21371797e-02, 0.00000000e+00, 5.72986493e-03, 0.00000000e+00,\n",
       "         1.23707386e-02, 4.60102923e-03, 0.00000000e+00, 0.00000000e+00,\n",
       "         6.69101227e-03, 2.35521730e-03, 1.47405878e-01, 0.00000000e+00,\n",
       "         1.37936082e-01, 1.46260410e-01, 0.00000000e+00, 1.52626575e-01,\n",
       "         1.43248101e-01, 9.49167514e-03, 0.00000000e+00, 0.00000000e+00,\n",
       "         0.00000000e+00, 5.39418481e-02, 0.00000000e+00, 4.25058891e-02,\n",
       "         3.48110931e-02, 1.07924404e-01, 9.46536728e-02, 9.77089497e-02,\n",
       "         1.41080356e-01, 6.89393138e-03, 6.30026882e-02, 0.00000000e+00,\n",
       "         0.00000000e+00, 3.68871898e-02, 0.00000000e+00, 0.00000000e+00,\n",
       "         3.27203902e-02, 1.75770967e-02, 0.00000000e+00, 1.33938489e-01,\n",
       "         7.58520215e-02, 5.86039185e-02, 0.00000000e+00, 0.00000000e+00,\n",
       "         0.00000000e+00, 1.34845588e-01, 7.81161943e-05, 0.00000000e+00,\n",
       "         1.48793171e-01, 0.00000000e+00, 0.00000000e+00, 0.00000000e+00,\n",
       "         9.96791698e-02, 1.33439420e-02, 5.60851165e-02, 5.76593288e-02,\n",
       "         0.00000000e+00, 0.00000000e+00, 0.00000000e+00, 1.52782243e-01,\n",
       "         1.05285103e-01, 5.28600961e-02, 0.00000000e+00, 0.00000000e+00,\n",
       "         0.00000000e+00, 0.00000000e+00, 9.96791698e-02, 4.40005370e-02,\n",
       "         1.24801888e-02, 0.00000000e+00, 0.00000000e+00, 1.99942288e-04,\n",
       "         4.95273092e-02, 0.00000000e+00, 1.75442464e-02, 2.22554700e-02,\n",
       "         8.49736690e-04, 0.00000000e+00, 0.00000000e+00, 0.00000000e+00,\n",
       "         0.00000000e+00, 1.52782243e-01, 1.31315068e-01, 0.00000000e+00,\n",
       "         1.51107507e-01, 2.81433305e-02, 0.00000000e+00, 6.04263416e-02]),\n",
       "  array([1.32363702e-01, 7.49967839e-04, 3.29472402e-02, 5.93310353e-02,\n",
       "         0.00000000e+00, 0.00000000e+00, 1.40063254e-01, 9.46536728e-02,\n",
       "         0.00000000e+00, 1.07056369e-01, 3.49380906e-02, 0.00000000e+00,\n",
       "         5.35880847e-02, 5.93310353e-02, 1.29947057e-01, 1.99377836e-02,\n",
       "         3.29472402e-02, 0.00000000e+00, 2.22554700e-02, 0.00000000e+00,\n",
       "         1.52893308e-01, 0.00000000e+00, 0.00000000e+00, 1.35783900e-01,\n",
       "         0.00000000e+00, 0.00000000e+00, 0.00000000e+00, 1.49989354e-01,\n",
       "         0.00000000e+00, 5.28600961e-02, 0.00000000e+00, 0.00000000e+00,\n",
       "         1.27698967e-01, 7.73896596e-02, 1.38208530e-01, 6.89393138e-03,\n",
       "         8.51380152e-02, 0.00000000e+00, 4.78181265e-02, 1.52812859e-01,\n",
       "         0.00000000e+00, 1.24801888e-02, 0.00000000e+00, 0.00000000e+00,\n",
       "         0.00000000e+00, 1.47938178e-01, 4.63365982e-02, 0.00000000e+00,\n",
       "         7.57222863e-03, 6.89393138e-03, 0.00000000e+00, 1.30233650e-01,\n",
       "         4.90575966e-02, 1.52747437e-01, 7.34910080e-02, 1.51225137e-01,\n",
       "         7.07987396e-02, 1.52526644e-01, 0.00000000e+00, 0.00000000e+00,\n",
       "         7.03117868e-06, 0.00000000e+00, 1.23022195e-01, 1.24801888e-02,\n",
       "         1.38832545e-01, 1.25626099e-02, 1.52839224e-01, 6.80281985e-02,\n",
       "         7.98998028e-02, 1.07865436e-01, 0.00000000e+00, 9.25256241e-02,\n",
       "         0.00000000e+00, 5.07846733e-02, 8.92821910e-02, 2.66952232e-02,\n",
       "         0.00000000e+00, 3.09119690e-02, 0.00000000e+00, 1.50392226e-01,\n",
       "         1.50550183e-01, 0.00000000e+00, 7.58520215e-02, 0.00000000e+00,\n",
       "         0.00000000e+00, 6.94234684e-02, 1.23707386e-02, 1.31465375e-02,\n",
       "         1.24801888e-02, 6.71046183e-02, 5.76593288e-02, 0.00000000e+00,\n",
       "         1.04463534e-01, 2.98260626e-02, 8.24196421e-02, 0.00000000e+00,\n",
       "         2.22554700e-02, 1.72148197e-03, 7.21544479e-02, 0.00000000e+00])])"
      ]
     },
     "execution_count": 29,
     "metadata": {},
     "output_type": "execute_result"
    }
   ],
   "source": [
    "model_lmc(model)"
   ]
  },
  {
   "cell_type": "code",
   "execution_count": 31,
   "metadata": {},
   "outputs": [],
   "source": [
    "cas = np.array([ca for ca in sample_CAs(rng=np.random.default_rng(0))])\n",
    "ca_entropies = np.array([ca_entropy(ca) for ca in cas])\n",
    "ca_lmcs = np.array([ca_lmc(ca) for ca in cas])"
   ]
  },
  {
   "cell_type": "code",
   "execution_count": 32,
   "metadata": {},
   "outputs": [],
   "source": [
    "i_test = np.r_[0:8:2, 8:128:16, 128:256:32]\n",
    "i_test = np.sort(np.r_[i_test, 511 - i_test, 255])"
   ]
  },
  {
   "cell_type": "code",
   "execution_count": 33,
   "metadata": {},
   "outputs": [
    {
     "data": {
      "image/png": "[encoded data removed]",
      "text/plain": [
       "<Figure size 720x576 with 2 Axes>"
      ]
     },
     "metadata": {
      "needs_background": "light"
     },
     "output_type": "display_data"
    }
   ],
   "source": [
    "plt.subplot(211)\n",
    "plt.plot(ca_entropies)\n",
    "plt.plot(i_test, ca_entropies[i_test], 'r.')\n",
    "plt.subplot(212)\n",
    "plt.plot(ca_lmcs)\n",
    "plt.plot(i_test, ca_lmcs[i_test], 'r.')\n",
    "plt.show()"
   ]
  },
  {
   "cell_type": "code",
   "execution_count": null,
   "metadata": {},
   "outputs": [],
   "source": []
  }
 ],
 "metadata": {
  "kernelspec": {
   "display_name": "Python 3",
   "language": "python",
   "name": "python3"
  },
  "language_info": {
   "codemirror_mode": {
    "name": "ipython",
    "version": 3
   },
   "file_extension": ".py",
   "mimetype": "text/x-python",
   "name": "python",
   "nbconvert_exporter": "python",
   "pygments_lexer": "ipython3",
   "version": "3.8.2"
  }
 },
 "nbformat": 4,
 "nbformat_minor": 4
}
