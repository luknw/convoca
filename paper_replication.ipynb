{
 "cells": [
  {
   "cell_type": "markdown",
   "metadata": {},
   "source": [
    "# Paper replication"
   ]
  },
  {
   "cell_type": "code",
   "execution_count": 1,
   "metadata": {},
   "outputs": [],
   "source": [
    "%load_ext autoreload\n",
    "%autoreload 2\n",
    "\n",
    "import numpy as np\n",
    "import torch\n",
    "import matplotlib.pyplot as plt\n",
    "from tqdm import tqdm\n",
    "\n",
    "%matplotlib inline\n",
    "plt.rcParams['figure.figsize'] = (10.0, 8.0) # set default size of plots\n",
    "plt.rcParams['image.interpolation'] = 'nearest'\n",
    "plt.rcParams['image.cmap'] = 'gray'"
   ]
  },
  {
   "cell_type": "code",
   "metadata": {
    "pycharm": {
     "name": "#%%\n"
    }
   },
   "source": [
    "from utils import all_combinations\n",
    "\n",
    "M = 2\n",
    "D = 3 * 3\n",
    "ALL_INPUTS = all_combinations(M, D)"
   ],
   "execution_count": 2,
   "outputs": []
  },
  {
   "cell_type": "markdown",
   "metadata": {
    "pycharm": {
     "name": "#%% md\n"
    }
   },
   "source": [
    "## Define CAs and training data"
   ]
  },
  {
   "cell_type": "code",
   "execution_count": 3,
   "metadata": {},
   "outputs": [],
   "source": [
    "from ca_funcs import make_table_walk, make_ca\n",
    "\n",
    "def sample_CAs(seed=None):\n",
    "    if seed:\n",
    "        np.random.seed(seed)\n",
    "\n",
    "    inputs = ALL_INPUTS\n",
    "    outputs = make_table_walk(len(ALL_INPUTS))\n",
    "    for o in outputs:\n",
    "        yield make_ca(inputs, o)\n",
    "\n",
    "def generate_CA_train_data(ca, height=10, width=10, n_samples=500):\n",
    "    X_train = torch.from_numpy(np.random.choice([0, 1], (n_samples, height, width), p=[.5, .5])).float()\n",
    "    Y_train = ca(X_train).float()\n",
    "    return X_train, Y_train"
   ]
  },
  {
   "cell_type": "code",
   "metadata": {
    "pycharm": {
     "name": "#%%\n"
    }
   },
   "source": [
    "from ca_funcs import make_glider\n",
    "from IPython.display import clear_output\n",
    "\n",
    "np.random.seed(0)\n",
    "\n",
    "for i, ca in enumerate(sample_CAs()):\n",
    "    X_test = torch.from_numpy(make_glider(10).reshape(1, 10, 10)).float()\n",
    "    Y_test = ca(X_test).float()\n",
    "\n",
    "    plt.figure(figsize=(12,4))\n",
    "    plt.suptitle(i)\n",
    "\n",
    "    plt.subplot(1,2,1)\n",
    "    plt.imshow(X_test[0])\n",
    "    plt.axis('off')\n",
    "    plt.title(\"Input\")\n",
    "\n",
    "    plt.subplot(1,2,2)\n",
    "    plt.imshow(Y_test[0])\n",
    "    plt.axis('off')\n",
    "    plt.title(\"Output\")\n",
    "\n",
    "    plt.show()\n",
    "    plt.close()\n",
    "    clear_output(wait=True)"
   ],
   "execution_count": 4,
   "outputs": [
    {
     "data": {
      "text/plain": "<Figure size 864x288 with 2 Axes>",
      "image/png": "[encoded data removed]"
     },
     "metadata": {
      "needs_background": "light"
     },
     "output_type": "display_data"
    }
   ]
  },
  {
   "cell_type": "markdown",
   "metadata": {
    "pycharm": {
     "name": "#%% md\n"
    }
   },
   "source": [
    "## Find entropy of the training CA"
   ]
  },
  {
   "cell_type": "code",
   "execution_count": 5,
   "metadata": {},
   "outputs": [],
   "source": [
    "from collections import Counter\n",
    "from utils import shannon_entropy\n",
    "\n",
    "def ca_entropy(ca):\n",
    "    inputs = torch.from_numpy(ALL_INPUTS)\n",
    "    outputs = ca(inputs)\n",
    "    output_counts = np.array(list(Counter(tuple(torch.reshape(o, [-1]).numpy()) for o in outputs).values()))\n",
    "    output_ps = output_counts / len(inputs)\n",
    "    return shannon_entropy(output_ps)"
   ]
  },
  {
   "cell_type": "code",
   "metadata": {
    "pycharm": {
     "name": "#%%\n"
    }
   },
   "source": [
    "entropies = [ca_entropy(a) for a in tqdm(sample_CAs(seed=0))]\n",
    "plt.plot(entropies)"
   ],
   "execution_count": 6,
   "outputs": [
    {
     "name": "stderr",
     "output_type": "stream",
     "text": [
      "512it [00:07, 64.91it/s]\n"
     ]
    },
    {
     "data": {
      "text/plain": "[<matplotlib.lines.Line2D at 0x7eff9618b3d0>]"
     },
     "execution_count": 6,
     "metadata": {},
     "output_type": "execute_result"
    },
    {
     "data": {
      "text/plain": "<Figure size 720x576 with 1 Axes>",
      "image/png": "[encoded data removed]"
     },
     "metadata": {
      "needs_background": "light"
     },
     "output_type": "display_data"
    }
   ]
  },
  {
   "cell_type": "markdown",
   "metadata": {
    "pycharm": {
     "name": "#%% md\n"
    }
   },
   "source": [
    "## Define the model"
   ]
  },
  {
   "cell_type": "code",
   "metadata": {
    "pycharm": {
     "name": "#%%\n"
    }
   },
   "source": [
    "from train_ca import initialize_model\n",
    "\n",
    "seed = 0\n",
    "print('seed =', seed)\n",
    "\n",
    "np.random.seed(seed)\n",
    "torch.random.manual_seed(seed)\n",
    "\n",
    "num_classes = 2\n",
    "samples = 500\n",
    "input_dims = [10, 10]\n",
    "layer_dims = [100] + [100] * 11  # neighborhood conv + mlpconv layers\n",
    "batch_size = 10\n",
    "num_batches = samples / batch_size\n",
    "learning_rate = 1e-4\n",
    "training_epochs = 150  # 1500\n",
    "display_step = int(training_epochs / 10)\n",
    "loss = torch.nn.MSELoss()\n",
    "\n",
    "model = initialize_model(input_dims, layer_dims)\n",
    "optimizer = torch.optim.Adam(model.parameters(), lr=learning_rate)\n",
    "print(model)\n",
    "\n",
    "if torch.cuda.is_available():\n",
    "    model.cuda()"
   ],
   "execution_count": 7,
   "outputs": [
    {
     "name": "stdout",
     "output_type": "stream",
     "text": [
      "seed = 0\n",
      "Sequential(\n",
      "  (Wraparound2D): Wraparound2D()\n",
      "  (Conv2d_0): Conv2d(1, 100, kernel_size=(3, 3), stride=(1, 1))\n",
      "  (Conv2d_1): Conv2d(100, 100, kernel_size=(1, 1), stride=(1, 1))\n",
      "  (Conv2d_2): Conv2d(100, 100, kernel_size=(1, 1), stride=(1, 1))\n",
      "  (Conv2d_3): Conv2d(100, 100, kernel_size=(1, 1), stride=(1, 1))\n",
      "  (Conv2d_4): Conv2d(100, 100, kernel_size=(1, 1), stride=(1, 1))\n",
      "  (Conv2d_5): Conv2d(100, 100, kernel_size=(1, 1), stride=(1, 1))\n",
      "  (Conv2d_6): Conv2d(100, 100, kernel_size=(1, 1), stride=(1, 1))\n",
      "  (Conv2d_7): Conv2d(100, 100, kernel_size=(1, 1), stride=(1, 1))\n",
      "  (Conv2d_8): Conv2d(100, 100, kernel_size=(1, 1), stride=(1, 1))\n",
      "  (Conv2d_9): Conv2d(100, 100, kernel_size=(1, 1), stride=(1, 1))\n",
      "  (Conv2d_10): Conv2d(100, 100, kernel_size=(1, 1), stride=(1, 1))\n",
      "  (Conv2d_11): Conv2d(100, 100, kernel_size=(1, 1), stride=(1, 1))\n",
      "  (Conv2d_12): Conv2d(100, 1, kernel_size=(1, 1), stride=(1, 1))\n",
      "  (Lambda_0): Lambda()\n",
      ")\n"
     ]
    }
   ]
  },
  {
   "cell_type": "markdown",
   "metadata": {
    "pycharm": {
     "name": "#%% md\n"
    }
   },
   "source": [
    "## Define the learning loop"
   ]
  },
  {
   "cell_type": "code",
   "metadata": {
    "pycharm": {
     "name": "#%%\n"
    }
   },
   "source": [
    "losses = []\n",
    "\n",
    "def learn_CA(ca, model):\n",
    "    for _ in tqdm(range(training_epochs)):\n",
    "        X_train, Y_train = generate_CA_train_data(ca, *input_dims, n_samples=samples)\n",
    "\n",
    "        if torch.cuda.is_available():\n",
    "            X_train = X_train.cuda()\n",
    "            Y_train = Y_train.cuda()\n",
    "\n",
    "        optimizer.zero_grad()\n",
    "        Y_pred = model(X_train)\n",
    "        l = loss(Y_train, Y_pred)\n",
    "        l.backward()\n",
    "        optimizer.step()\n",
    "        losses.append(l.item())"
   ],
   "execution_count": 8,
   "outputs": []
  },
  {
   "cell_type": "markdown",
   "metadata": {
    "pycharm": {
     "name": "#%% md\n"
    }
   },
   "source": [
    "## Train the model"
   ]
  },
  {
   "cell_type": "code",
   "execution_count": 9,
   "metadata": {},
   "outputs": [
    {
     "name": "stderr",
     "output_type": "stream",
     "text": [
      "100%|██████████| 150/150 [00:21<00:00,  7.12it/s]\n"
     ]
    }
   ],
   "source": [
    "ca = list(sample_CAs(seed=0))[250]\n",
    "learn_CA(ca, model)"
   ]
  },
  {
   "cell_type": "code",
   "execution_count": 10,
   "metadata": {},
   "outputs": [
    {
     "data": {
      "text/plain": "[]"
     },
     "execution_count": 10,
     "metadata": {},
     "output_type": "execute_result"
    },
    {
     "data": {
      "text/plain": "<Figure size 720x360 with 1 Axes>",
      "image/png": "[encoded data removed]"
     },
     "metadata": {
      "needs_background": "light"
     },
     "output_type": "display_data"
    }
   ],
   "source": [
    "plt.figure(figsize=(10, 5))\n",
    "plt.plot(losses)\n",
    "plt.loglog()"
   ]
  },
  {
   "cell_type": "code",
   "execution_count": 11,
   "metadata": {},
   "outputs": [
    {
     "data": {
      "text/plain": "Text(0.5, 1.0, 'Diff')"
     },
     "execution_count": 11,
     "metadata": {},
     "output_type": "execute_result"
    },
    {
     "data": {
      "text/plain": "<Figure size 864x288 with 4 Axes>",
      "image/png": "[encoded data removed]"
     },
     "metadata": {
      "needs_background": "light"
     },
     "output_type": "display_data"
    }
   ],
   "source": [
    "from ca_funcs import make_glider\n",
    "\n",
    "# x = np.random.choice([0, 1], size=100)\n",
    "x = make_glider(10)\n",
    "X_test = torch.from_numpy(x.reshape(1, 10, 10)).float()\n",
    "Y_test = ca(X_test).float()\n",
    "\n",
    "if torch.cuda.is_available():\n",
    "    X_test = X_test.cuda()\n",
    "Y_pred = model(X_test)\n",
    "\n",
    "\n",
    "if torch.cuda.is_available():\n",
    "    X_test = X_test.cpu()\n",
    "    Y_pred = Y_pred.cpu()\n",
    "\n",
    "X_test = X_test.detach().numpy()\n",
    "Y_test = Y_test.detach().numpy()\n",
    "Y_pred = Y_pred.detach().numpy()\n",
    "\n",
    "plt.figure(figsize=(12, 4))\n",
    "\n",
    "plt.subplot(141)\n",
    "plt.imshow(X_test[0])\n",
    "plt.axis('off')\n",
    "plt.title(\"Input\")\n",
    "\n",
    "plt.subplot(142)\n",
    "plt.imshow(Y_test[0])\n",
    "plt.axis('off')\n",
    "plt.title(\"Expected Output\")\n",
    "\n",
    "plt.subplot(143)\n",
    "plt.imshow(Y_pred[0])\n",
    "plt.axis('off')\n",
    "plt.title(\"Observed Output\")\n",
    "\n",
    "plt.subplot(144)\n",
    "plt.imshow((Y_pred[0] - Y_test[0]) ** 2)\n",
    "plt.axis('off')\n",
    "plt.title(\"Diff\")"
   ]
  },
  {
   "cell_type": "code",
   "metadata": {
    "pycharm": {
     "name": "#%%\n"
    }
   },
   "source": [
    "np.max(np.abs(Y_pred[0] - Y_test[0]))"
   ],
   "execution_count": 12,
   "outputs": [
    {
     "data": {
      "text/plain": "0.6432269"
     },
     "execution_count": 12,
     "metadata": {},
     "output_type": "execute_result"
    }
   ]
  },
  {
   "cell_type": "markdown",
   "metadata": {
    "pycharm": {
     "name": "#%% md\n"
    }
   },
   "source": [
    "## Find model entropies"
   ]
  },
  {
   "cell_type": "code",
   "execution_count": 13,
   "metadata": {},
   "outputs": [],
   "source": [
    "from ca_funcs import get_network_entropies\n",
    "\n",
    "\n",
    "def get_activations(x_input):\n",
    "    activations = [x_input]\n",
    "    for m in model.modules():\n",
    "        x_input = m(x_input)\n",
    "        activations.append(x_input)\n",
    "    return activations[3:len(activations) - 2]\n",
    "\n",
    "\n",
    "X_test = torch.from_numpy(np.random.choice([0, 1], (500, 10, 10))).float()\n",
    "if torch.cuda.is_available():\n",
    "    X_test = X_test.cuda()\n",
    "\n",
    "layer_activations = np.array([activation.cpu().detach().numpy() for activation in get_activations(X_test)])\n",
    "binary_activations = np.digitize(layer_activations, [0], right=True)\n",
    "entropies = get_network_entropies(binary_activations)"
   ]
  },
  {
   "cell_type": "code",
   "execution_count": 14,
   "metadata": {},
   "outputs": [
    {
     "data": {
      "text/plain": "8.220523247971135"
     },
     "execution_count": 14,
     "metadata": {},
     "output_type": "execute_result"
    }
   ],
   "source": [
    "ca_entropy(ca)"
   ]
  },
  {
   "cell_type": "code",
   "execution_count": 15,
   "metadata": {},
   "outputs": [
    {
     "data": {
      "text/plain": "(9.162932399820573,\n [1.8489180377637644,\n  2.0220420738754203,\n  1.9059219471764053,\n  2.2634319969878147,\n  1.5387841046039683,\n  1.4632430463958275,\n  1.0979005219867841,\n  1.1114348455610503,\n  1.0659691896822747,\n  0.7812409149025803,\n  0.9867476499790482,\n  1.034374078411619],\n [array([0.69272905, 0.69271022, 0.69271881, 0.69272523, 0.69271881,\n         0.69274894, 0.69273194, 0.69271529, 0.69272917, 0.6927418 ]),\n  array([0.67806586, 0.67813577, 0.67815951, 0.67812669, 0.67808545,\n         0.67818253, 0.67807076, 0.67819926, 0.67808125, 0.67811132]),\n  array([0.6914085 , 0.69140047, 0.69140661, 0.69140827, 0.69140189,\n         0.69138624, 0.69139692, 0.69139881, 0.69144374, 0.69140236]),\n  array([0.69251678, 0.69250465, 0.69252189, 0.69250909, 0.69251194,\n         0.69252781, 0.69249066, 0.69251778, 0.69249514, 0.69252273]),\n  array([0.68519412, 0.68524166, 0.68520678, 0.68522751, 0.68525176,\n         0.68523156, 0.68522297, 0.68525781, 0.68523509, 0.68525731]),\n  array([0.69304968, 0.69305621, 0.69305135, 0.69306001, 0.69305388,\n         0.69304309, 0.69304755, 0.69306531, 0.69305432, 0.69304822]),\n  array([0.692037  , 0.69203247, 0.6920336 , 0.6920419 , 0.69202015,\n         0.6920336 , 0.69203681, 0.69203587, 0.69204434, 0.69204114]),\n  array([0.68372207, 0.68368727, 0.683732  , 0.68367953, 0.68371103,\n         0.6837033 , 0.68368396, 0.68368506, 0.68367787, 0.68371158]),\n  array([0.6860537 , 0.68605752, 0.68606278, 0.68607186, 0.68606135,\n         0.6860537 , 0.68604222, 0.68605418, 0.6860537 , 0.68606469]),\n  array([0.67698496, 0.67700018, 0.67698206, 0.6770067 , 0.67699293,\n         0.67693852, 0.67698641, 0.67696755, 0.67695957, 0.67695739]),\n  array([0.69310581, 0.69309916, 0.69310341, 0.69309626, 0.69310025,\n         0.69310867, 0.69310326, 0.693099  , 0.69309654, 0.69310416]),\n  array([0.69314531, 0.69314452, 0.69314539, 0.6931436 , 0.6931445 ,\n         0.69314583, 0.6931452 , 0.6931443 , 0.69314435, 0.69314547])])"
     },
     "execution_count": 15,
     "metadata": {},
     "output_type": "execute_result"
    }
   ],
   "source": [
    "entropies"
   ]
  }
 ],
 "metadata": {
  "kernelspec": {
   "display_name": "Python 3",
   "language": "python",
   "name": "python3"
  },
  "language_info": {
   "codemirror_mode": {
    "name": "ipython",
    "version": 3
   },
   "file_extension": ".py",
   "mimetype": "text/x-python",
   "name": "python",
   "nbconvert_exporter": "python",
   "pygments_lexer": "ipython3",
   "version": "3.8.2"
  }
 },
 "nbformat": 4,
 "nbformat_minor": 4
}