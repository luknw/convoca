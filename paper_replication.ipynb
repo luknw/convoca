{
 "cells": [
  {
   "cell_type": "markdown",
   "metadata": {},
   "source": [
    "# Paper replication"
   ]
  },
  {
   "cell_type": "code",
   "execution_count": 1,
   "metadata": {},
   "outputs": [],
   "source": [
    "%load_ext autoreload\n",
    "%autoreload 2\n",
    "\n",
    "import numpy as np\n",
    "import tensorflow as tf\n",
    "import matplotlib.pyplot as plt\n",
    "from tqdm import tqdm\n",
    "\n",
    "%matplotlib inline\n",
    "plt.rcParams['figure.figsize'] = (10.0, 8.0) # set default size of plots\n",
    "plt.rcParams['image.interpolation'] = 'nearest'\n",
    "plt.rcParams['image.cmap'] = 'gray'"
   ]
  },
  {
   "cell_type": "code",
   "execution_count": 2,
   "metadata": {},
   "outputs": [],
   "source": [
    "from utils import all_combinations\n",
    "\n",
    "M = 2\n",
    "D = 3 * 3\n",
    "ALL_INPUTS = all_combinations(M, D)"
   ]
  },
  {
   "cell_type": "markdown",
   "metadata": {},
   "source": [
    "## Define CAs and training data"
   ]
  },
  {
   "cell_type": "code",
   "execution_count": 3,
   "metadata": {},
   "outputs": [],
   "source": [
    "from ca_funcs import make_table_walk, make_ca\n",
    "\n",
    "def sample_CAs(seed=None):\n",
    "    if seed:\n",
    "        np.random.seed(seed)\n",
    "        \n",
    "    inputs = ALL_INPUTS\n",
    "    outputs = make_table_walk(len(ALL_INPUTS))\n",
    "    for o in outputs:\n",
    "        yield make_ca(inputs, o)\n",
    "        \n",
    "def generate_CA_train_data(ca, height=10, width=10, n_samples=500):\n",
    "    X_train = np.random.choice([0,1], (n_samples, height, width), p=[.5,.5])\n",
    "    Y_train = ca(tf.convert_to_tensor(X_train, tf.float32))\n",
    "    return (X_train, Y_train)"
   ]
  },
  {
   "cell_type": "code",
   "execution_count": 4,
   "metadata": {},
   "outputs": [
    {
     "data": {
      "image/png": "[encoded data removed]",
      "text/plain": [
       "<Figure size 864x288 with 2 Axes>"
      ]
     },
     "metadata": {
      "needs_background": "light"
     },
     "output_type": "display_data"
    }
   ],
   "source": [
    "from ca_funcs import make_glider\n",
    "from IPython.display import clear_output\n",
    "\n",
    "np.random.seed(0)\n",
    "\n",
    "for i, ca in enumerate(sample_CAs()):\n",
    "    X_test = tf.convert_to_tensor(make_glider(10).reshape(1, 10, 10), tf.float32)\n",
    "    Y_test = ca(X_test)\n",
    "    \n",
    "    plt.figure(figsize=(12,4))\n",
    "    plt.suptitle(i)\n",
    "\n",
    "    plt.subplot(1,2,1)\n",
    "    plt.imshow(X_test[0])\n",
    "    plt.axis('off')\n",
    "    plt.title(\"Input\")\n",
    "\n",
    "    plt.subplot(1,2,2)\n",
    "    plt.imshow(Y_test[0])\n",
    "    plt.axis('off')\n",
    "    plt.title(\"Output\")\n",
    "    \n",
    "    plt.show()\n",
    "    plt.close()\n",
    "    clear_output(wait=True)"
   ]
  },
  {
   "cell_type": "markdown",
   "metadata": {},
   "source": [
    "## Find entropy of the training CA"
   ]
  },
  {
   "cell_type": "code",
   "execution_count": 5,
   "metadata": {},
   "outputs": [],
   "source": [
    "from collections import Counter\n",
    "from utils import shannon_entropy\n",
    "\n",
    "def ca_entropy(ca):\n",
    "    inputs = tf.convert_to_tensor(ALL_INPUTS, tf.float32)\n",
    "    outputs = ca(inputs)\n",
    "    output_counts = np.array(list(Counter(tuple(tf.reshape(o, [-1]).numpy()) for o in outputs).values()))\n",
    "    output_ps = output_counts / len(inputs)\n",
    "    return shannon_entropy(output_ps)"
   ]
  },
  {
   "cell_type": "code",
   "execution_count": 6,
   "metadata": {},
   "outputs": [
    {
     "name": "stderr",
     "output_type": "stream",
     "text": [
      "512it [01:15,  6.82it/s]\n"
     ]
    },
    {
     "data": {
      "text/plain": [
       "[<matplotlib.lines.Line2D at 0x7f342c062850>]"
      ]
     },
     "execution_count": 6,
     "metadata": {},
     "output_type": "execute_result"
    },
    {
     "data": {
      "image/png": "[encoded data removed]",
      "text/plain": [
       "<Figure size 720x576 with 1 Axes>"
      ]
     },
     "metadata": {
      "needs_background": "light"
     },
     "output_type": "display_data"
    }
   ],
   "source": [
    "entropies = [ca_entropy(a) for a in tqdm(sample_CAs(seed=0))]\n",
    "plt.plot(entropies)"
   ]
  },
  {
   "cell_type": "markdown",
   "metadata": {},
   "source": [
    "## Define the model"
   ]
  },
  {
   "cell_type": "code",
   "execution_count": 7,
   "metadata": {},
   "outputs": [
    {
     "name": "stdout",
     "output_type": "stream",
     "text": [
      "seed = 0\n",
      "Model: \"sequential\"\n",
      "_________________________________________________________________\n",
      "Layer (type)                 Output Shape              Param #   \n",
      "=================================================================\n",
      "wraparound2d (Wraparound2D)  (None, 12, 12, 1)         0         \n",
      "_________________________________________________________________\n",
      "conv2d (Conv2D)              (None, 10, 10, 100)       1000      \n",
      "_________________________________________________________________\n",
      "reshape (Reshape)            (None, 100, 100)          0         \n",
      "_________________________________________________________________\n",
      "dense (Dense)                (None, 100, 100)          10100     \n",
      "_________________________________________________________________\n",
      "dense_1 (Dense)              (None, 100, 100)          10100     \n",
      "_________________________________________________________________\n",
      "dense_2 (Dense)              (None, 100, 100)          10100     \n",
      "_________________________________________________________________\n",
      "dense_3 (Dense)              (None, 100, 100)          10100     \n",
      "_________________________________________________________________\n",
      "dense_4 (Dense)              (None, 100, 100)          10100     \n",
      "_________________________________________________________________\n",
      "dense_5 (Dense)              (None, 100, 100)          10100     \n",
      "_________________________________________________________________\n",
      "dense_6 (Dense)              (None, 100, 100)          10100     \n",
      "_________________________________________________________________\n",
      "dense_7 (Dense)              (None, 100, 100)          10100     \n",
      "_________________________________________________________________\n",
      "dense_8 (Dense)              (None, 100, 100)          10100     \n",
      "_________________________________________________________________\n",
      "dense_9 (Dense)              (None, 100, 100)          10100     \n",
      "_________________________________________________________________\n",
      "dense_10 (Dense)             (None, 100, 100)          10100     \n",
      "_________________________________________________________________\n",
      "lambda (Lambda)              (None, 100)               0         \n",
      "_________________________________________________________________\n",
      "reshape_1 (Reshape)          (None, 10, 10)            0         \n",
      "=================================================================\n",
      "Total params: 112,100\n",
      "Trainable params: 112,100\n",
      "Non-trainable params: 0\n",
      "_________________________________________________________________\n"
     ]
    }
   ],
   "source": [
    "from train_ca import initialize_model\n",
    "\n",
    "seed = 0\n",
    "print('seed =', seed)\n",
    "\n",
    "np.random.seed(seed)\n",
    "tf.random.set_seed(seed)\n",
    "\n",
    "num_classes = 2\n",
    "samples = 500\n",
    "input_dims = [10, 10]\n",
    "layer_dims = [100] + [100] * 11 # neighborhood conv + mlpconv layers\n",
    "batch_size = 10\n",
    "num_batches = samples / batch_size\n",
    "learning_rate = 1e-4\n",
    "training_epochs = 100 # 1500\n",
    "display_step = int(training_epochs/10)\n",
    "loss = tf.keras.losses.MeanSquaredError()\n",
    "optimizer = tf.keras.optimizers.Adam(lr=learning_rate)\n",
    "\n",
    "model = initialize_model(input_dims, layer_dims)\n",
    "model.compile(optimizer=optimizer, loss=loss)\n",
    "model.summary()"
   ]
  },
  {
   "cell_type": "markdown",
   "metadata": {},
   "source": [
    "## Define the learning loop"
   ]
  },
  {
   "cell_type": "code",
   "execution_count": 8,
   "metadata": {},
   "outputs": [],
   "source": [
    "def learn_CA(ca, model):\n",
    "    X_train, Y_train = generate_CA_train_data(ca, *input_dims, n_samples=samples)\n",
    "    model.fit(x=X_train, y=Y_train, epochs=training_epochs, batch_size=batch_size)"
   ]
  },
  {
   "cell_type": "markdown",
   "metadata": {},
   "source": [
    "## Train the model"
   ]
  },
  {
   "cell_type": "code",
   "execution_count": 9,
   "metadata": {},
   "outputs": [
    {
     "name": "stdout",
     "output_type": "stream",
     "text": [
      "Epoch 1/100\n",
      "50/50 [==============================] - 1s 18ms/step - loss: 649.3586\n",
      "Epoch 2/100\n",
      "50/50 [==============================] - 1s 19ms/step - loss: 48.3715\n",
      "Epoch 3/100\n",
      "50/50 [==============================] - 1s 18ms/step - loss: 20.5533\n",
      "Epoch 4/100\n",
      "50/50 [==============================] - 1s 17ms/step - loss: 6.7166\n",
      "Epoch 5/100\n",
      "50/50 [==============================] - 1s 18ms/step - loss: 1.6945\n",
      "Epoch 6/100\n",
      "50/50 [==============================] - 1s 23ms/step - loss: 0.5224\n",
      "Epoch 7/100\n",
      "50/50 [==============================] - 1s 22ms/step - loss: 0.3301\n",
      "Epoch 8/100\n",
      "50/50 [==============================] - 1s 19ms/step - loss: 0.2868\n",
      "Epoch 9/100\n",
      "50/50 [==============================] - 2s 30ms/step - loss: 0.2639\n",
      "Epoch 10/100\n",
      "50/50 [==============================] - 1s 21ms/step - loss: 0.2482\n",
      "Epoch 11/100\n",
      "50/50 [==============================] - 1s 18ms/step - loss: 0.2367\n",
      "Epoch 12/100\n",
      "50/50 [==============================] - 1s 18ms/step - loss: 0.2280\n",
      "Epoch 13/100\n",
      "50/50 [==============================] - 1s 17ms/step - loss: 0.2205\n",
      "Epoch 14/100\n",
      "50/50 [==============================] - 1s 21ms/step - loss: 0.2137\n",
      "Epoch 15/100\n",
      "50/50 [==============================] - 2s 31ms/step - loss: 0.2078\n",
      "Epoch 16/100\n",
      "50/50 [==============================] - 1s 18ms/step - loss: 0.2021\n",
      "Epoch 17/100\n",
      "50/50 [==============================] - 1s 18ms/step - loss: 0.1967\n",
      "Epoch 18/100\n",
      "50/50 [==============================] - 1s 24ms/step - loss: 0.1911\n",
      "Epoch 19/100\n",
      "50/50 [==============================] - 1s 23ms/step - loss: 0.1850\n",
      "Epoch 20/100\n",
      "50/50 [==============================] - 1s 24ms/step - loss: 0.1795\n",
      "Epoch 21/100\n",
      "50/50 [==============================] - 1s 22ms/step - loss: 0.1744\n",
      "Epoch 22/100\n",
      "50/50 [==============================] - 1s 18ms/step - loss: 0.1695\n",
      "Epoch 23/100\n",
      "50/50 [==============================] - 1s 18ms/step - loss: 0.1648\n",
      "Epoch 24/100\n",
      "50/50 [==============================] - 1s 19ms/step - loss: 0.1600\n",
      "Epoch 25/100\n",
      "50/50 [==============================] - 1s 18ms/step - loss: 0.1553\n",
      "Epoch 26/100\n",
      "50/50 [==============================] - 1s 18ms/step - loss: 0.1507\n",
      "Epoch 27/100\n",
      "50/50 [==============================] - 1s 18ms/step - loss: 0.1462\n",
      "Epoch 28/100\n",
      "50/50 [==============================] - 1s 18ms/step - loss: 0.1418\n",
      "Epoch 29/100\n",
      "50/50 [==============================] - 1s 18ms/step - loss: 0.1374\n",
      "Epoch 30/100\n",
      "50/50 [==============================] - 1s 19ms/step - loss: 0.1331\n",
      "Epoch 31/100\n",
      "50/50 [==============================] - 1s 21ms/step - loss: 0.1291\n",
      "Epoch 32/100\n",
      "50/50 [==============================] - 1s 18ms/step - loss: 0.1252\n",
      "Epoch 33/100\n",
      "50/50 [==============================] - 1s 18ms/step - loss: 0.1214\n",
      "Epoch 34/100\n",
      "50/50 [==============================] - 1s 18ms/step - loss: 0.1176\n",
      "Epoch 35/100\n",
      "50/50 [==============================] - 1s 18ms/step - loss: 0.1137\n",
      "Epoch 36/100\n",
      "50/50 [==============================] - 1s 18ms/step - loss: 0.1097\n",
      "Epoch 37/100\n",
      "50/50 [==============================] - 1s 18ms/step - loss: 0.1060\n",
      "Epoch 38/100\n",
      "50/50 [==============================] - 1s 18ms/step - loss: 0.1024\n",
      "Epoch 39/100\n",
      "50/50 [==============================] - 1s 20ms/step - loss: 0.0988\n",
      "Epoch 40/100\n",
      "50/50 [==============================] - 1s 18ms/step - loss: 0.0953\n",
      "Epoch 41/100\n",
      "50/50 [==============================] - 1s 19ms/step - loss: 0.0917\n",
      "Epoch 42/100\n",
      "50/50 [==============================] - 1s 17ms/step - loss: 0.0882\n",
      "Epoch 43/100\n",
      "50/50 [==============================] - 1s 17ms/step - loss: 0.0849\n",
      "Epoch 44/100\n",
      "50/50 [==============================] - 1s 18ms/step - loss: 0.0816\n",
      "Epoch 45/100\n",
      "50/50 [==============================] - 1s 18ms/step - loss: 0.0782\n",
      "Epoch 46/100\n",
      "50/50 [==============================] - 1s 17ms/step - loss: 0.0746\n",
      "Epoch 47/100\n",
      "50/50 [==============================] - 1s 18ms/step - loss: 0.0711\n",
      "Epoch 48/100\n",
      "50/50 [==============================] - 1s 18ms/step - loss: 0.0675\n",
      "Epoch 49/100\n",
      "50/50 [==============================] - 1s 17ms/step - loss: 0.0641\n",
      "Epoch 50/100\n",
      "50/50 [==============================] - 1s 17ms/step - loss: 0.0610\n",
      "Epoch 51/100\n",
      "50/50 [==============================] - 1s 17ms/step - loss: 0.0581\n",
      "Epoch 52/100\n",
      "50/50 [==============================] - 1s 18ms/step - loss: 0.0553\n",
      "Epoch 53/100\n",
      "50/50 [==============================] - 1s 23ms/step - loss: 0.0525\n",
      "Epoch 54/100\n",
      "50/50 [==============================] - 1s 18ms/step - loss: 0.0498\n",
      "Epoch 55/100\n",
      "50/50 [==============================] - 1s 18ms/step - loss: 0.0472\n",
      "Epoch 56/100\n",
      "50/50 [==============================] - 1s 18ms/step - loss: 0.0447\n",
      "Epoch 57/100\n",
      "50/50 [==============================] - 1s 18ms/step - loss: 0.0423\n",
      "Epoch 58/100\n",
      "50/50 [==============================] - 1s 18ms/step - loss: 0.0400\n",
      "Epoch 59/100\n",
      "50/50 [==============================] - 1s 17ms/step - loss: 0.0377\n",
      "Epoch 60/100\n",
      "50/50 [==============================] - 1s 18ms/step - loss: 0.0355\n",
      "Epoch 61/100\n",
      "50/50 [==============================] - 1s 18ms/step - loss: 0.0333\n",
      "Epoch 62/100\n",
      "50/50 [==============================] - 1s 18ms/step - loss: 0.0312\n",
      "Epoch 63/100\n",
      "50/50 [==============================] - 1s 18ms/step - loss: 0.0291\n",
      "Epoch 64/100\n",
      "50/50 [==============================] - 1s 18ms/step - loss: 0.0272\n",
      "Epoch 65/100\n",
      "50/50 [==============================] - 1s 19ms/step - loss: 0.0253\n",
      "Epoch 66/100\n",
      "50/50 [==============================] - 1s 19ms/step - loss: 0.0235\n",
      "Epoch 67/100\n",
      "50/50 [==============================] - 1s 18ms/step - loss: 0.0218\n",
      "Epoch 68/100\n",
      "50/50 [==============================] - 1s 22ms/step - loss: 0.0202\n",
      "Epoch 69/100\n",
      "50/50 [==============================] - 1s 24ms/step - loss: 0.0188\n",
      "Epoch 70/100\n",
      "50/50 [==============================] - 1s 21ms/step - loss: 0.0173\n",
      "Epoch 71/100\n",
      "50/50 [==============================] - 1s 19ms/step - loss: 0.0159\n",
      "Epoch 72/100\n",
      "50/50 [==============================] - 1s 18ms/step - loss: 0.0147\n",
      "Epoch 73/100\n",
      "50/50 [==============================] - 1s 18ms/step - loss: 0.0135\n",
      "Epoch 74/100\n",
      "50/50 [==============================] - 1s 19ms/step - loss: 0.0123\n",
      "Epoch 75/100\n",
      "50/50 [==============================] - 1s 28ms/step - loss: 0.0112\n",
      "Epoch 76/100\n",
      "50/50 [==============================] - 1s 21ms/step - loss: 0.0102\n",
      "Epoch 77/100\n",
      "50/50 [==============================] - 1s 18ms/step - loss: 0.0094\n",
      "Epoch 78/100\n",
      "50/50 [==============================] - 1s 17ms/step - loss: 0.0086\n",
      "Epoch 79/100\n",
      "50/50 [==============================] - 1s 26ms/step - loss: 0.0079\n",
      "Epoch 80/100\n",
      "50/50 [==============================] - 1s 18ms/step - loss: 0.0072\n",
      "Epoch 81/100\n",
      "50/50 [==============================] - 1s 28ms/step - loss: 0.0066\n",
      "Epoch 82/100\n",
      "50/50 [==============================] - 1s 29ms/step - loss: 0.0061\n",
      "Epoch 83/100\n",
      "50/50 [==============================] - 1s 20ms/step - loss: 0.0055\n",
      "Epoch 84/100\n",
      "50/50 [==============================] - 1s 18ms/step - loss: 0.0050\n",
      "Epoch 85/100\n",
      "50/50 [==============================] - 1s 19ms/step - loss: 0.0045\n",
      "Epoch 86/100\n",
      "50/50 [==============================] - 1s 18ms/step - loss: 0.0040\n",
      "Epoch 87/100\n",
      "50/50 [==============================] - 1s 18ms/step - loss: 0.0036\n",
      "Epoch 88/100\n",
      "50/50 [==============================] - 1s 18ms/step - loss: 0.0032\n",
      "Epoch 89/100\n",
      "50/50 [==============================] - 1s 18ms/step - loss: 0.0029\n",
      "Epoch 90/100\n",
      "50/50 [==============================] - 1s 18ms/step - loss: 0.0026\n",
      "Epoch 91/100\n",
      "50/50 [==============================] - 1s 19ms/step - loss: 0.0024\n",
      "Epoch 92/100\n",
      "50/50 [==============================] - 1s 19ms/step - loss: 0.0022\n",
      "Epoch 93/100\n",
      "50/50 [==============================] - 1s 18ms/step - loss: 0.0019\n",
      "Epoch 94/100\n",
      "50/50 [==============================] - 1s 18ms/step - loss: 0.0018\n",
      "Epoch 95/100\n",
      "50/50 [==============================] - 1s 18ms/step - loss: 0.0016\n",
      "Epoch 96/100\n",
      "50/50 [==============================] - 1s 18ms/step - loss: 0.0015\n",
      "Epoch 97/100\n",
      "50/50 [==============================] - 1s 21ms/step - loss: 0.0013\n",
      "Epoch 98/100\n",
      "50/50 [==============================] - 1s 18ms/step - loss: 0.0012\n",
      "Epoch 99/100\n",
      "50/50 [==============================] - 1s 18ms/step - loss: 0.0011\n",
      "Epoch 100/100\n",
      "50/50 [==============================] - 2s 38ms/step - loss: 0.0010\n"
     ]
    }
   ],
   "source": [
    "ca = list(sample_CAs(seed=0))[250]\n",
    "learn_CA(ca, model)"
   ]
  },
  {
   "cell_type": "code",
   "execution_count": 10,
   "metadata": {},
   "outputs": [
    {
     "data": {
      "text/plain": [
       "[]"
      ]
     },
     "execution_count": 10,
     "metadata": {},
     "output_type": "execute_result"
    },
    {
     "data": {
      "image/png": "[encoded data removed]",
      "text/plain": [
       "<Figure size 720x360 with 2 Axes>"
      ]
     },
     "metadata": {
      "needs_background": "light"
     },
     "output_type": "display_data"
    }
   ],
   "source": [
    "plt.figure(figsize=(10, 5))\n",
    "plt.subplot(121)\n",
    "plt.plot(model.history.history['loss'])\n",
    "plt.subplot(122)\n",
    "plt.plot(model.history.history['loss'])\n",
    "plt.loglog()"
   ]
  },
  {
   "cell_type": "code",
   "execution_count": 11,
   "metadata": {},
   "outputs": [
    {
     "data": {
      "text/plain": [
       "Text(0.5, 1.0, 'Diff')"
      ]
     },
     "execution_count": 11,
     "metadata": {},
     "output_type": "execute_result"
    },
    {
     "data": {
      "image/png": "[encoded data removed]",
      "text/plain": [
       "<Figure size 864x288 with 4 Axes>"
      ]
     },
     "metadata": {
      "needs_background": "light"
     },
     "output_type": "display_data"
    }
   ],
   "source": [
    "from ca_funcs import make_glider\n",
    "\n",
    "# x = np.random.choice([0, 1], size=100)\n",
    "x = make_glider(10)\n",
    "X_test = tf.convert_to_tensor(x.reshape(1, 10, 10), tf.float32)\n",
    "Y_test = ca(X_test)\n",
    "Y_pred = model(X_test)\n",
    "\n",
    "plt.figure(figsize=(12,4))\n",
    "\n",
    "plt.subplot(141)\n",
    "plt.imshow(X_test[0])\n",
    "plt.axis('off')\n",
    "plt.title(\"Input\")\n",
    "\n",
    "plt.subplot(142)\n",
    "plt.imshow(Y_test[0])\n",
    "plt.axis('off')\n",
    "plt.title(\"Expected Output\")\n",
    "\n",
    "plt.subplot(143)\n",
    "plt.imshow(Y_pred[0])\n",
    "plt.axis('off')\n",
    "plt.title(\"Observed Output\")\n",
    "\n",
    "plt.subplot(144)\n",
    "plt.imshow(abs(Y_pred[0] - Y_test[0]))\n",
    "plt.axis('off')\n",
    "plt.title(\"Diff\")"
   ]
  },
  {
   "cell_type": "markdown",
   "metadata": {},
   "source": [
    "## Find model entropies"
   ]
  },
  {
   "cell_type": "code",
   "execution_count": 12,
   "metadata": {},
   "outputs": [],
   "source": [
    "from ca_funcs import get_network_entropies\n",
    "\n",
    "get_activations = tf.keras.backend.function(model.input, [model.layers[i].output for i in np.r_[1, 3:len(model.layers)-2]])\n",
    "\n",
    "X_test = tf.convert_to_tensor(np.random.choice([0, 1], (500, 10, 10)), tf.float32)\n",
    "\n",
    "layer_activations = np.array([layer.reshape(500, 100, 100) for layer in get_activations(X_test)])\n",
    "binary_activations = np.digitize(layer_activations, [0], right=True)\n",
    "entropies = get_network_entropies(binary_activations)"
   ]
  },
  {
   "cell_type": "code",
   "execution_count": 15,
   "metadata": {},
   "outputs": [
    {
     "data": {
      "text/plain": [
       "[<matplotlib.lines.Line2D at 0x7f33f5f3a760>]"
      ]
     },
     "execution_count": 15,
     "metadata": {},
     "output_type": "execute_result"
    },
    {
     "data": {
      "image/png": "[encoded data removed]",
      "text/plain": [
       "<Figure size 720x576 with 1 Axes>"
      ]
     },
     "metadata": {
      "needs_background": "light"
     },
     "output_type": "display_data"
    }
   ],
   "source": [
    "plt.plot(np.array(entropies[2]).mean(axis=1), 'o')"
   ]
  },
  {
   "cell_type": "code",
   "execution_count": 14,
   "metadata": {},
   "outputs": [
    {
     "data": {
      "text/plain": [
       "(6.2330942336477335,\n",
       " [6.2330942336477335,\n",
       "  6.2330942336477335,\n",
       "  6.233094233647733,\n",
       "  6.225141883066019,\n",
       "  6.2330942336477335,\n",
       "  6.2303951149657,\n",
       "  6.2330942336477335,\n",
       "  6.2330942336477335,\n",
       "  6.233094233647733,\n",
       "  6.230322444978835,\n",
       "  6.227527806112841,\n",
       "  5.650075574039603],\n",
       " [array([ 0.21542131,  0.93066515,  0.29983786,  0.81458961,  0.97238283,\n",
       "          0.95944232,  0.97367813,  0.43533392,  0.81361545,  0.37422783,\n",
       "          0.71956181,  0.99926675,  0.22534645,  0.9226396 ,  0.41092741,\n",
       "          0.87013795,  0.93362072,  0.97752846,  0.2577588 ,  0.70276665,\n",
       "          0.99583387,  0.41989923,  0.99309505,  0.54731449,  0.77011953,\n",
       "          0.54446212,  0.64903079,  0.98166747,  0.55940949,  0.96806115,\n",
       "          0.80978486,  0.63224819,  0.96318045,  0.94896788,  0.96532669,\n",
       "          0.59477362,  0.57393322,  0.87577051,  0.13017422,  0.28750039,\n",
       "          0.38452898,  0.57913549,  0.9762794 ,  0.99390183,  0.94697889,\n",
       "          0.98964311,  0.51085786,  0.84060236,  0.96136168,  0.21696026,\n",
       "          0.94286565,  0.96349674,  0.94525879,  0.99650687,  0.43345858,\n",
       "          0.99217173,  0.29062979,  0.4979825 ,  0.2157102 ,  0.60045217,\n",
       "          0.97993343,  0.48427665,  0.26941827,  0.86296944,  0.59240348,\n",
       "          0.7462721 ,  0.11223995,  0.67603522,  0.70588533,  0.75108142,\n",
       "          0.94446156,  0.61576435,  0.95942844,  0.94491786,  0.82243046,\n",
       "         -0.        ,  0.83918829,  0.75939985,  0.78320443,  0.08774111,\n",
       "          0.91521219,  0.08877662,  0.61670432,  0.87008658,  0.8958106 ,\n",
       "          0.4068133 ,  0.99812885,  0.97909107,  0.70955904,  0.99972625,\n",
       "          0.85813469,  0.53365725,  0.8029318 ,  0.82846178,  0.98962923,\n",
       "          0.64651223,  0.83607588,  0.23787318,  0.82101931,  0.96249036]),\n",
       "  array([ 0.89852451,  0.7462721 ,  0.54904164,  0.67431179,  0.40513209,\n",
       "          0.71928023,  0.53222852,  0.89946527,  0.93093996,  0.61695142,\n",
       "          0.86228067,  0.76589574,  0.99161351,  0.63041988,  0.54333981,\n",
       "          0.81342657,  0.44693045,  0.87021498,  0.70576098,  0.90184068,\n",
       "          0.92302768,  0.98174147,  0.96898746,  0.47121062,  0.8883366 ,\n",
       "          0.3347846 ,  0.55886256,  0.96472206,  0.8752938 ,  0.14934088,\n",
       "          0.75697756,  0.9439869 ,  0.97395553,  0.96405992,  0.99818141,\n",
       "          0.43566822,  0.62138013,  0.98883676,  0.22449473,  0.33360666,\n",
       "          0.99895812, -0.        ,  0.04556737,  0.99825033,  0.76693807,\n",
       "          0.99220184,  0.99300419,  0.99838417,  0.72160798,  0.07490116,\n",
       "          0.58092945,  0.75398461,  0.99627808, -0.        ,  0.99997227,\n",
       "          0.98230979,  0.88939797,  0.18128349,  0.12130993,  0.95428649,\n",
       "          0.9535601 ,  0.69489884,  0.38431154,  0.73667683,  0.50436401,\n",
       "          0.74502305,  0.19888543,  0.95622833,  0.72824268,  0.05988634,\n",
       "          0.47354374,  0.15252733,  0.98919417, -0.        ,  0.68969438,\n",
       "          0.11452778,  0.69807022,  0.94508034,  0.05974317,  0.79996089,\n",
       "          0.9770952 ,  0.41404744,  0.99727529,  0.08774111,  0.24036318,\n",
       "          0.9430809 ,  0.51410867,  0.01955201,  0.30628288,  0.96421629,\n",
       "          0.90006755,  0.7327146 ,  0.44666775,  0.9895527 ,  0.92062465,\n",
       "          0.21561392,  0.68313016,  0.90518437,  0.77943801,  0.23537196]),\n",
       "  array([ 0.32974301,  0.31127586,  0.99165091,  0.9704453 ,  0.96993556,\n",
       "          0.77563297,  0.61432653,  0.87856024, -0.        ,  0.49834549,\n",
       "          0.12483255,  0.25758031,  0.53684538,  0.046481  , -0.        ,\n",
       "          0.15796855,  0.64280567,  0.12518309,  0.42800198,  0.78947551,\n",
       "          0.06847038,  0.14200165,  0.48649988,  0.76915714,  0.7897457 ,\n",
       "          0.673603  ,  0.76549964,  0.73298769,  0.85113698,  0.15154087,\n",
       "          0.43667006,  0.9477096 ,  0.12201698,  0.90585428,  0.62402017,\n",
       "          0.98604182,  0.99538769,  0.99985699,  0.75111877,  0.55264684,\n",
       "          0.23999499,  0.01735233,  0.79062242,  0.28153444,  0.61833309,\n",
       "         -0.        ,  0.55940949,  0.72602901,  0.05232453,  0.97407711,\n",
       "         -0.        ,  0.46454192,  0.32879312,  0.3360386 ,  0.93187003,\n",
       "          0.70209861,  0.56663551,  0.49616438,  0.12483255,  0.81273304,\n",
       "          0.01790679,  0.68930819,  0.72981703,  0.0758465 ,  0.23916568,\n",
       "          0.72832154,  0.32601419,  0.79277132,  0.06470607,  0.29382678,\n",
       "          0.54159606,  0.50872069,  0.48359574,  0.27870091, -0.        ,\n",
       "          0.48328599,  0.03408355,  0.32760368,  0.34828771,  0.25686581,\n",
       "          0.26379457,  0.90285251,  0.50609844,  0.04571993,  0.99944565,\n",
       "          0.41044069,  0.72642513,  0.97998186,  0.78134331,  0.51133178,\n",
       "          0.98323383,  0.98674257,  0.93106801,  0.77253267,  0.52595945,\n",
       "          0.27342699,  0.69794377,  0.37415417,  0.97727107,  0.2475857 ]),\n",
       "  array([ 0.30050207,  0.97464792,  0.97962205,  0.02045497,  0.88102181,\n",
       "          0.79861387,  0.3532578 ,  0.99409698, -0.        , -0.        ,\n",
       "          0.03359509,  0.03537902,  0.24100692,  0.66776152,  0.90878445,\n",
       "          0.52924588,  0.7198834 ,  0.0617401 , -0.        ,  0.67994577,\n",
       "          0.44974759, -0.        ,  0.34613449, -0.        ,  0.099582  ,\n",
       "          0.51269226, -0.        ,  0.34920825,  0.46893219,  0.85837729,\n",
       "         -0.        ,  0.3405632 ,  0.43231726,  0.14724069,  0.98069175,\n",
       "          0.10356271,  0.11416747,  0.38727666, -0.        ,  0.68840586,\n",
       "          0.48785462,  0.89180665,  0.32903073,  0.06315677,  0.06736059,\n",
       "          0.83162602,  0.07340929,  0.45644487,  0.40779195, -0.        ,\n",
       "         -0.        ,  0.03505611,  0.39101739,  0.67386891,  0.79062242,\n",
       "         -0.        ,  0.99688217, -0.        ,  0.95734694,  0.01900653,\n",
       "          0.20834261, -0.        ,  0.47887086,  0.17308001,  0.01918867,\n",
       "          0.42318005,  0.86895365,  0.62689003,  0.15677708, -0.        ,\n",
       "          0.91170687,  0.09186337,  0.99404455,  0.94156526,  0.05335697,\n",
       "          0.40730281,  0.27247088,  0.17808094,  0.12518309, -0.        ,\n",
       "         -0.        ,  0.55468929,  0.93568298,  0.78485085,  0.51540418,\n",
       "          0.99706549,  0.91643134,  0.53729945,  0.03634406, -0.        ,\n",
       "          0.54451818, -0.        ,  0.70534626,  0.97451677,  0.3697928 ,\n",
       "         -0.        ,  0.48748544,  0.83150722,  0.01827471,  0.93783248]),\n",
       "  array([ 0.99765178,  0.95120806, -0.        , -0.        , -0.        ,\n",
       "          0.25954061,  0.8178363 ,  0.32114072, -0.        ,  0.07286484,\n",
       "          0.91168603,  0.0193705 ,  0.96405992,  0.02170681,  0.68121329,\n",
       "         -0.        ,  0.96785205,  0.24430595,  0.89764672, -0.        ,\n",
       "          0.41196913,  0.06216593,  0.99973185,  0.97280304,  0.02135056,\n",
       "         -0.        ,  0.6028394 ,  0.08670222,  0.27576719,  0.83852211,\n",
       "         -0.        ,  0.51091712,  0.66135185,  0.61188856, -0.        ,\n",
       "          0.15764391, -0.        , -0.        ,  0.12413053,  0.69264486,\n",
       "          0.3556143 ,  0.96875719,  0.99203247,  0.75033367,  0.92809127,\n",
       "          0.40133297,  0.27913111,  0.84042958, -0.        ,  0.92525821,\n",
       "          0.9990229 ,  0.85394765,  0.98806711,  0.01827471,  0.38227856,\n",
       "         -0.        ,  0.2381504 ,  0.37511111,  0.31856857, -0.        ,\n",
       "         -0.        ,  0.07719165, -0.        ,  0.32481938,  0.19858708,\n",
       "          0.96061335,  0.56959782,  0.59825917,  0.59605757, -0.        ,\n",
       "          0.50633729,  0.20785427,  0.11882512,  0.25228974,  0.99838143,\n",
       "         -0.        ,  0.96365436, -0.        ,  0.88364943,  0.99986421,\n",
       "          0.2322061 ,  0.47404705, -0.        , -0.        , -0.        ,\n",
       "          0.1541666 ,  0.22364166,  0.15110175,  0.32744492,  0.02347193,\n",
       "          0.55474439,  0.80542546,  0.93469166,  0.9682818 ,  0.91143571,\n",
       "          0.62572447,  0.39466483,  0.04723926,  0.49749819,  0.222312  ]),\n",
       "  array([-0.        ,  0.94011381, -0.        ,  0.10479752,  0.50597898,\n",
       "          0.01809092,  0.99735283,  0.24613039, -0.        ,  0.90254516,\n",
       "          0.94178305,  0.8563757 ,  0.9496842 ,  0.05099003, -0.        ,\n",
       "          0.06498677, -0.        ,  0.37334332, -0.        ,  0.52248071,\n",
       "         -0.        , -0.        ,  0.53797991,  0.9749743 ,  0.4796816 ,\n",
       "          0.25579239,  0.48760852,  0.98958056,  0.31719772,  0.81668501,\n",
       "          0.3293474 ,  0.81727673,  0.04844674,  0.05232453,  0.10467424,\n",
       "          0.91651228,  0.08513744,  0.23024157, -0.        ,  0.97222297,\n",
       "         -0.        ,  0.23953442,  0.25758031, -0.        ,  0.30800642,\n",
       "          0.97752846, -0.        ,  0.61432653,  0.50824475, -0.        ,\n",
       "          0.23602151,  0.79570483,  0.21213617, -0.        ,  0.31054177,\n",
       "          0.2157102 ,  0.58841378,  0.70285009,  0.54787218, -0.        ,\n",
       "          0.19549395,  0.25156858,  0.0193705 , -0.        ,  0.10492077,\n",
       "          0.03521764,  0.69709993,  0.07557672,  0.03424604,  0.19808945,\n",
       "          0.99988328,  0.64299398,  0.74672536,  0.44079423,  0.02135056,\n",
       "          0.24831195,  0.70029851,  0.13601596,  0.10479752,  0.84406412,\n",
       "          0.94220069,  0.33053348,  0.44278017,  0.0762507 ,  0.99348001,\n",
       "          0.77366299,  0.55098562,  0.66103377, -0.        , -0.        ,\n",
       "         -0.        ,  0.36368057,  0.99831513,  0.46005644,  0.83387413,\n",
       "          0.78532966, -0.        , -0.        ,  0.7936072 ,  0.01973321]),\n",
       "  array([ 0.34936154,  0.49043277, -0.        ,  0.30735041,  0.99390183,\n",
       "          0.0750364 , -0.        ,  0.42725732,  0.99082826,  0.73717919,\n",
       "          0.89284998,  0.81162663,  0.99158853, -0.        ,  0.63973624,\n",
       "          0.94726545, -0.        ,  0.9060483 , -0.        ,  0.84604728,\n",
       "          0.58213984,  0.46772634, -0.        ,  0.59554434,  0.87549464,\n",
       "          0.97604668,  0.03392089,  0.85531452,  0.02135056,  0.93112285,\n",
       "         -0.        ,  0.99945362,  0.06287407,  0.07395269,  0.53474083,\n",
       "          0.51552182,  0.55281271,  0.99927592,  0.37636029, -0.        ,\n",
       "          0.05801848, -0.        ,  0.22335701,  0.99941647,  0.92531544,\n",
       "          0.88892692,  0.38271475,  0.95819725,  0.08408989,  0.69443191,\n",
       "          0.55930014,  0.41023198,  0.41287057,  0.94878016,  0.77559789,\n",
       "         -0.        , -0.        ,  0.96931318, -0.        ,  0.65412369,\n",
       "          0.45864008,  0.42031026,  0.15634305,  0.85345382,  0.98872115,\n",
       "         -0.        ,  0.0704016 ,  0.02347193,  0.96679603,  0.01882406,\n",
       "          0.89478291, -0.        ,  0.34782693,  0.98034802,  0.89997845,\n",
       "          0.27029207,  0.12494943,  0.76990588,  0.12959701,  0.5006997 ,\n",
       "         -0.        ,  0.26255707,  0.13075062,  0.30240759,  0.91478327,\n",
       "         -0.        ,  0.50901796, -0.        , -0.        ,  0.9711841 ,\n",
       "          0.40189724, -0.        ,  0.66955244, -0.        ,  0.03650437,\n",
       "          0.95516789,  0.99778173,  0.25255994, -0.        ,  0.94124619]),\n",
       "  array([-0.        ,  0.71948137,  0.70758136, -0.        ,  0.99204462,\n",
       "          0.82939064,  0.99324141,  0.08079314, -0.        , -0.        ,\n",
       "         -0.        ,  0.92003261,  0.54170871,  0.46937587,  0.05467752,\n",
       "          0.81537308,  0.9837257 , -0.        , -0.        ,  0.35659987,\n",
       "          0.12518309,  0.86405171,  0.02329658,  0.63383088, -0.        ,\n",
       "          0.77217875,  0.46319964, -0.        ,  0.17818457,  0.0584508 ,\n",
       "          0.24109883,  0.69958493,  0.59152505,  0.93540055,  0.99901865,\n",
       "          0.34574921,  0.75612997,  0.51827978, -0.        ,  0.06442508,\n",
       "          0.5715822 ,  0.03794047,  0.53039479,  0.92260074,  0.30620069,\n",
       "          0.37775352,  0.16558537,  0.60029945,  0.92191894,  0.04934782,\n",
       "          0.08722209,  0.0584508 ,  0.39651625,  0.37687395,  0.88755476,\n",
       "          0.10529026,  0.35379069,  0.54339598, -0.        ,  0.92588644,\n",
       "          0.99154472,  0.63883564,  0.02099319,  0.99999598, -0.        ,\n",
       "         -0.        ,  0.7779067 ,  0.88911547, -0.        , -0.        ,\n",
       "         -0.        ,  0.68447617,  0.78631948,  0.15197957,  0.0200947 ,\n",
       "          0.60070662, -0.        , -0.        ,  0.98490621, -0.        ,\n",
       "          0.93385353,  0.99872231,  0.95082553, -0.        ,  0.66816504,\n",
       "          0.99194098,  0.99657091,  0.32926825,  0.53718596,  0.01809092,\n",
       "          0.64520151, -0.        ,  0.04994643,  0.2196428 ,  0.20804966,\n",
       "          0.35720561,  0.82762034, -0.        ,  0.94418356,  0.99320777]),\n",
       "  array([ 0.85408466,  0.61109014, -0.        , -0.        , -0.        ,\n",
       "          0.09795172,  0.78371974, -0.        , -0.        ,  0.60964007,\n",
       "         -0.        ,  0.1615244 ,  0.39878751,  0.27964694,  0.98781235,\n",
       "         -0.        ,  0.6241177 ,  0.09019502,  0.6600328 ,  0.97980722,\n",
       "         -0.        ,  0.80077966,  0.61521941, -0.        ,  0.68694137,\n",
       "          0.09045225, -0.        , -0.        , -0.        ,  0.99692381,\n",
       "         -0.        ,  0.05247232,  0.9997206 ,  0.11608519,  0.98854661,\n",
       "          0.13327718,  0.51292856, -0.        ,  0.75059554,  0.52653731,\n",
       "          0.92378147, -0.        ,  0.06819336,  0.10008208,  0.7252754 ,\n",
       "          0.23778074,  0.07719165,  0.93363864,  0.1464644 ,  0.74562912,\n",
       "          0.53228573,  0.82568822, -0.        ,  0.3869158 ,  0.93921005,\n",
       "          0.68538586, -0.        ,  0.30784248, -0.        ,  0.3344707 ,\n",
       "          0.06929972,  0.99516316,  0.94462475, -0.        ,  0.42779897,\n",
       "          0.87062539, -0.        ,  0.59028258, -0.        ,  0.25677644,\n",
       "         -0.        ,  0.9887284 , -0.        ,  0.15840103,  0.60299144,\n",
       "          0.69179152,  0.06230772,  0.79267088,  0.30000398,  0.74646102,\n",
       "          0.41818372, -0.        ,  0.01973321,  0.15492955,  0.84587785,\n",
       "          0.45902667, -0.        ,  0.85947956,  0.53933852, -0.        ,\n",
       "          0.24045519, -0.        , -0.        , -0.        ,  0.03746309,\n",
       "          0.99979348,  0.20461972,  0.84292447,  0.90937723, -0.        ]),\n",
       "  array([-0.        , -0.        ,  0.45521479,  0.12809242,  0.91699707,\n",
       "          0.3905869 , -0.        ,  0.75969247, -0.        ,  0.08251188,\n",
       "          0.69494127,  0.21271739,  0.03666453, -0.        , -0.        ,\n",
       "          0.38278742,  0.70008875,  0.87144407, -0.        , -0.        ,\n",
       "          0.98015573,  0.96857478,  0.40625339,  0.9668336 ,  0.98174147,\n",
       "          0.5044239 ,  0.99895153,  0.42942117,  0.03698439,  0.09288584,\n",
       "          0.83907254, -0.        ,  0.25129791,  0.06596682,  0.548986  ,\n",
       "          0.45605668,  0.11668249, -0.        , -0.        ,  0.96214284,\n",
       "         -0.        ,  0.34032998,  0.11596561,  0.86703602,  0.68840586,\n",
       "          0.79683167, -0.        ,  0.78265397,  0.01991411,  0.70197325,\n",
       "          0.98600146, -0.        , -0.        ,  0.52189898, -0.        ,\n",
       "          0.222312  ,  0.91204001, -0.        ,  0.67501956,  0.4414569 ,\n",
       "         -0.        ,  0.02382186, -0.        , -0.        ,  0.15110175,\n",
       "          0.02045497, -0.        ,  0.64487332,  0.36487788,  0.01991411,\n",
       "          0.91906059, -0.        ,  0.06582704,  0.11260212,  0.96107683,\n",
       "          0.49567864,  0.44211888,  0.30099974,  0.98468723,  0.13669785,\n",
       "         -0.        , -0.        ,  0.19569407,  0.48625325,  0.05232453,\n",
       "         -0.        ,  0.60964007,  0.51062077,  0.5973898 ,  0.61462432,\n",
       "          0.20951278,  0.68521272,  0.09970708, -0.        , -0.        ,\n",
       "          0.37665386,  0.93881565, -0.        , -0.        ,  0.20402946]),\n",
       "  array([ 0.04140301,  0.05202867,  0.10195099,  0.99692381,  0.59064525,\n",
       "          0.33768063,  0.24894665,  0.03841656,  0.82834172,  0.79183278,\n",
       "         -0.        ,  0.06666463, -0.        , -0.        ,  0.01973321,\n",
       "          0.1994816 ,  0.16940031, -0.        ,  0.85956003, -0.        ,\n",
       "         -0.        ,  0.14746224, -0.        ,  0.14490766, -0.        ,\n",
       "          0.03586223,  0.12529987,  0.24201702,  0.30513113, -0.        ,\n",
       "          0.9708452 ,  0.73442829,  0.2225972 , -0.        ,  0.10430411,\n",
       "          0.25650823, -0.        ,  0.67577047,  0.17621166,  0.15241783,\n",
       "         -0.        ,  0.04264625, -0.        ,  0.8656793 ,  0.79132897,\n",
       "         -0.        ,  0.53479781,  0.02259265, -0.        ,  0.83016747,\n",
       "         -0.        , -0.        ,  0.58366236, -0.        ,  0.43204841,\n",
       "          0.94899914, -0.        , -0.        ,  0.09580802, -0.        ,\n",
       "         -0.        ,  0.324261  ,  0.87617116,  0.49220669, -0.        ,\n",
       "          0.48340991,  0.99946625,  0.29842399,  0.32098027,  0.99374666,\n",
       "          0.92792291, -0.        , -0.        , -0.        ,  0.83147752,\n",
       "         -0.        ,  0.10467424,  0.95686117, -0.        ,  0.27203577,\n",
       "         -0.        ,  0.38438403, -0.        ,  0.90208315,  0.99991586,\n",
       "          0.99807255,  0.10516714, -0.        , -0.        ,  0.94377344,\n",
       "         -0.        , -0.        ,  0.1688723 , -0.        ,  0.01735233,\n",
       "          0.11500767, -0.        ,  0.82580934, -0.        , -0.        ]),\n",
       "  array([ 0.80882815,  0.16409335,  0.1551473 ,  0.03778149, -0.        ,\n",
       "          0.31735915,  0.8389857 ,  0.18118051,  0.22088372,  0.04874752,\n",
       "          0.42942117,  0.66533362,  0.05526199, -0.        ,  0.30669369,\n",
       "          0.93982469, -0.        ,  0.11918107,  0.48612989, -0.        ,\n",
       "          0.48123777,  0.14823677,  0.54686796, -0.        ,  0.16961135,\n",
       "          0.4092571 , -0.        , -0.        , -0.        ,  0.695916  ,\n",
       "          0.54052479, -0.        , -0.        ,  0.86140369,  0.17600352,\n",
       "          0.29474905,  0.03537902,  0.02027498, -0.        ,  0.72436139,\n",
       "          0.31314786, -0.        ,  0.49543563,  0.14701904, -0.        ,\n",
       "         -0.        ,  0.25740177,  0.01973321,  0.02027498, -0.        ,\n",
       "         -0.        ,  0.42901601,  0.56474255, -0.        , -0.        ,\n",
       "          0.68564546,  0.21291098,  0.26968055,  0.07946433,  0.44660205,\n",
       "          0.21551762, -0.        , -0.        ,  0.48365767,  0.88204746,\n",
       "          0.02347193,  0.31298531, -0.        ,  0.08838869,  0.32481938,\n",
       "          0.02434491,  0.2564188 , -0.        ,  0.01918867, -0.        ,\n",
       "          0.57291918, -0.        , -0.        ,  0.26397114, -0.        ,\n",
       "          0.0617401 ,  0.23490753, -0.        ,  0.89075785,  0.56722918,\n",
       "         -0.        ,  0.20687622, -0.        ,  0.3363517 , -0.        ,\n",
       "         -0.        , -0.        , -0.        ,  0.57844808,  0.05540788,\n",
       "          0.3430455 ,  0.14889957, -0.        ,  0.28341593,  0.45825324])])"
      ]
     },
     "execution_count": 14,
     "metadata": {},
     "output_type": "execute_result"
    }
   ],
   "source": [
    "entropies"
   ]
  }
 ],
 "metadata": {
  "kernelspec": {
   "display_name": "Python 3",
   "language": "python",
   "name": "python3"
  },
  "language_info": {
   "codemirror_mode": {
    "name": "ipython",
    "version": 3
   },
   "file_extension": ".py",
   "mimetype": "text/x-python",
   "name": "python",
   "nbconvert_exporter": "python",
   "pygments_lexer": "ipython3",
   "version": "3.8.2"
  }
 },
 "nbformat": 4,
 "nbformat_minor": 4
}
