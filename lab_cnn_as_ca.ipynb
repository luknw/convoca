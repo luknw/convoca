{
 "cells": [
  {
   "cell_type": "markdown",
   "metadata": {},
   "source": [
    "# Convolutional Neural Network as Cellular Automata"
   ]
  },
  {
   "cell_type": "markdown",
   "metadata": {},
   "source": [
    "Based on: https://doi.org/10.1103/PhysRevE.100.032402"
   ]
  },
  {
   "cell_type": "markdown",
   "metadata": {},
   "source": [
    "Quoting Wikipedia:\n",
    "\n",
    "> A cellular automaton consists of a regular grid of cells, each in one of a finite number of states, such as on and off [...]. The grid can be in any finite number of dimensions. For each cell, a set of cells called its neighbourhood is defined relative to the specified cell. An initial state (time t = 0) is selected by assigning a state for each cell. A new generation is created (advancing t by 1), according to some fixed rule (generally, a mathematical function) that determines the new state of each cell in terms of the current state of the cell and the states of the cells in its neighbourhood. Typically, the rule for updating the state of cells is the same for each cell and does not change over time, and is applied to the whole grid simultaneously [...]\n",
    ">\n",
    "> <cite>https://en.wikipedia.org/wiki/Cellular_automaton</cite>\n",
    "\n",
    "The important thing here is that cellular automatons are local, i.e. the next state of each cell depends only on the cells in its neighbourhood. This principle of locality is also a basis for applying convolutional filters, which combine information from a single part of the image at a time. Expanding on this similarity, we can ponder whether cellular automatons and convolutional neural networks have more things in common. Let's check this out!"
   ]
  },
  {
   "cell_type": "markdown",
   "metadata": {},
   "source": [
    "## CAs and convolutions in plain Python"
   ]
  },
  {
   "cell_type": "markdown",
   "metadata": {},
   "source": [
    "We'll define a few simple CAs to learn the techniques we'll be using further. The CAs will:\n",
    "* be defined on a square grid\n",
    "* have 2 states - so called binary CA, the states are usually called dead (0) and alive (1)\n",
    "* use Moore neighbourhood - a square of 3 by 3 cells with a cell of reference in the centre"
   ]
  },
  {
   "cell_type": "markdown",
   "metadata": {},
   "source": [
    "### Utils"
   ]
  },
  {
   "cell_type": "code",
   "execution_count": null,
   "metadata": {},
   "outputs": [],
   "source": [
    "!pip install nni"
   ]
  },
  {
   "cell_type": "code",
   "execution_count": null,
   "metadata": {},
   "outputs": [],
   "source": [
    "!git clone https://github.com/luknw/convoca.git\n",
    "%cd convoca\n",
    "!git checkout master-nn"
   ]
  },
  {
   "cell_type": "code",
   "execution_count": 1,
   "metadata": {},
   "outputs": [],
   "source": [
    "%load_ext autoreload\n",
    "%autoreload 2\n",
    "\n",
    "import numpy as np\n",
    "import matplotlib.pyplot as plt\n",
    "\n",
    "plt.rcParams['image.cmap'] = 'gray'\n",
    "plt.rcParams['image.interpolation'] = 'nearest'\n",
    "plt.rcParams['figure.figsize'] = (7, 7)"
   ]
  },
  {
   "cell_type": "markdown",
   "metadata": {},
   "source": [
    "### Task 1: Rule-based CA\n",
    "The simplest automaton can be defined by pattern-matching rules for each possible input. No big deal, we just need to pay attention to boundary conditions."
   ]
  },
  {
   "cell_type": "code",
   "execution_count": 2,
   "metadata": {},
   "outputs": [],
   "source": [
    "from lab_pytorch.ca_funcs import run_ca, make_ca\n",
    "\n",
    "def k(a):\n",
    "    \"\"\"\n",
    "    Convert array to a tuple for use as a hashable key.\n",
    "    \"\"\"\n",
    "    return tuple(np.array(a).ravel())\n",
    "\n",
    "@make_ca\n",
    "def triangles(state):\n",
    "    born = set(k(s) for s in (\n",
    "        [[0, 0, 1], [0, 0, 0], [0, 0, 0]],\n",
    "        [[0, 0, 0], [0, 0, 0], [0, 0, 1]],\n",
    "        [[0, 0, 0], [1, 0, 0], [0, 0, 0]],\n",
    "    ))\n",
    "    \n",
    "    new_state = np.zeros_like(state)\n",
    "\n",
    "    # TODO: We want to have a state grid that's _wrapped_ around,\n",
    "    # left to right and top to bottom, so that CA rules\n",
    "    # can be safely applied at the boundary.\n",
    "    # Hint: use np.pad with the right mode.\n",
    "    state_pad = np.pad(state, 1, 'wrap')\n",
    "\n",
    "    for i in range(state.shape[0]):\n",
    "        for j in range(state.shape[1]):\n",
    "            if k(state_pad[i:i+3, j:j+3]) in born:\n",
    "                new_state[i][j] = 1\n",
    "    \n",
    "    return new_state"
   ]
  },
  {
   "cell_type": "code",
   "execution_count": 3,
   "metadata": {},
   "outputs": [
    {
     "data": {
      "image/png": "[encoded data removed]",
      "text/plain": [
       "<Figure size 504x504 with 1 Axes>"
      ]
     },
     "metadata": {
      "needs_background": "light"
     },
     "output_type": "display_data"
    }
   ],
   "source": [
    "run_ca(triangles, p_alive=0.0003, iters=100)"
   ]
  },
  {
   "cell_type": "markdown",
   "metadata": {},
   "source": [
    "### Task 2: Convolution\n",
    "Let's build a simple convolution which sums the numbers in a 3 by 3 square just to see how it works."
   ]
  },
  {
   "cell_type": "code",
   "execution_count": 4,
   "metadata": {},
   "outputs": [
    {
     "name": "stdout",
     "output_type": "stream",
     "text": [
      "[[1 2 3]\n",
      " [4 5 6]\n",
      " [7 8 9]]\n",
      "45 [[40]]\n",
      "True\n"
     ]
    }
   ],
   "source": [
    "from scipy.signal import convolve2d\n",
    "\n",
    "def conv_sum_neighbours(a):\n",
    "    # TODO: Define a convolution kernel that will sum all values\n",
    "    # inside a 3x3 block apart from the center square.\n",
    "    # Hint: the kernel will be a 3x3 array with 1s and 0s in the right places.\n",
    "    kernel = np.pad([[0]], 1, constant_values=1)\n",
    "    return convolve2d(a, kernel, mode='valid')\n",
    "\n",
    "# test inputs have size 3x3 just to make things simple\n",
    "def conv_test():\n",
    "    x = np.arange(1, 10).reshape(3, 3)\n",
    "    print(x)\n",
    "    print(x.sum(), conv_sum_neighbours(x))\n",
    "    \n",
    "    eq = []\n",
    "    for i in range(10):\n",
    "        x = np.random.rand(3, 3)\n",
    "        eq.append(np.isclose(conv_sum_neighbours(x), x.sum() - x[1, 1]))\n",
    "    print(all(eq))\n",
    "\n",
    "conv_test()"
   ]
  },
  {
   "cell_type": "markdown",
   "metadata": {},
   "source": [
    "## Totalistic CA"
   ]
  },
  {
   "cell_type": "markdown",
   "metadata": {},
   "source": [
    "Totalistic CAs don't care about layout of cells in a neighbourhood, they just compute some neighbourhood statistic like a number of living cells. As we already know, the sum of values in the neighbouring cells is a perfect use case for a convolution!\n",
    "\n",
    "The convolution will be computed for all cells at once using arcane knowledge of the fast Fourier transform. This also has a nice side effect that we get wrapped boundaries for free. It's not that important how this FFT works, you can treat it as a black box. The important bit is that we use a convolution to implement a CA transition function."
   ]
  },
  {
   "cell_type": "markdown",
   "metadata": {},
   "source": [
    "### Task 3: Conway's game of Life\n",
    "The most famous cellular automaton that exhibits complex behaviour"
   ]
  },
  {
   "cell_type": "code",
   "execution_count": 5,
   "metadata": {},
   "outputs": [],
   "source": [
    "from lab_pytorch.utils import fft_convolve2d\n",
    "\n",
    "@make_ca\n",
    "def conway(state):\n",
    "    kernel = np.zeros_like(state)\n",
    "    m, n = kernel.shape\n",
    "    \n",
    "    # TODO: define a 3x3 convolution kernel that will count living neighbours (state := 1) of the cell\n",
    "    kernel[m//2-1 : m//2+2, n//2-1 : n//2+2] = np.pad([[0]], 1, constant_values=1)\n",
    "\n",
    "    # 2d table with counts of living neighbours for each corresponding cell from the state\n",
    "    neighbours_alive = fft_convolve2d(state, kernel)\n",
    "    \n",
    "    new_state = np.zeros_like(neighbours_alive)\n",
    "    \n",
    "    born = [3]\n",
    "    survives = [2, 3]\n",
    "    # TODO: place born & survives arrays in the right places\n",
    "    # states: 0 - dead, 1 - alive\n",
    "    new_state[(state == 0) & np.isin(neighbours_alive, born)] = 1\n",
    "    new_state[(state == 1) & np.isin(neighbours_alive, survives)] = 1\n",
    "\n",
    "    return new_state   "
   ]
  },
  {
   "cell_type": "code",
   "execution_count": 6,
   "metadata": {},
   "outputs": [
    {
     "data": {
      "image/png": "[encoded data removed]",
      "text/plain": [
       "<Figure size 504x504 with 1 Axes>"
      ]
     },
     "metadata": {
      "needs_background": "light"
     },
     "output_type": "display_data"
    }
   ],
   "source": [
    "run_ca(conway, iters=64)"
   ]
  },
  {
   "cell_type": "markdown",
   "metadata": {},
   "source": [
    "## Day and night automaton\n",
    "We've seen the `triangles` CA which behaves orderly up to a point, but then quite reliably transforms into a random mess and also the `conway` CA that can have runs of varying length and complexity. What determines the CA complexity? Let's compare a few other automatons with rules that differ only slightly."
   ]
  },
  {
   "cell_type": "markdown",
   "metadata": {},
   "source": [
    "### Task 4: CA comparison\n",
    "Run each of the following CAs and just observe the results. The first CA is called \"day and night\", becuase it exhibits symmetry between dead and alive states."
   ]
  },
  {
   "cell_type": "code",
   "execution_count": 7,
   "metadata": {},
   "outputs": [],
   "source": [
    "from lab_pytorch.ca_funcs import n_sum_ca\n",
    "\n",
    "day_and_night = [\n",
    "    (f'day_and_night_{i}', n_sum_ca(born, survives))\n",
    "    for i, (born, survives)\n",
    "    in enumerate([\n",
    "        ([3, 6, 7, 8], [3, 4, 6, 7, 8]),\n",
    "        ([3, 4, 6, 7, 8], [3, 4, 6, 7, 8]),\n",
    "        ([3, 6, 7, 8], [3, 6, 7, 8]),\n",
    "        ([3, 4, 6, 7, 8], [3, 6, 7, 8])\n",
    "    ])\n",
    "]\n",
    "\n",
    "def run(i, **kwargs):\n",
    "    name, ca = day_and_night[i]\n",
    "    run_ca(ca, **kwargs)\n",
    "    print(name, kwargs)"
   ]
  },
  {
   "cell_type": "code",
   "execution_count": 8,
   "metadata": {},
   "outputs": [
    {
     "data": {
      "image/png": "[encoded data removed]",
      "text/plain": [
       "<Figure size 504x504 with 1 Axes>"
      ]
     },
     "metadata": {
      "needs_background": "light"
     },
     "output_type": "display_data"
    },
    {
     "name": "stdout",
     "output_type": "stream",
     "text": [
      "day_and_night_0 {'iters': 100, 'p_alive': 0.5}\n"
     ]
    }
   ],
   "source": [
    "run(0, iters=100, p_alive=0.5)"
   ]
  },
  {
   "cell_type": "code",
   "execution_count": 9,
   "metadata": {},
   "outputs": [
    {
     "data": {
      "image/png": "[encoded data removed]",
      "text/plain": [
       "<Figure size 504x504 with 1 Axes>"
      ]
     },
     "metadata": {
      "needs_background": "light"
     },
     "output_type": "display_data"
    },
    {
     "name": "stdout",
     "output_type": "stream",
     "text": [
      "day_and_night_1 {'iters': 100, 'p_alive': 0.125}\n"
     ]
    }
   ],
   "source": [
    "run(1, iters=100, p_alive=0.125)"
   ]
  },
  {
   "cell_type": "code",
   "execution_count": 10,
   "metadata": {},
   "outputs": [
    {
     "data": {
      "image/png": "[encoded data removed]",
      "text/plain": [
       "<Figure size 504x504 with 1 Axes>"
      ]
     },
     "metadata": {
      "needs_background": "light"
     },
     "output_type": "display_data"
    },
    {
     "name": "stdout",
     "output_type": "stream",
     "text": [
      "day_and_night_2 {'iters': 100, 'p_alive': 0.875}\n"
     ]
    }
   ],
   "source": [
    "run(2, iters=100, p_alive=0.875)"
   ]
  },
  {
   "cell_type": "code",
   "execution_count": 11,
   "metadata": {},
   "outputs": [
    {
     "data": {
      "image/png": "[encoded data removed]",
      "text/plain": [
       "<Figure size 504x504 with 1 Axes>"
      ]
     },
     "metadata": {
      "needs_background": "light"
     },
     "output_type": "display_data"
    },
    {
     "name": "stdout",
     "output_type": "stream",
     "text": [
      "day_and_night_3 {'iters': 30, 'p_alive': 0.5}\n"
     ]
    }
   ],
   "source": [
    "run(3, iters=30, p_alive=0.5)"
   ]
  },
  {
   "cell_type": "code",
   "execution_count": 12,
   "metadata": {},
   "outputs": [
    {
     "data": {
      "image/png": "[encoded data removed]",
      "text/plain": [
       "<Figure size 504x504 with 1 Axes>"
      ]
     },
     "metadata": {
      "needs_background": "light"
     },
     "output_type": "display_data"
    },
    {
     "name": "stdout",
     "output_type": "stream",
     "text": [
      "day_and_night_3 {'iters': 100, 'p_alive': 0.78}\n"
     ]
    }
   ],
   "source": [
    "run(3, iters=100, p_alive=0.78)"
   ]
  },
  {
   "cell_type": "code",
   "execution_count": 13,
   "metadata": {},
   "outputs": [
    {
     "data": {
      "image/png": "[encoded data removed]",
      "text/plain": [
       "<Figure size 504x504 with 1 Axes>"
      ]
     },
     "metadata": {
      "needs_background": "light"
     },
     "output_type": "display_data"
    },
    {
     "name": "stdout",
     "output_type": "stream",
     "text": [
      "day_and_night_3 {'iters': 100, 'p_alive': 0.22}\n"
     ]
    }
   ],
   "source": [
    "run(3, iters=100, p_alive=0.22)"
   ]
  },
  {
   "cell_type": "markdown",
   "metadata": {},
   "source": [
    "As we can see, modifying the rules slightly can change the automaton behaviour a lot. In case of our automata, we could probably start building intuition about the outcomes, but the symmetry we encountered is just the matter of this specific \"day and night\" automaton. To make matters worse, the last example shows that the behaviour can vary based on the input distribution... and we're only looking at totalistic automata. Things get even more unpredictable for rule-based CAs.\n",
    "\n",
    "How to quantify this? How to quantify the complexity?"
   ]
  },
  {
   "cell_type": "markdown",
   "metadata": {},
   "source": [
    "## Wolfram classification & entropy\n",
    "Approaching the problem differently, we could try to describe automatons qualitatively, by pointing out the kinds of outcomes they produce. The most prominent classification was proposed by Wolfram:\n",
    "\n",
    "### Wolfram classification\n",
    "* Class 1: Nearly all initial patterns evolve quickly into a stable, homogeneous state. Any randomness in the initial pattern disappears.\n",
    "* Class 2: Nearly all initial patterns evolve quickly into stable or oscillating structures. Some of the randomness in the initial pattern may filter out, but some remains. Local changes to the initial pattern tend to remain local.\n",
    "* Class 3: Nearly all initial patterns evolve in a pseudo-random or chaotic manner. Any stable structures that appear are quickly destroyed by the surrounding noise. Local changes to the initial pattern tend to spread indefinitely.\n",
    "* Class 4: Nearly all initial patterns evolve into structures that interact in complex and interesting ways, with the formation of local structures that are able to survive for long periods of time.\n",
    "\n",
    "The descriptions are from: https://en.wikipedia.org/wiki/Cellular_automaton#Classification"
   ]
  },
  {
   "cell_type": "markdown",
   "metadata": {},
   "source": [
    "### Entropy\n",
    "To quantify the automaton complexity, we can look at all possible automaton input neighbourhoods, apply the CA transformation to each one of them, each time producing as output a new state for a single cell. $\\lambda$ is defined as the ratio of such output cells that are alive. $\\lambda = 0$ when all outputs are dead, $\\lambda = 1$ when all are alive, and $\\lambda = 0.5$ when the two outcomes are balanced. A rule of thumb is that the closer $\\lambda$ is to 0.5, the greater the automaton complexity and the higher Wolfram's class.\n",
    "\n",
    "We won't use $\\lambda$ directly, however we'll use a metric that's correlated with it: the automaton entropy. Let's assume we apply a CA transition once to an input that has a uniform distribution of all possible neighbourhoods. After the one CA transition, for each possible neighbourhood $\\sigma$ we calculate its probability of appearing in the output $p_\\sigma$ and calculate the entropy of their distribution. The number we get is called automaton entropy:\n",
    "\n",
    "$$H_{ca} = -\\sum_{\\sigma} p_\\sigma \\log_2{p_\\sigma}$$\n",
    "\n",
    "For binary automata (2 states) with Moore neighborhood (9 cells), the entropy ranges from 0 (all inputs map to the same output neighbourhood) to 9 (uniform neighbourhood distribution in output). Let's find the value of entropy for the automata we already know. Since synthesising an image with a uniform input distribution is complicated, we'll approximate it by applying the CA to all possible input neighbourhoods wrapped around one by one and then adding up the counts of output neighbourhoods."
   ]
  },
  {
   "cell_type": "markdown",
   "metadata": {},
   "source": [
    "### Task 5: Calculating automaton entropy"
   ]
  },
  {
   "cell_type": "code",
   "execution_count": 14,
   "metadata": {},
   "outputs": [],
   "source": [
    "from itertools import product\n",
    "from scipy.stats import entropy\n",
    "from collections import Counter\n",
    "\n",
    "def all_combinations(m, shape):\n",
    "    '''\n",
    "    Make an array of all `shape` dimensional inputs\n",
    "    consisting of m possible values\n",
    "    '''    \n",
    "    indices = np.tile(np.array([np.arange(m)]).T, np.product(shape))\n",
    "    all_combos = list(product(*list(indices.T)))\n",
    "    return np.reshape(np.array(all_combos), (-1, *shape))\n",
    "\n",
    "def simple_ca_entropy(ca):\n",
    "    # TODO: Provide the right parameters for the functions.\n",
    "    outputs = Counter(k(ca(c)) for c in all_combinations(2, (3, 3)))\n",
    "    return entropy(list(outputs.values()), base=2)"
   ]
  },
  {
   "cell_type": "code",
   "execution_count": 15,
   "metadata": {},
   "outputs": [
    {
     "name": "stdout",
     "output_type": "stream",
     "text": [
      "triangles 0.18333879165589823\n",
      "conway 4.7002734075283605\n",
      "day_and_night_0 7.11670447115759\n",
      "day_and_night_1 6.008981664477767\n",
      "day_and_night_2 6.008981664477767\n",
      "day_and_night_3 7.093422461021005\n"
     ]
    }
   ],
   "source": [
    "print('triangles', simple_ca_entropy(triangles))\n",
    "print('conway', simple_ca_entropy(conway))\n",
    "for name, ca in day_and_night:\n",
    "    print(name, simple_ca_entropy(ca))"
   ]
  },
  {
   "cell_type": "markdown",
   "metadata": {},
   "source": [
    "## CNN as CA\n",
    "\n",
    "Convolutional Neural Networks demonstrated great success in the modelling of complex systems, like speech patterns\n",
    "and physics simulations. We can try to use them in the prediction of the output of a CA after one step.\n",
    "\n",
    "### Network model\n",
    "\n",
    "We will use one of the network architectures proposed by the authors of the paper:\n",
    "![CNN architecture](https://journals.aps.org/pre/article/10.1103/PhysRevE.100.032402/figures/2/medium \"CNN architecture\")\n",
    "\n",
    "We will use PyTorch in these examples as it allows us to trace operations on the lower level."
   ]
  },
  {
   "cell_type": "code",
   "execution_count": 16,
   "metadata": {
    "collapsed": false,
    "jupyter": {
     "outputs_hidden": false
    },
    "pycharm": {
     "name": "#%%\n"
    }
   },
   "outputs": [
    {
     "name": "stdout",
     "output_type": "stream",
     "text": [
      "seed = 0\n"
     ]
    },
    {
     "data": {
      "text/plain": [
       "<torch._C.Generator at 0x7f5265894bb0>"
      ]
     },
     "execution_count": 16,
     "metadata": {},
     "output_type": "execute_result"
    }
   ],
   "source": [
    "import torch\n",
    "\n",
    "from tqdm import tqdm\n",
    "from lab_pytorch.train_ca import initialize_model\n",
    "from lab_pytorch.ca_funcs import make_table_walk, make_ca\n",
    "\n",
    "seed = 0\n",
    "print('seed =', seed)\n",
    "\n",
    "np.random.seed(seed)\n",
    "torch.random.manual_seed(seed)"
   ]
  },
  {
   "cell_type": "markdown",
   "metadata": {},
   "source": [
    "First, we define various hyper-parameters of the network:"
   ]
  },
  {
   "cell_type": "code",
   "execution_count": 17,
   "metadata": {
    "collapsed": false,
    "jupyter": {
     "outputs_hidden": false
    },
    "pycharm": {
     "name": "#%%\n"
    }
   },
   "outputs": [],
   "source": [
    "samples = 500\n",
    "input_dims = [10, 10]\n",
    "layer_dims = [100] + [100] * 11\n",
    "batch_size = 10\n",
    "num_batches = samples // batch_size\n",
    "learning_rate = 1e-4\n",
    "training_epochs = 100\n",
    "loss = torch.nn.MSELoss()"
   ]
  },
  {
   "cell_type": "markdown",
   "metadata": {},
   "source": [
    "Then, we can build the model:"
   ]
  },
  {
   "cell_type": "code",
   "execution_count": 18,
   "metadata": {
    "collapsed": false,
    "jupyter": {
     "outputs_hidden": false
    },
    "pycharm": {
     "name": "#%%\n"
    }
   },
   "outputs": [
    {
     "name": "stdout",
     "output_type": "stream",
     "text": [
      "Sequential(\n",
      "  (Wraparound2D): Wraparound2D()\n",
      "  (Conv2d_0): Conv2d(1, 100, kernel_size=(3, 3), stride=(1, 1))\n",
      "  (ReLU_0): ReLU()\n",
      "  (Conv2d_1): Conv2d(100, 100, kernel_size=(1, 1), stride=(1, 1))\n",
      "  (ReLU_1): ReLU()\n",
      "  (Conv2d_2): Conv2d(100, 100, kernel_size=(1, 1), stride=(1, 1))\n",
      "  (ReLU_2): ReLU()\n",
      "  (Conv2d_3): Conv2d(100, 100, kernel_size=(1, 1), stride=(1, 1))\n",
      "  (ReLU_3): ReLU()\n",
      "  (Conv2d_4): Conv2d(100, 100, kernel_size=(1, 1), stride=(1, 1))\n",
      "  (ReLU_4): ReLU()\n",
      "  (Conv2d_5): Conv2d(100, 100, kernel_size=(1, 1), stride=(1, 1))\n",
      "  (ReLU_5): ReLU()\n",
      "  (Conv2d_6): Conv2d(100, 100, kernel_size=(1, 1), stride=(1, 1))\n",
      "  (ReLU_6): ReLU()\n",
      "  (Conv2d_7): Conv2d(100, 100, kernel_size=(1, 1), stride=(1, 1))\n",
      "  (ReLU_7): ReLU()\n",
      "  (Conv2d_8): Conv2d(100, 100, kernel_size=(1, 1), stride=(1, 1))\n",
      "  (ReLU_8): ReLU()\n",
      "  (Conv2d_9): Conv2d(100, 100, kernel_size=(1, 1), stride=(1, 1))\n",
      "  (ReLU_9): ReLU()\n",
      "  (Conv2d_10): Conv2d(100, 100, kernel_size=(1, 1), stride=(1, 1))\n",
      "  (ReLU_10): ReLU()\n",
      "  (Conv2d_11): Conv2d(100, 100, kernel_size=(1, 1), stride=(1, 1))\n",
      "  (ReLU_11): ReLU()\n",
      "  (Conv2d_12): Conv2d(100, 1, kernel_size=(1, 1), stride=(1, 1), bias=False)\n",
      "  (Lambda_0): Lambda()\n",
      ")\n"
     ]
    }
   ],
   "source": [
    "model = initialize_model(input_dims, layer_dims)\n",
    "if torch.cuda.is_available():\n",
    "    model.cuda()\n",
    "print(model)"
   ]
  },
  {
   "cell_type": "markdown",
   "metadata": {
    "pycharm": {
     "name": "#%% md\n"
    }
   },
   "source": [
    "### Basic training\n",
    "\n",
    "We start by defining utility methods for data generation."
   ]
  },
  {
   "cell_type": "code",
   "execution_count": 19,
   "metadata": {
    "collapsed": false,
    "jupyter": {
     "outputs_hidden": false
    },
    "pycharm": {
     "name": "#%%\n"
    }
   },
   "outputs": [],
   "source": [
    "def generate_CA_train_data(ca, height=10, width=10, n_samples=500):\n",
    "    X_train = torch.from_numpy(np.random.choice([0, 1], (n_samples, height, width), p=[.5, .5])).float()\n",
    "    Y_train = ca(X_train)\n",
    "    if not isinstance(Y_train, torch.Tensor):\n",
    "        Y_train = torch.from_numpy(Y_train)\n",
    "    Y_train = Y_train.float()\n",
    "    return X_train, Y_train"
   ]
  },
  {
   "cell_type": "markdown",
   "metadata": {},
   "source": [
    "Then, we can define the training loop:"
   ]
  },
  {
   "cell_type": "code",
   "execution_count": 20,
   "metadata": {
    "collapsed": false,
    "jupyter": {
     "outputs_hidden": false
    },
    "pycharm": {
     "name": "#%%\n"
    }
   },
   "outputs": [],
   "source": [
    "optimizer = torch.optim.Adam(model.parameters(), lr=learning_rate)\n",
    "\n",
    "def learn_CA(ca, model, optimizer, training_epochs):\n",
    "    losses = []\n",
    "    X_train, Y_train = generate_CA_train_data(ca, *input_dims, n_samples=samples)\n",
    "    if torch.cuda.is_available():\n",
    "        X_train = X_train.cuda()\n",
    "        Y_train = Y_train.cuda()\n",
    "\n",
    "    for _ in tqdm(range(training_epochs)):\n",
    "        batch_losses = []\n",
    "        for i in range(num_batches):\n",
    "            X_batch = X_train[i * batch_size : (i + 1) * batch_size]\n",
    "            Y_batch = Y_train[i * batch_size : (i + 1) * batch_size]\n",
    "\n",
    "            optimizer.zero_grad()\n",
    "            Y_pred = model(X_batch)\n",
    "            l = loss(Y_batch, Y_pred)\n",
    "            l.backward()\n",
    "            optimizer.step()\n",
    "            batch_losses.append(l.item())\n",
    "        losses.append(np.mean(batch_losses))\n",
    "    return losses"
   ]
  },
  {
   "cell_type": "markdown",
   "metadata": {},
   "source": [
    "## Experiments\n",
    "\n",
    "We can train the network and plot the loss function values. We will be training on a randomly created CA with a high entropy."
   ]
  },
  {
   "cell_type": "code",
   "execution_count": 21,
   "metadata": {
    "collapsed": false,
    "jupyter": {
     "outputs_hidden": false
    },
    "pycharm": {
     "name": "#%%\n"
    }
   },
   "outputs": [
    {
     "name": "stderr",
     "output_type": "stream",
     "text": [
      "100%|██████████| 100/100 [02:11<00:00,  1.31s/it]\n"
     ]
    },
    {
     "data": {
      "text/plain": [
       "[]"
      ]
     },
     "execution_count": 21,
     "metadata": {},
     "output_type": "execute_result"
    },
    {
     "data": {
      "image/png": "[encoded data removed]",
      "text/plain": [
       "<Figure size 720x360 with 1 Axes>"
      ]
     },
     "metadata": {
      "needs_background": "light"
     },
     "output_type": "display_data"
    }
   ],
   "source": [
    "ca = day_and_night[0][1]\n",
    "losses = learn_CA(ca, model, optimizer, training_epochs)\n",
    "\n",
    "plt.figure(figsize=(10, 5))\n",
    "plt.plot(losses)\n",
    "plt.loglog()"
   ]
  },
  {
   "cell_type": "markdown",
   "metadata": {
    "pycharm": {
     "name": "#%% md\n"
    }
   },
   "source": [
    "Then we can check the output of the model:"
   ]
  },
  {
   "cell_type": "code",
   "execution_count": 22,
   "metadata": {
    "collapsed": false,
    "jupyter": {
     "outputs_hidden": false
    },
    "pycharm": {
     "name": "#%%\n"
    }
   },
   "outputs": [
    {
     "name": "stdout",
     "output_type": "stream",
     "text": [
      "max loss: 2.7853275e-12\n"
     ]
    },
    {
     "data": {
      "image/png": "[encoded data removed]",
      "text/plain": [
       "<Figure size 864x288 with 4 Axes>"
      ]
     },
     "metadata": {
      "needs_background": "light"
     },
     "output_type": "display_data"
    }
   ],
   "source": [
    "from lab_pytorch.ca_funcs import make_glider\n",
    "\n",
    "def display_sample_output(ca, model, use_glider=True):\n",
    "    if use_glider:\n",
    "        x = make_glider(10)\n",
    "        X_test = torch.from_numpy(x.reshape(1, 10, 10)).float()\n",
    "        Y_test = ca(X_test)\n",
    "    else:\n",
    "        X_test, Y_test = generate_CA_train_data(ca, *input_dims, n_samples=1)\n",
    "\n",
    "    if not isinstance(Y_test, torch.Tensor):\n",
    "        Y_test = torch.from_numpy(Y_test)\n",
    "    Y_test = Y_test.float()\n",
    "\n",
    "    if torch.cuda.is_available():\n",
    "        X_test = X_test.cuda()\n",
    "    Y_pred = model(X_test)\n",
    "\n",
    "    if torch.cuda.is_available():\n",
    "        X_test = X_test.cpu()\n",
    "        Y_pred = Y_pred.cpu()\n",
    "\n",
    "    X_test = X_test.detach().numpy()\n",
    "    Y_test = Y_test.detach().numpy()\n",
    "    Y_pred = Y_pred.detach().numpy()\n",
    "\n",
    "    plt.figure(figsize=(12, 4))\n",
    "\n",
    "    plt.subplot(141)\n",
    "    plt.imshow(X_test[0], vmin=0, vmax=1)\n",
    "    plt.axis('off')\n",
    "    plt.title(\"Input\")\n",
    "\n",
    "    plt.subplot(142)\n",
    "    plt.imshow(Y_test[0], vmin=0, vmax=1)\n",
    "    plt.axis('off')\n",
    "    plt.title(\"Expected Output\")\n",
    "\n",
    "    plt.subplot(143)\n",
    "    plt.imshow(Y_pred[0], vmin=0, vmax=1)\n",
    "    plt.axis('off')\n",
    "    plt.title(\"Observed Output\")\n",
    "\n",
    "    plt.subplot(144)\n",
    "    plt.imshow((Y_pred[0] - Y_test[0]) ** 2)\n",
    "    plt.axis('off')\n",
    "    plt.title(\"Normalised Loss\")\n",
    "    \n",
    "    print('max loss:', ((Y_pred[0] - Y_test[0]) ** 2).max())\n",
    "\n",
    "display_sample_output(ca, model)"
   ]
  },
  {
   "cell_type": "markdown",
   "metadata": {},
   "source": [
    "### Task 6: Calculating entropy"
   ]
  },
  {
   "cell_type": "markdown",
   "metadata": {
    "pycharm": {
     "name": "#%% md\n"
    }
   },
   "source": [
    "Finally, we can calculate the network entropies and compare them with the automaton"
   ]
  },
  {
   "cell_type": "code",
   "execution_count": 23,
   "metadata": {
    "collapsed": false,
    "jupyter": {
     "outputs_hidden": false
    },
    "pycharm": {
     "name": "#%%\n"
    }
   },
   "outputs": [
    {
     "data": {
      "text/plain": [
       "(8.79856952502345,\n",
       " [8.79856952502345,\n",
       "  8.79856952502345,\n",
       "  8.79856952502345,\n",
       "  8.79856952502345,\n",
       "  8.79856952502345,\n",
       "  8.785673573976116,\n",
       "  8.79856952502345,\n",
       "  8.79856952502345,\n",
       "  8.79606952502345,\n",
       "  8.773238696890337,\n",
       "  8.779972224325226,\n",
       "  8.78026946008021],\n",
       " [array([0.63729158, 0.96064753, 0.8812909 , 0.90707942, 0.96717696,\n",
       "         0.94873317, 0.97747454, 0.61295961, 0.8441423 , 0.83049552,\n",
       "         0.51297285, 0.83876124, 0.68280396, 0.37518466, 0.99740159,\n",
       "         1.        , 0.69753259, 0.956707  , 0.57930721, 0.72566228,\n",
       "         0.97874073, 0.34698129, 0.67733486, 0.99983769, 0.48271255,\n",
       "         0.52394711, 0.84502915, 0.99967424, 0.91746025, 0.31743986,\n",
       "         0.48464774, 0.99508474, 0.94922153, 0.934625  , 0.73303643,\n",
       "         0.72936499, 0.12716372, 0.93350864, 0.25644116, 0.78556029,\n",
       "         0.29430905, 0.18489986, 0.25922919, 0.22482611, 0.99398529,\n",
       "         0.97095059, 0.62980503, 0.87033048, 0.79711281, 0.44886449,\n",
       "         0.91933398, 0.52394711, 0.26476503, 0.8332768 , 0.67180434,\n",
       "         0.17195284, 0.78556029, 0.93124616, 0.85115776, 0.98800928,\n",
       "         0.61451267, 0.75902463, 0.22186012, 0.85029072, 0.36358693,\n",
       "         0.89026653, 0.33729007, 0.79607809, 0.42806963, 0.56255805,\n",
       "         0.85115776, 0.84679433, 0.91933398, 0.94371589, 0.94774916,\n",
       "         0.96398814, 0.93406806, 0.81716781, 0.76244341, 0.86134378,\n",
       "         0.98800928, 0.09694461, 0.97905146, 0.75787846, 0.56594664,\n",
       "         0.98631872, 0.8887972 , 0.99837185, 0.15184252, 0.48271255,\n",
       "         0.48077133, 0.52575707, 0.77362772, 0.39997313, 0.89172527,\n",
       "         0.99781682, 0.73788343, 0.57266539, 0.48657693, 0.99971144]),\n",
       "  array([0.90095071, 0.65195376, 0.98343455, 0.        , 0.99398529,\n",
       "         0.18808391, 0.9037005 , 0.91808736, 0.98847166, 0.21587865,\n",
       "         0.97345235, 0.62221264, 0.24229219, 0.83142552, 0.81716781,\n",
       "         0.06372124, 0.92836207, 0.93294674, 0.91492637, 0.99935069,\n",
       "         0.99607298, 0.9416407 , 0.2675132 , 0.9539722 , 0.24229219,\n",
       "         0.87743731, 0.30726836, 0.74148274, 0.75442015, 0.60354853,\n",
       "         0.54880515, 0.65770478, 0.73667683, 0.46502062, 0.83966524,\n",
       "         0.02521187, 0.70147146, 0.32992096, 0.85714844, 0.24799433,\n",
       "         0.78234397, 0.99508474, 0.49232884, 0.98451557, 0.836032  ,\n",
       "         0.93350864, 0.4447599 , 0.77472841, 0.        , 0.8332768 ,\n",
       "         0.27837806, 0.1449355 , 0.88205355, 0.96191809, 0.54180727,\n",
       "         0.44886449, 0.99988729, 0.        , 0.9023308 , 0.79917303,\n",
       "         0.54004491, 0.44886449, 0.50741096, 0.39775935, 0.86952723,\n",
       "         0.9971804 , 0.50927053, 0.9828802 , 0.27568069, 0.93573145,\n",
       "         0.9301    , 0.07238758, 0.21587865, 0.95304136, 0.7758259 ,\n",
       "         0.89815926, 0.63729158, 0.21286259, 0.92240626, 0.88805855,\n",
       "         0.93517946, 0.27297086, 0.5365046 , 0.45090682, 0.02521187,\n",
       "         0.99658781, 0.08897041, 0.35652411, 0.04058266, 0.87351623,\n",
       "         0.51848467, 0.        , 0.74028638, 0.2675132 , 0.62980503,\n",
       "         0.91170166, 0.96357888, 0.52031093, 0.63729158, 0.99566306]),\n",
       "  array([0.98504226, 0.54004491, 0.47491118, 0.        , 0.79917303,\n",
       "         0.98343455, 0.93406806, 0.98203135, 0.        , 0.6548373 ,\n",
       "         0.96678664, 0.65770478, 0.98753774, 0.        , 0.47097367,\n",
       "         0.09694461, 0.33972708, 0.95257234, 0.66621171, 0.91871194,\n",
       "         0.87033048, 0.99683164, 0.99022959, 0.98705702, 0.63729158,\n",
       "         0.99801087, 0.75442015, 0.78018398, 0.24229219, 0.94216317,\n",
       "         0.90973612, 0.32992096, 0.4447599 , 0.82390377, 0.99620509,\n",
       "         0.78234397, 0.14840256, 0.61760568, 0.        , 0.99043904,\n",
       "         0.76583275, 0.93517946, 0.58259965, 0.94625495, 0.91492637,\n",
       "         0.99954911, 0.97747454, 0.85714844, 0.99977908, 0.99330704,\n",
       "         0.06372124, 0.98777466, 0.        , 0.8995602 , 0.10473589,\n",
       "         0.92894388, 0.69089387, 0.43855255, 0.8812909 , 0.        ,\n",
       "         0.74386529, 0.22186012, 0.13791682, 0.66055628, 0.62980503,\n",
       "         0.98057036, 0.92600985, 0.99552188, 0.40217919, 0.52213174,\n",
       "         0.01385706, 0.99791498, 0.        , 0.83785438, 0.        ,\n",
       "         0.65913252, 0.56763361, 0.49423436, 0.99954911, 0.50367486,\n",
       "         0.99607298, 0.85029072, 0.93791473, 0.84056637, 0.17195284,\n",
       "         0.58095579, 0.36358693, 0.48850016, 0.90025676, 0.33484344,\n",
       "         0.96678664, 0.76807604, 0.39997313, 0.04541469, 0.98892487,\n",
       "         0.72813424, 0.48850016, 0.99917818, 0.26476503, 0.93124616]),\n",
       "  array([0.99330704, 0.        , 0.02521187, 0.53115474, 0.        ,\n",
       "         0.77472841, 0.51112449, 0.94873317, 0.956707  , 0.22777597,\n",
       "         0.28639696, 0.83049552, 0.96717696, 0.99537844, 0.98800928,\n",
       "         0.97203684, 0.        , 0.8092909 , 0.35652411, 0.91808736,\n",
       "         0.24515049, 0.99761373, 0.99917818, 0.42169553, 0.45497173,\n",
       "         0.90640881, 0.98729852, 0.90774746, 0.        , 0.02521187,\n",
       "         0.9999087 , 0.78768879, 0.10473589, 0.83049552, 0.98892487,\n",
       "         0.82390377, 0.2675132 , 0.86628685, 0.22482611, 0.44886449,\n",
       "         0.8341981 , 0.97935988, 0.35177092, 0.63877634, 0.3493807 ,\n",
       "         0.89532598, 0.42169553, 0.71942104, 0.32992096, 0.19124776,\n",
       "         0.302118  , 0.        , 0.92952319, 0.89674786, 0.77909923,\n",
       "         0.32246277, 0.        , 0.0356208 , 0.83694463, 0.16866093,\n",
       "         0.71436439, 0.63430955, 0.57930721, 0.62678087, 0.99145204,\n",
       "         0.98936893, 0.24515049, 0.14840256, 0.3493807 , 0.06372124,\n",
       "         0.44062845, 0.99898537, 0.05475066, 0.82295036, 0.97966598,\n",
       "         0.19439186, 0.99877223, 0.31237534, 0.20062232, 0.94970747,\n",
       "         0.98203135, 0.55914976, 0.        , 0.51481565, 0.73303643,\n",
       "         0.91039387, 0.05475066, 0.38204217, 0.86217453, 0.        ,\n",
       "         0.98681321, 0.99911617, 0.98530216, 0.97274928, 0.45294255,\n",
       "         0.97617112, 0.63729158, 0.53115474, 0.98729852, 0.26200376]),\n",
       "  array([0.        , 0.62373967, 0.        , 0.        , 0.56594664,\n",
       "         0.        , 0.81813898, 0.        , 0.99945441, 0.92541553,\n",
       "         0.93737261, 0.79190829, 0.9521009 , 0.        , 0.97380037,\n",
       "         0.23070996, 0.91428654, 0.        , 0.97131502, 0.        ,\n",
       "         0.94970747, 0.68551568, 0.11983279, 0.11236071, 0.11983279,\n",
       "         0.        , 0.        , 0.49613403, 0.49041745, 0.        ,\n",
       "         0.99935069, 0.08897041, 0.02521187, 0.73181608, 0.42806963,\n",
       "         0.78556029, 0.19439186, 0.83142552, 0.41092741, 0.40217919,\n",
       "         0.        , 0.11611508, 0.62068131, 0.96871467, 0.07238758,\n",
       "         0.48271255, 0.08897041, 0.9571544 , 0.9716771 , 0.51297285,\n",
       "         0.94625495, 0.97380037, 0.        , 0.99431078, 0.04541469,\n",
       "         0.302118  , 0.19124776, 0.99240802, 0.96107343, 0.41092741,\n",
       "         0.55227348, 0.        , 0.99761373, 0.01385706, 0.76130709,\n",
       "         0.7758259 , 0.60196442, 0.44681553, 0.04541469, 0.86382773,\n",
       "         0.77252382, 0.52031093, 0.65339755, 0.60670332, 0.29692332,\n",
       "         0.89886104, 0.79085809, 0.10086201, 0.99980951, 0.84236004,\n",
       "         0.21286259, 0.25082392, 0.02521187, 0.46102031, 0.07662072,\n",
       "         0.63877634, 0.99877223, 0.99259237, 0.        , 0.73908661,\n",
       "         0.        , 0.74976259, 0.3797646 , 0.94320076, 0.        ,\n",
       "         0.        , 0.84942086, 0.        , 0.47097367, 0.20677831]),\n",
       "  array([0.        , 0.96639395, 0.66901584, 0.        , 0.07238758,\n",
       "         0.55227348, 0.20982925, 0.23653134, 0.        , 0.83785438,\n",
       "         0.07238758, 0.97239423, 0.        , 0.02521187, 0.        ,\n",
       "         0.99898537, 0.        , 0.01385706, 0.        , 0.71181467,\n",
       "         0.13436344, 0.02521187, 0.        , 0.60512816, 0.43855255,\n",
       "         0.96795054, 0.        , 0.17195284, 0.59397609, 0.875877  ,\n",
       "         0.16200717, 0.23362833, 0.        , 0.        , 0.        ,\n",
       "         0.58912828, 0.3865728 , 0.06372124, 0.0356208 , 0.05475066,\n",
       "         0.50927053, 0.20982925, 0.80019854, 0.9916478 , 0.        ,\n",
       "         0.99891658, 0.5642548 , 0.20062232, 0.49613403, 0.99330704,\n",
       "         0.93791473, 0.04541469, 0.        , 0.17522218, 0.21587865,\n",
       "         0.57433301, 0.09694461, 0.15864413, 0.04541469, 0.97715217,\n",
       "         0.19751658, 0.74386529, 0.15864413, 0.68144241, 0.        ,\n",
       "         0.        , 0.        , 0.51297285, 0.        , 0.05475066,\n",
       "         0.33484344, 0.        , 0.08079314, 0.09694461, 0.57266539,\n",
       "         0.        , 0.44269755, 0.18808391, 0.08897041, 0.14840256,\n",
       "         0.99898537, 0.        , 0.        , 0.        , 0.72317634,\n",
       "         0.02521187, 0.        , 0.86791252, 0.05475066, 0.        ,\n",
       "         0.6098403 , 0.        , 0.53827737, 0.        , 0.76357645,\n",
       "         0.52936087, 0.65627304, 0.66480377, 0.        , 0.        ]),\n",
       "  array([0.69488824, 0.90640881, 0.58423881, 0.43228366, 0.55572163,\n",
       "         0.08897041, 0.        , 0.        , 0.        , 0.04541469,\n",
       "         0.22186012, 0.        , 0.        , 0.84502915, 0.99145204,\n",
       "         0.        , 0.        , 0.        , 0.32744492, 0.73788343,\n",
       "         0.        , 0.07238758, 0.98800928, 0.        , 0.70147146,\n",
       "         0.        , 0.14840256, 0.        , 0.21286259, 0.45294255,\n",
       "         0.19751658, 0.08897041, 0.        , 0.99064621, 0.        ,\n",
       "         0.9999087 , 0.        , 0.53294331, 0.16200717, 0.        ,\n",
       "         0.19124776, 0.44886449, 0.96560148, 0.75557623, 0.        ,\n",
       "         0.43228366, 0.        , 0.        , 0.92179686, 0.94005859,\n",
       "         0.        , 0.        , 0.25363946, 0.50367486, 0.37057119,\n",
       "         0.        , 0.99853878, 0.93845438, 0.39330844, 0.        ,\n",
       "         0.29692332, 0.02521187, 0.        , 0.31491285, 0.        ,\n",
       "         0.08079314, 0.27568069, 0.38882599, 0.0356208 , 0.8654699 ,\n",
       "         0.        , 0.17846946, 0.8995602 , 0.76244341, 0.94524664,\n",
       "         0.17846946, 0.49613403, 0.54004491, 0.34215456, 0.01385706,\n",
       "         0.32992096, 0.70407905, 0.        , 0.60512816, 0.9521009 ,\n",
       "         0.99671086, 0.60670332, 0.07238758, 0.27837806, 0.76583275,\n",
       "         0.        , 0.17195284, 0.        , 0.94216317, 0.08897041,\n",
       "         0.        , 0.55054184, 0.        , 0.96833378, 0.57099296]),\n",
       "  array([0.        , 0.        , 0.72813424, 0.49232884, 0.67733486,\n",
       "         0.        , 0.59718505, 0.        , 0.57266539, 0.        ,\n",
       "         0.95350798, 0.65339755, 0.83049552, 0.1653459 , 0.54880515,\n",
       "         0.        , 0.20677831, 0.50741096, 0.8332768 , 0.96678664,\n",
       "         0.40875166, 0.30982721, 0.65195376, 0.3797646 , 0.99240802,\n",
       "         0.25922919, 0.6935605 , 0.        , 0.9828802 , 0.50927053,\n",
       "         0.66480377, 0.41092741, 0.92719097, 0.93406806, 0.        ,\n",
       "         0.        , 0.        , 0.        , 0.94371589, 0.93238236,\n",
       "         0.73303643, 0.99729213, 0.        , 0.98869941, 0.        ,\n",
       "         0.46502062, 0.        , 0.        , 0.81521654, 0.        ,\n",
       "         0.28373605, 0.39107119, 0.62829507, 0.        , 0.        ,\n",
       "         0.07238758, 0.7758259 , 0.        , 0.52394711, 0.24515049,\n",
       "         0.        , 0.72813424, 0.        , 0.27568069, 0.46502062,\n",
       "         0.17846946, 0.        , 0.        , 0.96795054, 0.        ,\n",
       "         0.0356208 , 0.41309573, 0.37518466, 0.68416171, 0.        ,\n",
       "         0.96560148, 0.        , 0.71053443, 0.53472659, 0.302118  ,\n",
       "         0.        , 0.36358693, 0.57433301, 0.        , 0.01385706,\n",
       "         0.97682749, 0.10473589, 0.        , 0.83142552, 0.10473589,\n",
       "         0.07238758, 0.33972708, 0.68955495, 0.23362833, 0.05475066,\n",
       "         0.        , 0.29168332, 0.02521187, 0.        , 0.60670332]),\n",
       "  array([0.        , 0.        , 0.11611508, 0.75902463, 0.98397967,\n",
       "         0.        , 0.47687068, 0.4195565 , 0.        , 0.        ,\n",
       "         0.97021469, 0.        , 0.98027122, 0.98892487, 0.27297086,\n",
       "         0.13077942, 0.96717696, 0.88357082, 0.64025694, 0.        ,\n",
       "         0.66055628, 0.        , 0.66761573, 0.33972708, 0.98259956,\n",
       "         0.        , 0.29952627, 0.74976259, 0.        , 0.76357645,\n",
       "         0.        , 0.46302365, 0.99828499, 0.        , 0.        ,\n",
       "         0.9652017 , 0.        , 0.52394711, 0.        , 0.        ,\n",
       "         0.22777597, 0.84591316, 0.65913252, 0.23070996, 0.        ,\n",
       "         0.01385706, 0.        , 0.        , 0.01385706, 0.        ,\n",
       "         0.96357888, 0.        , 0.73303643, 0.        , 0.65770478,\n",
       "         0.39553781, 0.5365046 , 0.73908661, 0.        , 0.        ,\n",
       "         0.87821342, 0.88052556, 0.66480377, 0.97095059, 0.        ,\n",
       "         0.        , 0.        , 0.10856819, 0.55572163, 0.6475981 ,\n",
       "         0.        , 0.        , 0.        , 0.        , 0.99950289,\n",
       "         0.        , 0.        , 0.21286259, 0.        , 0.        ,\n",
       "         0.        , 0.64025694, 0.46899559, 0.        , 0.18808391,\n",
       "         0.        , 0.59878269, 0.36358693, 0.        , 0.9539722 ,\n",
       "         0.38882599, 0.        , 0.        , 0.57099296, 0.        ,\n",
       "         0.        , 0.12716372, 0.53115474, 0.01385706, 0.28106313]),\n",
       "  array([0.        , 0.07238758, 0.        , 0.55227348, 0.        ,\n",
       "         0.99983769, 0.09694461, 0.99478197, 0.02521187, 0.29430905,\n",
       "         0.83511649, 0.04541469, 0.        , 0.        , 0.99658781,\n",
       "         0.12716372, 0.63877634, 0.57599584, 0.39997313, 0.07238758,\n",
       "         0.        , 0.        , 0.48271255, 0.65339755, 0.        ,\n",
       "         0.35177092, 0.        , 0.74028638, 0.89674786, 0.        ,\n",
       "         0.        , 0.35177092, 0.4065684 , 0.01385706, 0.        ,\n",
       "         0.        , 0.01385706, 0.22482611, 0.05475066, 0.        ,\n",
       "         0.38431154, 0.49423436, 0.        , 0.01385706, 0.        ,\n",
       "         0.        , 0.        , 0.67457732, 0.        , 0.35652411,\n",
       "         0.        , 0.19439186, 0.06372124, 0.        , 0.        ,\n",
       "         0.        , 0.        , 0.01385706, 0.41525664, 0.        ,\n",
       "         0.        , 0.60037581, 0.05475066, 0.76695602, 0.10473589,\n",
       "         0.97095059, 0.8332768 , 0.        , 0.49423436, 0.        ,\n",
       "         0.        , 0.99203247, 0.18489986, 0.69753259, 0.9814539 ,\n",
       "         0.04541469, 0.        , 0.07238758, 0.3445726 , 0.87509279,\n",
       "         0.01385706, 0.        , 0.        , 0.04541469, 0.44681553,\n",
       "         0.98656712, 0.        , 0.        , 0.        , 0.36825171,\n",
       "         0.        , 0.53472659, 0.22186012, 0.        , 0.84942086,\n",
       "         0.58259965, 0.11611508, 0.9999087 , 0.98892487, 0.        ]),\n",
       "  array([0.59878269, 0.96795054, 0.97996976, 0.9652017 , 0.6935605 ,\n",
       "         0.32495889, 0.        , 0.        , 0.38204217, 0.        ,\n",
       "         0.04541469, 0.70537738, 0.93406806, 0.        , 0.98027122,\n",
       "         0.        , 0.79399938, 0.31491285, 0.02521187, 0.        ,\n",
       "         0.98729852, 0.96639395, 0.1816952 , 0.        , 0.8032567 ,\n",
       "         0.76357645, 0.13436344, 0.20062232, 0.97650047, 0.35177092,\n",
       "         0.        , 0.        , 0.        , 0.        , 0.        ,\n",
       "         0.        , 0.99523273, 0.38882599, 0.04541469, 0.44886449,\n",
       "         0.68007705, 0.        , 0.9539722 , 0.        , 0.        ,\n",
       "         0.08897041, 0.        , 0.        , 0.95759941, 0.93899158,\n",
       "         0.        , 0.19439186, 0.24515049, 0.26476503, 0.        ,\n",
       "         0.02521187, 0.        , 0.8812909 , 0.99566306, 0.        ,\n",
       "         0.81325332, 0.05475066, 0.        , 0.11983279, 0.33972708,\n",
       "         0.97550543, 0.71181467, 0.09694461, 0.        , 0.        ,\n",
       "         0.        , 0.51848467, 0.46502062, 0.59074883, 0.        ,\n",
       "         0.        , 0.        , 0.        , 0.46701125, 0.98027122,\n",
       "         0.01385706, 0.        , 0.        , 0.96560148, 0.44062845,\n",
       "         0.        , 0.46502062, 0.12351525, 0.87821342, 0.        ,\n",
       "         0.        , 0.        , 0.        , 0.67870787, 0.61140216,\n",
       "         0.        , 0.10856819, 0.46102031, 0.        , 0.50741096]),\n",
       "  array([0.11983279, 0.9023308 , 0.19439186, 0.65770478, 0.        ,\n",
       "         0.        , 0.58259965, 0.09694461, 0.01385706, 0.09298153,\n",
       "         0.        , 0.        , 0.70016218, 0.91995349, 0.4043776 ,\n",
       "         0.        , 0.302118  , 0.02521187, 0.10086201, 0.        ,\n",
       "         0.49802789, 0.        , 0.        , 0.12716372, 0.        ,\n",
       "         0.77252382, 0.        , 0.98681321, 0.        , 0.0356208 ,\n",
       "         0.        , 0.        , 0.3797646 , 0.0356208 , 0.7269    ,\n",
       "         0.        , 0.93124616, 0.        , 0.73667683, 0.57266539,\n",
       "         0.17522218, 0.06372124, 0.        , 0.        , 0.        ,\n",
       "         0.21587865, 0.9811617 , 0.        , 0.82580177, 0.01385706,\n",
       "         0.01385706, 0.5776539 , 0.16200717, 0.78126556, 0.01385706,\n",
       "         0.7769202 , 0.18808391, 0.30726836, 0.        , 0.        ,\n",
       "         0.95759941, 0.        , 0.49232884, 0.        , 0.09298153,\n",
       "         0.78126556, 0.47294552, 0.82862679, 0.35415203, 0.79607809,\n",
       "         0.        , 0.90573561, 0.        , 0.79607809, 0.71563389,\n",
       "         0.31743986, 0.        , 0.        , 0.        , 0.8865733 ,\n",
       "         0.83694463, 0.        , 0.89745487, 0.        , 0.        ,\n",
       "         0.20677831, 0.7758259 , 0.53827737, 0.74505148, 0.54180727,\n",
       "         0.39997313, 0.        , 0.99259237, 0.91683059, 0.25082392,\n",
       "         0.        , 0.01385706, 0.89815926, 0.13791682, 0.        ])])"
      ]
     },
     "execution_count": 23,
     "metadata": {},
     "output_type": "execute_result"
    }
   ],
   "source": [
    "from lab_pytorch.ca_funcs import get_network_entropies\n",
    "\n",
    "def calculate_entropies(model):\n",
    "    def get_activations(x_input):\n",
    "        activations = []\n",
    "        for m in model.children():\n",
    "            x_input = m(x_input)\n",
    "            activations.append(x_input)\n",
    "        return activations[1:-3:2]\n",
    "\n",
    "    X_test = np.pad(all_combinations(2, (3, 3)), [(0, 0), (3, 4), (3, 4)], 'wrap')\n",
    "    X_test = torch.from_numpy(X_test).float()\n",
    "    if torch.cuda.is_available():\n",
    "        X_test = X_test.cuda()\n",
    "\n",
    "    res = [activation.cpu().detach().numpy() for activation in get_activations(X_test)]\n",
    "    layer_activations = np.array(res)\n",
    "    # TODO: Layer activations are floats, but to calculate entropy,\n",
    "    # we want to map activations to binary values,\n",
    "    # 1 if a given activation is >0, and 0 otherwise.\n",
    "    # Provide the correct parameters for np.digitize.\n",
    "    binary_activations = np.digitize(layer_activations, [0], right=True)\n",
    "    binary_activations = binary_activations.transpose(0, 1, -2, -1, 2) \\\n",
    "        .reshape(len(layer_dims), np.product(X_test.shape), layer_dims[0])\n",
    "    return get_network_entropies(binary_activations)\n",
    "\n",
    "calculate_entropies(model)"
   ]
  },
  {
   "cell_type": "code",
   "execution_count": 24,
   "metadata": {},
   "outputs": [
    {
     "data": {
      "text/plain": [
       "7.11670447115759"
      ]
     },
     "execution_count": 24,
     "metadata": {},
     "output_type": "execute_result"
    }
   ],
   "source": [
    "simple_ca_entropy(ca)"
   ]
  },
  {
   "cell_type": "markdown",
   "metadata": {},
   "source": [
    "### Task 7: Compression\n",
    "We can compare the results of training for high and low entropy CAs. The network used is very large, so it should be possible ot reduce its size after training. We will use network compression methods available in the nni library. Sparsity is a parameter that tells what percentage of neurons we aim to cut from the network. Find a high value that still preserves correctness. Are the sparsity values different for CAs with a high/low entropy?"
   ]
  },
  {
   "cell_type": "markdown",
   "metadata": {},
   "source": [
    "#### Utils"
   ]
  },
  {
   "cell_type": "code",
   "execution_count": 25,
   "metadata": {
    "collapsed": false,
    "jupyter": {
     "outputs_hidden": false
    },
    "pycharm": {
     "name": "#%%\n"
    }
   },
   "outputs": [],
   "source": [
    "import copy\n",
    "from nni.compression.torch import *\n",
    "\n",
    "def prune_model_and_test(model, Pruner, config):\n",
    "    model_copy = copy.deepcopy(model)\n",
    "    pruner = Pruner(model_copy, config, optimizer=optimizer)\n",
    "    pruner.compress()\n",
    "    return model_copy"
   ]
  },
  {
   "cell_type": "markdown",
   "metadata": {},
   "source": [
    "#### High entropy CA (day_and_night)"
   ]
  },
  {
   "cell_type": "code",
   "execution_count": 96,
   "metadata": {
    "collapsed": false,
    "jupyter": {
     "outputs_hidden": false
    },
    "pycharm": {
     "name": "#%%\n"
    }
   },
   "outputs": [
    {
     "name": "stdout",
     "output_type": "stream",
     "text": [
      "max loss: 0.03302992\n"
     ]
    },
    {
     "data": {
      "image/png": "[encoded data removed]",
      "text/plain": [
       "<Figure size 864x288 with 4 Axes>"
      ]
     },
     "metadata": {
      "needs_background": "light"
     },
     "output_type": "display_data"
    }
   ],
   "source": [
    "config_list = [{ 'sparsity': 0.1, 'op_types': ['default'] }]\n",
    "m = prune_model_and_test(model, LevelPruner, config_list)\n",
    "display_sample_output(ca, m)"
   ]
  },
  {
   "cell_type": "code",
   "execution_count": 87,
   "metadata": {},
   "outputs": [
    {
     "name": "stdout",
     "output_type": "stream",
     "text": [
      "max loss: 0.10838306\n"
     ]
    },
    {
     "data": {
      "image/png": "[encoded data removed]",
      "text/plain": [
       "<Figure size 864x288 with 4 Axes>"
      ]
     },
     "metadata": {
      "needs_background": "light"
     },
     "output_type": "display_data"
    }
   ],
   "source": [
    "display_sample_output(ca, m, use_glider=False)"
   ]
  },
  {
   "cell_type": "markdown",
   "metadata": {},
   "source": [
    "#### Low entropy CA (triangles)"
   ]
  },
  {
   "cell_type": "code",
   "execution_count": 27,
   "metadata": {
    "collapsed": false,
    "jupyter": {
     "outputs_hidden": false
    },
    "pycharm": {
     "name": "#%%\n"
    }
   },
   "outputs": [
    {
     "name": "stderr",
     "output_type": "stream",
     "text": [
      "100%|██████████| 100/100 [02:11<00:00,  1.32s/it]\n"
     ]
    },
    {
     "data": {
      "text/plain": [
       "[]"
      ]
     },
     "execution_count": 27,
     "metadata": {},
     "output_type": "execute_result"
    },
    {
     "data": {
      "image/png": "[encoded data removed]",
      "text/plain": [
       "<Figure size 720x360 with 1 Axes>"
      ]
     },
     "metadata": {
      "needs_background": "light"
     },
     "output_type": "display_data"
    }
   ],
   "source": [
    "model2 = initialize_model(input_dims, layer_dims)\n",
    "if torch.cuda.is_available():\n",
    "    model2.cuda()\n",
    "optimizer2 = torch.optim.Adam(model2.parameters(), lr=learning_rate)\n",
    "\n",
    "losses = learn_CA(triangles, model2, optimizer2, training_epochs)\n",
    "\n",
    "plt.figure(figsize=(10, 5))\n",
    "plt.plot(losses)\n",
    "plt.loglog()"
   ]
  },
  {
   "cell_type": "code",
   "execution_count": 28,
   "metadata": {
    "collapsed": false,
    "jupyter": {
     "outputs_hidden": false
    },
    "pycharm": {
     "name": "#%%\n"
    }
   },
   "outputs": [
    {
     "name": "stdout",
     "output_type": "stream",
     "text": [
      "max loss: 9.094947e-13\n"
     ]
    },
    {
     "data": {
      "image/png": "[encoded data removed]",
      "text/plain": [
       "<Figure size 864x288 with 4 Axes>"
      ]
     },
     "metadata": {
      "needs_background": "light"
     },
     "output_type": "display_data"
    }
   ],
   "source": [
    "display_sample_output(triangles, model2)"
   ]
  },
  {
   "cell_type": "code",
   "execution_count": 29,
   "metadata": {
    "collapsed": false,
    "jupyter": {
     "outputs_hidden": false
    },
    "pycharm": {
     "name": "#%%\n"
    }
   },
   "outputs": [
    {
     "name": "stdout",
     "output_type": "stream",
     "text": [
      "max loss: 1.2465218e-12\n"
     ]
    },
    {
     "data": {
      "image/png": "[encoded data removed]",
      "text/plain": [
       "<Figure size 864x288 with 4 Axes>"
      ]
     },
     "metadata": {
      "needs_background": "light"
     },
     "output_type": "display_data"
    }
   ],
   "source": [
    "display_sample_output(triangles, model2, use_glider=False)"
   ]
  },
  {
   "cell_type": "code",
   "execution_count": 30,
   "metadata": {
    "collapsed": false,
    "jupyter": {
     "outputs_hidden": false
    },
    "pycharm": {
     "name": "#%%\n"
    }
   },
   "outputs": [
    {
     "data": {
      "text/plain": [
       "(8.79856952502345,\n",
       " [8.79856952502345,\n",
       "  8.79856952502345,\n",
       "  8.79856952502345,\n",
       "  8.79856952502345,\n",
       "  8.79856952502345,\n",
       "  8.79856952502345,\n",
       "  8.79856952502345,\n",
       "  8.791770874674338,\n",
       "  8.795125915645746,\n",
       "  8.784182306268042,\n",
       "  8.790125915645746,\n",
       "  8.769270874674339],\n",
       " [array([0.3323871 , 0.95304136, 0.4447599 , 0.99945441, 0.82007241,\n",
       "         0.55400006, 0.36592365, 0.99935069, 0.91364415, 0.86791252,\n",
       "         0.97058382, 0.68955495, 0.67180434, 0.99999549, 0.81716781,\n",
       "         0.69222905, 0.27024841, 0.98451557, 0.99552188, 0.92894388,\n",
       "         0.78662611, 0.92361752, 0.61606136, 0.60354853, 0.39330844,\n",
       "         0.64320574, 0.96357888, 0.49613403, 0.32495889, 0.99671086,\n",
       "         0.8528834 , 0.87743731, 0.51848467, 0.73181608, 0.65339755,\n",
       "         0.92600985, 0.64173341, 0.9811617 , 0.7462343 , 0.44062845,\n",
       "         0.74267571, 0.39107119, 0.66480377, 0.96233685, 0.94922153,\n",
       "         0.88432545, 0.85202198, 0.47687068, 0.15525614, 0.99537844,\n",
       "         0.89745487, 0.98057036, 0.89317346, 0.77141671, 0.75557623,\n",
       "         0.99983769, 0.25363946, 0.96639395, 0.96275324, 0.75787846,\n",
       "         0.35888724, 0.77030638, 0.41741022, 0.94725352, 0.54706336,\n",
       "         0.64173341, 0.99184127, 0.88805855, 0.69753259, 0.99740159,\n",
       "         0.64613808, 0.19124776, 0.875877  , 0.15864413, 0.99898537,\n",
       "         0.98057036, 0.59718505, 0.88052556, 0.74148274, 0.66761573,\n",
       "         0.76695602, 0.99801087, 0.49613403, 0.93952631, 0.86051027,\n",
       "         0.52213174, 0.68280396, 0.90841292, 0.99869667, 0.92421937,\n",
       "         0.99861885, 0.44886449, 0.97345235, 0.9248187 , 0.75326076,\n",
       "         0.8341981 , 0.60827403, 0.99043904, 0.67870787, 0.74028638]),\n",
       "  array([0.81325332, 0.99064621, 0.86382773, 0.38204217, 0.94371589,\n",
       "         0.47882405, 0.45699439, 0.47882405, 0.62980503, 0.89026653,\n",
       "         0.13077942, 0.17522218, 0.99729213, 0.        , 0.97650047,\n",
       "         0.9037005 , 0.92894388, 0.89674786, 0.        , 0.35177092,\n",
       "         0.82390377, 0.18489986, 0.99891658, 0.84502915, 0.17195284,\n",
       "         0.7758259 , 0.9999087 , 0.74741375, 0.36358693, 0.17522218,\n",
       "         0.        , 0.87272387, 0.98370826, 0.16866093, 0.54356444,\n",
       "         0.19751658, 0.8332768 , 0.99064621, 0.93952631, 0.6935605 ,\n",
       "         0.90841292, 0.76695602, 0.98057036, 0.95115078, 0.99145204,\n",
       "         0.        , 0.97414606, 0.99633493, 0.98057036, 0.05927727,\n",
       "         0.63131075, 0.36124149, 0.875877  , 0.58259965, 0.67733486,\n",
       "         0.14144054, 1.        , 0.04541469, 0.90907581, 0.84146464,\n",
       "         0.46102031, 0.99801087, 0.8719288 , 0.4343802 , 0.76919283,\n",
       "         0.60512816, 0.97682749, 0.        , 0.99431078, 0.35415203,\n",
       "         0.75093198, 0.90707942, 0.92660166, 0.65195376, 0.98892487,\n",
       "         0.73425334, 0.34215456, 0.99761373, 0.08897041, 0.80729162,\n",
       "         0.27568069, 0.25082392, 0.81619367, 0.98800928, 0.99986362,\n",
       "         0.75442015, 0.94524664, 0.93238236, 0.98753774, 0.90640881,\n",
       "         0.87898682, 0.84325259, 0.82768804, 0.59397609, 0.51297285,\n",
       "         0.70925059, 0.4065684 , 0.96984322, 0.08490859, 0.        ]),\n",
       "  array([0.99999549, 0.95162704, 0.87898682, 0.99977908, 0.90438146,\n",
       "         0.61606136, 0.04541469, 0.48271255, 0.        , 0.4343802 ,\n",
       "         0.90841292, 0.        , 0.74148274, 0.98057036, 0.93737261,\n",
       "         0.45294255, 0.14144054, 0.92301315, 0.07662072, 0.23070996,\n",
       "         0.08897041, 0.70925059, 0.04541469, 0.61140216, 0.08079314,\n",
       "         0.96275324, 0.39775935, 0.27024841, 0.07238758, 0.94058841,\n",
       "         0.82007241, 0.78556029, 0.47097367, 0.66761573, 0.63729158,\n",
       "         0.87665851, 0.26476503, 0.92836207, 0.24229219, 0.43228366,\n",
       "         0.1816952 , 0.68280396, 0.47294552, 0.38431154, 0.96149695,\n",
       "         0.42169553, 0.50179827, 0.        , 0.45090682, 0.88281353,\n",
       "         0.63877634, 0.0356208 , 0.5776539 , 0.        , 0.74741375,\n",
       "         0.20370945, 0.99954911, 0.75093198, 0.91995349, 0.56931571,\n",
       "         0.74148274, 0.82390377, 0.01385706, 0.25922919, 0.36592365,\n",
       "         0.08897041, 0.93294674, 0.99620509, 0.73303643, 0.69222905,\n",
       "         0.83785438, 0.94970747, 0.10086201, 0.11236071, 0.62373967,\n",
       "         0.75557623, 0.24799433, 0.94524664, 0.99781682, 0.7601675 ,\n",
       "         0.01385706, 0.47097367, 0.        , 0.06372124, 0.66055628,\n",
       "         0.89532598, 0.9814539 , 0.6475981 , 0.8946111 , 0.53472659,\n",
       "         0.92777777, 0.94970747, 0.86628685, 0.        , 0.81226722,\n",
       "         0.97203684, 0.50927053, 0.91995349, 0.98800928, 0.98530216]),\n",
       "  array([0.98370826, 0.        , 0.68416171, 0.20062232, 0.19124776,\n",
       "         0.78556029, 0.80829277, 0.14840256, 0.70407905, 0.92179686,\n",
       "         0.20062232, 0.95067209, 0.95759941, 0.        , 0.48464774,\n",
       "         0.        , 0.90973612, 0.05927727, 0.        , 0.79917303,\n",
       "         0.1653459 , 0.72566228, 0.05475066, 0.27297086, 0.        ,\n",
       "         0.        , 0.05475066, 0.66480377, 0.88731726, 0.31237534,\n",
       "         0.92301315, 0.        , 0.04058266, 0.9964625 , 0.        ,\n",
       "         0.45090682, 0.1653459 , 0.99898537, 0.821994  , 0.48077133,\n",
       "         0.98086719, 0.07238758, 0.88205355, 0.02521187, 0.08079314,\n",
       "         0.32992096, 0.89886104, 0.80528023, 0.87975754, 0.98681321,\n",
       "         0.9553504 , 0.36358693, 0.66339189, 0.        , 0.7769202 ,\n",
       "         0.07238758, 0.89603823, 0.8341981 , 0.64025694, 0.31995646,\n",
       "         0.15864413, 0.13436344, 0.46502062, 0.58259965, 0.27837806,\n",
       "         0.9811617 , 0.60354853, 0.14144054, 0.27024841, 0.19124776,\n",
       "         0.79190829, 0.54004491, 0.81813898, 0.96756493, 0.        ,\n",
       "         0.68955495, 0.75902463, 0.12351525, 0.18489986, 0.        ,\n",
       "         0.05475066, 0.60670332, 0.99105369, 0.17195284, 0.15864413,\n",
       "         0.99523273, 0.        , 0.25082392, 0.31995646, 0.33484344,\n",
       "         0.39330844, 0.95935552, 0.        , 0.99671086, 0.9161984 ,\n",
       "         0.89026653, 0.79917303, 0.77909923, 0.        , 0.32495889]),\n",
       "  array([0.3797646 , 0.        , 0.71436439, 0.39107119, 0.20982925,\n",
       "         0.06372124, 0.51112449, 0.97483042, 0.        , 0.67319277,\n",
       "         0.94422858, 0.90907581, 0.53115474, 0.02521187, 0.52575707,\n",
       "         0.8332768 , 0.61140216, 0.        , 0.93067432, 0.41741022,\n",
       "         0.22777597, 0.61606136, 0.89745487, 0.30982721, 0.7769202 ,\n",
       "         0.97715217, 0.4043776 , 0.43228366, 0.16866093, 0.        ,\n",
       "         0.98259956, 0.0356208 , 0.24799433, 0.23362833, 0.10473589,\n",
       "         0.90774746, 0.        , 0.65339755, 0.16200717, 0.78556029,\n",
       "         0.69089387, 0.46502062, 0.13077942, 0.84146464, 0.63580266,\n",
       "         0.        , 0.        , 0.67319277, 0.07238758, 0.73059227,\n",
       "         0.97650047, 0.20370945, 0.30469866, 0.99203247, 0.69222905,\n",
       "         0.45497173, 0.41309573, 0.22482611, 0.16866093, 0.07238758,\n",
       "         0.41525664, 0.22186012, 0.42806963, 0.05475066, 0.98847166,\n",
       "         0.46302365, 0.99447011, 0.26476503, 0.67457732, 0.42806963,\n",
       "         0.1816952 , 0.99853878, 0.99891658, 0.99001785, 0.23362833,\n",
       "         0.31237534, 0.        , 0.71053443, 0.97310198, 0.15184252,\n",
       "         0.38204217, 0.        , 0.99750879, 0.89532598, 0.98869941,\n",
       "         0.99959308, 0.8719288 , 0.41309573, 0.36358693, 0.93406806,\n",
       "         0.73788343, 0.49423436, 0.        , 0.50927053, 0.01385706,\n",
       "         0.01385706, 0.42382736, 0.94970747, 0.23070996, 0.28106313]),\n",
       "  array([0.14144054, 0.87898682, 0.85883491, 0.46701125, 0.54706336,\n",
       "         0.19124776, 0.2675132 , 0.84854818, 0.78768879, 0.49423436,\n",
       "         0.97550543, 0.06808941, 0.50554575, 0.48657693, 0.        ,\n",
       "         0.85967398, 0.76919283, 0.3865728 , 0.39330844, 0.80019854,\n",
       "         0.02521187, 0.875877  , 0.99911617, 0.01385706, 0.27568069,\n",
       "         0.26200376, 0.        , 0.08079314, 0.90841292, 0.        ,\n",
       "         0.99462718, 0.46899559, 0.32495889, 0.37518466, 0.53472659,\n",
       "         0.7269    , 0.9990519 , 0.        , 0.06372124, 0.18489986,\n",
       "         0.01385706, 0.23070996, 0.41741022, 0.92660166, 0.        ,\n",
       "         0.41309573, 0.25363946, 0.20062232, 0.80829277, 0.23070996,\n",
       "         0.95019099, 0.76583275, 0.05475066, 0.84502915, 0.01385706,\n",
       "         0.39330844, 0.25082392, 0.96909321, 0.14144054, 0.36124149,\n",
       "         0.        , 0.25644116, 0.43646982, 0.        , 0.59558285,\n",
       "         0.26476503, 0.41092741, 0.74741375, 0.81028602, 0.90573561,\n",
       "         0.02521187, 0.62980503, 0.79190829, 0.        , 0.99994477,\n",
       "         0.12716372, 0.01385706, 0.44681553, 0.98555975, 0.59236476,\n",
       "         0.        , 0.88953319, 0.92240626, 0.91492637, 0.47097367,\n",
       "         0.35888724, 0.        , 0.69488824, 0.302118  , 0.99671086,\n",
       "         0.04541469, 0.57599584, 0.37747879, 0.95019099, 0.62068131,\n",
       "         0.06372124, 0.        , 0.        , 0.96984322, 0.20370945]),\n",
       "  array([0.67041203, 0.08897041, 0.96021924, 0.96439503, 0.82007241,\n",
       "         0.        , 0.49232884, 0.57266539, 0.92894388, 0.05475066,\n",
       "         0.        , 0.73425334, 0.        , 0.11983279, 0.35888724,\n",
       "         0.90573561, 0.39330844, 0.84942086, 0.98656712, 0.        ,\n",
       "         0.        , 0.09694461, 0.3493807 , 0.        , 0.97935988,\n",
       "         0.08079314, 0.        , 0.99945441, 0.25644116, 0.        ,\n",
       "         0.        , 0.19439186, 0.93737261, 0.55054184, 0.85459781,\n",
       "         0.65339755, 0.73788343, 0.1816952 , 0.84854818, 0.        ,\n",
       "         0.04058266, 0.71942104, 0.99935069, 0.80122098, 0.08897041,\n",
       "         0.01385706, 0.        , 0.289046  , 0.        , 0.99781682,\n",
       "         0.02521187, 0.9744894 , 0.81423643, 0.29168332, 0.5776539 ,\n",
       "         0.66901584, 0.16866093, 0.99145204, 0.23070996, 0.94675545,\n",
       "         0.17195284, 0.99105369, 0.10856819, 0.94575201, 0.        ,\n",
       "         0.71181467, 0.57266539, 0.93573145, 0.59878269, 0.49423436,\n",
       "         0.29430905, 0.23653134, 0.06372124, 0.48077133, 0.2675132 ,\n",
       "         0.06372124, 0.99022959, 0.        , 0.        , 0.05475066,\n",
       "         0.15184252, 0.        , 0.63877634, 0.06372124, 0.99891658,\n",
       "         0.07238758, 0.25363946, 0.12716372, 0.3445726 , 0.44681553,\n",
       "         0.94005859, 0.27024841, 0.42382736, 0.09694461, 0.        ,\n",
       "         0.16200717, 0.82862679, 0.05475066, 0.47491118, 0.61451267]),\n",
       "  array([0.83876124, 0.94268319, 0.0356208 , 0.        , 0.59558285,\n",
       "         0.        , 0.02521187, 0.89815926, 0.        , 0.0356208 ,\n",
       "         0.82485424, 0.99658781, 0.        , 0.        , 0.44681553,\n",
       "         0.01385706, 0.54880515, 0.90573561, 0.76244341, 0.01385706,\n",
       "         0.        , 0.3797646 , 0.4447599 , 0.        , 0.32495889,\n",
       "         0.        , 0.        , 0.18808391, 0.50367486, 0.9916478 ,\n",
       "         0.04541469, 0.        , 0.1816952 , 0.54180727, 0.        ,\n",
       "         0.        , 0.01385706, 0.06372124, 0.14144054, 0.38882599,\n",
       "         0.10473589, 0.        , 0.38431154, 0.09694461, 0.60037581,\n",
       "         0.        , 0.99695016, 0.63281226, 0.        , 0.        ,\n",
       "         0.8719288 , 0.0356208 , 0.289046  , 0.45497173, 0.        ,\n",
       "         0.        , 0.90025676, 0.36825171, 0.20370945, 0.49613403,\n",
       "         0.        , 0.99105369, 0.        , 0.87272387, 0.24799433,\n",
       "         0.31237534, 0.81813898, 0.        , 0.        , 0.67180434,\n",
       "         0.        , 0.01385706, 0.85029072, 0.99523273, 0.        ,\n",
       "         0.        , 0.98753774, 0.17522218, 0.62678087, 0.9999087 ,\n",
       "         0.        , 0.11983279, 0.13077942, 0.30469866, 0.        ,\n",
       "         0.62221264, 0.20677831, 0.        , 0.        , 0.41525664,\n",
       "         0.        , 0.13077942, 0.32246277, 0.86872125, 0.73788343,\n",
       "         0.36825171, 0.20677831, 0.19124776, 0.13791682, 0.07238758]),\n",
       "  array([0.        , 0.04541469, 0.81325332, 0.        , 0.22186012,\n",
       "         0.59878269, 0.99105369, 0.        , 0.82674637, 0.22186012,\n",
       "         0.90095071, 0.98231661, 0.20062232, 0.        , 0.99330704,\n",
       "         0.22482611, 0.10473589, 0.86217453, 0.        , 0.06372124,\n",
       "         0.79917303, 0.37747879, 0.89172527, 0.        , 0.13791682,\n",
       "         0.98555975, 0.        , 0.65913252, 0.43646982, 0.        ,\n",
       "         0.08897041, 0.        , 0.        , 0.13791682, 0.0356208 ,\n",
       "         0.        , 0.        , 0.71309132, 0.        , 0.97650047,\n",
       "         0.15184252, 0.11983279, 0.10086201, 0.        , 0.        ,\n",
       "         0.10856819, 0.        , 0.73303643, 0.27297086, 0.37747879,\n",
       "         0.31491285, 0.57599584, 0.        , 0.        , 0.        ,\n",
       "         0.01385706, 0.49613403, 0.        , 0.08079314, 0.72936499,\n",
       "         0.        , 0.07238758, 0.56931571, 0.91995349, 0.        ,\n",
       "         0.        , 0.        , 0.96064753, 0.11236071, 0.        ,\n",
       "         0.        , 0.0356208 , 0.11611508, 0.8032567 , 0.99277445,\n",
       "         0.97131502, 0.92361752, 0.78874835, 0.43855255, 0.52213174,\n",
       "         0.27024841, 0.        , 0.        , 0.        , 0.91871194,\n",
       "         0.42169553, 0.        , 0.04058266, 0.17195284, 0.02521187,\n",
       "         0.59397609, 0.06372124, 0.        , 0.        , 0.954434  ,\n",
       "         0.        , 0.        , 0.        , 0.        , 0.88731726]),\n",
       "  array([0.97905146, 0.        , 0.        , 0.06372124, 0.70667207,\n",
       "         0.76244341, 0.        , 0.        , 0.11611508, 0.        ,\n",
       "         0.29692332, 0.        , 0.96678664, 0.        , 0.        ,\n",
       "         0.        , 0.83785438, 0.32495889, 0.18489986, 0.        ,\n",
       "         0.        , 0.12716372, 0.        , 0.98581504, 0.56255805,\n",
       "         0.51112449, 0.        , 0.        , 0.        , 0.9037005 ,\n",
       "         0.37057119, 0.        , 0.76244341, 0.22186012, 0.        ,\n",
       "         0.78234397, 0.        , 0.01385706, 0.05475066, 0.51297285,\n",
       "         0.        , 0.289046  , 0.0356208 , 0.        , 0.85459781,\n",
       "         0.        , 0.62678087, 0.        , 0.        , 0.        ,\n",
       "         0.76583275, 0.85883491, 0.        , 0.19439186, 0.99974639,\n",
       "         0.        , 0.        , 0.        , 0.05013316, 0.51297285,\n",
       "         0.99566306, 0.        , 0.44681553, 0.        , 0.69753259,\n",
       "         0.        , 0.        , 0.95350798, 0.        , 0.92541553,\n",
       "         0.        , 0.05475066, 0.        , 0.28639696, 0.02521187,\n",
       "         0.40217919, 0.3865728 , 0.02521187, 0.18808391, 0.83966524,\n",
       "         0.75902463, 0.59558285, 0.        , 0.        , 0.81910718,\n",
       "         0.96909321, 0.71436439, 0.        , 0.        , 0.        ,\n",
       "         0.        , 0.02521187, 0.289046  , 0.        , 0.12716372,\n",
       "         0.01385706, 0.        , 0.72192809, 0.        , 0.98980383]),\n",
       "  array([0.        , 0.        , 0.        , 0.54531647, 0.289046  ,\n",
       "         0.        , 0.83142552, 0.3493807 , 0.        , 0.38431154,\n",
       "         0.35652411, 0.        , 0.        , 0.        , 0.04058266,\n",
       "         0.        , 0.02521187, 0.        , 0.        , 0.        ,\n",
       "         0.        , 0.96833378, 0.91683059, 0.71309132, 0.96479955,\n",
       "         0.99861885, 0.36124149, 0.87743731, 0.0356208 , 0.90095071,\n",
       "         0.27837806, 0.        , 0.        , 0.97345235, 0.18808391,\n",
       "         0.65770478, 0.        , 0.        , 0.45090682, 0.01385706,\n",
       "         0.        , 0.87033048, 0.08079314, 0.        , 0.        ,\n",
       "         0.06808941, 0.01385706, 0.        , 0.        , 0.19124776,\n",
       "         0.        , 0.98958752, 0.02521187, 0.20982925, 0.98705702,\n",
       "         0.30469866, 0.99988729, 0.9548934 , 0.        , 0.01385706,\n",
       "         0.11236071, 0.78341923, 0.        , 0.99447011, 0.        ,\n",
       "         0.32495889, 0.94320076, 0.        , 0.62829507, 0.83142552,\n",
       "         0.        , 0.07238758, 0.02521187, 0.        , 0.98504226,\n",
       "         0.        , 0.01385706, 0.        , 0.        , 0.19124776,\n",
       "         0.        , 0.32495889, 0.01385706, 0.99898537, 0.        ,\n",
       "         0.15525614, 0.        , 0.        , 0.        , 0.01385706,\n",
       "         0.05475066, 0.        , 0.        , 0.14144054, 0.875877  ,\n",
       "         0.        , 0.0356208 , 0.98397967, 0.        , 0.        ]),\n",
       "  array([0.        , 0.04541469, 0.88582668, 0.        , 0.97617112,\n",
       "         0.19439186, 0.22777597, 0.        , 0.        , 0.04058266,\n",
       "         0.        , 0.31237534, 0.        , 0.        , 0.05475066,\n",
       "         0.34215456, 0.        , 0.96149695, 0.9990519 , 0.        ,\n",
       "         0.20982925, 0.        , 0.94824238, 0.        , 0.76130709,\n",
       "         0.        , 0.        , 0.74976259, 0.16866093, 0.1816952 ,\n",
       "         0.        , 0.04058266, 0.        , 0.        , 0.        ,\n",
       "         0.        , 0.        , 0.        , 0.        , 0.        ,\n",
       "         0.04541469, 0.        , 0.87509279, 0.68144241, 0.07238758,\n",
       "         0.22482611, 0.        , 0.86872125, 0.        , 0.        ,\n",
       "         0.        , 0.9553504 , 0.        , 0.        , 0.        ,\n",
       "         0.        , 0.20677831, 0.53827737, 0.71309132, 0.        ,\n",
       "         0.99959308, 0.05475066, 0.84236004, 0.        , 0.        ,\n",
       "         0.62221264, 0.        , 0.12716372, 0.        , 0.        ,\n",
       "         0.85883491, 0.10473589, 0.08079314, 0.        , 0.        ,\n",
       "         0.        , 0.46899559, 0.        , 0.        , 0.        ,\n",
       "         0.23070996, 0.92361752, 0.        , 0.        , 0.89886104,\n",
       "         0.74267571, 0.        , 0.        , 0.        , 0.        ,\n",
       "         0.11611508, 0.        , 0.        , 0.28373605, 0.        ,\n",
       "         0.02521187, 0.44681553, 0.        , 0.        , 0.93573145])])"
      ]
     },
     "execution_count": 30,
     "metadata": {},
     "output_type": "execute_result"
    }
   ],
   "source": [
    "calculate_entropies(model2)"
   ]
  },
  {
   "cell_type": "code",
   "execution_count": 56,
   "metadata": {
    "collapsed": false,
    "jupyter": {
     "outputs_hidden": false
    },
    "pycharm": {
     "name": "#%%\n"
    }
   },
   "outputs": [
    {
     "name": "stdout",
     "output_type": "stream",
     "text": [
      "max loss: 0.016404565\n"
     ]
    },
    {
     "data": {
      "image/png": "[encoded data removed]",
      "text/plain": [
       "<Figure size 864x288 with 4 Axes>"
      ]
     },
     "metadata": {
      "needs_background": "light"
     },
     "output_type": "display_data"
    }
   ],
   "source": [
    "config_list = [{ 'sparsity': 0.1, 'op_types': ['default'] }]\n",
    "m2 = prune_model_and_test(model2, LevelPruner, config_list)\n",
    "display_sample_output(triangles, m2)"
   ]
  },
  {
   "cell_type": "code",
   "execution_count": 51,
   "metadata": {
    "collapsed": false,
    "jupyter": {
     "outputs_hidden": false
    },
    "pycharm": {
     "name": "#%%\n"
    }
   },
   "outputs": [
    {
     "name": "stdout",
     "output_type": "stream",
     "text": [
      "max loss: 1.3697539e-11\n"
     ]
    },
    {
     "data": {
      "image/png": "[encoded data removed]",
      "text/plain": [
       "<Figure size 864x288 with 4 Axes>"
      ]
     },
     "metadata": {
      "needs_background": "light"
     },
     "output_type": "display_data"
    }
   ],
   "source": [
    "display_sample_output(triangles, model2, use_glider=False)"
   ]
  }
 ],
 "metadata": {
  "kernelspec": {
   "display_name": "Python 3",
   "language": "python",
   "name": "python3"
  },
  "language_info": {
   "codemirror_mode": {
    "name": "ipython",
    "version": 3
   },
   "file_extension": ".py",
   "mimetype": "text/x-python",
   "name": "python",
   "nbconvert_exporter": "python",
   "pygments_lexer": "ipython3",
   "version": "3.8.2"
  }
 },
 "nbformat": 4,
 "nbformat_minor": 4
}
