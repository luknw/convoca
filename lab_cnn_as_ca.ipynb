{
 "cells": [
  {
   "cell_type": "markdown",
   "metadata": {},
   "source": [
    "# Convolutional Neural Network as Cellular Automata"
   ]
  },
  {
   "cell_type": "markdown",
   "metadata": {},
   "source": [
    "Based on: https://doi.org/10.1103/PhysRevE.100.032402"
   ]
  },
  {
   "cell_type": "markdown",
   "metadata": {},
   "source": [
    "Quoting Wikipedia:\n",
    "\n",
    "> A cellular automaton consists of a regular grid of cells, each in one of a finite number of states, such as on and off [...]. The grid can be in any finite number of dimensions. For each cell, a set of cells called its neighbourhood is defined relative to the specified cell. An initial state (time t = 0) is selected by assigning a state for each cell. A new generation is created (advancing t by 1), according to some fixed rule (generally, a mathematical function) that determines the new state of each cell in terms of the current state of the cell and the states of the cells in its neighbourhood. Typically, the rule for updating the state of cells is the same for each cell and does not change over time, and is applied to the whole grid simultaneously [...]\n",
    ">\n",
    "> <cite>https://en.wikipedia.org/wiki/Cellular_automaton</cite>\n",
    "\n",
    "The important thing here is that cellular automatons are local, i.e. the next state of each cell depends only on the cells in its neighbourhood. This principle of locality is also a basis for applying convolutional filters, which combine information from a single part of the image at a time. Expanding on this similarity, we can ponder whether cellular automatons and convolutional neural networks have more things in common. Let's check this out!"
   ]
  },
  {
   "cell_type": "markdown",
   "metadata": {},
   "source": [
    "## CAs and convolutions in plain Python"
   ]
  },
  {
   "cell_type": "markdown",
   "metadata": {},
   "source": [
    "We'll define a few simple CAs to learn the techniques we'll be using further. The CAs will:\n",
    "* be defined on a square grid\n",
    "* have 2 states - so called binary CA, the states are usually called dead (0) and alive (1)\n",
    "* use Moore neighbourhood - a square of 3 by 3 cells with a cell of reference in the centre"
   ]
  },
  {
   "cell_type": "markdown",
   "metadata": {},
   "source": [
    "### Utils"
   ]
  },
  {
   "cell_type": "code",
   "execution_count": 1,
   "metadata": {},
   "outputs": [],
   "source": [
    "import numpy as np\n",
    "import matplotlib.pyplot as plt\n",
    "import time\n",
    "from IPython.display import clear_output\n",
    "from itertools import count\n",
    "\n",
    "plt.rcParams['image.cmap'] = 'gray'\n",
    "plt.rcParams['image.interpolation'] = 'nearest'\n",
    "plt.rcParams['figure.figsize'] = (7, 7)\n",
    "\n",
    "def plot_state(state):\n",
    "    clear_output(wait=True)\n",
    "    plt.imshow(state)\n",
    "    plt.axis(False)\n",
    "    plt.show()\n",
    "\n",
    "def run_ca(ca, size=(100, 100), p_alive=0.5, iters=None):\n",
    "    iters = range(iters) if iters else count()\n",
    "    \n",
    "    state = np.random.choice([0, 1], size=size, p=[1-p_alive, p_alive])\n",
    "    m, n = state.shape\n",
    "    state[m//2, n//2] = 1 if p_alive > 0 else 0 # ensure at least 1 living cell\n",
    "    plot_state(state)\n",
    "    for _ in iters:\n",
    "        time.sleep(0.1)\n",
    "        state = ca(state)\n",
    "        plot_state(state) "
   ]
  },
  {
   "cell_type": "markdown",
   "metadata": {},
   "source": [
    "### Task 1: Rule-based CA\n",
    "The simplest automaton can be defined by pattern-matching rules for each possible input. No big deal, we just need to pay attention to boundary conditions."
   ]
  },
  {
   "cell_type": "code",
   "execution_count": 2,
   "metadata": {},
   "outputs": [],
   "source": [
    "def k(a):\n",
    "    \"\"\"\n",
    "    Convert array to a tuple for use as a dictionary key.\n",
    "    \"\"\"\n",
    "    return tuple(np.array(a).ravel())\n",
    "\n",
    "def triangles(state):\n",
    "    survives = set(k(s) for s in (\n",
    "        [[0, 0, 1], [0, 0, 0], [0, 0, 0]],\n",
    "        [[0, 0, 0], [0, 0, 0], [0, 0, 1]],\n",
    "        [[0, 0, 0], [1, 0, 0], [0, 0, 0]],\n",
    "    ))\n",
    "    \n",
    "    new_state = np.zeros_like(state)\n",
    "    \n",
    "    # TODO: We want to have a state grid that's _wrapped_ around,\n",
    "    # left to right and top to bottom, so that CA rules\n",
    "    # can be safely applied at the boundary.\n",
    "    # Hint: use np.pad with the right mode.\n",
    "    state_pad = np.pad(state, 1, 'wrap')\n",
    "    \n",
    "    for i in range(state.shape[0]):\n",
    "        for j in range(state.shape[1]):\n",
    "            if k(state_pad[i:i+3, j:j+3]) in survives:\n",
    "                new_state[i][j] = 1\n",
    "    \n",
    "    return new_state"
   ]
  },
  {
   "cell_type": "code",
   "execution_count": 3,
   "metadata": {},
   "outputs": [
    {
     "data": {
      "text/plain": "<Figure size 504x504 with 1 Axes>",
      "image/png": "[encoded data removed]"
     },
     "metadata": {
      "needs_background": "light"
     },
     "output_type": "display_data"
    }
   ],
   "source": [
    "run_ca(triangles, p_alive=0.0003, iters=64)"
   ]
  },
  {
   "cell_type": "markdown",
   "metadata": {},
   "source": [
    "### Task 2: Convolution\n",
    "Let's build a simple convolution which sums the numbers in a 3 by 3 square just to see how it works."
   ]
  },
  {
   "cell_type": "code",
   "execution_count": 4,
   "metadata": {},
   "outputs": [
    {
     "name": "stdout",
     "output_type": "stream",
     "text": [
      "[[1 2 3]\n",
      " [4 5 6]\n",
      " [7 8 9]]\n",
      "45 [[40]]\n",
      "True\n"
     ]
    }
   ],
   "source": [
    "from scipy.signal import convolve2d\n",
    "\n",
    "def conv_sum_neighbours(a):\n",
    "    # TODO: Define a convolution kernel that will sum all values\n",
    "    # inside a 3x3 block apart from the center square.\n",
    "    # Hint: the kernel will be a 3x3 array with 1s and 0s in the right places.\n",
    "    kernel = np.pad([[0]], 1, constant_values=1)\n",
    "    return convolve2d(a, kernel, mode='valid')\n",
    "\n",
    "# test inputs have size 3x3 just to make things simple\n",
    "def conv_test():\n",
    "    x = np.arange(1, 10).reshape(3, 3)\n",
    "    print(x)\n",
    "    print(x.sum(), conv_sum_neighbours(x))\n",
    "    \n",
    "    eq = []\n",
    "    for i in range(10):\n",
    "        x = np.random.rand(3, 3)\n",
    "        eq.append(np.isclose(conv_sum_neighbours(x), x.sum() - x[1, 1]))\n",
    "    print(all(eq))\n",
    "\n",
    "conv_test()"
   ]
  },
  {
   "cell_type": "markdown",
   "metadata": {},
   "source": [
    "## Totalistic CA"
   ]
  },
  {
   "cell_type": "markdown",
   "metadata": {},
   "source": [
    "Totalistic CAs don't care about layout of cells in a neighbourhood, they just compute some neighbourhood statistic like a number of living cells. As we already know, the sum of values in the neighbouring cells is a perfect use case for a convolution!\n",
    "\n",
    "The convolution will be computed for all cells at once using arcane knowledge of the fast Fourier transform. This also has a nice side effect that we get wrapped boundaries for free. It's not that important how this FFT works, you can treat it as a black box. The important bit is that we use a convolution to implement a CA transition function."
   ]
  },
  {
   "cell_type": "markdown",
   "metadata": {},
   "source": [
    "### Utils"
   ]
  },
  {
   "cell_type": "code",
   "execution_count": 5,
   "metadata": {},
   "outputs": [],
   "source": [
    "# adapted from: https://github.com/thearn/game-of-life\n",
    "from numpy.fft import fft2, ifft2\n",
    "\n",
    "def fft_convolve2d(x, y):\n",
    "    \"\"\"\n",
    "    2D convolution, using FFT\n",
    "    \"\"\"\n",
    "    fr = fft2(x)\n",
    "    fr2 = fft2(np.flipud(np.fliplr(y)))\n",
    "    m, n = fr.shape\n",
    "    cc = np.real(ifft2(fr*fr2))\n",
    "    cc = np.roll(cc, - int(m / 2) + 1, axis=0)\n",
    "    cc = np.roll(cc, - int(n / 2) + 1, axis=1)\n",
    "    return cc.round()"
   ]
  },
  {
   "cell_type": "markdown",
   "metadata": {},
   "source": [
    "### Task 3: Conway's game of Life\n",
    "The most famous cellular automaton that exhibits complex behaviour"
   ]
  },
  {
   "cell_type": "code",
   "execution_count": 6,
   "metadata": {},
   "outputs": [],
   "source": [
    "def conway(state):\n",
    "    kernel = np.zeros_like(state)\n",
    "    m, n = kernel.shape\n",
    "    \n",
    "    # TODO: define a 3x3 convolution kernel that will count living neighbours (state := 1) of the cell\n",
    "    kernel[m//2-1 : m//2+2, n//2-1 : n//2+2] = np.array([[1, 1, 1], [1, 0, 1], [1, 1, 1]])\n",
    "\n",
    "    # 2d table with counts of living neighbours for each corresponding cell from the state\n",
    "    neighbours_alive = fft_convolve2d(state, kernel)\n",
    "    \n",
    "    new_state = np.zeros_like(neighbours_alive)\n",
    "    \n",
    "    born = [3]\n",
    "    survives = [2, 3]\n",
    "    # TODO: place born & survives arrays in the right places\n",
    "    # states: 0 - dead, 1 - alive\n",
    "    new_state[np.where((state == 0) & np.isin(neighbours_alive, born))] = 1\n",
    "    new_state[np.where((state == 1) & np.isin(neighbours_alive, survives))] = 1\n",
    "\n",
    "    return new_state   "
   ]
  },
  {
   "cell_type": "code",
   "execution_count": 7,
   "metadata": {},
   "outputs": [
    {
     "data": {
      "text/plain": "<Figure size 504x504 with 1 Axes>",
      "image/png": "[encoded data removed]"
     },
     "metadata": {
      "needs_background": "light"
     },
     "output_type": "display_data"
    }
   ],
   "source": [
    "run_ca(conway, iters=64)"
   ]
  },
  {
   "cell_type": "markdown",
   "metadata": {},
   "source": [
    "## Day and night automaton\n",
    "We've seen the `triangles` CA which behaves orderly up to a point, but then quite reliably transforms into a random mess and also the `conway` CA that can have runs of varying length and complexity. What determines the CA complexity? Let's compare a few other automatons with rules that differ only slightly."
   ]
  },
  {
   "cell_type": "markdown",
   "metadata": {},
   "source": [
    "### Utils"
   ]
  },
  {
   "cell_type": "code",
   "execution_count": 8,
   "metadata": {},
   "outputs": [],
   "source": [
    "def n_sum_ca(born, survives):\n",
    "    def ca(state):\n",
    "        kernel = np.zeros_like(state)\n",
    "        m, n = kernel.shape\n",
    "        kernel[m//2-1 : m//2+2, n//2-1 : n//2+2] = np.pad([[0]], 1, constant_values=1)\n",
    "\n",
    "        neighbours_alive = fft_convolve2d(state, kernel)\n",
    "\n",
    "        new_state = np.zeros_like(neighbours_alive)\n",
    "        new_state[np.where((state == 0) & np.isin(neighbours_alive, born))] = 1\n",
    "        new_state[np.where((state == 1) & np.isin(neighbours_alive, survives))] = 1\n",
    "\n",
    "        return new_state\n",
    "    return ca"
   ]
  },
  {
   "cell_type": "markdown",
   "metadata": {},
   "source": [
    "### Task 4: CA comparison\n",
    "Run each of the following CAs and just observe the results. The first CA is called \"day and night\", becuase it exhibits symmetry between dead and alive states."
   ]
  },
  {
   "cell_type": "code",
   "execution_count": 9,
   "metadata": {},
   "outputs": [],
   "source": [
    "day_and_night = [\n",
    "    (f'day_and_night_{i}', n_sum_ca(born, survives))\n",
    "    for i, (born, survives)\n",
    "    in enumerate([\n",
    "        ([3, 6, 7, 8], [3, 4, 6, 7, 8]),\n",
    "        ([3, 4, 6, 7, 8], [3, 4, 6, 7, 8]),\n",
    "        ([3, 6, 7, 8], [3, 6, 7, 8]),\n",
    "        ([3, 4, 6, 7, 8], [3, 6, 7, 8])\n",
    "    ])\n",
    "]\n",
    "\n",
    "def run(i, **kwargs):\n",
    "    name, ca = day_and_night[i]\n",
    "    run_ca(ca, **kwargs)\n",
    "    print(name, kwargs)"
   ]
  },
  {
   "cell_type": "code",
   "execution_count": 10,
   "metadata": {},
   "outputs": [
    {
     "data": {
      "text/plain": "<Figure size 504x504 with 1 Axes>",
      "image/png": "[encoded data removed]"
     },
     "metadata": {
      "needs_background": "light"
     },
     "output_type": "display_data"
    },
    {
     "name": "stdout",
     "output_type": "stream",
     "text": [
      "day_and_night_0 {'iters': 100, 'p_alive': 0.5}\n"
     ]
    }
   ],
   "source": [
    "run(0, iters=100, p_alive=0.5)"
   ]
  },
  {
   "cell_type": "code",
   "execution_count": 11,
   "metadata": {},
   "outputs": [
    {
     "data": {
      "text/plain": "<Figure size 504x504 with 1 Axes>",
      "image/png": "[encoded data removed]"
     },
     "metadata": {
      "needs_background": "light"
     },
     "output_type": "display_data"
    },
    {
     "name": "stdout",
     "output_type": "stream",
     "text": [
      "day_and_night_1 {'iters': 100, 'p_alive': 0.125}\n"
     ]
    }
   ],
   "source": [
    "run(1, iters=100, p_alive=0.125)"
   ]
  },
  {
   "cell_type": "code",
   "execution_count": 12,
   "metadata": {},
   "outputs": [
    {
     "data": {
      "text/plain": "<Figure size 504x504 with 1 Axes>",
      "image/png": "[encoded data removed]"
     },
     "metadata": {
      "needs_background": "light"
     },
     "output_type": "display_data"
    },
    {
     "name": "stdout",
     "output_type": "stream",
     "text": [
      "day_and_night_2 {'iters': 100, 'p_alive': 0.875}\n"
     ]
    }
   ],
   "source": [
    "run(2, iters=100, p_alive=0.875)"
   ]
  },
  {
   "cell_type": "code",
   "execution_count": 13,
   "metadata": {},
   "outputs": [
    {
     "data": {
      "text/plain": "<Figure size 504x504 with 1 Axes>",
      "image/png": "[encoded data removed]"
     },
     "metadata": {
      "needs_background": "light"
     },
     "output_type": "display_data"
    },
    {
     "name": "stdout",
     "output_type": "stream",
     "text": [
      "day_and_night_3 {'iters': 30, 'p_alive': 0.5}\n"
     ]
    }
   ],
   "source": [
    "run(3, iters=30, p_alive=0.5)"
   ]
  },
  {
   "cell_type": "code",
   "execution_count": 14,
   "metadata": {},
   "outputs": [
    {
     "data": {
      "text/plain": "<Figure size 504x504 with 1 Axes>",
      "image/png": "[encoded data removed]"
     },
     "metadata": {
      "needs_background": "light"
     },
     "output_type": "display_data"
    },
    {
     "name": "stdout",
     "output_type": "stream",
     "text": [
      "day_and_night_3 {'iters': 100, 'p_alive': 0.78}\n"
     ]
    }
   ],
   "source": [
    "run(3, iters=100, p_alive=0.78)"
   ]
  },
  {
   "cell_type": "code",
   "execution_count": 15,
   "metadata": {},
   "outputs": [
    {
     "data": {
      "text/plain": "<Figure size 504x504 with 1 Axes>",
      "image/png": "[encoded data removed]"
     },
     "metadata": {
      "needs_background": "light"
     },
     "output_type": "display_data"
    },
    {
     "name": "stdout",
     "output_type": "stream",
     "text": [
      "day_and_night_3 {'iters': 100, 'p_alive': 0.22}\n"
     ]
    }
   ],
   "source": [
    "run(3, iters=100, p_alive=0.22)"
   ]
  },
  {
   "cell_type": "markdown",
   "metadata": {},
   "source": [
    "As we can see, modifying the rules slightly can change the automaton behaviour a lot. In case of our automata, we could probably start building intuition about the outcomes, but the symmetry we encountered is just the matter of this specific \"day and night\" automaton. To make matters worse, the last example shows that the behaviour can vary based on the input distribution... and we're only looking at totalistic automata. Things get even more unpredictable for rule-based CAs.\n",
    "\n",
    "How to quantify this? How to quantify the complexity?"
   ]
  },
  {
   "cell_type": "markdown",
   "metadata": {},
   "source": [
    "## Wolfram classification & entropy\n",
    "Approaching the problem differently, we could try to describe automatons qualitatively, by pointing out the kinds of outcomes they produce. The most prominent classification was proposed by Wolfram:\n",
    "\n",
    "### Wolfram classification\n",
    "* Class 1: Nearly all initial patterns evolve quickly into a stable, homogeneous state. Any randomness in the initial pattern disappears.\n",
    "* Class 2: Nearly all initial patterns evolve quickly into stable or oscillating structures. Some of the randomness in the initial pattern may filter out, but some remains. Local changes to the initial pattern tend to remain local.\n",
    "* Class 3: Nearly all initial patterns evolve in a pseudo-random or chaotic manner. Any stable structures that appear are quickly destroyed by the surrounding noise. Local changes to the initial pattern tend to spread indefinitely.\n",
    "* Class 4: Nearly all initial patterns evolve into structures that interact in complex and interesting ways, with the formation of local structures that are able to survive for long periods of time.\n",
    "\n",
    "The descriptions are from: https://en.wikipedia.org/wiki/Cellular_automaton#Classification"
   ]
  },
  {
   "cell_type": "markdown",
   "metadata": {},
   "source": [
    "### Entropy\n",
    "To quantify the automaton complexity, we can look at all possible automaton input neighbourhoods, apply the CA transformation to each one of them, each time producing as output a new state for a single cell. $\\lambda$ is defined as the ratio of such output cells that are alive. $\\lambda = 0$ when all outputs are dead, $\\lambda = 1$ when all are alive, and $\\lambda = 0.5$ when the two outcomes are balanced. A rule of thumb is that the closer $\\lambda$ is to 0.5, the greater the automaton complexity and the higher Wolfram's class.\n",
    "\n",
    "We won't use $\\lambda$ directly, however we'll use a metric that's correlated with it: the automaton entropy. Let's assume we apply a CA transition once to an input that has a uniform distribution of all possible neighbourhoods. After the one CA transition, for each possible neighbourhood $\\sigma$ we calculate its probability of appearing in the output $p_\\sigma$ and calculate the entropy of their distribution. The number we get is called automaton entropy:\n",
    "\n",
    "$$H_{ca} = -\\sum_{\\sigma} p_\\sigma \\log_2{p_\\sigma}$$\n",
    "\n",
    "For binary automata (2 states) with Moore neighborhood (9 cells), the entropy ranges from 0 (all inputs map to the same output neighbourhood) to 9 (uniform neighbourhood distribution in output). Let's find the value of entropy for the automata we already know. Since synthesising an image with a uniform input distribution is complicated, we'll approximate it by applying the CA to all possible input neighbourhoods wrapped around one by one and then adding up the counts of output neighbourhoods."
   ]
  },
  {
   "cell_type": "markdown",
   "metadata": {},
   "source": [
    "### Task 5: Calculating automaton entropy"
   ]
  },
  {
   "cell_type": "code",
   "execution_count": 16,
   "metadata": {},
   "outputs": [],
   "source": [
    "from itertools import product\n",
    "from scipy.stats import entropy\n",
    "from collections import Counter\n",
    "\n",
    "def all_combinations(m, d):\n",
    "    '''\n",
    "    Make an array of all d dimensional inputs\n",
    "    consisting of m possible values\n",
    "    '''\n",
    "    \n",
    "    sq = int(np.sqrt(d))\n",
    "    \n",
    "    indices = np.tile(np.array([np.arange(m)]).T, d)\n",
    "\n",
    "    all_combos = list(product(*list(indices.T)))\n",
    "    out = np.reshape(np.array(all_combos), (-1, sq, sq))\n",
    "    \n",
    "    return out\n",
    "\n",
    "def simple_ca_entropy(ca):\n",
    "    # TODO: Provide the right parameters for the functions.\n",
    "    outputs = Counter(k(ca(c)) for c in all_combinations(2, 9))\n",
    "    return entropy(list(outputs.values()), base=2)"
   ]
  },
  {
   "cell_type": "code",
   "execution_count": 17,
   "metadata": {},
   "outputs": [
    {
     "name": "stdout",
     "output_type": "stream",
     "text": [
      "triangles 0.18333879165589823\n",
      "conway 4.7002734075283605\n",
      "day_and_night_0 7.11670447115759\n",
      "day_and_night_1 6.008981664477767\n",
      "day_and_night_2 6.008981664477767\n",
      "day_and_night_3 7.093422461021005\n"
     ]
    }
   ],
   "source": [
    "print('triangles', simple_ca_entropy(triangles))\n",
    "print('conway', simple_ca_entropy(conway))\n",
    "for name, ca in day_and_night:\n",
    "    print(name, simple_ca_entropy(ca))"
   ]
  },
  {
   "cell_type": "markdown",
   "metadata": {},
   "source": [
    "## CNN as CA\n",
    "\n",
    "Convolutional Neural Networks demonstrated great success in the modelling of complex systems, like speech patterns\n",
    "and physics simulations. We can try to use them in the prediction of the output of a CA after one step.\n",
    "\n",
    "### Network model\n",
    "\n",
    "We will use one of the network architectures proposed by the authors of the paper:\n",
    "![CNN architecture](https://journals.aps.org/pre/article/10.1103/PhysRevE.100.032402/figures/2/medium \"CNN architecture\")\n",
    "\n",
    "We will use PyTorch in these examples as it allows us to trace operations on the lower level."
   ]
  },
  {
   "cell_type": "code",
   "execution_count": 18,
   "outputs": [
    {
     "name": "stdout",
     "output_type": "stream",
     "text": [
      "seed = 0\n"
     ]
    },
    {
     "data": {
      "text/plain": "<torch._C.Generator at 0x7f64fbfb6570>"
     },
     "execution_count": 18,
     "metadata": {},
     "output_type": "execute_result"
    }
   ],
   "source": [
    "import torch\n",
    "\n",
    "from tqdm import tqdm\n",
    "from pytorch.train_ca import initialize_model\n",
    "from pytorch.ca_funcs import make_table_walk, make_ca\n",
    "\n",
    "seed = 0\n",
    "print('seed =', seed)\n",
    "\n",
    "np.random.seed(seed)\n",
    "torch.random.manual_seed(seed)"
   ],
   "metadata": {
    "collapsed": false,
    "pycharm": {
     "name": "#%%\n"
    }
   }
  },
  {
   "cell_type": "markdown",
   "source": [
    "First, we define various hyper-parameters of the network:"
   ],
   "metadata": {
    "collapsed": false
   }
  },
  {
   "cell_type": "code",
   "execution_count": 19,
   "outputs": [],
   "source": [
    "num_classes = 2\n",
    "samples = 500\n",
    "input_dims = [10, 10]\n",
    "layer_dims = [100] + [100] * 11\n",
    "batch_size = 10\n",
    "num_batches = samples / batch_size\n",
    "learning_rate = 1e-4\n",
    "training_epochs = 1500\n",
    "display_step = int(training_epochs / 10)\n",
    "loss = torch.nn.MSELoss()"
   ],
   "metadata": {
    "collapsed": false,
    "pycharm": {
     "name": "#%%\n"
    }
   }
  },
  {
   "cell_type": "markdown",
   "source": [
    "Then, we can build the model:"
   ],
   "metadata": {
    "collapsed": false
   }
  },
  {
   "cell_type": "code",
   "execution_count": 20,
   "outputs": [
    {
     "name": "stdout",
     "output_type": "stream",
     "text": [
      "Sequential(\n",
      "  (Wraparound2D): Wraparound2D()\n",
      "  (Conv2d_0): Conv2d(1, 100, kernel_size=(3, 3), stride=(1, 1))\n",
      "  (ReLU_0): ReLU()\n",
      "  (Conv2d_1): Conv2d(100, 100, kernel_size=(1, 1), stride=(1, 1))\n",
      "  (ReLU_1): ReLU()\n",
      "  (Conv2d_2): Conv2d(100, 100, kernel_size=(1, 1), stride=(1, 1))\n",
      "  (ReLU_2): ReLU()\n",
      "  (Conv2d_3): Conv2d(100, 100, kernel_size=(1, 1), stride=(1, 1))\n",
      "  (ReLU_3): ReLU()\n",
      "  (Conv2d_4): Conv2d(100, 100, kernel_size=(1, 1), stride=(1, 1))\n",
      "  (ReLU_4): ReLU()\n",
      "  (Conv2d_5): Conv2d(100, 100, kernel_size=(1, 1), stride=(1, 1))\n",
      "  (ReLU_5): ReLU()\n",
      "  (Conv2d_6): Conv2d(100, 100, kernel_size=(1, 1), stride=(1, 1))\n",
      "  (ReLU_6): ReLU()\n",
      "  (Conv2d_7): Conv2d(100, 100, kernel_size=(1, 1), stride=(1, 1))\n",
      "  (ReLU_7): ReLU()\n",
      "  (Conv2d_8): Conv2d(100, 100, kernel_size=(1, 1), stride=(1, 1))\n",
      "  (ReLU_8): ReLU()\n",
      "  (Conv2d_9): Conv2d(100, 100, kernel_size=(1, 1), stride=(1, 1))\n",
      "  (ReLU_9): ReLU()\n",
      "  (Conv2d_10): Conv2d(100, 100, kernel_size=(1, 1), stride=(1, 1))\n",
      "  (ReLU_10): ReLU()\n",
      "  (Conv2d_11): Conv2d(100, 100, kernel_size=(1, 1), stride=(1, 1))\n",
      "  (ReLU_11): ReLU()\n",
      "  (Conv2d_12): Conv2d(100, 1, kernel_size=(1, 1), stride=(1, 1), bias=False)\n",
      "  (Lambda_0): Lambda()\n",
      ")\n"
     ]
    }
   ],
   "source": [
    "model = initialize_model(input_dims, layer_dims)\n",
    "if torch.cuda.is_available():\n",
    "    model.cuda()\n",
    "print(model)"
   ],
   "metadata": {
    "collapsed": false,
    "pycharm": {
     "name": "#%%\n"
    }
   }
  },
  {
   "cell_type": "markdown",
   "source": [
    "### Basic training\n",
    "\n",
    "We start by defining utility methods for data generation."
   ],
   "metadata": {
    "collapsed": false,
    "pycharm": {
     "name": "#%% md\n"
    }
   }
  },
  {
   "cell_type": "code",
   "execution_count": 21,
   "outputs": [],
   "source": [
    "M = 2\n",
    "D = 3 * 3\n",
    "ALL_INPUTS = all_combinations(M, D)\n",
    "\n",
    "def generate_CA_train_data(ca, height=10, width=10, n_samples=500):\n",
    "    X_train = torch.from_numpy(np.random.choice([0, 1], (n_samples, height, width), p=[.5, .5])).float()\n",
    "    Y_train = ca(X_train)\n",
    "    if not isinstance(Y_train, torch.Tensor):\n",
    "        Y_train = torch.from_numpy(Y_train)\n",
    "    Y_train = Y_train.float()\n",
    "    return X_train, Y_train\n",
    "\n",
    "def sample_CAs(seed=None):\n",
    "    if seed:\n",
    "        np.random.seed(seed)\n",
    "\n",
    "    inputs = ALL_INPUTS\n",
    "    outputs = make_table_walk(len(ALL_INPUTS))\n",
    "    for o in outputs:\n",
    "        yield make_ca(inputs, o)"
   ],
   "metadata": {
    "collapsed": false,
    "pycharm": {
     "name": "#%%\n"
    }
   }
  },
  {
   "cell_type": "markdown",
   "source": [
    "Then, we can define the training loop:"
   ],
   "metadata": {
    "collapsed": false
   }
  },
  {
   "cell_type": "code",
   "execution_count": 22,
   "outputs": [],
   "source": [
    "optimizer = torch.optim.Adam(model.parameters(), lr=learning_rate)\n",
    "\n",
    "def learn_CA(ca, model, optimizer, training_epochs):\n",
    "    losses = []\n",
    "\n",
    "    for _ in tqdm(range(training_epochs)):\n",
    "        X_train, Y_train = generate_CA_train_data(ca, *input_dims, n_samples=samples)\n",
    "\n",
    "        if torch.cuda.is_available():\n",
    "            X_train = X_train.cuda()\n",
    "            Y_train = Y_train.cuda()\n",
    "\n",
    "        optimizer.zero_grad()\n",
    "        Y_pred = model(X_train)\n",
    "        l = loss(Y_train, Y_pred)\n",
    "        l.backward()\n",
    "        optimizer.step()\n",
    "        losses.append(l.item())\n",
    "    return losses"
   ],
   "metadata": {
    "collapsed": false,
    "pycharm": {
     "name": "#%%\n"
    }
   }
  },
  {
   "cell_type": "markdown",
   "source": [
    "## Experiments\n",
    "\n",
    "We can train the network and plot the loss function values."
   ],
   "metadata": {
    "collapsed": false
   }
  },
  {
   "cell_type": "code",
   "execution_count": 23,
   "outputs": [
    {
     "name": "stderr",
     "output_type": "stream",
     "text": [
      "100%|██████████| 1500/1500 [02:26<00:00, 10.27it/s]\n"
     ]
    },
    {
     "data": {
      "text/plain": "[]"
     },
     "execution_count": 23,
     "metadata": {},
     "output_type": "execute_result"
    },
    {
     "data": {
      "text/plain": "<Figure size 720x360 with 1 Axes>",
      "image/png": "[encoded data removed]"
     },
     "metadata": {
      "needs_background": "light"
     },
     "output_type": "display_data"
    }
   ],
   "source": [
    "ca = list(sample_CAs(seed=0))[250]\n",
    "losses = learn_CA(ca, model, optimizer, training_epochs)\n",
    "\n",
    "plt.figure(figsize=(10, 5))\n",
    "plt.plot(losses)\n",
    "plt.loglog()"
   ],
   "metadata": {
    "collapsed": false,
    "pycharm": {
     "name": "#%%\n"
    }
   }
  },
  {
   "cell_type": "markdown",
   "source": [
    "Then we can check the output of the model:"
   ],
   "metadata": {
    "collapsed": false,
    "pycharm": {
     "name": "#%% md\n"
    }
   }
  },
  {
   "cell_type": "code",
   "source": [
    "from pytorch.ca_funcs import make_glider\n",
    "\n",
    "def display_sample_output(ca, model, use_glider=True):\n",
    "    if use_glider:\n",
    "        x = make_glider(10)\n",
    "        X_test = torch.from_numpy(x.reshape(1, 10, 10)).float()\n",
    "        Y_test = ca(X_test)\n",
    "    else:\n",
    "        X_test, Y_test = generate_CA_train_data(ca, *input_dims, n_samples=1)\n",
    "\n",
    "    if not isinstance(Y_test, torch.Tensor):\n",
    "        Y_test = torch.from_numpy(Y_test)\n",
    "    Y_test = Y_test.float()\n",
    "\n",
    "    if torch.cuda.is_available():\n",
    "        X_test = X_test.cuda()\n",
    "    Y_pred = model(X_test)\n",
    "\n",
    "\n",
    "    if torch.cuda.is_available():\n",
    "        X_test = X_test.cpu()\n",
    "        Y_pred = Y_pred.cpu()\n",
    "\n",
    "    X_test = X_test.detach().numpy()\n",
    "    Y_test = Y_test.detach().numpy()\n",
    "    Y_pred = Y_pred.detach().numpy()\n",
    "\n",
    "    plt.figure(figsize=(12, 4))\n",
    "\n",
    "    plt.subplot(141)\n",
    "    plt.imshow(X_test[0])\n",
    "    plt.axis('off')\n",
    "    plt.title(\"Input\")\n",
    "\n",
    "    plt.subplot(142)\n",
    "    plt.imshow(Y_test[0])\n",
    "    plt.axis('off')\n",
    "    plt.title(\"Expected Output\")\n",
    "\n",
    "    plt.subplot(143)\n",
    "    plt.imshow(Y_pred[0])\n",
    "    plt.axis('off')\n",
    "    plt.title(\"Observed Output\")\n",
    "\n",
    "    plt.subplot(144)\n",
    "    plt.imshow((Y_pred[0] - Y_test[0]) ** 2)\n",
    "    plt.axis('off')\n",
    "\n",
    "display_sample_output(ca, model)"
   ],
   "metadata": {
    "collapsed": false,
    "pycharm": {
     "name": "#%%\n"
    }
   },
   "execution_count": 24,
   "outputs": [
    {
     "data": {
      "text/plain": "<Figure size 864x288 with 4 Axes>",
      "image/png": "[encoded data removed]"
     },
     "metadata": {
      "needs_background": "light"
     },
     "output_type": "display_data"
    }
   ]
  },
  {
   "cell_type": "markdown",
   "metadata": {
    "pycharm": {
     "name": "#%% md\n"
    }
   },
   "source": [
    "Finally, we can calculate the network entropies:"
   ]
  },
  {
   "cell_type": "code",
   "source": [
    "from pytorch.ca_funcs import get_network_entropies\n",
    "\n",
    "def calculate_entropies(model):\n",
    "    def get_activations(x_input):\n",
    "        activations = [x_input]\n",
    "        for m in model.modules():\n",
    "            x_input = m(x_input)\n",
    "            activations.append(x_input)\n",
    "        return activations[3:len(activations) - 2]\n",
    "\n",
    "\n",
    "    X_test = torch.from_numpy(np.random.choice([0, 1], (500, 10, 10))).float()\n",
    "    if torch.cuda.is_available():\n",
    "        X_test = X_test.cuda()\n",
    "\n",
    "    res = [activation.cpu().detach().numpy() for activation in get_activations(X_test)]\n",
    "    layer_activations = np.array(res)\n",
    "    binary_activations = np.digitize(layer_activations, [0], right=True)\n",
    "    entropies = get_network_entropies(binary_activations)\n",
    "    return entropies\n",
    "\n",
    "calculate_entropies(model)"
   ],
   "metadata": {
    "collapsed": false,
    "pycharm": {
     "name": "#%%\n"
    }
   },
   "execution_count": 25,
   "outputs": [
    {
     "data": {
      "text/plain": "(13.122274654565212,\n [5.805396079852216,\n  5.805396079852216,\n  5.376445284080141,\n  5.376445284080141,\n  5.57543238541931,\n  5.57543238541931,\n  5.069083009859602,\n  5.069083009859602,\n  4.4250330256018735,\n  4.4250330256018735,\n  3.295288118639024,\n  3.295288118639024,\n  3.681721604530767,\n  3.681721604530767,\n  3.5282314435887,\n  3.5282314435887,\n  3.435395859316545,\n  3.435395859316545,\n  3.0079233341304166,\n  3.0079233341304166,\n  3.4826984345347087,\n  3.4826984345347087,\n  3.526591414853363,\n  3.526591414853363],\n [array([0.99702334, 0.99711356, 0.99703779, 0.99686277, 0.99691512,\n         0.99703742, 0.99705073, 0.99702519, 0.99703964, 0.99705073]),\n  array([0.99702334, 0.99711356, 0.99703779, 0.99686277, 0.99691512,\n         0.99703742, 0.99705073, 0.99702519, 0.99703964, 0.99705073]),\n  array([0.99636391, 0.99646857, 0.99637293, 0.99643859, 0.9965733 ,\n         0.99634995, 0.99653696, 0.99644103, 0.99638153, 0.99659992]),\n  array([0.99636391, 0.99646857, 0.99637293, 0.99643859, 0.9965733 ,\n         0.99634995, 0.99653696, 0.99644103, 0.99638153, 0.99659992]),\n  array([0.99961358, 0.99963401, 0.99959766, 0.99962446, 0.99955285,\n         0.99959616, 0.99960458, 0.9996297 , 0.99957387, 0.99958391]),\n  array([0.99961358, 0.99963401, 0.99959766, 0.99962446, 0.99955285,\n         0.99959616, 0.99960458, 0.9996297 , 0.99957387, 0.99958391]),\n  array([0.99730785, 0.99729973, 0.99740263, 0.99734442, 0.99732828,\n         0.99734863, 0.99737657, 0.99738701, 0.99740713, 0.99734513]),\n  array([0.99730785, 0.99729973, 0.99740263, 0.99734442, 0.99732828,\n         0.99734863, 0.99737657, 0.99738701, 0.99740713, 0.99734513]),\n  array([0.99870989, 0.99876902, 0.99875706, 0.99876615, 0.99878968,\n         0.99869422, 0.99872207, 0.99877616, 0.99876544, 0.99876018]),\n  array([0.99870989, 0.99876902, 0.99875706, 0.99876615, 0.99878968,\n         0.99869422, 0.99872207, 0.99877616, 0.99876544, 0.99876018]),\n  array([0.9927112 , 0.99254981, 0.99273503, 0.99258563, 0.99271295,\n         0.99270015, 0.99266694, 0.99278372, 0.99245425, 0.99285414]),\n  array([0.9927112 , 0.99254981, 0.99273503, 0.99258563, 0.99271295,\n         0.99270015, 0.99266694, 0.99278372, 0.99245425, 0.99285414]),\n  array([0.99969482, 0.99968717, 0.99966975, 0.9997104 , 0.99971133,\n         0.99966975, 0.99967418, 0.99968186, 0.99970785, 0.99969303]),\n  array([0.99969482, 0.99968717, 0.99966975, 0.9997104 , 0.99971133,\n         0.99966975, 0.99967418, 0.99968186, 0.99970785, 0.99969303]),\n  array([0.99363252, 0.99338287, 0.9936705 , 0.99365044, 0.99368999,\n         0.99352283, 0.99340556, 0.99346516, 0.99369702, 0.99371053]),\n  array([0.99363252, 0.99338287, 0.9936705 , 0.99365044, 0.99368999,\n         0.99352283, 0.99340556, 0.99346516, 0.99369702, 0.99371053]),\n  array([0.9999833 , 0.99998079, 0.99998713, 0.99997627, 0.99998476,\n         0.99998841, 0.99998991, 0.99998379, 0.99998939, 0.99998896]),\n  array([0.9999833 , 0.99998079, 0.99998713, 0.99997627, 0.99998476,\n         0.99998841, 0.99998991, 0.99998379, 0.99998939, 0.99998896]),\n  array([0.99721819, 0.99702074, 0.99705258, 0.99712086, 0.99698499,\n         0.9968909 , 0.9972067 , 0.99709342, 0.99697826, 0.99696629]),\n  array([0.99721819, 0.99702074, 0.99705258, 0.99712086, 0.99698499,\n         0.9968909 , 0.9972067 , 0.99709342, 0.99697826, 0.99696629]),\n  array([0.999753  , 0.99974308, 0.99976136, 0.99974503, 0.99974871,\n         0.99974318, 0.99974612, 0.99973573, 0.99974002, 0.99973084]),\n  array([0.999753  , 0.99974308, 0.99976136, 0.99974503, 0.99974871,\n         0.99974318, 0.99974612, 0.99973573, 0.99974002, 0.99973084]),\n  array([0.99951291, 0.99948585, 0.99951681, 0.99952439, 0.99948724,\n         0.99948431, 0.99949811, 0.99941203, 0.99942547, 0.99942318]),\n  array([0.99951291, 0.99948585, 0.99951681, 0.99952439, 0.99948724,\n         0.99948431, 0.99949811, 0.99941203, 0.99942547, 0.99942318])])"
     },
     "execution_count": 25,
     "metadata": {},
     "output_type": "execute_result"
    }
   ]
  },
  {
   "cell_type": "markdown",
   "source": [
    "## Compression\n",
    "\n",
    "#### Glider"
   ],
   "metadata": {
    "collapsed": false
   }
  },
  {
   "cell_type": "code",
   "source": [
    "import copy\n",
    "from nni.compression.torch import *\n",
    "\n",
    "def prune_model_and_test(model, Pruner, config):\n",
    "    model_copy = copy.deepcopy(model)\n",
    "    pruner = Pruner(model_copy, config, optimizer=optimizer)\n",
    "    pruner.compress()\n",
    "    return model_copy"
   ],
   "metadata": {
    "collapsed": false,
    "pycharm": {
     "name": "#%%\n"
    }
   },
   "execution_count": 26,
   "outputs": []
  },
  {
   "cell_type": "code",
   "execution_count": 27,
   "outputs": [
    {
     "data": {
      "text/plain": "<Figure size 864x288 with 4 Axes>",
      "image/png": "[encoded data removed]"
     },
     "metadata": {
      "needs_background": "light"
     },
     "output_type": "display_data"
    }
   ],
   "source": [
    "config_list = [{ 'sparsity': 0.1, 'op_types': ['default'] }]\n",
    "m = prune_model_and_test(model, LevelPruner, config_list)\n",
    "display_sample_output(ca, m)"
   ],
   "metadata": {
    "collapsed": false,
    "pycharm": {
     "name": "#%%\n"
    }
   }
  },
  {
   "cell_type": "markdown",
   "source": [
    "## Compression\n",
    "\n",
    "#### Triangles"
   ],
   "metadata": {
    "collapsed": false
   }
  },
  {
   "cell_type": "code",
   "execution_count": 28,
   "outputs": [
    {
     "name": "stderr",
     "output_type": "stream",
     "text": [
      "100%|██████████| 1500/1500 [02:22<00:00, 10.52it/s]\n"
     ]
    },
    {
     "data": {
      "text/plain": "[]"
     },
     "execution_count": 28,
     "metadata": {},
     "output_type": "execute_result"
    },
    {
     "data": {
      "text/plain": "<Figure size 720x360 with 1 Axes>",
      "image/png": "[encoded data removed]"
     },
     "metadata": {
      "needs_background": "light"
     },
     "output_type": "display_data"
    }
   ],
   "source": [
    "model2 = initialize_model(input_dims, layer_dims)\n",
    "if torch.cuda.is_available():\n",
    "    model2.cuda()\n",
    "\n",
    "losses = learn_CA(triangles, model2, optimizer, training_epochs)\n",
    "\n",
    "plt.figure(figsize=(10, 5))\n",
    "plt.plot(losses)\n",
    "plt.loglog()"
   ],
   "metadata": {
    "collapsed": false,
    "pycharm": {
     "name": "#%%\n"
    }
   }
  },
  {
   "cell_type": "code",
   "execution_count": 29,
   "outputs": [
    {
     "data": {
      "text/plain": "<Figure size 864x288 with 4 Axes>",
      "image/png": "[encoded data removed]"
     },
     "metadata": {
      "needs_background": "light"
     },
     "output_type": "display_data"
    }
   ],
   "source": [
    "display_sample_output(triangles, model2)"
   ],
   "metadata": {
    "collapsed": false,
    "pycharm": {
     "name": "#%%\n"
    }
   }
  },
  {
   "cell_type": "code",
   "execution_count": 30,
   "outputs": [
    {
     "data": {
      "text/plain": "<Figure size 864x288 with 4 Axes>",
      "image/png": "[encoded data removed]"
     },
     "metadata": {
      "needs_background": "light"
     },
     "output_type": "display_data"
    }
   ],
   "source": [
    "display_sample_output(triangles, model2, use_glider=False)"
   ],
   "metadata": {
    "collapsed": false,
    "pycharm": {
     "name": "#%%\n"
    }
   }
  },
  {
   "cell_type": "code",
   "execution_count": 31,
   "outputs": [
    {
     "data": {
      "text/plain": "(12.123210672765978,\n [2.419457487211928,\n  2.419457487211928,\n  2.4510184699796884,\n  2.4510184699796884,\n  2.375342780684554,\n  2.375342780684554,\n  2.829310951662581,\n  2.829310951662581,\n  2.3704342950454045,\n  2.3704342950454045,\n  2.5846025773532473,\n  2.5846025773532473,\n  2.6450465730798602,\n  2.6450465730798602,\n  3.1241432701255105,\n  3.1241432701255105,\n  2.1775334145538254,\n  2.1775334145538254,\n  2.3591471636176498,\n  2.3591471636176498,\n  2.663921425831722,\n  2.663921425831722,\n  2.342908383626089,\n  2.342908383626089],\n [array([0.97775271, 0.9780002 , 0.97797989, 0.97788224, 0.97804791,\n         0.97774046, 0.97763408, 0.97831893, 0.97806211, 0.97801137]),\n  array([0.97775271, 0.9780002 , 0.97797989, 0.97788224, 0.97804791,\n         0.97774046, 0.97763408, 0.97831893, 0.97806211, 0.97801137]),\n  array([0.99596545, 0.99609151, 0.99583387, 0.99578498, 0.99595723,\n         0.9959715 , 0.99596242, 0.99590646, 0.99576242, 0.995896  ]),\n  array([0.99596545, 0.99609151, 0.99583387, 0.99578498, 0.99595723,\n         0.9959715 , 0.99596242, 0.99590646, 0.99576242, 0.995896  ]),\n  array([0.99706291, 0.99700401, 0.99697041, 0.99695879, 0.99699432,\n         0.99710624, 0.99703372, 0.99693361, 0.9970426 , 0.99702964]),\n  array([0.99706291, 0.99700401, 0.99697041, 0.99695879, 0.99699432,\n         0.99710624, 0.99703372, 0.99693361, 0.9970426 , 0.99702964]),\n  array([0.99275243, 0.9928132 , 0.99275359, 0.99268909, 0.992808  ,\n         0.99289151, 0.99277503, 0.9925956 , 0.99278719, 0.99259267]),\n  array([0.99275243, 0.9928132 , 0.99275359, 0.99268909, 0.992808  ,\n         0.99289151, 0.99277503, 0.9925956 , 0.99278719, 0.99259267]),\n  array([0.9999999 , 0.99999953, 0.9999998 , 0.99999999, 0.99999951,\n         0.99999783, 0.9999988 , 0.99999978, 0.99999988, 0.99999957]),\n  array([0.9999999 , 0.99999953, 0.9999998 , 0.99999999, 0.99999951,\n         0.99999783, 0.9999988 , 0.99999978, 0.99999988, 0.99999957]),\n  array([0.99925009, 0.99921755, 0.99925844, 0.99926398, 0.99921259,\n         0.99923926, 0.99924673, 0.99925418, 0.99929517, 0.99922513]),\n  array([0.99925009, 0.99921755, 0.99925844, 0.99926398, 0.99921259,\n         0.99923926, 0.99924673, 0.99925418, 0.99929517, 0.99922513]),\n  array([0.9961208 , 0.99641745, 0.99638562, 0.99629425, 0.99619502,\n         0.99609576, 0.99624522, 0.99641949, 0.99623019, 0.99636596]),\n  array([0.9961208 , 0.99641745, 0.99638562, 0.99629425, 0.99619502,\n         0.99609576, 0.99624522, 0.99641949, 0.99623019, 0.99636596]),\n  array([0.99916183, 0.99922153, 0.99922324, 0.99914065, 0.99913186,\n         0.99909605, 0.9991734 , 0.99920341, 0.99915118, 0.99915711]),\n  array([0.99916183, 0.99922153, 0.99922324, 0.99914065, 0.99913186,\n         0.99909605, 0.9991734 , 0.99920341, 0.99915118, 0.99915711]),\n  array([0.99438321, 0.99439341, 0.99437198, 0.99435818, 0.99440971,\n         0.99434283, 0.99429613, 0.99452113, 0.99435102, 0.99432233]),\n  array([0.99438321, 0.99439341, 0.99437198, 0.99435818, 0.99440971,\n         0.99434283, 0.99429613, 0.99452113, 0.99435102, 0.99432233]),\n  array([0.9990039 , 0.99906348, 0.99918954, 0.9991482 , 0.99903307,\n         0.99899724, 0.99898796, 0.99916812, 0.99917145, 0.99911253]),\n  array([0.9990039 , 0.99906348, 0.99918954, 0.9991482 , 0.99903307,\n         0.99899724, 0.99898796, 0.99916812, 0.99917145, 0.99911253]),\n  array([0.99446606, 0.99464089, 0.99447366, 0.9945473 , 0.99452314,\n         0.99457641, 0.99456237, 0.99463391, 0.99451104, 0.99467323]),\n  array([0.99446606, 0.99464089, 0.99447366, 0.9945473 , 0.99452314,\n         0.99457641, 0.99456237, 0.99463391, 0.99451104, 0.99467323]),\n  array([0.99838335, 0.99840677, 0.99829076, 0.99823922, 0.99832933,\n         0.99840378, 0.99843137, 0.99831847, 0.99831875, 0.9983168 ]),\n  array([0.99838335, 0.99840677, 0.99829076, 0.99823922, 0.99832933,\n         0.99840378, 0.99843137, 0.99831847, 0.99831875, 0.9983168 ])])"
     },
     "execution_count": 31,
     "metadata": {},
     "output_type": "execute_result"
    }
   ],
   "source": [
    "calculate_entropies(model2)"
   ],
   "metadata": {
    "collapsed": false,
    "pycharm": {
     "name": "#%%\n"
    }
   }
  },
  {
   "cell_type": "code",
   "execution_count": 32,
   "outputs": [
    {
     "data": {
      "text/plain": "<Figure size 864x288 with 4 Axes>",
      "image/png": "[encoded data removed]"
     },
     "metadata": {
      "needs_background": "light"
     },
     "output_type": "display_data"
    }
   ],
   "source": [
    "config_list = [{ 'sparsity': 0.1, 'op_types': ['default'] }]\n",
    "m2 = prune_model_and_test(model2, LevelPruner, config_list)\n",
    "display_sample_output(triangles, m2)"
   ],
   "metadata": {
    "collapsed": false,
    "pycharm": {
     "name": "#%%\n"
    }
   }
  },
  {
   "cell_type": "code",
   "execution_count": 33,
   "outputs": [
    {
     "data": {
      "text/plain": "<Figure size 864x288 with 4 Axes>",
      "image/png": "[encoded data removed]"
     },
     "metadata": {
      "needs_background": "light"
     },
     "output_type": "display_data"
    }
   ],
   "source": [
    "display_sample_output(triangles, model2, use_glider=False)"
   ],
   "metadata": {
    "collapsed": false,
    "pycharm": {
     "name": "#%%\n"
    }
   }
  }
 ],
 "metadata": {
  "kernelspec": {
   "display_name": "Python 3",
   "language": "python",
   "name": "python3"
  },
  "language_info": {
   "codemirror_mode": {
    "name": "ipython",
    "version": 3
   },
   "file_extension": ".py",
   "mimetype": "text/x-python",
   "name": "python",
   "nbconvert_exporter": "python",
   "pygments_lexer": "ipython3",
   "version": "3.8.2"
  }
 },
 "nbformat": 4,
 "nbformat_minor": 4
}